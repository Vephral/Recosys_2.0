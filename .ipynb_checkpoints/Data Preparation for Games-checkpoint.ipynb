{
 "cells": [
  {
   "cell_type": "markdown",
   "id": "098434f8",
   "metadata": {},
   "source": [
    "# Data Preparation for Games"
   ]
  },
  {
   "cell_type": "markdown",
   "id": "d30075ce",
   "metadata": {},
   "source": [
    "Готовим данные для использования на моделях. В планах провести масштабирование, замену пропущенных значений, кодирование категорических значений и преобразование текстовых значений в их числовое представление через Bag of Words."
   ]
  },
  {
   "cell_type": "markdown",
   "id": "5f223adf",
   "metadata": {},
   "source": [
    "## Import Data"
   ]
  },
  {
   "cell_type": "code",
   "execution_count": 1,
   "id": "cbcb5b12",
   "metadata": {},
   "outputs": [],
   "source": [
    "import pandas as pd"
   ]
  },
  {
   "cell_type": "code",
   "execution_count": 2,
   "id": "1de1234a",
   "metadata": {},
   "outputs": [],
   "source": [
    "games_dataset = pd.read_csv('./datasets/games_dataset/new_games_dataset.csv', low_memory=False)"
   ]
  },
  {
   "cell_type": "markdown",
   "id": "9313c2c7",
   "metadata": {},
   "source": [
    "## Familiarize with Data"
   ]
  },
  {
   "cell_type": "markdown",
   "id": "0ddbc0f5",
   "metadata": {},
   "source": [
    "Так как данные идут вперемешку, неплохо бы их отсортировать по ID."
   ]
  },
  {
   "cell_type": "code",
   "execution_count": 3,
   "id": "63c20d6d",
   "metadata": {},
   "outputs": [],
   "source": [
    "games_dataset = games_dataset.sort_values(by='id',ignore_index=True)"
   ]
  },
  {
   "cell_type": "markdown",
   "id": "007369ac",
   "metadata": {},
   "source": [
    "`game_modes, genres, player_perspectives` - столбцы, которые будут считаться категорическими.\n",
    "\n",
    "`involved_companies, tags, keywords` - столбцы, которые будут считаться текстовыми.\n",
    "\n",
    "`first_release_date, updated_at` - столбцы, которые будут масштабированы (нормализованы)"
   ]
  },
  {
   "cell_type": "code",
   "execution_count": 4,
   "id": "2640bc1d",
   "metadata": {},
   "outputs": [
    {
     "data": {
      "text/html": [
       "<div>\n",
       "<style scoped>\n",
       "    .dataframe tbody tr th:only-of-type {\n",
       "        vertical-align: middle;\n",
       "    }\n",
       "\n",
       "    .dataframe tbody tr th {\n",
       "        vertical-align: top;\n",
       "    }\n",
       "\n",
       "    .dataframe thead th {\n",
       "        text-align: right;\n",
       "    }\n",
       "</style>\n",
       "<table border=\"1\" class=\"dataframe\">\n",
       "  <thead>\n",
       "    <tr style=\"text-align: right;\">\n",
       "      <th></th>\n",
       "      <th>id</th>\n",
       "      <th>name</th>\n",
       "      <th>age_ratings</th>\n",
       "      <th>slug</th>\n",
       "      <th>aggregated_rating</th>\n",
       "      <th>aggregated_rating_count</th>\n",
       "      <th>category</th>\n",
       "      <th>collection</th>\n",
       "      <th>alternative_names</th>\n",
       "      <th>external_games</th>\n",
       "      <th>...</th>\n",
       "      <th>rating_count</th>\n",
       "      <th>release_dates</th>\n",
       "      <th>similar_games</th>\n",
       "      <th>tags</th>\n",
       "      <th>parent_game</th>\n",
       "      <th>status</th>\n",
       "      <th>total_rating</th>\n",
       "      <th>total_rating_count</th>\n",
       "      <th>updated_at</th>\n",
       "      <th>websites</th>\n",
       "    </tr>\n",
       "  </thead>\n",
       "  <tbody>\n",
       "    <tr>\n",
       "      <th>0</th>\n",
       "      <td>1</td>\n",
       "      <td>Thief II: The Metal Age</td>\n",
       "      <td>[5855, 11952]</td>\n",
       "      <td>thief-ii-the-metal-age</td>\n",
       "      <td>90.0</td>\n",
       "      <td>1</td>\n",
       "      <td>0</td>\n",
       "      <td>2</td>\n",
       "      <td>[3442, 3443, 3444, 20595, 49639, 49640]</td>\n",
       "      <td>[13083, 37911, 73551, 78299, 149929, 246583]</td>\n",
       "      <td>...</td>\n",
       "      <td>97</td>\n",
       "      <td>[25216, 25217, 25218]</td>\n",
       "      <td>[2, 3, 4, 41, 533, 3025, 7346, 9377, 11118, 11...</td>\n",
       "      <td>[1, 17, 23, 268435461, 268435469, 268435487, 5...</td>\n",
       "      <td>NaN</td>\n",
       "      <td>NaN</td>\n",
       "      <td>89.1536224122498</td>\n",
       "      <td>98</td>\n",
       "      <td>1631925243</td>\n",
       "      <td>[19688, 19689, 62678, 119762]</td>\n",
       "    </tr>\n",
       "    <tr>\n",
       "      <th>1</th>\n",
       "      <td>10</td>\n",
       "      <td>Jade Empire: Special Edition</td>\n",
       "      <td>[274]</td>\n",
       "      <td>jade-empire-special-edition</td>\n",
       "      <td>80.0</td>\n",
       "      <td>3</td>\n",
       "      <td>0</td>\n",
       "      <td>NaN</td>\n",
       "      <td>[31336, 31337]</td>\n",
       "      <td>[14906, 77378, 225173, 242918]</td>\n",
       "      <td>...</td>\n",
       "      <td>56</td>\n",
       "      <td>[2798, 2799, 2801, 150603, 182661, 192098]</td>\n",
       "      <td>[5867, 55038, 55199, 81249, 96217, 101608, 103...</td>\n",
       "      <td>[1, 17, 268435468, 268435487, 536870973, 53687...</td>\n",
       "      <td>NaN</td>\n",
       "      <td>NaN</td>\n",
       "      <td>80.3492740977065</td>\n",
       "      <td>59</td>\n",
       "      <td>1631579703</td>\n",
       "      <td>[15813, 67063, 120037, 128356, 128357, 128358,...</td>\n",
       "    </tr>\n",
       "    <tr>\n",
       "      <th>2</th>\n",
       "      <td>100</td>\n",
       "      <td>Need for Speed: ProStreet</td>\n",
       "      <td>[7699, 12100]</td>\n",
       "      <td>need-for-speed-prostreet</td>\n",
       "      <td>60.75</td>\n",
       "      <td>5</td>\n",
       "      <td>0</td>\n",
       "      <td>12</td>\n",
       "      <td>[20232, 20391, 20392, 44188, 44189, 44190, 44191]</td>\n",
       "      <td>[56035, 81306, 140554, 213928, 219197, 246054,...</td>\n",
       "      <td>...</td>\n",
       "      <td>151</td>\n",
       "      <td>[68196, 68197, 68198, 68200, 68201, 68203, 682...</td>\n",
       "      <td>[96, 97, 98, 99, 101, 102, 105, 2150, 5928, 26...</td>\n",
       "      <td>[268435466, 268435469, 268435470, 536871313, 5...</td>\n",
       "      <td>NaN</td>\n",
       "      <td>NaN</td>\n",
       "      <td>64.70766765119541</td>\n",
       "      <td>156</td>\n",
       "      <td>1632832716</td>\n",
       "      <td>[20727, 20728, 20729]</td>\n",
       "    </tr>\n",
       "    <tr>\n",
       "      <th>3</th>\n",
       "      <td>1000</td>\n",
       "      <td>Oddworld: Abe's Exoddus</td>\n",
       "      <td>[18181, 21385]</td>\n",
       "      <td>oddworld-abe-s-exoddus</td>\n",
       "      <td>80.0</td>\n",
       "      <td>2</td>\n",
       "      <td>0</td>\n",
       "      <td>223</td>\n",
       "      <td>[30023, 71903, 71904]</td>\n",
       "      <td>[14642, 77651, 139482, 245917]</td>\n",
       "      <td>...</td>\n",
       "      <td>64</td>\n",
       "      <td>[133002, 133004, 133006, 218085, 218086, 21808...</td>\n",
       "      <td>[999, 7344, 20329, 22387, 23733, 24426, 28070,...</td>\n",
       "      <td>[1, 18, 268435464, 268435465, 268435487, 53687...</td>\n",
       "      <td>NaN</td>\n",
       "      <td>NaN</td>\n",
       "      <td>82.0784124011084</td>\n",
       "      <td>66</td>\n",
       "      <td>1633134459</td>\n",
       "      <td>[16147, 65032, 67011, 119117, 180578]</td>\n",
       "    </tr>\n",
       "    <tr>\n",
       "      <th>4</th>\n",
       "      <td>10000</td>\n",
       "      <td>A-Train 7</td>\n",
       "      <td>NaN</td>\n",
       "      <td>a-train-7</td>\n",
       "      <td>NaN</td>\n",
       "      <td>NaN</td>\n",
       "      <td>0</td>\n",
       "      <td>1335</td>\n",
       "      <td>NaN</td>\n",
       "      <td>[1980938]</td>\n",
       "      <td>...</td>\n",
       "      <td>NaN</td>\n",
       "      <td>NaN</td>\n",
       "      <td>NaN</td>\n",
       "      <td>NaN</td>\n",
       "      <td>NaN</td>\n",
       "      <td>NaN</td>\n",
       "      <td>NaN</td>\n",
       "      <td>NaN</td>\n",
       "      <td>1604620800</td>\n",
       "      <td>NaN</td>\n",
       "    </tr>\n",
       "  </tbody>\n",
       "</table>\n",
       "<p>5 rows × 31 columns</p>\n",
       "</div>"
      ],
      "text/plain": [
       "      id                          name     age_ratings  \\\n",
       "0      1       Thief II: The Metal Age   [5855, 11952]   \n",
       "1     10  Jade Empire: Special Edition           [274]   \n",
       "2    100     Need for Speed: ProStreet   [7699, 12100]   \n",
       "3   1000       Oddworld: Abe's Exoddus  [18181, 21385]   \n",
       "4  10000                     A-Train 7             NaN   \n",
       "\n",
       "                          slug aggregated_rating aggregated_rating_count  \\\n",
       "0       thief-ii-the-metal-age              90.0                       1   \n",
       "1  jade-empire-special-edition              80.0                       3   \n",
       "2     need-for-speed-prostreet             60.75                       5   \n",
       "3       oddworld-abe-s-exoddus              80.0                       2   \n",
       "4                    a-train-7               NaN                     NaN   \n",
       "\n",
       "  category collection                                  alternative_names  \\\n",
       "0        0          2            [3442, 3443, 3444, 20595, 49639, 49640]   \n",
       "1        0        NaN                                     [31336, 31337]   \n",
       "2        0         12  [20232, 20391, 20392, 44188, 44189, 44190, 44191]   \n",
       "3        0        223                              [30023, 71903, 71904]   \n",
       "4        0       1335                                                NaN   \n",
       "\n",
       "                                      external_games  ... rating_count  \\\n",
       "0       [13083, 37911, 73551, 78299, 149929, 246583]  ...           97   \n",
       "1                     [14906, 77378, 225173, 242918]  ...           56   \n",
       "2  [56035, 81306, 140554, 213928, 219197, 246054,...  ...          151   \n",
       "3                     [14642, 77651, 139482, 245917]  ...           64   \n",
       "4                                          [1980938]  ...          NaN   \n",
       "\n",
       "                                       release_dates  \\\n",
       "0                              [25216, 25217, 25218]   \n",
       "1         [2798, 2799, 2801, 150603, 182661, 192098]   \n",
       "2  [68196, 68197, 68198, 68200, 68201, 68203, 682...   \n",
       "3  [133002, 133004, 133006, 218085, 218086, 21808...   \n",
       "4                                                NaN   \n",
       "\n",
       "                                       similar_games  \\\n",
       "0  [2, 3, 4, 41, 533, 3025, 7346, 9377, 11118, 11...   \n",
       "1  [5867, 55038, 55199, 81249, 96217, 101608, 103...   \n",
       "2  [96, 97, 98, 99, 101, 102, 105, 2150, 5928, 26...   \n",
       "3  [999, 7344, 20329, 22387, 23733, 24426, 28070,...   \n",
       "4                                                NaN   \n",
       "\n",
       "                                                tags parent_game status  \\\n",
       "0  [1, 17, 23, 268435461, 268435469, 268435487, 5...         NaN    NaN   \n",
       "1  [1, 17, 268435468, 268435487, 536870973, 53687...         NaN    NaN   \n",
       "2  [268435466, 268435469, 268435470, 536871313, 5...         NaN    NaN   \n",
       "3  [1, 18, 268435464, 268435465, 268435487, 53687...         NaN    NaN   \n",
       "4                                                NaN         NaN    NaN   \n",
       "\n",
       "        total_rating total_rating_count  updated_at  \\\n",
       "0   89.1536224122498                 98  1631925243   \n",
       "1   80.3492740977065                 59  1631579703   \n",
       "2  64.70766765119541                156  1632832716   \n",
       "3   82.0784124011084                 66  1633134459   \n",
       "4                NaN                NaN  1604620800   \n",
       "\n",
       "                                            websites  \n",
       "0                      [19688, 19689, 62678, 119762]  \n",
       "1  [15813, 67063, 120037, 128356, 128357, 128358,...  \n",
       "2                              [20727, 20728, 20729]  \n",
       "3              [16147, 65032, 67011, 119117, 180578]  \n",
       "4                                                NaN  \n",
       "\n",
       "[5 rows x 31 columns]"
      ]
     },
     "execution_count": 4,
     "metadata": {},
     "output_type": "execute_result"
    }
   ],
   "source": [
    "games_dataset.head()"
   ]
  },
  {
   "cell_type": "markdown",
   "id": "3f0ab4a9",
   "metadata": {},
   "source": [
    "А вот с пропущенными значениями все плохо. У нас всего 5 столбцов из 30 без пропущенных значений. \n",
    "\n",
    "Поэтому, от столбцов, у которых совсем все плохо, придется отказаться. Это столбцы:`aggregated_rating`, `aggregated_rating_count`, `game_engines`, `dlcs`, `franchise`, `status`, `parent_game`, `external_games`, `websites`. Последний сам по себе бесполезен. `external_games` - ID из других баз данных. Нам такое не надо..\n",
    "\n",
    "Также, судя по всему, придется оставить только 119723 значений, то есть именно те, у которых есть похожие игры. Напомню, что я хочу сделать рекомендательную систему на основе модели классификации."
   ]
  },
  {
   "cell_type": "code",
   "execution_count": 5,
   "id": "043a3c8e",
   "metadata": {},
   "outputs": [
    {
     "name": "stdout",
     "output_type": "stream",
     "text": [
      "<class 'pandas.core.frame.DataFrame'>\n",
      "RangeIndex: 151704 entries, 0 to 151703\n",
      "Data columns (total 31 columns):\n",
      " #   Column                   Non-Null Count   Dtype \n",
      "---  ------                   --------------   ----- \n",
      " 0   id                       151703 non-null  object\n",
      " 1   name                     151703 non-null  object\n",
      " 2   age_ratings              25441 non-null   object\n",
      " 3   slug                     151702 non-null  object\n",
      " 4   aggregated_rating        13664 non-null   object\n",
      " 5   aggregated_rating_count  13664 non-null   object\n",
      " 6   category                 151703 non-null  object\n",
      " 7   collection               28832 non-null   object\n",
      " 8   alternative_names        25271 non-null   object\n",
      " 9   external_games           146411 non-null  object\n",
      " 10  first_release_date       91696 non-null   object\n",
      " 11  game_engines             11499 non-null   object\n",
      " 12  game_modes               80843 non-null   object\n",
      " 13  genres                   113207 non-null  object\n",
      " 14  involved_companies       66777 non-null   object\n",
      " 15  keywords                 67738 non-null   object\n",
      " 16  platforms                94541 non-null   object\n",
      " 17  rating                   27847 non-null   object\n",
      " 18  player_perspectives      46538 non-null   object\n",
      " 19  dlcs                     1814 non-null    object\n",
      " 20  franchise                1534 non-null    object\n",
      " 21  rating_count             27847 non-null   object\n",
      " 22  release_dates            94543 non-null   object\n",
      " 23  similar_games            119723 non-null  object\n",
      " 24  tags                     119744 non-null  object\n",
      " 25  parent_game              8824 non-null    object\n",
      " 26  status                   10212 non-null   object\n",
      " 27  total_rating             32512 non-null   object\n",
      " 28  total_rating_count       32512 non-null   object\n",
      " 29  updated_at               151703 non-null  object\n",
      " 30  websites                 82031 non-null   object\n",
      "dtypes: object(31)\n",
      "memory usage: 35.9+ MB\n"
     ]
    }
   ],
   "source": [
    "games_dataset.info()"
   ]
  },
  {
   "cell_type": "markdown",
   "id": "73b4bf7d",
   "metadata": {},
   "source": [
    "Для начала, выберем только те объекты, которые будут нам полезны, так как в любом случае, набор слишком большой и не помещается в память."
   ]
  },
  {
   "cell_type": "code",
   "execution_count": 6,
   "id": "0f38b333",
   "metadata": {},
   "outputs": [],
   "source": [
    "# так как нам нужны только те, у кого есть похожие объекты\n",
    "# != game_modes, так как каким-то образом, просочились столбцы и теперь они ввиде значений\n",
    "# slug, так как единственное значение, которого не было\n",
    "games_dataset = games_dataset.loc[(games_dataset.similar_games.isnull() == False) \n",
    "                              & (games_dataset.slug.isnull() == False) \n",
    "                              & (games_dataset.game_modes != 'game_modes')]"
   ]
  },
  {
   "cell_type": "code",
   "execution_count": 7,
   "id": "e35d6df4",
   "metadata": {},
   "outputs": [],
   "source": [
    "games_dataset = games_dataset.loc[((games_dataset.category == '0')\n",
    "                 |(games_dataset.category == '8')\n",
    "                 |(games_dataset.category == '9')\n",
    "                 |(games_dataset.category == '11')) & (games_dataset.release_dates.isnull() == False)\n",
    "                & (games_dataset.keywords.isnull() == False)]"
   ]
  },
  {
   "cell_type": "markdown",
   "id": "04e72ae3",
   "metadata": {},
   "source": [
    "## Imputing Data"
   ]
  },
  {
   "cell_type": "markdown",
   "id": "d1fb0a14",
   "metadata": {},
   "source": [
    "Перед тем, как проводить операции с данными, нужно очистить их от пропущенных значений."
   ]
  },
  {
   "cell_type": "code",
   "execution_count": 8,
   "id": "01fc3352",
   "metadata": {},
   "outputs": [],
   "source": [
    "import numpy as np\n",
    "from time import time\n",
    "from sklearn.impute import KNNImputer, SimpleImputer"
   ]
  },
  {
   "cell_type": "code",
   "execution_count": 9,
   "id": "7c4c5c28",
   "metadata": {},
   "outputs": [],
   "source": [
    "imputer = KNNImputer()"
   ]
  },
  {
   "cell_type": "markdown",
   "id": "a7f7bff3",
   "metadata": {},
   "source": [
    "Почему от них отказались - написано вверху."
   ]
  },
  {
   "cell_type": "code",
   "execution_count": 10,
   "id": "c4c32c46",
   "metadata": {},
   "outputs": [],
   "source": [
    "dropped_cols = ['aggregated_rating', 'aggregated_rating_count', 'game_engines', 'status', 'release_dates',\n",
    "                'age_ratings', 'dlcs', 'franchise', 'parent_game', 'websites', 'external_games', 'alternative_names']"
   ]
  },
  {
   "cell_type": "code",
   "execution_count": 11,
   "id": "d02c5487",
   "metadata": {},
   "outputs": [],
   "source": [
    "for col in dropped_cols:\n",
    "    del games_dataset[col]"
   ]
  },
  {
   "cell_type": "code",
   "execution_count": 12,
   "id": "cb28a8a0",
   "metadata": {},
   "outputs": [],
   "source": [
    "# так как коллекции - по сути, сборки игр, то можно присвоить пропущенным значениям их названия\n",
    "games_dataset = games_dataset.fillna(value={'collection': games_dataset.name})"
   ]
  },
  {
   "cell_type": "markdown",
   "id": "fb1c77ae",
   "metadata": {},
   "source": [
    "Теперь collection - столбец, содержащий категорические значения."
   ]
  },
  {
   "cell_type": "code",
   "execution_count": 13,
   "id": "16340092",
   "metadata": {},
   "outputs": [],
   "source": [
    "impute_cols = ['first_release_date', 'rating', 'rating_count', 'total_rating', 'total_rating_count']"
   ]
  },
  {
   "cell_type": "code",
   "execution_count": 14,
   "id": "a41d4e6b",
   "metadata": {},
   "outputs": [
    {
     "name": "stdout",
     "output_type": "stream",
     "text": [
      "--- 158.90608024597168 seconds ---\n"
     ]
    }
   ],
   "source": [
    "start_time = time()\n",
    "games_dataset[impute_cols] = imputer.fit_transform(games_dataset[impute_cols])\n",
    "print('--- %s seconds ---' % (time() - start_time))"
   ]
  },
  {
   "cell_type": "code",
   "execution_count": 15,
   "id": "6d656e4a",
   "metadata": {},
   "outputs": [],
   "source": [
    "num_cols = ['id', 'category', 'first_release_date', 'rating_count', 'total_rating_count', 'updated_at']"
   ]
  },
  {
   "cell_type": "code",
   "execution_count": 16,
   "id": "c0efd14e",
   "metadata": {},
   "outputs": [],
   "source": [
    "float_cols = ['rating', 'total_rating']"
   ]
  },
  {
   "cell_type": "code",
   "execution_count": 17,
   "id": "02da2b08",
   "metadata": {},
   "outputs": [],
   "source": [
    "for num_col in num_cols:\n",
    "    games_dataset[num_col] = games_dataset[num_col].astype('int64')"
   ]
  },
  {
   "cell_type": "code",
   "execution_count": 18,
   "id": "03c3d558",
   "metadata": {},
   "outputs": [],
   "source": [
    "for float_col in float_cols:\n",
    "    games_dataset[float_col] = games_dataset[float_col].astype('float64')"
   ]
  },
  {
   "cell_type": "code",
   "execution_count": 19,
   "id": "8fa86380",
   "metadata": {},
   "outputs": [],
   "source": [
    "imputer = SimpleImputer(strategy='most_frequent')"
   ]
  },
  {
   "cell_type": "code",
   "execution_count": 20,
   "id": "a0bf0b6b",
   "metadata": {},
   "outputs": [],
   "source": [
    "for i in range(50):\n",
    "    games_dataset[(i*1000):((i+1)*1000)] = imputer.fit_transform(games_dataset[(i*1000):((i+1)*1000)])"
   ]
  },
  {
   "cell_type": "markdown",
   "id": "7fac198f",
   "metadata": {},
   "source": [
    "Фух, данные успешно импутированы."
   ]
  },
  {
   "cell_type": "code",
   "execution_count": 21,
   "id": "9291a7ce",
   "metadata": {},
   "outputs": [
    {
     "name": "stdout",
     "output_type": "stream",
     "text": [
      "<class 'pandas.core.frame.DataFrame'>\n",
      "Int64Index: 49597 entries, 0 to 151693\n",
      "Data columns (total 19 columns):\n",
      " #   Column               Non-Null Count  Dtype  \n",
      "---  ------               --------------  -----  \n",
      " 0   id                   49597 non-null  int64  \n",
      " 1   name                 49597 non-null  object \n",
      " 2   slug                 49597 non-null  object \n",
      " 3   category             49597 non-null  int64  \n",
      " 4   collection           49597 non-null  object \n",
      " 5   first_release_date   49597 non-null  int64  \n",
      " 6   game_modes           49597 non-null  object \n",
      " 7   genres               49597 non-null  object \n",
      " 8   involved_companies   49597 non-null  object \n",
      " 9   keywords             49597 non-null  object \n",
      " 10  platforms            49597 non-null  object \n",
      " 11  rating               49597 non-null  float64\n",
      " 12  player_perspectives  49597 non-null  object \n",
      " 13  rating_count         49597 non-null  int64  \n",
      " 14  similar_games        49597 non-null  object \n",
      " 15  tags                 49597 non-null  object \n",
      " 16  total_rating         49597 non-null  float64\n",
      " 17  total_rating_count   49597 non-null  int64  \n",
      " 18  updated_at           49597 non-null  int64  \n",
      "dtypes: float64(2), int64(6), object(11)\n",
      "memory usage: 7.6+ MB\n"
     ]
    }
   ],
   "source": [
    "games_dataset.info()"
   ]
  },
  {
   "cell_type": "markdown",
   "id": "0f313238",
   "metadata": {},
   "source": [
    "## Replace Categorical Values"
   ]
  },
  {
   "cell_type": "markdown",
   "id": "9383a028",
   "metadata": {},
   "source": [
    "Теперь нужно кодировать категорические значения. "
   ]
  },
  {
   "cell_type": "code",
   "execution_count": 22,
   "id": "9aa76438",
   "metadata": {},
   "outputs": [],
   "source": [
    "from sklearn.preprocessing import OrdinalEncoder"
   ]
  },
  {
   "cell_type": "code",
   "execution_count": 23,
   "id": "74eeb4af",
   "metadata": {},
   "outputs": [],
   "source": [
    "# так как нам не важно, каким значением будет число\n",
    "# лишь бы оно было разное, выбираем самый простой кодировщик\n",
    "encoder = OrdinalEncoder()"
   ]
  },
  {
   "cell_type": "code",
   "execution_count": 24,
   "id": "28d0f1b1",
   "metadata": {},
   "outputs": [],
   "source": [
    "# три последних кодируем, так как в них сравнительно мало уникальных значений\n",
    "cat_cols = ['collection', 'game_modes', 'platforms', 'player_perspectives', \n",
    "            'genres', 'keywords', 'involved_companies', 'tags']"
   ]
  },
  {
   "cell_type": "code",
   "execution_count": 25,
   "id": "c0b5dd2b",
   "metadata": {},
   "outputs": [],
   "source": [
    "games_dataset[cat_cols] = encoder.fit_transform(games_dataset[cat_cols])"
   ]
  },
  {
   "cell_type": "code",
   "execution_count": 26,
   "id": "c2157fea",
   "metadata": {},
   "outputs": [
    {
     "name": "stdout",
     "output_type": "stream",
     "text": [
      "<class 'pandas.core.frame.DataFrame'>\n",
      "Int64Index: 49597 entries, 0 to 151693\n",
      "Data columns (total 19 columns):\n",
      " #   Column               Non-Null Count  Dtype  \n",
      "---  ------               --------------  -----  \n",
      " 0   id                   49597 non-null  int64  \n",
      " 1   name                 49597 non-null  object \n",
      " 2   slug                 49597 non-null  object \n",
      " 3   category             49597 non-null  int64  \n",
      " 4   collection           49597 non-null  float64\n",
      " 5   first_release_date   49597 non-null  int64  \n",
      " 6   game_modes           49597 non-null  float64\n",
      " 7   genres               49597 non-null  float64\n",
      " 8   involved_companies   49597 non-null  float64\n",
      " 9   keywords             49597 non-null  float64\n",
      " 10  platforms            49597 non-null  float64\n",
      " 11  rating               49597 non-null  float64\n",
      " 12  player_perspectives  49597 non-null  float64\n",
      " 13  rating_count         49597 non-null  int64  \n",
      " 14  similar_games        49597 non-null  object \n",
      " 15  tags                 49597 non-null  float64\n",
      " 16  total_rating         49597 non-null  float64\n",
      " 17  total_rating_count   49597 non-null  int64  \n",
      " 18  updated_at           49597 non-null  int64  \n",
      "dtypes: float64(10), int64(6), object(3)\n",
      "memory usage: 7.6+ MB\n"
     ]
    }
   ],
   "source": [
    "games_dataset.info()"
   ]
  },
  {
   "cell_type": "markdown",
   "id": "1e0b23b7",
   "metadata": {},
   "source": [
    "## Making Dictionaries with ID-Name and Name-ID"
   ]
  },
  {
   "cell_type": "markdown",
   "id": "89a079d1",
   "metadata": {},
   "source": [
    "С помощью данных словарей, мы, после того, как модель выдаст рекомендации, сможем взять айди и найти по этому айди название предмета."
   ]
  },
  {
   "cell_type": "code",
   "execution_count": 27,
   "id": "21afac18",
   "metadata": {},
   "outputs": [],
   "source": [
    "from sklearn.feature_extraction.text import CountVectorizer"
   ]
  },
  {
   "cell_type": "code",
   "execution_count": 28,
   "id": "7cb1b549",
   "metadata": {},
   "outputs": [],
   "source": [
    "import DataPreparation as dp"
   ]
  },
  {
   "cell_type": "code",
   "execution_count": 29,
   "id": "a8e0d5c5",
   "metadata": {},
   "outputs": [],
   "source": [
    "games_dataset = games_dataset.reset_index(drop=True)"
   ]
  },
  {
   "cell_type": "code",
   "execution_count": 30,
   "id": "00c037e2",
   "metadata": {},
   "outputs": [],
   "source": [
    "ids = games_dataset.index\n",
    "names = games_dataset.name"
   ]
  },
  {
   "cell_type": "code",
   "execution_count": 31,
   "id": "83cc07ef",
   "metadata": {},
   "outputs": [],
   "source": [
    "gam_id_name_dict = dict(zip(ids, names))\n",
    "gam_name_id_dict = dict(zip(names, ids))"
   ]
  },
  {
   "cell_type": "code",
   "execution_count": 32,
   "id": "a6b2fe93",
   "metadata": {},
   "outputs": [],
   "source": [
    "del games_dataset['id']\n",
    "del games_dataset['name']\n",
    "del games_dataset['slug']"
   ]
  },
  {
   "cell_type": "code",
   "execution_count": 34,
   "id": "0eaec5c4",
   "metadata": {},
   "outputs": [],
   "source": [
    "del games_dataset['similar_games']"
   ]
  },
  {
   "cell_type": "markdown",
   "id": "865e41b4",
   "metadata": {},
   "source": [
    "## Simple Data Visualization"
   ]
  },
  {
   "cell_type": "markdown",
   "id": "c9ac5a30",
   "metadata": {},
   "source": [
    "Здесь также все, кроме индекса."
   ]
  },
  {
   "cell_type": "code",
   "execution_count": 35,
   "id": "3be93356",
   "metadata": {},
   "outputs": [
    {
     "data": {
      "text/plain": [
       "array([[<AxesSubplot:title={'center':'category'}>,\n",
       "        <AxesSubplot:title={'center':'collection'}>,\n",
       "        <AxesSubplot:title={'center':'first_release_date'}>,\n",
       "        <AxesSubplot:title={'center':'game_modes'}>],\n",
       "       [<AxesSubplot:title={'center':'genres'}>,\n",
       "        <AxesSubplot:title={'center':'involved_companies'}>,\n",
       "        <AxesSubplot:title={'center':'keywords'}>,\n",
       "        <AxesSubplot:title={'center':'platforms'}>],\n",
       "       [<AxesSubplot:title={'center':'rating'}>,\n",
       "        <AxesSubplot:title={'center':'player_perspectives'}>,\n",
       "        <AxesSubplot:title={'center':'rating_count'}>,\n",
       "        <AxesSubplot:title={'center':'tags'}>],\n",
       "       [<AxesSubplot:title={'center':'total_rating'}>,\n",
       "        <AxesSubplot:title={'center':'total_rating_count'}>,\n",
       "        <AxesSubplot:title={'center':'updated_at'}>, <AxesSubplot:>]],\n",
       "      dtype=object)"
      ]
     },
     "execution_count": 35,
     "metadata": {},
     "output_type": "execute_result"
    },
    {
     "data": {
      "image/png": "[encoded data removed]",
      "text/plain": [
       "<Figure size 1800x1800 with 16 Axes>"
      ]
     },
     "metadata": {
      "needs_background": "light"
     },
     "output_type": "display_data"
    }
   ],
   "source": [
    "games_dataset.hist(figsize=(25, 25))"
   ]
  },
  {
   "cell_type": "markdown",
   "id": "7548c4c7",
   "metadata": {},
   "source": [
    "## Data Normalization"
   ]
  },
  {
   "cell_type": "code",
   "execution_count": 36,
   "id": "b8774351",
   "metadata": {},
   "outputs": [],
   "source": [
    "scaled_nums, cols = dp.implement_scalar(games_dataset)"
   ]
  },
  {
   "cell_type": "code",
   "execution_count": 37,
   "id": "50dfe98e",
   "metadata": {},
   "outputs": [],
   "source": [
    "games_dataset[cols] = scaled_nums"
   ]
  },
  {
   "cell_type": "code",
   "execution_count": 38,
   "id": "9231fa82",
   "metadata": {},
   "outputs": [
    {
     "data": {
      "text/html": [
       "<div>\n",
       "<style scoped>\n",
       "    .dataframe tbody tr th:only-of-type {\n",
       "        vertical-align: middle;\n",
       "    }\n",
       "\n",
       "    .dataframe tbody tr th {\n",
       "        vertical-align: top;\n",
       "    }\n",
       "\n",
       "    .dataframe thead th {\n",
       "        text-align: right;\n",
       "    }\n",
       "</style>\n",
       "<table border=\"1\" class=\"dataframe\">\n",
       "  <thead>\n",
       "    <tr style=\"text-align: right;\">\n",
       "      <th></th>\n",
       "      <th>category</th>\n",
       "      <th>collection</th>\n",
       "      <th>first_release_date</th>\n",
       "      <th>game_modes</th>\n",
       "      <th>genres</th>\n",
       "      <th>involved_companies</th>\n",
       "      <th>keywords</th>\n",
       "      <th>platforms</th>\n",
       "      <th>rating</th>\n",
       "      <th>player_perspectives</th>\n",
       "      <th>rating_count</th>\n",
       "      <th>tags</th>\n",
       "      <th>total_rating</th>\n",
       "      <th>total_rating_count</th>\n",
       "      <th>updated_at</th>\n",
       "    </tr>\n",
       "  </thead>\n",
       "  <tbody>\n",
       "    <tr>\n",
       "      <th>0</th>\n",
       "      <td>0.000000</td>\n",
       "      <td>0.029663</td>\n",
       "      <td>0.675281</td>\n",
       "      <td>0.523810</td>\n",
       "      <td>0.628368</td>\n",
       "      <td>0.468126</td>\n",
       "      <td>0.253696</td>\n",
       "      <td>0.910710</td>\n",
       "      <td>0.870078</td>\n",
       "      <td>0.446154</td>\n",
       "      <td>0.030284</td>\n",
       "      <td>0.023140</td>\n",
       "      <td>0.891536</td>\n",
       "      <td>0.030275</td>\n",
       "      <td>0.991877</td>\n",
       "    </tr>\n",
       "    <tr>\n",
       "      <th>1</th>\n",
       "      <td>0.000000</td>\n",
       "      <td>0.525182</td>\n",
       "      <td>0.740707</td>\n",
       "      <td>0.523810</td>\n",
       "      <td>0.186579</td>\n",
       "      <td>0.664337</td>\n",
       "      <td>0.777415</td>\n",
       "      <td>0.656443</td>\n",
       "      <td>0.785535</td>\n",
       "      <td>0.707692</td>\n",
       "      <td>0.017484</td>\n",
       "      <td>0.047464</td>\n",
       "      <td>0.803493</td>\n",
       "      <td>0.018227</td>\n",
       "      <td>0.990079</td>\n",
       "    </tr>\n",
       "    <tr>\n",
       "      <th>2</th>\n",
       "      <td>0.000000</td>\n",
       "      <td>0.008580</td>\n",
       "      <td>0.774163</td>\n",
       "      <td>0.309524</td>\n",
       "      <td>0.019827</td>\n",
       "      <td>0.450594</td>\n",
       "      <td>0.636796</td>\n",
       "      <td>0.588177</td>\n",
       "      <td>0.651829</td>\n",
       "      <td>0.200000</td>\n",
       "      <td>0.047143</td>\n",
       "      <td>0.728530</td>\n",
       "      <td>0.647077</td>\n",
       "      <td>0.048193</td>\n",
       "      <td>0.996599</td>\n",
       "    </tr>\n",
       "    <tr>\n",
       "      <th>3</th>\n",
       "      <td>0.000000</td>\n",
       "      <td>0.036499</td>\n",
       "      <td>0.657934</td>\n",
       "      <td>0.309524</td>\n",
       "      <td>0.876970</td>\n",
       "      <td>0.754219</td>\n",
       "      <td>0.186639</td>\n",
       "      <td>0.827109</td>\n",
       "      <td>0.823961</td>\n",
       "      <td>0.907692</td>\n",
       "      <td>0.019981</td>\n",
       "      <td>0.123182</td>\n",
       "      <td>0.820784</td>\n",
       "      <td>0.020389</td>\n",
       "      <td>0.998169</td>\n",
       "    </tr>\n",
       "    <tr>\n",
       "      <th>4</th>\n",
       "      <td>0.818182</td>\n",
       "      <td>0.006755</td>\n",
       "      <td>0.823833</td>\n",
       "      <td>0.523810</td>\n",
       "      <td>0.665480</td>\n",
       "      <td>0.006811</td>\n",
       "      <td>0.380898</td>\n",
       "      <td>1.000000</td>\n",
       "      <td>0.644437</td>\n",
       "      <td>0.200000</td>\n",
       "      <td>0.000312</td>\n",
       "      <td>0.209645</td>\n",
       "      <td>0.681000</td>\n",
       "      <td>0.000618</td>\n",
       "      <td>0.906283</td>\n",
       "    </tr>\n",
       "  </tbody>\n",
       "</table>\n",
       "</div>"
      ],
      "text/plain": [
       "   category  collection  first_release_date  game_modes    genres  \\\n",
       "0  0.000000    0.029663            0.675281    0.523810  0.628368   \n",
       "1  0.000000    0.525182            0.740707    0.523810  0.186579   \n",
       "2  0.000000    0.008580            0.774163    0.309524  0.019827   \n",
       "3  0.000000    0.036499            0.657934    0.309524  0.876970   \n",
       "4  0.818182    0.006755            0.823833    0.523810  0.665480   \n",
       "\n",
       "   involved_companies  keywords  platforms    rating  player_perspectives  \\\n",
       "0            0.468126  0.253696   0.910710  0.870078             0.446154   \n",
       "1            0.664337  0.777415   0.656443  0.785535             0.707692   \n",
       "2            0.450594  0.636796   0.588177  0.651829             0.200000   \n",
       "3            0.754219  0.186639   0.827109  0.823961             0.907692   \n",
       "4            0.006811  0.380898   1.000000  0.644437             0.200000   \n",
       "\n",
       "   rating_count      tags  total_rating  total_rating_count  updated_at  \n",
       "0      0.030284  0.023140      0.891536            0.030275    0.991877  \n",
       "1      0.017484  0.047464      0.803493            0.018227    0.990079  \n",
       "2      0.047143  0.728530      0.647077            0.048193    0.996599  \n",
       "3      0.019981  0.123182      0.820784            0.020389    0.998169  \n",
       "4      0.000312  0.209645      0.681000            0.000618    0.906283  "
      ]
     },
     "execution_count": 38,
     "metadata": {},
     "output_type": "execute_result"
    }
   ],
   "source": [
    "games_dataset.head()"
   ]
  },
  {
   "cell_type": "markdown",
   "id": "ecad6eb6",
   "metadata": {},
   "source": [
    "# Getting Recommendations"
   ]
  },
  {
   "cell_type": "code",
   "execution_count": 39,
   "id": "95c886b3",
   "metadata": {},
   "outputs": [],
   "source": [
    "import GetSimilars as gs"
   ]
  },
  {
   "cell_type": "code",
   "execution_count": 40,
   "id": "a357c792",
   "metadata": {},
   "outputs": [],
   "source": [
    "games_num_matrix = games_dataset.to_numpy()"
   ]
  },
  {
   "cell_type": "code",
   "execution_count": 41,
   "id": "213b8c60",
   "metadata": {},
   "outputs": [],
   "source": [
    "full_cs = gs.get_cosine_sim(games_num_matrix, None)"
   ]
  },
  {
   "cell_type": "code",
   "execution_count": 42,
   "id": "b0976e12",
   "metadata": {},
   "outputs": [],
   "source": [
    "similaries = gs.get_similar(full_cs, 'Pokémon Shield', gam_id_name_dict, gam_name_id_dict)"
   ]
  },
  {
   "cell_type": "code",
   "execution_count": 43,
   "id": "e16ab201",
   "metadata": {},
   "outputs": [
    {
     "data": {
      "text/plain": [
       "['Pokémon Sword',\n",
       " 'Travis Strikes Again: No More Heroes',\n",
       " 'Card City Nights 2',\n",
       " 'Mario & Sonic at the Olympic Games Tokyo 2020',\n",
       " 'Mario Tennis Aces',\n",
       " 'The Sims 2: Super Collection',\n",
       " 'Master of Orion']"
      ]
     },
     "execution_count": 43,
     "metadata": {},
     "output_type": "execute_result"
    }
   ],
   "source": [
    "similaries"
   ]
  },
  {
   "cell_type": "code",
   "execution_count": 44,
   "id": "534c9d39",
   "metadata": {},
   "outputs": [],
   "source": [
    "games_dataset.to_csv('C:/Users/ASDW/Python/Projects/Recosys 2.0/datasets/games_dataset/games_matrix.csv')"
   ]
  },
  {
   "cell_type": "code",
   "execution_count": null,
   "id": "a1264f6d",
   "metadata": {},
   "outputs": [],
   "source": []
  }
 ],
 "metadata": {
  "kernelspec": {
   "display_name": "Python 3",
   "language": "python",
   "name": "python3"
  },
  "language_info": {
   "codemirror_mode": {
    "name": "ipython",
    "version": 3
   },
   "file_extension": ".py",
   "mimetype": "text/x-python",
   "name": "python",
   "nbconvert_exporter": "python",
   "pygments_lexer": "ipython3",
   "version": "3.8.8"
  }
 },
 "nbformat": 4,
 "nbformat_minor": 5
}
