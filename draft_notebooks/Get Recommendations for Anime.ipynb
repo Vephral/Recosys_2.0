{
 "cells": [
  {
   "cell_type": "markdown",
   "id": "91855cdd",
   "metadata": {},
   "source": [
    "# Get Recommendations for Anime"
   ]
  },
  {
   "cell_type": "markdown",
   "id": "1a127ac2",
   "metadata": {},
   "source": [
    "Сам по себе сайт дурацкий, так как часто падает. Видимо, это защита от Web Scraping, чем мы сейчас и занимаемся."
   ]
  },
  {
   "cell_type": "markdown",
   "id": "28d550bd",
   "metadata": {},
   "source": [
    "Начнем с самого легкого, так как дальше нужно будет собирать целый набор данных. Удачи.\n",
    "\n",
    "Вот документация: https://jikan.docs.apiary.io/#reference\n",
    "\n",
    "А вот оболочка для API: https://github.com/abhinavk99/jikanpy"
   ]
  },
  {
   "cell_type": "code",
   "execution_count": 10,
   "id": "6a287385",
   "metadata": {},
   "outputs": [],
   "source": [
    "import jikanpy as jp\n",
    "import pandas as pd\n",
    "import aiohttp\n",
    "from time import sleep, time"
   ]
  },
  {
   "cell_type": "code",
   "execution_count": 7,
   "id": "fe9e3845",
   "metadata": {},
   "outputs": [],
   "source": [
    "anime_dataset = pd.read_csv('./datasets/anime_dataset/anime.csv')"
   ]
  },
  {
   "cell_type": "code",
   "execution_count": 8,
   "id": "c4dc5185",
   "metadata": {},
   "outputs": [],
   "source": [
    "ids = anime_dataset.MAL_ID.tolist()"
   ]
  },
  {
   "cell_type": "code",
   "execution_count": 14,
   "id": "ee57ae7d",
   "metadata": {},
   "outputs": [],
   "source": [
    "jikan = jp.Jikan()"
   ]
  },
  {
   "cell_type": "code",
   "execution_count": 15,
   "id": "c43d3c06",
   "metadata": {},
   "outputs": [],
   "source": [
    "def get_cleared_recs(uncleared_recs):\n",
    "    titles = []\n",
    "    mal_ids = []\n",
    "    i = 0\n",
    "    while i != 7:\n",
    "        try:\n",
    "            title = uncleared_recs['recommendations'][i]['title']\n",
    "            mal_id = uncleared_recs['recommendations'][i]['mal_id']\n",
    "            titles.append(title)\n",
    "            mal_ids.append(mal_id)\n",
    "            i += 1\n",
    "        except IndexError:\n",
    "            titles.append('No')\n",
    "            mal_ids.append('No')\n",
    "            i += 1\n",
    "    return titles, mal_ids"
   ]
  },
  {
   "cell_type": "code",
   "execution_count": 16,
   "id": "131b2816",
   "metadata": {},
   "outputs": [],
   "source": [
    "def get_recs(id):\n",
    "    uncleared_recs = jikan.anime(id, extension='recommendations')\n",
    "    recs = get_cleared_recs(uncleared_recs)\n",
    "    return recs"
   ]
  },
  {
   "cell_type": "code",
   "execution_count": 24,
   "id": "8f9c26cc",
   "metadata": {},
   "outputs": [],
   "source": [
    "anime_recs = pd.DataFrame(columns=['ID', 'Reco_Title', 'Reco_ID'])"
   ]
  },
  {
   "cell_type": "markdown",
   "id": "ba42f4d9",
   "metadata": {},
   "source": [
    "Из-за того, что, скорее всего, за один заход не получится получить все значения, пришлось сделать так, чтобы если значение уже есть в DataFrame, оно пропускалось, если нет, то исполняется обычный код."
   ]
  },
  {
   "cell_type": "code",
   "execution_count": 25,
   "id": "ee0e7085",
   "metadata": {},
   "outputs": [
    {
     "name": "stdout",
     "output_type": "stream",
     "text": [
      "700\n",
      "--- 217.74237871170044 seconds ---\n"
     ]
    }
   ],
   "source": [
    "start_time = time()\n",
    "i = 0\n",
    "not_responsed_ids = []\n",
    "for item_id in ids:\n",
    "    try:\n",
    "        if item_id not in anime_recs.ID.tolist():\n",
    "            titles, mal_ids = get_recs(item_id)\n",
    "            for i in range(7):\n",
    "                anime_recs.loc[len(anime_recs.index)] = [item_id, titles[i], mal_ids[i]]\n",
    "            if len(anime_recs) % 100 == 0:\n",
    "                print(len(anime_recs))\n",
    "            sleep(2)\n",
    "        if item_id in anime_recs.ID.tolist():\n",
    "            continue\n",
    "    except jp.APIException:\n",
    "        not_responsed_ids.append(item_id)\n",
    "        sleep(60)\n",
    "print(\"--- %s seconds ---\" % (time() - start_time))"
   ]
  },
  {
   "cell_type": "code",
   "execution_count": 13,
   "id": "d7428dd3",
   "metadata": {},
   "outputs": [],
   "source": [
    "async def get_recs(ids):\n",
    "    async with aiohttp.ClientSession() as session:\n",
    "        all_recs = pd.DataFrame(columns=['ID', 'Reco_Title', 'Reco_ID'])\n",
    "        for i in ids:\n",
    "            async with session.get('https://api.jikan.moe/v3/anime/' + str(i) + '/recommendations/') as resp:\n",
    "                anime = await resp.json()\n",
    "                # на тот случай, если аниме под id равному i несуществует\n",
    "                if 'recommendations' in anime.keys():\n",
    "                    # на тот случай, если у нас меньше чем 7 рекомендаций\n",
    "                    for j in range(len(anime['recommendations'][:7])):\n",
    "                        all_recs.loc[len(all_recs.index)] = [i, anime['recommendations'][j]['title'], anime['recommendations'][j]['mal_id']]\n",
    "        return all_recs"
   ]
  },
  {
   "cell_type": "code",
   "execution_count": 11,
   "id": "e9c30fb0",
   "metadata": {},
   "outputs": [
    {
     "name": "stdout",
     "output_type": "stream",
     "text": [
      "--- 666.3386619091034 seconds ---\n"
     ]
    }
   ],
   "source": [
    "start_time = time()\n",
    "anime_recs = await get_recs(ids[:100])\n",
    "print('--- %s seconds ---' % (time() - start_time))"
   ]
  },
  {
   "cell_type": "code",
   "execution_count": null,
   "id": "ce3e40b9",
   "metadata": {},
   "outputs": [],
   "source": [
    "anime_recs.to_csv('C:/Users/ASDW/Python/Projects/Recosys 2.0/datasets/anime_dataset/recommendations.csv')"
   ]
  },
  {
   "cell_type": "code",
   "execution_count": 26,
   "id": "93ce1e73",
   "metadata": {},
   "outputs": [
    {
     "name": "stdout",
     "output_type": "stream",
     "text": [
      "<class 'pandas.core.frame.DataFrame'>\n",
      "Int64Index: 700 entries, 0 to 699\n",
      "Data columns (total 3 columns):\n",
      " #   Column      Non-Null Count  Dtype \n",
      "---  ------      --------------  ----- \n",
      " 0   ID          700 non-null    object\n",
      " 1   Reco_Title  700 non-null    object\n",
      " 2   Reco_ID     700 non-null    object\n",
      "dtypes: object(3)\n",
      "memory usage: 21.9+ KB\n"
     ]
    }
   ],
   "source": [
    "anime_recs.info()"
   ]
  },
  {
   "cell_type": "code",
   "execution_count": 27,
   "id": "d1374263",
   "metadata": {},
   "outputs": [
    {
     "data": {
      "text/plain": [
       "36890"
      ]
     },
     "execution_count": 27,
     "metadata": {},
     "output_type": "execute_result"
    }
   ],
   "source": [
    "217*170"
   ]
  },
  {
   "cell_type": "code",
   "execution_count": 28,
   "id": "1ceb290d",
   "metadata": {},
   "outputs": [
    {
     "data": {
      "text/plain": [
       "10.247222222222222"
      ]
     },
     "execution_count": 28,
     "metadata": {},
     "output_type": "execute_result"
    }
   ],
   "source": [
    "36890/3600"
   ]
  },
  {
   "cell_type": "code",
   "execution_count": null,
   "id": "e0957c54",
   "metadata": {},
   "outputs": [],
   "source": []
  }
 ],
 "metadata": {
  "kernelspec": {
   "display_name": "Python 3",
   "language": "python",
   "name": "python3"
  },
  "language_info": {
   "codemirror_mode": {
    "name": "ipython",
    "version": 3
   },
   "file_extension": ".py",
   "mimetype": "text/x-python",
   "name": "python",
   "nbconvert_exporter": "python",
   "pygments_lexer": "ipython3",
   "version": "3.8.8"
  }
 },
 "nbformat": 4,
 "nbformat_minor": 5
}
