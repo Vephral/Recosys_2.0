{
 "cells": [
  {
   "cell_type": "markdown",
   "id": "bd920744",
   "metadata": {},
   "source": [
    "если шо, то этот код тоже пойдет в проект, но как гавнокод"
   ]
  },
  {
   "cell_type": "code",
   "execution_count": 1,
   "id": "0ef207b5",
   "metadata": {},
   "outputs": [
    {
     "ename": "NameError",
     "evalue": "name 'steamspy' is not defined",
     "output_type": "error",
     "traceback": [
      "\u001b[1;31m---------------------------------------------------------------------------\u001b[0m",
      "\u001b[1;31mNameError\u001b[0m                                 Traceback (most recent call last)",
      "\u001b[1;32m<ipython-input-1-e80716f718ed>\u001b[0m in \u001b[0;36m<module>\u001b[1;34m\u001b[0m\n\u001b[0;32m      1\u001b[0m \u001b[0mall_tags_with_id\u001b[0m \u001b[1;33m=\u001b[0m \u001b[1;33m[\u001b[0m\u001b[1;33m]\u001b[0m\u001b[1;33m\u001b[0m\u001b[1;33m\u001b[0m\u001b[0m\n\u001b[1;32m----> 2\u001b[1;33m \u001b[0mcols\u001b[0m \u001b[1;33m=\u001b[0m \u001b[0msteamspy\u001b[0m\u001b[1;33m.\u001b[0m\u001b[0mcolumns\u001b[0m\u001b[1;33m\u001b[0m\u001b[1;33m\u001b[0m\u001b[0m\n\u001b[0m\u001b[0;32m      3\u001b[0m \u001b[1;32mfor\u001b[0m \u001b[0mi\u001b[0m \u001b[1;32min\u001b[0m \u001b[0mrange\u001b[0m\u001b[1;33m(\u001b[0m\u001b[0mlen\u001b[0m\u001b[1;33m(\u001b[0m\u001b[0msteamspy\u001b[0m\u001b[1;33m)\u001b[0m\u001b[1;33m)\u001b[0m\u001b[1;33m:\u001b[0m\u001b[1;33m\u001b[0m\u001b[1;33m\u001b[0m\u001b[0m\n\u001b[0;32m      4\u001b[0m     \u001b[0mrow\u001b[0m \u001b[1;33m=\u001b[0m \u001b[0msteamspy\u001b[0m\u001b[1;33m.\u001b[0m\u001b[0mloc\u001b[0m\u001b[1;33m[\u001b[0m\u001b[0mi\u001b[0m\u001b[1;33m]\u001b[0m\u001b[1;33m\u001b[0m\u001b[1;33m\u001b[0m\u001b[0m\n\u001b[0;32m      5\u001b[0m     \u001b[0mtags_with_id\u001b[0m \u001b[1;33m=\u001b[0m \u001b[1;33m{\u001b[0m\u001b[1;33m}\u001b[0m\u001b[1;33m\u001b[0m\u001b[1;33m\u001b[0m\u001b[0m\n",
      "\u001b[1;31mNameError\u001b[0m: name 'steamspy' is not defined"
     ]
    }
   ],
   "source": [
    "all_tags_with_id = []\n",
    "cols = steamspy.columns\n",
    "for i in range(len(steamspy)):\n",
    "    row = steamspy.loc[i]\n",
    "    tags_with_id = {}\n",
    "    tags = {}\n",
    "    for elem in row:\n",
    "        # так как DataFrame похож на One-Hot Encoding, можно брать только те значения,\n",
    "        # которые не равны 0.\n",
    "        if elem != 0:\n",
    "            index = pd.Index(row).get_loc(elem)\n",
    "            col = cols[index]\n",
    "            # из-за того, что появляются списки с несколькими названиями столбцов\n",
    "            # пришлось отбросить все, кроме первого, так как первым может быть \n",
    "            # id приложения.\n",
    "            if 'pandas.core.indexes.base.Index' in str(type(col)):\n",
    "                col = str(col[0])\n",
    "            if col == 'appid':\n",
    "                tags_with_id[col] = elem\n",
    "            if col != 'appid':\n",
    "                tags[col] = elem\n",
    "    tags_with_id['tags'] = tags\n",
    "    all_tags_with_id.append(tags_with_id)"
   ]
  },
  {
   "cell_type": "code",
   "execution_count": null,
   "id": "e24c820c",
   "metadata": {},
   "outputs": [],
   "source": [
    "def replace_nums(str):\n",
    "    num = ''\n",
    "    new_str = \n",
    "    for i in range(len(str)-1):\n",
    "        if str[i] in '0123456789':\n",
    "            num += str[i]\n",
    "            # будем надеяться, что в наборе не будет чисел в конце текста\n",
    "            # иначе выбросится ошибка\n",
    "            if str[i+1] not in '0123456789':\n",
    "                new_str += str.replace(num, 'NUM')\n",
    "                num = ''\n",
    "    return new_str"
   ]
  },
  {
   "cell_type": "code",
   "execution_count": null,
   "id": "102fa194",
   "metadata": {},
   "outputs": [],
   "source": [
    "def counter_to_feature(dataset, vocab_size):\n",
    "    # все ради сокращения кода и функции most_common\n",
    "    total_counts = Counter()\n",
    "    vocabulary = {}\n",
    "    for data in dataset:\n",
    "        for word, count in data.items():\n",
    "            # кажется, что бессмысленно\n",
    "            # но на самом деле мы в одном словаре собираем все словари\n",
    "            total_counts[word] += count\n",
    "    # так как иначе можно получить бесконечную матрицу признаков.\n",
    "    # а так у нас установленное значение\n",
    "    most_common = total_counts.most_common()[:vocab_size]\n",
    "    for index, word in enumerate(most_common):\n",
    "        vocabulary[word] = index \n",
    "    return total_counts"
   ]
  },
  {
   "cell_type": "markdown",
   "id": "724e7d7b",
   "metadata": {},
   "source": [
    "Если чо, то некоторый код был взят отсюда: https://imdb-api.com/API#IMDbList-header (в сам)"
   ]
  },
  {
   "cell_type": "code",
   "execution_count": null,
   "id": "cdd0d16a",
   "metadata": {},
   "outputs": [],
   "source": [
    "def get_similars(item_id):\n",
    "    # для того, чтобы затем можно было вставить ID в DataFrame\n",
    "    url = 'https://imdb-api.com/en/API/Title/k_65c2g6hh/' + item_id\n",
    "    response = requests.request('GET', url)\n",
    "    # код сворован, признаюсь.\n",
    "    cleared_dict = json.loads(response.text.encode('utf-8').decode('utf-8'))\n",
    "    # сразу получаем похожих, так как нам только они нужны\n",
    "    # что будет, если их меньше чем 7? - ошибка\n",
    "    recs = cleared_dict['similars'][:7]\n",
    "    return recs"
   ]
  },
  {
   "cell_type": "code",
   "execution_count": null,
   "id": "58b977db",
   "metadata": {},
   "outputs": [],
   "source": [
    "def get_item_all_fields(endpoint, item_id):\n",
    "    byte_array = wrapper.api_request(endpoint, 'fields *; where id = ' + str(item_id) + ';')\n",
    "    decoded_bytes_array = byte_array.decode('utf-8')\n",
    "    item = json.loads(decoded_bytes_array)\n",
    "    if len(item) == 0:\n",
    "        return 'This ID don`t exists.'\n",
    "    if len(item) > 0:\n",
    "        return item[0]"
   ]
  },
  {
   "cell_type": "code",
   "execution_count": null,
   "id": "13925eda",
   "metadata": {},
   "outputs": [],
   "source": [
    "for item_id in range(1, 160000):\n",
    "    item = get_item_all_fields('games', item_id)\n",
    "    if item == 'This ID don`t exists' or item['name'] in games_dataset.name.unique():\n",
    "        continue\n",
    "    if item['name'] not in games_dataset.name.unique():\n",
    "        games_dataset.loc[len(games_dataset.index)] = item\n",
    "    if item_id > 10:\n",
    "        break"
   ]
  },
  {
   "cell_type": "code",
   "execution_count": null,
   "id": "953996a0",
   "metadata": {},
   "outputs": [],
   "source": [
    "def API_threading(floors, ceilings):\n",
    "    process = []\n",
    "    with ProcessPoolExecutor(max_workers=8) as executor:\n",
    "        [process.append(executor.submit(create_games_dataset, floor, ceiling)) for floor in floors for ceiling in ceilings]\n",
    "    for task in as_completed(process):\n",
    "        return task.result()"
   ]
  }
 ],
 "metadata": {
  "kernelspec": {
   "display_name": "Python 3",
   "language": "python",
   "name": "python3"
  },
  "language_info": {
   "codemirror_mode": {
    "name": "ipython",
    "version": 3
   },
   "file_extension": ".py",
   "mimetype": "text/x-python",
   "name": "python",
   "nbconvert_exporter": "python",
   "pygments_lexer": "ipython3",
   "version": "3.8.8"
  }
 },
 "nbformat": 4,
 "nbformat_minor": 5
}
