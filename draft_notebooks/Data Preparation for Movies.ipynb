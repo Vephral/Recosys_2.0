{
 "cells": [
  {
   "cell_type": "markdown",
   "id": "7e101b24",
   "metadata": {},
   "source": [
    "# Data Preparation for Movies"
   ]
  },
  {
   "cell_type": "markdown",
   "id": "5290dcd4",
   "metadata": {},
   "source": [
    "Готовим данные для использования на моделях. В планах провести масштабирование, замену пропущенных значений, кодирование категорических значений и преобразование текстовых значений в их числовое представление через Bag of Words."
   ]
  },
  {
   "cell_type": "markdown",
   "id": "98657a20",
   "metadata": {},
   "source": [
    "## Import Data"
   ]
  },
  {
   "cell_type": "code",
   "execution_count": 1,
   "id": "eeb9cadd",
   "metadata": {},
   "outputs": [],
   "source": [
    "import pandas as pd"
   ]
  },
  {
   "cell_type": "code",
   "execution_count": 9,
   "id": "679e024c",
   "metadata": {},
   "outputs": [],
   "source": [
    "movies_dataset = pd.read_csv('./datasets/movies_dataset/movies_clear.csv')"
   ]
  },
  {
   "cell_type": "markdown",
   "id": "c2755ccf",
   "metadata": {},
   "source": [
    "## Familiarize with Data"
   ]
  },
  {
   "cell_type": "markdown",
   "id": "578b0398",
   "metadata": {},
   "source": [
    "Языки, теги, описание и название - столбцы со значениями, в которых есть текст.\n",
    "\n",
    "Языки и статус - столбцы с категорическими значениями.\n",
    "\n",
    "Сборы, бюджет и кол-во оценок - столбцы, которые нужно масштабировать."
   ]
  },
  {
   "cell_type": "code",
   "execution_count": 3,
   "id": "136a9792",
   "metadata": {},
   "outputs": [
    {
     "data": {
      "text/html": [
       "<div>\n",
       "<style scoped>\n",
       "    .dataframe tbody tr th:only-of-type {\n",
       "        vertical-align: middle;\n",
       "    }\n",
       "\n",
       "    .dataframe tbody tr th {\n",
       "        vertical-align: top;\n",
       "    }\n",
       "\n",
       "    .dataframe thead th {\n",
       "        text-align: right;\n",
       "    }\n",
       "</style>\n",
       "<table border=\"1\" class=\"dataframe\">\n",
       "  <thead>\n",
       "    <tr style=\"text-align: right;\">\n",
       "      <th></th>\n",
       "      <th>budget</th>\n",
       "      <th>genres</th>\n",
       "      <th>id</th>\n",
       "      <th>keywords</th>\n",
       "      <th>original_language</th>\n",
       "      <th>original_title</th>\n",
       "      <th>overview</th>\n",
       "      <th>popularity</th>\n",
       "      <th>production_companies</th>\n",
       "      <th>production_countries</th>\n",
       "      <th>release_date</th>\n",
       "      <th>revenue</th>\n",
       "      <th>runtime</th>\n",
       "      <th>spoken_languages</th>\n",
       "      <th>status</th>\n",
       "      <th>tagline</th>\n",
       "      <th>title</th>\n",
       "      <th>vote_average</th>\n",
       "      <th>vote_count</th>\n",
       "    </tr>\n",
       "  </thead>\n",
       "  <tbody>\n",
       "    <tr>\n",
       "      <th>0</th>\n",
       "      <td>237000000</td>\n",
       "      <td>[28, 12, 14, 878]</td>\n",
       "      <td>19995</td>\n",
       "      <td>[1463, 2964, 3386, 3388, 3679, 3801, 9685, 984...</td>\n",
       "      <td>en</td>\n",
       "      <td>Avatar</td>\n",
       "      <td>In the 22nd century, a paraplegic Marine is di...</td>\n",
       "      <td>150.437577</td>\n",
       "      <td>[289, 306, 444, 574]</td>\n",
       "      <td>['us', 'gb']</td>\n",
       "      <td>2009-12-10</td>\n",
       "      <td>2787965087</td>\n",
       "      <td>162.0</td>\n",
       "      <td>['en', 'es']</td>\n",
       "      <td>Released</td>\n",
       "      <td>Enter the World of Pandora.</td>\n",
       "      <td>Avatar</td>\n",
       "      <td>7.2</td>\n",
       "      <td>11800</td>\n",
       "    </tr>\n",
       "    <tr>\n",
       "      <th>1</th>\n",
       "      <td>300000000</td>\n",
       "      <td>[12, 14, 28]</td>\n",
       "      <td>285</td>\n",
       "      <td>[270, 726, 911, 1319, 2038, 2052, 2580, 2660, ...</td>\n",
       "      <td>en</td>\n",
       "      <td>Pirates of the Caribbean: At World's End</td>\n",
       "      <td>Captain Barbossa, long believed to be dead, ha...</td>\n",
       "      <td>139.082615</td>\n",
       "      <td>[2, 130, 19936]</td>\n",
       "      <td>['us']</td>\n",
       "      <td>2007-05-19</td>\n",
       "      <td>961000000</td>\n",
       "      <td>169.0</td>\n",
       "      <td>['en']</td>\n",
       "      <td>Released</td>\n",
       "      <td>At the end of the world, the adventure begins.</td>\n",
       "      <td>Pirates of the Caribbean: At World's End</td>\n",
       "      <td>6.9</td>\n",
       "      <td>4500</td>\n",
       "    </tr>\n",
       "    <tr>\n",
       "      <th>2</th>\n",
       "      <td>245000000</td>\n",
       "      <td>[28, 12, 80]</td>\n",
       "      <td>206647</td>\n",
       "      <td>[470, 818, 4289, 9663, 145556, 156095, 158431]</td>\n",
       "      <td>en</td>\n",
       "      <td>Spectre</td>\n",
       "      <td>A cryptic message from Bond’s past sends him o...</td>\n",
       "      <td>107.376788</td>\n",
       "      <td>[5, 10761, 2469434]</td>\n",
       "      <td>['gb', 'us']</td>\n",
       "      <td>2015-10-26</td>\n",
       "      <td>880674609</td>\n",
       "      <td>148.0</td>\n",
       "      <td>['fr', 'en', 'es', 'it', 'de']</td>\n",
       "      <td>Released</td>\n",
       "      <td>A Plan No One Escapes</td>\n",
       "      <td>Spectre</td>\n",
       "      <td>6.3</td>\n",
       "      <td>4466</td>\n",
       "    </tr>\n",
       "    <tr>\n",
       "      <th>3</th>\n",
       "      <td>250000000</td>\n",
       "      <td>[28, 80, 18, 53]</td>\n",
       "      <td>49026</td>\n",
       "      <td>[849, 853, 949, 1308, 1437, 3051, 3562, 6969, ...</td>\n",
       "      <td>en</td>\n",
       "      <td>The Dark Knight Rises</td>\n",
       "      <td>Following the death of District Attorney Harve...</td>\n",
       "      <td>112.312950</td>\n",
       "      <td>[923, 6194, 9993, 9996]</td>\n",
       "      <td>['us']</td>\n",
       "      <td>2012-07-16</td>\n",
       "      <td>1084939099</td>\n",
       "      <td>165.0</td>\n",
       "      <td>['en']</td>\n",
       "      <td>Released</td>\n",
       "      <td>The Legend Ends</td>\n",
       "      <td>The Dark Knight Rises</td>\n",
       "      <td>7.6</td>\n",
       "      <td>9106</td>\n",
       "    </tr>\n",
       "    <tr>\n",
       "      <th>4</th>\n",
       "      <td>260000000</td>\n",
       "      <td>[28, 12, 878]</td>\n",
       "      <td>49529</td>\n",
       "      <td>[818, 839, 1456, 3801, 7376, 9951, 10028, 1053...</td>\n",
       "      <td>en</td>\n",
       "      <td>John Carter</td>\n",
       "      <td>John Carter is a war-weary, former military ca...</td>\n",
       "      <td>43.926995</td>\n",
       "      <td>[2]</td>\n",
       "      <td>['us']</td>\n",
       "      <td>2012-03-07</td>\n",
       "      <td>284139100</td>\n",
       "      <td>132.0</td>\n",
       "      <td>['en']</td>\n",
       "      <td>Released</td>\n",
       "      <td>Lost in our world, found in another.</td>\n",
       "      <td>John Carter</td>\n",
       "      <td>6.1</td>\n",
       "      <td>2124</td>\n",
       "    </tr>\n",
       "  </tbody>\n",
       "</table>\n",
       "</div>"
      ],
      "text/plain": [
       "      budget             genres      id  \\\n",
       "0  237000000  [28, 12, 14, 878]   19995   \n",
       "1  300000000       [12, 14, 28]     285   \n",
       "2  245000000       [28, 12, 80]  206647   \n",
       "3  250000000   [28, 80, 18, 53]   49026   \n",
       "4  260000000      [28, 12, 878]   49529   \n",
       "\n",
       "                                            keywords original_language  \\\n",
       "0  [1463, 2964, 3386, 3388, 3679, 3801, 9685, 984...                en   \n",
       "1  [270, 726, 911, 1319, 2038, 2052, 2580, 2660, ...                en   \n",
       "2     [470, 818, 4289, 9663, 145556, 156095, 158431]                en   \n",
       "3  [849, 853, 949, 1308, 1437, 3051, 3562, 6969, ...                en   \n",
       "4  [818, 839, 1456, 3801, 7376, 9951, 10028, 1053...                en   \n",
       "\n",
       "                             original_title  \\\n",
       "0                                    Avatar   \n",
       "1  Pirates of the Caribbean: At World's End   \n",
       "2                                   Spectre   \n",
       "3                     The Dark Knight Rises   \n",
       "4                               John Carter   \n",
       "\n",
       "                                            overview  popularity  \\\n",
       "0  In the 22nd century, a paraplegic Marine is di...  150.437577   \n",
       "1  Captain Barbossa, long believed to be dead, ha...  139.082615   \n",
       "2  A cryptic message from Bond’s past sends him o...  107.376788   \n",
       "3  Following the death of District Attorney Harve...  112.312950   \n",
       "4  John Carter is a war-weary, former military ca...   43.926995   \n",
       "\n",
       "      production_companies production_countries release_date     revenue  \\\n",
       "0     [289, 306, 444, 574]         ['us', 'gb']   2009-12-10  2787965087   \n",
       "1          [2, 130, 19936]               ['us']   2007-05-19   961000000   \n",
       "2      [5, 10761, 2469434]         ['gb', 'us']   2015-10-26   880674609   \n",
       "3  [923, 6194, 9993, 9996]               ['us']   2012-07-16  1084939099   \n",
       "4                      [2]               ['us']   2012-03-07   284139100   \n",
       "\n",
       "   runtime                spoken_languages    status  \\\n",
       "0    162.0                    ['en', 'es']  Released   \n",
       "1    169.0                          ['en']  Released   \n",
       "2    148.0  ['fr', 'en', 'es', 'it', 'de']  Released   \n",
       "3    165.0                          ['en']  Released   \n",
       "4    132.0                          ['en']  Released   \n",
       "\n",
       "                                          tagline  \\\n",
       "0                     Enter the World of Pandora.   \n",
       "1  At the end of the world, the adventure begins.   \n",
       "2                           A Plan No One Escapes   \n",
       "3                                 The Legend Ends   \n",
       "4            Lost in our world, found in another.   \n",
       "\n",
       "                                      title  vote_average  vote_count  \n",
       "0                                    Avatar           7.2       11800  \n",
       "1  Pirates of the Caribbean: At World's End           6.9        4500  \n",
       "2                                   Spectre           6.3        4466  \n",
       "3                     The Dark Knight Rises           7.6        9106  \n",
       "4                               John Carter           6.1        2124  "
      ]
     },
     "execution_count": 3,
     "metadata": {},
     "output_type": "execute_result"
    }
   ],
   "source": [
    "movies_dataset.head()"
   ]
  },
  {
   "cell_type": "markdown",
   "id": "49e53b57",
   "metadata": {},
   "source": [
    "В столбце `runtime` берем среднее значение.\n",
    "\n",
    "Проблема с `tagline`. \n",
    "\n",
    "Это очень важный столбец и просто удалять его не хочется. \n",
    "\n",
    "На среднее значение изменить не получится.\n",
    "\n",
    "Удалять строки тоже жалко, так как данных и так мало."
   ]
  },
  {
   "cell_type": "code",
   "execution_count": 4,
   "id": "c2eaccc8",
   "metadata": {},
   "outputs": [
    {
     "name": "stdout",
     "output_type": "stream",
     "text": [
      "<class 'pandas.core.frame.DataFrame'>\n",
      "RangeIndex: 4803 entries, 0 to 4802\n",
      "Data columns (total 19 columns):\n",
      " #   Column                Non-Null Count  Dtype  \n",
      "---  ------                --------------  -----  \n",
      " 0   budget                4803 non-null   int64  \n",
      " 1   genres                4803 non-null   object \n",
      " 2   id                    4803 non-null   int64  \n",
      " 3   keywords              4803 non-null   object \n",
      " 4   original_language     4803 non-null   object \n",
      " 5   original_title        4803 non-null   object \n",
      " 6   overview              4800 non-null   object \n",
      " 7   popularity            4803 non-null   float64\n",
      " 8   production_companies  4803 non-null   object \n",
      " 9   production_countries  4803 non-null   object \n",
      " 10  release_date          4802 non-null   object \n",
      " 11  revenue               4803 non-null   int64  \n",
      " 12  runtime               4801 non-null   float64\n",
      " 13  spoken_languages      4803 non-null   object \n",
      " 14  status                4803 non-null   object \n",
      " 15  tagline               3959 non-null   object \n",
      " 16  title                 4803 non-null   object \n",
      " 17  vote_average          4803 non-null   float64\n",
      " 18  vote_count            4803 non-null   int64  \n",
      "dtypes: float64(3), int64(4), object(12)\n",
      "memory usage: 713.1+ KB\n"
     ]
    }
   ],
   "source": [
    "movies_dataset.info()"
   ]
  },
  {
   "cell_type": "markdown",
   "id": "b8b42a3c",
   "metadata": {},
   "source": [
    "## Imputing Data"
   ]
  },
  {
   "cell_type": "markdown",
   "id": "1cb5814b",
   "metadata": {},
   "source": [
    "Перед тем, как проводить операции с данными, нужно очистить их от пропущенных значений."
   ]
  },
  {
   "cell_type": "code",
   "execution_count": 5,
   "id": "86552dbf",
   "metadata": {},
   "outputs": [],
   "source": [
    "import numpy as np\n",
    "from time import time\n",
    "from sklearn.impute import KNNImputer, SimpleImputer"
   ]
  },
  {
   "cell_type": "markdown",
   "id": "eb0099ff",
   "metadata": {},
   "source": [
    "Для фильмов используем ту же стратегию, что и для игр. (хотя, на самом деле, наоборот)"
   ]
  },
  {
   "cell_type": "code",
   "execution_count": 6,
   "id": "8ca3a62b",
   "metadata": {},
   "outputs": [],
   "source": [
    "movies_dataset = movies_dataset.fillna(movies_dataset.mode().iloc[0])"
   ]
  },
  {
   "cell_type": "markdown",
   "id": "f9d91b0d",
   "metadata": {},
   "source": [
    "## Replace Categorical Values"
   ]
  },
  {
   "cell_type": "markdown",
   "id": "e51cabc5",
   "metadata": {},
   "source": [
    "Теперь нужно кодировать категорические значения. "
   ]
  },
  {
   "cell_type": "code",
   "execution_count": 7,
   "id": "ea0e7099",
   "metadata": {},
   "outputs": [],
   "source": [
    "from sklearn.preprocessing import OrdinalEncoder"
   ]
  },
  {
   "cell_type": "code",
   "execution_count": 8,
   "id": "e1485c01",
   "metadata": {},
   "outputs": [],
   "source": [
    "# так как нам не важно, каким значением будет число\n",
    "# лишь бы оно было разное, выбираем самый простой кодировщик\n",
    "encoder = OrdinalEncoder()"
   ]
  },
  {
   "cell_type": "code",
   "execution_count": 9,
   "id": "1078accc",
   "metadata": {},
   "outputs": [],
   "source": [
    "# тут тоже, что и с прошлым набором\n",
    "cat_cols = ['original_language', 'status', 'spoken_languages', 'production_countries']"
   ]
  },
  {
   "cell_type": "code",
   "execution_count": 10,
   "id": "b2c476be",
   "metadata": {},
   "outputs": [],
   "source": [
    "movies_dataset[cat_cols] = encoder.fit_transform(movies_dataset[cat_cols])"
   ]
  },
  {
   "cell_type": "code",
   "execution_count": 11,
   "id": "3669de33",
   "metadata": {},
   "outputs": [
    {
     "name": "stdout",
     "output_type": "stream",
     "text": [
      "<class 'pandas.core.frame.DataFrame'>\n",
      "RangeIndex: 4803 entries, 0 to 4802\n",
      "Data columns (total 19 columns):\n",
      " #   Column                Non-Null Count  Dtype  \n",
      "---  ------                --------------  -----  \n",
      " 0   budget                4803 non-null   int64  \n",
      " 1   genres                4803 non-null   object \n",
      " 2   id                    4803 non-null   int64  \n",
      " 3   keywords              4803 non-null   object \n",
      " 4   original_language     4803 non-null   float64\n",
      " 5   original_title        4803 non-null   object \n",
      " 6   overview              4803 non-null   object \n",
      " 7   popularity            4803 non-null   float64\n",
      " 8   production_companies  4803 non-null   object \n",
      " 9   production_countries  4803 non-null   float64\n",
      " 10  release_date          4803 non-null   object \n",
      " 11  revenue               4803 non-null   int64  \n",
      " 12  runtime               4803 non-null   float64\n",
      " 13  spoken_languages      4803 non-null   float64\n",
      " 14  status                4803 non-null   float64\n",
      " 15  tagline               4803 non-null   object \n",
      " 16  title                 4803 non-null   object \n",
      " 17  vote_average          4803 non-null   float64\n",
      " 18  vote_count            4803 non-null   int64  \n",
      "dtypes: float64(7), int64(4), object(8)\n",
      "memory usage: 713.1+ KB\n"
     ]
    }
   ],
   "source": [
    "movies_dataset.info()"
   ]
  },
  {
   "cell_type": "markdown",
   "id": "b21eab0d",
   "metadata": {},
   "source": [
    "## Converting Time Data into Different Columns"
   ]
  },
  {
   "cell_type": "markdown",
   "id": "f537e372",
   "metadata": {},
   "source": [
    "Все наборы данных содержат в себе необработанные столбцы с выходом того или иного объекта."
   ]
  },
  {
   "cell_type": "code",
   "execution_count": 12,
   "id": "1b4693f0",
   "metadata": {},
   "outputs": [],
   "source": [
    "import DataPreparation as dp"
   ]
  },
  {
   "cell_type": "code",
   "execution_count": 13,
   "id": "deecc7fd",
   "metadata": {},
   "outputs": [],
   "source": [
    "cols = ['release_year', 'release_day','release_month']"
   ]
  },
  {
   "cell_type": "code",
   "execution_count": 14,
   "id": "589ab7e3",
   "metadata": {},
   "outputs": [],
   "source": [
    "splitted_data = movies_dataset.release_date.str.split('-')"
   ]
  },
  {
   "cell_type": "code",
   "execution_count": 15,
   "id": "789b0e49",
   "metadata": {},
   "outputs": [],
   "source": [
    "date_cols = dp.date_to_cols(splitted_data, cols=cols)"
   ]
  },
  {
   "cell_type": "code",
   "execution_count": 16,
   "id": "e8877059",
   "metadata": {},
   "outputs": [],
   "source": [
    "movies_dataset[cols] = date_cols"
   ]
  },
  {
   "cell_type": "code",
   "execution_count": 17,
   "id": "81a5904c",
   "metadata": {},
   "outputs": [],
   "source": [
    "del movies_dataset['release_date']"
   ]
  },
  {
   "cell_type": "code",
   "execution_count": 18,
   "id": "50a787c6",
   "metadata": {},
   "outputs": [
    {
     "data": {
      "text/html": [
       "<div>\n",
       "<style scoped>\n",
       "    .dataframe tbody tr th:only-of-type {\n",
       "        vertical-align: middle;\n",
       "    }\n",
       "\n",
       "    .dataframe tbody tr th {\n",
       "        vertical-align: top;\n",
       "    }\n",
       "\n",
       "    .dataframe thead th {\n",
       "        text-align: right;\n",
       "    }\n",
       "</style>\n",
       "<table border=\"1\" class=\"dataframe\">\n",
       "  <thead>\n",
       "    <tr style=\"text-align: right;\">\n",
       "      <th></th>\n",
       "      <th>budget</th>\n",
       "      <th>genres</th>\n",
       "      <th>id</th>\n",
       "      <th>keywords</th>\n",
       "      <th>original_language</th>\n",
       "      <th>original_title</th>\n",
       "      <th>overview</th>\n",
       "      <th>popularity</th>\n",
       "      <th>production_companies</th>\n",
       "      <th>production_countries</th>\n",
       "      <th>...</th>\n",
       "      <th>runtime</th>\n",
       "      <th>spoken_languages</th>\n",
       "      <th>status</th>\n",
       "      <th>tagline</th>\n",
       "      <th>title</th>\n",
       "      <th>vote_average</th>\n",
       "      <th>vote_count</th>\n",
       "      <th>release_year</th>\n",
       "      <th>release_day</th>\n",
       "      <th>release_month</th>\n",
       "    </tr>\n",
       "  </thead>\n",
       "  <tbody>\n",
       "    <tr>\n",
       "      <th>0</th>\n",
       "      <td>237000000</td>\n",
       "      <td>[28, 12, 14, 878]</td>\n",
       "      <td>19995</td>\n",
       "      <td>[1463, 2964, 3386, 3388, 3679, 3801, 9685, 984...</td>\n",
       "      <td>7.0</td>\n",
       "      <td>Avatar</td>\n",
       "      <td>In the 22nd century, a paraplegic Marine is di...</td>\n",
       "      <td>150.437577</td>\n",
       "      <td>[289, 306, 444, 574]</td>\n",
       "      <td>439.0</td>\n",
       "      <td>...</td>\n",
       "      <td>162.0</td>\n",
       "      <td>178.0</td>\n",
       "      <td>1.0</td>\n",
       "      <td>Enter the World of Pandora.</td>\n",
       "      <td>Avatar</td>\n",
       "      <td>7.2</td>\n",
       "      <td>11800</td>\n",
       "      <td>2009</td>\n",
       "      <td>12</td>\n",
       "      <td>10</td>\n",
       "    </tr>\n",
       "    <tr>\n",
       "      <th>1</th>\n",
       "      <td>300000000</td>\n",
       "      <td>[12, 14, 28]</td>\n",
       "      <td>285</td>\n",
       "      <td>[270, 726, 911, 1319, 2038, 2052, 2580, 2660, ...</td>\n",
       "      <td>7.0</td>\n",
       "      <td>Pirates of the Caribbean: At World's End</td>\n",
       "      <td>Captain Barbossa, long believed to be dead, ha...</td>\n",
       "      <td>139.082615</td>\n",
       "      <td>[2, 130, 19936]</td>\n",
       "      <td>464.0</td>\n",
       "      <td>...</td>\n",
       "      <td>169.0</td>\n",
       "      <td>382.0</td>\n",
       "      <td>1.0</td>\n",
       "      <td>At the end of the world, the adventure begins.</td>\n",
       "      <td>Pirates of the Caribbean: At World's End</td>\n",
       "      <td>6.9</td>\n",
       "      <td>4500</td>\n",
       "      <td>2007</td>\n",
       "      <td>5</td>\n",
       "      <td>19</td>\n",
       "    </tr>\n",
       "    <tr>\n",
       "      <th>2</th>\n",
       "      <td>245000000</td>\n",
       "      <td>[28, 12, 80]</td>\n",
       "      <td>206647</td>\n",
       "      <td>[470, 818, 4289, 9663, 145556, 156095, 158431]</td>\n",
       "      <td>7.0</td>\n",
       "      <td>Spectre</td>\n",
       "      <td>A cryptic message from Bond’s past sends him o...</td>\n",
       "      <td>107.376788</td>\n",
       "      <td>[5, 10761, 2469434]</td>\n",
       "      <td>298.0</td>\n",
       "      <td>...</td>\n",
       "      <td>148.0</td>\n",
       "      <td>402.0</td>\n",
       "      <td>1.0</td>\n",
       "      <td>A Plan No One Escapes</td>\n",
       "      <td>Spectre</td>\n",
       "      <td>6.3</td>\n",
       "      <td>4466</td>\n",
       "      <td>2015</td>\n",
       "      <td>10</td>\n",
       "      <td>26</td>\n",
       "    </tr>\n",
       "    <tr>\n",
       "      <th>3</th>\n",
       "      <td>250000000</td>\n",
       "      <td>[28, 80, 18, 53]</td>\n",
       "      <td>49026</td>\n",
       "      <td>[849, 853, 949, 1308, 1437, 3051, 3562, 6969, ...</td>\n",
       "      <td>7.0</td>\n",
       "      <td>The Dark Knight Rises</td>\n",
       "      <td>Following the death of District Attorney Harve...</td>\n",
       "      <td>112.312950</td>\n",
       "      <td>[923, 6194, 9993, 9996]</td>\n",
       "      <td>464.0</td>\n",
       "      <td>...</td>\n",
       "      <td>165.0</td>\n",
       "      <td>382.0</td>\n",
       "      <td>1.0</td>\n",
       "      <td>The Legend Ends</td>\n",
       "      <td>The Dark Knight Rises</td>\n",
       "      <td>7.6</td>\n",
       "      <td>9106</td>\n",
       "      <td>2012</td>\n",
       "      <td>7</td>\n",
       "      <td>16</td>\n",
       "    </tr>\n",
       "    <tr>\n",
       "      <th>4</th>\n",
       "      <td>260000000</td>\n",
       "      <td>[28, 12, 878]</td>\n",
       "      <td>49529</td>\n",
       "      <td>[818, 839, 1456, 3801, 7376, 9951, 10028, 1053...</td>\n",
       "      <td>7.0</td>\n",
       "      <td>John Carter</td>\n",
       "      <td>John Carter is a war-weary, former military ca...</td>\n",
       "      <td>43.926995</td>\n",
       "      <td>[2]</td>\n",
       "      <td>464.0</td>\n",
       "      <td>...</td>\n",
       "      <td>132.0</td>\n",
       "      <td>382.0</td>\n",
       "      <td>1.0</td>\n",
       "      <td>Lost in our world, found in another.</td>\n",
       "      <td>John Carter</td>\n",
       "      <td>6.1</td>\n",
       "      <td>2124</td>\n",
       "      <td>2012</td>\n",
       "      <td>3</td>\n",
       "      <td>7</td>\n",
       "    </tr>\n",
       "  </tbody>\n",
       "</table>\n",
       "<p>5 rows × 21 columns</p>\n",
       "</div>"
      ],
      "text/plain": [
       "      budget             genres      id  \\\n",
       "0  237000000  [28, 12, 14, 878]   19995   \n",
       "1  300000000       [12, 14, 28]     285   \n",
       "2  245000000       [28, 12, 80]  206647   \n",
       "3  250000000   [28, 80, 18, 53]   49026   \n",
       "4  260000000      [28, 12, 878]   49529   \n",
       "\n",
       "                                            keywords  original_language  \\\n",
       "0  [1463, 2964, 3386, 3388, 3679, 3801, 9685, 984...                7.0   \n",
       "1  [270, 726, 911, 1319, 2038, 2052, 2580, 2660, ...                7.0   \n",
       "2     [470, 818, 4289, 9663, 145556, 156095, 158431]                7.0   \n",
       "3  [849, 853, 949, 1308, 1437, 3051, 3562, 6969, ...                7.0   \n",
       "4  [818, 839, 1456, 3801, 7376, 9951, 10028, 1053...                7.0   \n",
       "\n",
       "                             original_title  \\\n",
       "0                                    Avatar   \n",
       "1  Pirates of the Caribbean: At World's End   \n",
       "2                                   Spectre   \n",
       "3                     The Dark Knight Rises   \n",
       "4                               John Carter   \n",
       "\n",
       "                                            overview  popularity  \\\n",
       "0  In the 22nd century, a paraplegic Marine is di...  150.437577   \n",
       "1  Captain Barbossa, long believed to be dead, ha...  139.082615   \n",
       "2  A cryptic message from Bond’s past sends him o...  107.376788   \n",
       "3  Following the death of District Attorney Harve...  112.312950   \n",
       "4  John Carter is a war-weary, former military ca...   43.926995   \n",
       "\n",
       "      production_companies  production_countries  ...  runtime  \\\n",
       "0     [289, 306, 444, 574]                 439.0  ...    162.0   \n",
       "1          [2, 130, 19936]                 464.0  ...    169.0   \n",
       "2      [5, 10761, 2469434]                 298.0  ...    148.0   \n",
       "3  [923, 6194, 9993, 9996]                 464.0  ...    165.0   \n",
       "4                      [2]                 464.0  ...    132.0   \n",
       "\n",
       "   spoken_languages  status                                         tagline  \\\n",
       "0             178.0     1.0                     Enter the World of Pandora.   \n",
       "1             382.0     1.0  At the end of the world, the adventure begins.   \n",
       "2             402.0     1.0                           A Plan No One Escapes   \n",
       "3             382.0     1.0                                 The Legend Ends   \n",
       "4             382.0     1.0            Lost in our world, found in another.   \n",
       "\n",
       "                                      title vote_average  vote_count  \\\n",
       "0                                    Avatar          7.2       11800   \n",
       "1  Pirates of the Caribbean: At World's End          6.9        4500   \n",
       "2                                   Spectre          6.3        4466   \n",
       "3                     The Dark Knight Rises          7.6        9106   \n",
       "4                               John Carter          6.1        2124   \n",
       "\n",
       "   release_year  release_day  release_month  \n",
       "0          2009           12             10  \n",
       "1          2007            5             19  \n",
       "2          2015           10             26  \n",
       "3          2012            7             16  \n",
       "4          2012            3              7  \n",
       "\n",
       "[5 rows x 21 columns]"
      ]
     },
     "execution_count": 18,
     "metadata": {},
     "output_type": "execute_result"
    }
   ],
   "source": [
    "movies_dataset.head()"
   ]
  },
  {
   "cell_type": "markdown",
   "id": "5ba28b40",
   "metadata": {},
   "source": [
    "### Implement Bag of Words on Dataset"
   ]
  },
  {
   "cell_type": "code",
   "execution_count": 10,
   "id": "c73355e4",
   "metadata": {},
   "outputs": [],
   "source": [
    "ids = movies_dataset.index"
   ]
  },
  {
   "cell_type": "code",
   "execution_count": 11,
   "id": "566364bc",
   "metadata": {},
   "outputs": [],
   "source": [
    "names = movies_dataset.title"
   ]
  },
  {
   "cell_type": "code",
   "execution_count": 12,
   "id": "16f5bce7",
   "metadata": {},
   "outputs": [],
   "source": [
    "mov_id_name_dict = dict(zip(ids, names))\n",
    "mov_name_id_dict = dict(zip(names, ids))"
   ]
  },
  {
   "cell_type": "code",
   "execution_count": 22,
   "id": "46987ad5",
   "metadata": {},
   "outputs": [],
   "source": [
    "del movies_dataset['title']"
   ]
  },
  {
   "cell_type": "code",
   "execution_count": 23,
   "id": "57a5526a",
   "metadata": {},
   "outputs": [],
   "source": [
    "del movies_dataset['id']"
   ]
  },
  {
   "cell_type": "code",
   "execution_count": 24,
   "id": "7d5fb734",
   "metadata": {},
   "outputs": [],
   "source": [
    "text_cols = ['genres', 'keywords', 'overview', 'production_companies', 'tagline', 'original_title']"
   ]
  },
  {
   "cell_type": "code",
   "execution_count": 25,
   "id": "2d9a62b5",
   "metadata": {},
   "outputs": [],
   "source": [
    "movies_dataset['text_features'] = dp.get_text_features(movies_dataset, text_cols)"
   ]
  },
  {
   "cell_type": "code",
   "execution_count": 26,
   "id": "50e82cfa",
   "metadata": {},
   "outputs": [
    {
     "name": "stdout",
     "output_type": "stream",
     "text": [
      "[Pipeline] ..... (step 1 of 2) Processing TextToCounter, total= 2.3min\n",
      "[Pipeline] .. (step 2 of 2) Processing CounterToFeature, total=   0.3s\n"
     ]
    }
   ],
   "source": [
    "movies_matrix = dp.text_to_nums.fit_transform(movies_dataset['text_features'])"
   ]
  },
  {
   "cell_type": "code",
   "execution_count": 27,
   "id": "548862b9",
   "metadata": {},
   "outputs": [],
   "source": [
    "text_cols.append('text_features')"
   ]
  },
  {
   "cell_type": "code",
   "execution_count": 28,
   "id": "098e7de0",
   "metadata": {},
   "outputs": [],
   "source": [
    "for col in text_cols:\n",
    "    del movies_dataset[col]"
   ]
  },
  {
   "cell_type": "markdown",
   "id": "a8bc0ea4",
   "metadata": {},
   "source": [
    "## Simple Data Visualization"
   ]
  },
  {
   "cell_type": "markdown",
   "id": "3766f54f",
   "metadata": {},
   "source": [
    "`vote_average` выглядит так, как будто уже нормально распределен. `id` -  индекс. Все остальное - под нормализацию."
   ]
  },
  {
   "cell_type": "code",
   "execution_count": 30,
   "id": "f6adc81b",
   "metadata": {
    "scrolled": false
   },
   "outputs": [
    {
     "data": {
      "text/plain": [
       "array([[<AxesSubplot:title={'center':'budget'}>,\n",
       "        <AxesSubplot:title={'center':'original_language'}>,\n",
       "        <AxesSubplot:title={'center':'popularity'}>,\n",
       "        <AxesSubplot:title={'center':'production_countries'}>],\n",
       "       [<AxesSubplot:title={'center':'revenue'}>,\n",
       "        <AxesSubplot:title={'center':'runtime'}>,\n",
       "        <AxesSubplot:title={'center':'spoken_languages'}>,\n",
       "        <AxesSubplot:title={'center':'status'}>],\n",
       "       [<AxesSubplot:title={'center':'vote_average'}>,\n",
       "        <AxesSubplot:title={'center':'vote_count'}>,\n",
       "        <AxesSubplot:title={'center':'release_year'}>,\n",
       "        <AxesSubplot:title={'center':'release_day'}>],\n",
       "       [<AxesSubplot:title={'center':'release_month'}>, <AxesSubplot:>,\n",
       "        <AxesSubplot:>, <AxesSubplot:>]], dtype=object)"
      ]
     },
     "execution_count": 30,
     "metadata": {},
     "output_type": "execute_result"
    },
    {
     "data": {
      "image/png": "[encoded data removed]",
      "text/plain": [
       "<Figure size 1800x1800 with 16 Axes>"
      ]
     },
     "metadata": {
      "needs_background": "light"
     },
     "output_type": "display_data"
    }
   ],
   "source": [
    "movies_dataset.hist(figsize=(25, 25))"
   ]
  },
  {
   "cell_type": "markdown",
   "id": "d1fa6216",
   "metadata": {},
   "source": [
    "А чо вы хотели от того, кто не шарит в статистике?"
   ]
  },
  {
   "cell_type": "markdown",
   "id": "1f1a663d",
   "metadata": {},
   "source": [
    "## Data Normalization"
   ]
  },
  {
   "cell_type": "code",
   "execution_count": 33,
   "id": "afefcb94",
   "metadata": {},
   "outputs": [],
   "source": [
    "scaled_nums, cols = dp.implement_scalar(movies_dataset)"
   ]
  },
  {
   "cell_type": "code",
   "execution_count": 34,
   "id": "be8f99d0",
   "metadata": {},
   "outputs": [],
   "source": [
    "movies_dataset[cols] = scaled_nums"
   ]
  },
  {
   "cell_type": "code",
   "execution_count": 35,
   "id": "2eeab13d",
   "metadata": {},
   "outputs": [
    {
     "data": {
      "text/html": [
       "<div>\n",
       "<style scoped>\n",
       "    .dataframe tbody tr th:only-of-type {\n",
       "        vertical-align: middle;\n",
       "    }\n",
       "\n",
       "    .dataframe tbody tr th {\n",
       "        vertical-align: top;\n",
       "    }\n",
       "\n",
       "    .dataframe thead th {\n",
       "        text-align: right;\n",
       "    }\n",
       "</style>\n",
       "<table border=\"1\" class=\"dataframe\">\n",
       "  <thead>\n",
       "    <tr style=\"text-align: right;\">\n",
       "      <th></th>\n",
       "      <th>budget</th>\n",
       "      <th>original_language</th>\n",
       "      <th>popularity</th>\n",
       "      <th>production_countries</th>\n",
       "      <th>revenue</th>\n",
       "      <th>runtime</th>\n",
       "      <th>spoken_languages</th>\n",
       "      <th>status</th>\n",
       "      <th>vote_average</th>\n",
       "      <th>vote_count</th>\n",
       "      <th>release_year</th>\n",
       "      <th>release_day</th>\n",
       "      <th>release_month</th>\n",
       "    </tr>\n",
       "  </thead>\n",
       "  <tbody>\n",
       "    <tr>\n",
       "      <th>0</th>\n",
       "      <td>0.623684</td>\n",
       "      <td>0.194444</td>\n",
       "      <td>0.171815</td>\n",
       "      <td>0.938034</td>\n",
       "      <td>1.000000</td>\n",
       "      <td>0.479290</td>\n",
       "      <td>0.327808</td>\n",
       "      <td>0.5</td>\n",
       "      <td>0.72</td>\n",
       "      <td>0.858057</td>\n",
       "      <td>0.920792</td>\n",
       "      <td>1.000000</td>\n",
       "      <td>0.300000</td>\n",
       "    </tr>\n",
       "    <tr>\n",
       "      <th>1</th>\n",
       "      <td>0.789474</td>\n",
       "      <td>0.194444</td>\n",
       "      <td>0.158846</td>\n",
       "      <td>0.991453</td>\n",
       "      <td>0.344696</td>\n",
       "      <td>0.500000</td>\n",
       "      <td>0.703499</td>\n",
       "      <td>0.5</td>\n",
       "      <td>0.69</td>\n",
       "      <td>0.327225</td>\n",
       "      <td>0.900990</td>\n",
       "      <td>0.363636</td>\n",
       "      <td>0.600000</td>\n",
       "    </tr>\n",
       "    <tr>\n",
       "      <th>2</th>\n",
       "      <td>0.644737</td>\n",
       "      <td>0.194444</td>\n",
       "      <td>0.122635</td>\n",
       "      <td>0.636752</td>\n",
       "      <td>0.315884</td>\n",
       "      <td>0.437870</td>\n",
       "      <td>0.740331</td>\n",
       "      <td>0.5</td>\n",
       "      <td>0.63</td>\n",
       "      <td>0.324753</td>\n",
       "      <td>0.980198</td>\n",
       "      <td>0.818182</td>\n",
       "      <td>0.833333</td>\n",
       "    </tr>\n",
       "    <tr>\n",
       "      <th>3</th>\n",
       "      <td>0.657895</td>\n",
       "      <td>0.194444</td>\n",
       "      <td>0.128272</td>\n",
       "      <td>0.991453</td>\n",
       "      <td>0.389151</td>\n",
       "      <td>0.488166</td>\n",
       "      <td>0.703499</td>\n",
       "      <td>0.5</td>\n",
       "      <td>0.76</td>\n",
       "      <td>0.662158</td>\n",
       "      <td>0.950495</td>\n",
       "      <td>0.545455</td>\n",
       "      <td>0.500000</td>\n",
       "    </tr>\n",
       "    <tr>\n",
       "      <th>4</th>\n",
       "      <td>0.684211</td>\n",
       "      <td>0.194444</td>\n",
       "      <td>0.050169</td>\n",
       "      <td>0.991453</td>\n",
       "      <td>0.101916</td>\n",
       "      <td>0.390533</td>\n",
       "      <td>0.703499</td>\n",
       "      <td>0.5</td>\n",
       "      <td>0.61</td>\n",
       "      <td>0.154450</td>\n",
       "      <td>0.950495</td>\n",
       "      <td>0.181818</td>\n",
       "      <td>0.200000</td>\n",
       "    </tr>\n",
       "  </tbody>\n",
       "</table>\n",
       "</div>"
      ],
      "text/plain": [
       "     budget  original_language  popularity  production_countries   revenue  \\\n",
       "0  0.623684           0.194444    0.171815              0.938034  1.000000   \n",
       "1  0.789474           0.194444    0.158846              0.991453  0.344696   \n",
       "2  0.644737           0.194444    0.122635              0.636752  0.315884   \n",
       "3  0.657895           0.194444    0.128272              0.991453  0.389151   \n",
       "4  0.684211           0.194444    0.050169              0.991453  0.101916   \n",
       "\n",
       "    runtime  spoken_languages  status  vote_average  vote_count  release_year  \\\n",
       "0  0.479290          0.327808     0.5          0.72    0.858057      0.920792   \n",
       "1  0.500000          0.703499     0.5          0.69    0.327225      0.900990   \n",
       "2  0.437870          0.740331     0.5          0.63    0.324753      0.980198   \n",
       "3  0.488166          0.703499     0.5          0.76    0.662158      0.950495   \n",
       "4  0.390533          0.703499     0.5          0.61    0.154450      0.950495   \n",
       "\n",
       "   release_day  release_month  \n",
       "0     1.000000       0.300000  \n",
       "1     0.363636       0.600000  \n",
       "2     0.818182       0.833333  \n",
       "3     0.545455       0.500000  \n",
       "4     0.181818       0.200000  "
      ]
     },
     "execution_count": 35,
     "metadata": {},
     "output_type": "execute_result"
    }
   ],
   "source": [
    "movies_dataset.head()"
   ]
  },
  {
   "cell_type": "markdown",
   "id": "1e632ea0",
   "metadata": {},
   "source": [
    "# Getting Recommendations"
   ]
  },
  {
   "cell_type": "code",
   "execution_count": 2,
   "id": "37f5fff4",
   "metadata": {},
   "outputs": [],
   "source": [
    "import GetSimilars as gs"
   ]
  },
  {
   "cell_type": "code",
   "execution_count": 3,
   "id": "30dca83f",
   "metadata": {},
   "outputs": [],
   "source": [
    "movies_num_matrix = movies_dataset.to_numpy()"
   ]
  },
  {
   "cell_type": "code",
   "execution_count": 5,
   "id": "c9bb9d18",
   "metadata": {},
   "outputs": [],
   "source": [
    "full_cs = gs.get_cosine_sim(movies_num_matrix.to_numpy(), movies_matrix.to_numpy())"
   ]
  },
  {
   "cell_type": "code",
   "execution_count": 25,
   "id": "714d1de6",
   "metadata": {},
   "outputs": [],
   "source": [
    "similaries = gs.get_similar(full_cs, \"Spectre\", mov_id_name_dict, mov_name_id_dict)"
   ]
  },
  {
   "cell_type": "code",
   "execution_count": 26,
   "id": "a2dd8efd",
   "metadata": {},
   "outputs": [
    {
     "data": {
      "text/plain": [
       "['The Dark Knight Rises',\n",
       " \"Pirates of the Caribbean: At World's End\",\n",
       " 'Tangled',\n",
       " 'John Carter',\n",
       " 'Spider-Man 3',\n",
       " 'Avengers: Age of Ultron',\n",
       " 'Batman v Superman: Dawn of Justice']"
      ]
     },
     "execution_count": 26,
     "metadata": {},
     "output_type": "execute_result"
    }
   ],
   "source": [
    "similaries"
   ]
  },
  {
   "cell_type": "code",
   "execution_count": 53,
   "id": "4648ad40",
   "metadata": {},
   "outputs": [],
   "source": [
    "movies_text_matrix = pd.DataFrame(movies_matrix.toarray())"
   ]
  },
  {
   "cell_type": "code",
   "execution_count": 58,
   "id": "761f7f44",
   "metadata": {},
   "outputs": [],
   "source": [
    "movies_dataset.to_csv('C:/Users/ASDW/Python/Projects/Recosys 2.0/datasets/movies_dataset/movies_num_matrix')"
   ]
  },
  {
   "cell_type": "code",
   "execution_count": 56,
   "id": "2abdbd60",
   "metadata": {},
   "outputs": [],
   "source": [
    "movies_text_matrix.to_csv('C:/Users/ASDW/Python/Projects/Recosys 2.0/datasets/movies_dataset/movies_text_matrix.csv')"
   ]
  },
  {
   "cell_type": "code",
   "execution_count": null,
   "id": "35003255",
   "metadata": {},
   "outputs": [],
   "source": []
  }
 ],
 "metadata": {
  "kernelspec": {
   "display_name": "Python 3",
   "language": "python",
   "name": "python3"
  },
  "language_info": {
   "codemirror_mode": {
    "name": "ipython",
    "version": 3
   },
   "file_extension": ".py",
   "mimetype": "text/x-python",
   "name": "python",
   "nbconvert_exporter": "python",
   "pygments_lexer": "ipython3",
   "version": "3.8.8"
  }
 },
 "nbformat": 4,
 "nbformat_minor": 5
}
