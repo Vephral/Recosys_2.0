{
 "cells": [
  {
   "cell_type": "markdown",
   "id": "7e101b24",
   "metadata": {},
   "source": [
    "# Data Preparation"
   ]
  },
  {
   "cell_type": "markdown",
   "id": "5290dcd4",
   "metadata": {},
   "source": [
    "Готовим данные для использования на моделях. В планах провести масштабирование, замену пропущенных значений, кодирование категорических значений и преобразование текстовых значений в их числовое представление через Bag of Words."
   ]
  },
  {
   "cell_type": "markdown",
   "id": "98657a20",
   "metadata": {},
   "source": [
    "## Import Data"
   ]
  },
  {
   "cell_type": "code",
   "execution_count": 1,
   "id": "eeb9cadd",
   "metadata": {},
   "outputs": [],
   "source": [
    "import pandas as pd"
   ]
  },
  {
   "cell_type": "code",
   "execution_count": 2,
   "id": "4f41d7a7",
   "metadata": {},
   "outputs": [],
   "source": [
    "anime_dataset = pd.read_csv('./datasets/anime_dataset/anime.csv')"
   ]
  },
  {
   "cell_type": "code",
   "execution_count": 3,
   "id": "8a7f1067",
   "metadata": {},
   "outputs": [],
   "source": [
    "steam_dataset = pd.read_csv('./datasets/games_dataset/steam_clear.csv')"
   ]
  },
  {
   "cell_type": "code",
   "execution_count": 4,
   "id": "21994cae",
   "metadata": {},
   "outputs": [],
   "source": [
    "games_dataset = pd.read_csv('./datasets/games_dataset/games_clear.csv')"
   ]
  },
  {
   "cell_type": "code",
   "execution_count": 5,
   "id": "679e024c",
   "metadata": {},
   "outputs": [],
   "source": [
    "movies_dataset = pd.read_csv('./datasets/movies_dataset/movies_clear.csv')"
   ]
  },
  {
   "cell_type": "markdown",
   "id": "c2755ccf",
   "metadata": {},
   "source": [
    "## Familiarize with Data"
   ]
  },
  {
   "cell_type": "markdown",
   "id": "7a810681",
   "metadata": {},
   "source": [
    "Пройдемся по-подробнее по каждому набору."
   ]
  },
  {
   "cell_type": "markdown",
   "id": "6ea74abd",
   "metadata": {},
   "source": [
    "### Games"
   ]
  },
  {
   "cell_type": "markdown",
   "id": "e0f0a73c",
   "metadata": {},
   "source": [
    "#### Steam"
   ]
  },
  {
   "cell_type": "markdown",
   "id": "a9390015",
   "metadata": {},
   "source": [
    "Названия, категории, описания, теги, требования - текстовые столбцы, которые нужно будет преобразовать в вектор признаков. \n",
    "\n",
    "Дата выпуска - временной столбец, который по-хорошему лучше преобразовать в числовой.\n",
    "\n",
    "Разработчик, издатель, жанры - столбцы с категорическими значениями. Будут заменены на числовые значения.\n",
    "\n",
    "Столбцы наигранного времени, рейтингов и владельцев копий - столбцы, которые нуждаются в масштабировании, так как содержат слишком большие значения. С другой стороны, мы тут не пытаемся предугадать число, нам нужно просто как можно больше признаков. В общем, об этом как-нибудь потом."
   ]
  },
  {
   "cell_type": "code",
   "execution_count": null,
   "id": "909a95bd",
   "metadata": {},
   "outputs": [],
   "source": [
    "steam_dataset.head()"
   ]
  },
  {
   "cell_type": "markdown",
   "id": "62412dc8",
   "metadata": {},
   "source": [
    "Пропущенные значения у нас есть только в столбцах с требованиями, поэтому можно просто написать No, так как для них не предусмотрены рекомендованные требования, из-за того, что минимальные - максимальные. Да"
   ]
  },
  {
   "cell_type": "code",
   "execution_count": null,
   "id": "40838fdd",
   "metadata": {},
   "outputs": [],
   "source": [
    "steam_dataset.info()"
   ]
  },
  {
   "cell_type": "markdown",
   "id": "6aebfe95",
   "metadata": {},
   "source": [
    "#### Game Sales"
   ]
  },
  {
   "cell_type": "markdown",
   "id": "fd4b0336",
   "metadata": {},
   "source": [
    "Столбцы `Total_Shipped` и `Global_Sales` очень похожи, поэтому возьмем только самый свежий.\n",
    "\n",
    "Название, платформа, разработчик, издатель и жанр - категорические значения. С остальными значениями все в порядке."
   ]
  },
  {
   "cell_type": "code",
   "execution_count": null,
   "id": "05884cd9",
   "metadata": {},
   "outputs": [],
   "source": [
    "games_dataset.head()"
   ]
  },
  {
   "cell_type": "markdown",
   "id": "580d3557",
   "metadata": {},
   "source": [
    "Так как в столбце `User_Score` всего 667 значений, его можно удалить. \n",
    "\n",
    "В `Critic_Score` достаточно значений для того, чтобы преобразовать пропущенные значения в среднее между ними."
   ]
  },
  {
   "cell_type": "code",
   "execution_count": null,
   "id": "fba71f7e",
   "metadata": {},
   "outputs": [],
   "source": [
    "games_dataset.info()"
   ]
  },
  {
   "cell_type": "markdown",
   "id": "15015ab3",
   "metadata": {},
   "source": [
    "### Movies"
   ]
  },
  {
   "cell_type": "markdown",
   "id": "578b0398",
   "metadata": {},
   "source": [
    "Языки, теги, описание и название - столбцы со значениями, в которых есть текст.\n",
    "\n",
    "Языки и статус - столбцы с категорическими значениями.\n",
    "\n",
    "Сборы, бюджет и кол-во оценок - столбцы, которые нужно масштабировать."
   ]
  },
  {
   "cell_type": "code",
   "execution_count": null,
   "id": "136a9792",
   "metadata": {},
   "outputs": [],
   "source": [
    "movies_dataset.head()"
   ]
  },
  {
   "cell_type": "markdown",
   "id": "49e53b57",
   "metadata": {},
   "source": [
    "Со столбцом `runtime` делаем тоже, что и со столбцом `Critic_Score`.\n",
    "\n",
    "Проблема с `tagline`. \n",
    "\n",
    "Это очень важный столбец и просто удалять его не хочется. \n",
    "\n",
    "На среднее значение изменить не получится.\n",
    "\n",
    "Удалять строки тоже жалко, так как данных и так мало."
   ]
  },
  {
   "cell_type": "code",
   "execution_count": null,
   "id": "c2eaccc8",
   "metadata": {},
   "outputs": [],
   "source": [
    "movies_dataset.info()"
   ]
  },
  {
   "cell_type": "markdown",
   "id": "4c81c6da",
   "metadata": {},
   "source": [
    "### Anime"
   ]
  },
  {
   "cell_type": "markdown",
   "id": "da7561dd",
   "metadata": {},
   "source": [
    "Названия, жанры, выпущено, выходило, продюсеры, лицензеры, студии - столбцы с текстом.\n",
    "\n",
    "Тип, длительность, рейтинг (возрастной) и источник - столбцы с категорическими значениями.\n",
    "\n",
    "Здесь проще сказать какие значения не надо масштабировать - оценка и кол-во эпизодов."
   ]
  },
  {
   "cell_type": "code",
   "execution_count": 6,
   "id": "deb171ed",
   "metadata": {},
   "outputs": [
    {
     "data": {
      "text/html": [
       "<div>\n",
       "<style scoped>\n",
       "    .dataframe tbody tr th:only-of-type {\n",
       "        vertical-align: middle;\n",
       "    }\n",
       "\n",
       "    .dataframe tbody tr th {\n",
       "        vertical-align: top;\n",
       "    }\n",
       "\n",
       "    .dataframe thead th {\n",
       "        text-align: right;\n",
       "    }\n",
       "</style>\n",
       "<table border=\"1\" class=\"dataframe\">\n",
       "  <thead>\n",
       "    <tr style=\"text-align: right;\">\n",
       "      <th></th>\n",
       "      <th>MAL_ID</th>\n",
       "      <th>Name</th>\n",
       "      <th>Score</th>\n",
       "      <th>Genres</th>\n",
       "      <th>English name</th>\n",
       "      <th>Japanese name</th>\n",
       "      <th>Type</th>\n",
       "      <th>Episodes</th>\n",
       "      <th>Aired</th>\n",
       "      <th>Premiered</th>\n",
       "      <th>...</th>\n",
       "      <th>Score-10</th>\n",
       "      <th>Score-9</th>\n",
       "      <th>Score-8</th>\n",
       "      <th>Score-7</th>\n",
       "      <th>Score-6</th>\n",
       "      <th>Score-5</th>\n",
       "      <th>Score-4</th>\n",
       "      <th>Score-3</th>\n",
       "      <th>Score-2</th>\n",
       "      <th>Score-1</th>\n",
       "    </tr>\n",
       "  </thead>\n",
       "  <tbody>\n",
       "    <tr>\n",
       "      <th>0</th>\n",
       "      <td>1</td>\n",
       "      <td>Cowboy Bebop</td>\n",
       "      <td>8.78</td>\n",
       "      <td>Action, Adventure, Comedy, Drama, Sci-Fi, Space</td>\n",
       "      <td>Cowboy Bebop</td>\n",
       "      <td>カウボーイビバップ</td>\n",
       "      <td>TV</td>\n",
       "      <td>26</td>\n",
       "      <td>Apr 3, 1998 to Apr 24, 1999</td>\n",
       "      <td>Spring 1998</td>\n",
       "      <td>...</td>\n",
       "      <td>229170.0</td>\n",
       "      <td>182126.0</td>\n",
       "      <td>131625.0</td>\n",
       "      <td>62330.0</td>\n",
       "      <td>20688.0</td>\n",
       "      <td>8904.0</td>\n",
       "      <td>3184.0</td>\n",
       "      <td>1357.0</td>\n",
       "      <td>741.0</td>\n",
       "      <td>1580.0</td>\n",
       "    </tr>\n",
       "    <tr>\n",
       "      <th>1</th>\n",
       "      <td>5</td>\n",
       "      <td>Cowboy Bebop: Tengoku no Tobira</td>\n",
       "      <td>8.39</td>\n",
       "      <td>Action, Drama, Mystery, Sci-Fi, Space</td>\n",
       "      <td>Cowboy Bebop:The Movie</td>\n",
       "      <td>カウボーイビバップ 天国の扉</td>\n",
       "      <td>Movie</td>\n",
       "      <td>1</td>\n",
       "      <td>Sep 1, 2001</td>\n",
       "      <td>Unknown</td>\n",
       "      <td>...</td>\n",
       "      <td>30043.0</td>\n",
       "      <td>49201.0</td>\n",
       "      <td>49505.0</td>\n",
       "      <td>22632.0</td>\n",
       "      <td>5805.0</td>\n",
       "      <td>1877.0</td>\n",
       "      <td>577.0</td>\n",
       "      <td>221.0</td>\n",
       "      <td>109.0</td>\n",
       "      <td>379.0</td>\n",
       "    </tr>\n",
       "    <tr>\n",
       "      <th>2</th>\n",
       "      <td>6</td>\n",
       "      <td>Trigun</td>\n",
       "      <td>8.24</td>\n",
       "      <td>Action, Sci-Fi, Adventure, Comedy, Drama, Shounen</td>\n",
       "      <td>Trigun</td>\n",
       "      <td>トライガン</td>\n",
       "      <td>TV</td>\n",
       "      <td>26</td>\n",
       "      <td>Apr 1, 1998 to Sep 30, 1998</td>\n",
       "      <td>Spring 1998</td>\n",
       "      <td>...</td>\n",
       "      <td>50229.0</td>\n",
       "      <td>75651.0</td>\n",
       "      <td>86142.0</td>\n",
       "      <td>49432.0</td>\n",
       "      <td>15376.0</td>\n",
       "      <td>5838.0</td>\n",
       "      <td>1965.0</td>\n",
       "      <td>664.0</td>\n",
       "      <td>316.0</td>\n",
       "      <td>533.0</td>\n",
       "    </tr>\n",
       "    <tr>\n",
       "      <th>3</th>\n",
       "      <td>7</td>\n",
       "      <td>Witch Hunter Robin</td>\n",
       "      <td>7.27</td>\n",
       "      <td>Action, Mystery, Police, Supernatural, Drama, ...</td>\n",
       "      <td>Witch Hunter Robin</td>\n",
       "      <td>Witch Hunter ROBIN (ウイッチハンターロビン)</td>\n",
       "      <td>TV</td>\n",
       "      <td>26</td>\n",
       "      <td>Jul 2, 2002 to Dec 24, 2002</td>\n",
       "      <td>Summer 2002</td>\n",
       "      <td>...</td>\n",
       "      <td>2182.0</td>\n",
       "      <td>4806.0</td>\n",
       "      <td>10128.0</td>\n",
       "      <td>11618.0</td>\n",
       "      <td>5709.0</td>\n",
       "      <td>2920.0</td>\n",
       "      <td>1083.0</td>\n",
       "      <td>353.0</td>\n",
       "      <td>164.0</td>\n",
       "      <td>131.0</td>\n",
       "    </tr>\n",
       "    <tr>\n",
       "      <th>4</th>\n",
       "      <td>8</td>\n",
       "      <td>Bouken Ou Beet</td>\n",
       "      <td>6.98</td>\n",
       "      <td>Adventure, Fantasy, Shounen, Supernatural</td>\n",
       "      <td>Beet the Vandel Buster</td>\n",
       "      <td>冒険王ビィト</td>\n",
       "      <td>TV</td>\n",
       "      <td>52</td>\n",
       "      <td>Sep 30, 2004 to Sep 29, 2005</td>\n",
       "      <td>Fall 2004</td>\n",
       "      <td>...</td>\n",
       "      <td>312.0</td>\n",
       "      <td>529.0</td>\n",
       "      <td>1242.0</td>\n",
       "      <td>1713.0</td>\n",
       "      <td>1068.0</td>\n",
       "      <td>634.0</td>\n",
       "      <td>265.0</td>\n",
       "      <td>83.0</td>\n",
       "      <td>50.0</td>\n",
       "      <td>27.0</td>\n",
       "    </tr>\n",
       "  </tbody>\n",
       "</table>\n",
       "<p>5 rows × 35 columns</p>\n",
       "</div>"
      ],
      "text/plain": [
       "   MAL_ID                             Name Score  \\\n",
       "0       1                     Cowboy Bebop  8.78   \n",
       "1       5  Cowboy Bebop: Tengoku no Tobira  8.39   \n",
       "2       6                           Trigun  8.24   \n",
       "3       7               Witch Hunter Robin  7.27   \n",
       "4       8                   Bouken Ou Beet  6.98   \n",
       "\n",
       "                                              Genres            English name  \\\n",
       "0    Action, Adventure, Comedy, Drama, Sci-Fi, Space            Cowboy Bebop   \n",
       "1              Action, Drama, Mystery, Sci-Fi, Space  Cowboy Bebop:The Movie   \n",
       "2  Action, Sci-Fi, Adventure, Comedy, Drama, Shounen                  Trigun   \n",
       "3  Action, Mystery, Police, Supernatural, Drama, ...      Witch Hunter Robin   \n",
       "4          Adventure, Fantasy, Shounen, Supernatural  Beet the Vandel Buster   \n",
       "\n",
       "                      Japanese name   Type Episodes  \\\n",
       "0                         カウボーイビバップ     TV       26   \n",
       "1                    カウボーイビバップ 天国の扉  Movie        1   \n",
       "2                             トライガン     TV       26   \n",
       "3  Witch Hunter ROBIN (ウイッチハンターロビン)     TV       26   \n",
       "4                            冒険王ビィト     TV       52   \n",
       "\n",
       "                          Aired    Premiered  ...  Score-10   Score-9  \\\n",
       "0   Apr 3, 1998 to Apr 24, 1999  Spring 1998  ...  229170.0  182126.0   \n",
       "1                   Sep 1, 2001      Unknown  ...   30043.0   49201.0   \n",
       "2   Apr 1, 1998 to Sep 30, 1998  Spring 1998  ...   50229.0   75651.0   \n",
       "3   Jul 2, 2002 to Dec 24, 2002  Summer 2002  ...    2182.0    4806.0   \n",
       "4  Sep 30, 2004 to Sep 29, 2005    Fall 2004  ...     312.0     529.0   \n",
       "\n",
       "    Score-8  Score-7  Score-6 Score-5 Score-4  Score-3  Score-2  Score-1  \n",
       "0  131625.0  62330.0  20688.0  8904.0  3184.0   1357.0    741.0   1580.0  \n",
       "1   49505.0  22632.0   5805.0  1877.0   577.0    221.0    109.0    379.0  \n",
       "2   86142.0  49432.0  15376.0  5838.0  1965.0    664.0    316.0    533.0  \n",
       "3   10128.0  11618.0   5709.0  2920.0  1083.0    353.0    164.0    131.0  \n",
       "4    1242.0   1713.0   1068.0   634.0   265.0     83.0     50.0     27.0  \n",
       "\n",
       "[5 rows x 35 columns]"
      ]
     },
     "execution_count": 6,
     "metadata": {},
     "output_type": "execute_result"
    }
   ],
   "source": [
    "anime_dataset.head()"
   ]
  },
  {
   "cell_type": "markdown",
   "id": "41259072",
   "metadata": {},
   "source": [
    "Здесь ничего не надо делать, так как пропущенных значений нет. \n",
    "\n",
    "Хотелось бы сказать так, но они просто уже заменены на Unknown."
   ]
  },
  {
   "cell_type": "code",
   "execution_count": 7,
   "id": "6d2ccea3",
   "metadata": {},
   "outputs": [
    {
     "name": "stdout",
     "output_type": "stream",
     "text": [
      "<class 'pandas.core.frame.DataFrame'>\n",
      "RangeIndex: 17562 entries, 0 to 17561\n",
      "Data columns (total 35 columns):\n",
      " #   Column         Non-Null Count  Dtype \n",
      "---  ------         --------------  ----- \n",
      " 0   MAL_ID         17562 non-null  int64 \n",
      " 1   Name           17562 non-null  object\n",
      " 2   Score          17562 non-null  object\n",
      " 3   Genres         17562 non-null  object\n",
      " 4   English name   17562 non-null  object\n",
      " 5   Japanese name  17562 non-null  object\n",
      " 6   Type           17562 non-null  object\n",
      " 7   Episodes       17562 non-null  object\n",
      " 8   Aired          17562 non-null  object\n",
      " 9   Premiered      17562 non-null  object\n",
      " 10  Producers      17562 non-null  object\n",
      " 11  Licensors      17562 non-null  object\n",
      " 12  Studios        17562 non-null  object\n",
      " 13  Source         17562 non-null  object\n",
      " 14  Duration       17562 non-null  object\n",
      " 15  Rating         17562 non-null  object\n",
      " 16  Ranked         17562 non-null  object\n",
      " 17  Popularity     17562 non-null  int64 \n",
      " 18  Members        17562 non-null  int64 \n",
      " 19  Favorites      17562 non-null  int64 \n",
      " 20  Watching       17562 non-null  int64 \n",
      " 21  Completed      17562 non-null  int64 \n",
      " 22  On-Hold        17562 non-null  int64 \n",
      " 23  Dropped        17562 non-null  int64 \n",
      " 24  Plan to Watch  17562 non-null  int64 \n",
      " 25  Score-10       17562 non-null  object\n",
      " 26  Score-9        17562 non-null  object\n",
      " 27  Score-8        17562 non-null  object\n",
      " 28  Score-7        17562 non-null  object\n",
      " 29  Score-6        17562 non-null  object\n",
      " 30  Score-5        17562 non-null  object\n",
      " 31  Score-4        17562 non-null  object\n",
      " 32  Score-3        17562 non-null  object\n",
      " 33  Score-2        17562 non-null  object\n",
      " 34  Score-1        17562 non-null  object\n",
      "dtypes: int64(9), object(26)\n",
      "memory usage: 4.7+ MB\n"
     ]
    }
   ],
   "source": [
    "anime_dataset.info()"
   ]
  },
  {
   "cell_type": "markdown",
   "id": "b8b42a3c",
   "metadata": {},
   "source": [
    "## Imputing Data"
   ]
  },
  {
   "cell_type": "markdown",
   "id": "1cb5814b",
   "metadata": {},
   "source": [
    "Перед тем, как проводить операции с данными, нужно очистить их от пропущенных значений."
   ]
  },
  {
   "cell_type": "code",
   "execution_count": null,
   "id": "86552dbf",
   "metadata": {},
   "outputs": [],
   "source": [
    "from sklearn.impute import SimpleImputer\n",
    "import numpy as np"
   ]
  },
  {
   "cell_type": "markdown",
   "id": "e9a8d295",
   "metadata": {},
   "source": [
    "### Games"
   ]
  },
  {
   "cell_type": "markdown",
   "id": "d02ee317",
   "metadata": {},
   "source": [
    "#### Steam"
   ]
  },
  {
   "cell_type": "markdown",
   "id": "8256454d",
   "metadata": {},
   "source": [
    "Напомню, что этот набор содержит пропущенные значения в столбцах с системными требованиями."
   ]
  },
  {
   "cell_type": "code",
   "execution_count": null,
   "id": "19594fc0",
   "metadata": {},
   "outputs": [],
   "source": [
    "steam_dataset = steam_dataset.fillna('No')"
   ]
  },
  {
   "cell_type": "markdown",
   "id": "02370ae5",
   "metadata": {},
   "source": [
    "#### Game sales"
   ]
  },
  {
   "cell_type": "code",
   "execution_count": null,
   "id": "1f131ffb",
   "metadata": {},
   "outputs": [],
   "source": [
    "# так как слишком мало, чтобы импутировать \n",
    "# и столбец не особо полезный для рекомендаций\n",
    "del games_dataset['User_Score']"
   ]
  },
  {
   "cell_type": "code",
   "execution_count": null,
   "id": "9f4a4dc5",
   "metadata": {},
   "outputs": [],
   "source": [
    "imputer = SimpleImputer()"
   ]
  },
  {
   "cell_type": "code",
   "execution_count": null,
   "id": "659cd6b3",
   "metadata": {},
   "outputs": [],
   "source": [
    "# выбираем все столбцы с числами, так как если взять только один столбец,\n",
    "# то sklearn будет кидать ошибку\n",
    "num_cols = [i for i in games_dataset.columns if games_dataset[i].dtype != 'object']"
   ]
  },
  {
   "cell_type": "code",
   "execution_count": null,
   "id": "ab48fd6e",
   "metadata": {},
   "outputs": [],
   "source": [
    "games_dataset[num_cols] = imputer.fit_transform(games_dataset[num_cols])"
   ]
  },
  {
   "cell_type": "code",
   "execution_count": null,
   "id": "bbba02ad",
   "metadata": {},
   "outputs": [],
   "source": [
    "# в столбце developer есть всего 2 пропущенных значения\n",
    "games_dataset = games_dataset.fillna('Unknown')"
   ]
  },
  {
   "cell_type": "code",
   "execution_count": null,
   "id": "e716f1e1",
   "metadata": {},
   "outputs": [],
   "source": [
    "games_dataset.info()"
   ]
  },
  {
   "cell_type": "markdown",
   "id": "f2635f07",
   "metadata": {},
   "source": [
    "### Movies"
   ]
  },
  {
   "cell_type": "code",
   "execution_count": null,
   "id": "8e5c054a",
   "metadata": {},
   "outputs": [],
   "source": [
    "# чтобы показать, что в этих строках есть пропущенные значения\n",
    "movies_dataset.loc[movies_dataset.tagline.isnull()]"
   ]
  },
  {
   "cell_type": "code",
   "execution_count": null,
   "id": "8148d6a2",
   "metadata": {},
   "outputs": [],
   "source": [
    "movies_dataset = movies_dataset.fillna(movies_dataset.mode().iloc[0])"
   ]
  },
  {
   "cell_type": "code",
   "execution_count": null,
   "id": "e29566d4",
   "metadata": {},
   "outputs": [],
   "source": [
    "# посмотри на столбец tagline\n",
    "movies_dataset.loc[4802]"
   ]
  },
  {
   "cell_type": "markdown",
   "id": "14167de3",
   "metadata": {},
   "source": [
    "### Anime"
   ]
  },
  {
   "cell_type": "markdown",
   "id": "ac947ddd",
   "metadata": {},
   "source": [
    "Пропущенных значений в данном наборе нет."
   ]
  },
  {
   "cell_type": "markdown",
   "id": "f9d91b0d",
   "metadata": {},
   "source": [
    "## Replace Categorical Values"
   ]
  },
  {
   "cell_type": "markdown",
   "id": "e51cabc5",
   "metadata": {},
   "source": [
    "Теперь нужно кодировать категорические значения. "
   ]
  },
  {
   "cell_type": "code",
   "execution_count": null,
   "id": "ea0e7099",
   "metadata": {},
   "outputs": [],
   "source": [
    "from sklearn.preprocessing import OrdinalEncoder"
   ]
  },
  {
   "cell_type": "code",
   "execution_count": null,
   "id": "e1485c01",
   "metadata": {},
   "outputs": [],
   "source": [
    "# так как нам не важно, каким значением будет число\n",
    "# лишь бы оно было разное, выбираем самый простой кодировщик\n",
    "encoder = OrdinalEncoder()"
   ]
  },
  {
   "cell_type": "markdown",
   "id": "c52c7cc5",
   "metadata": {},
   "source": [
    "### Games"
   ]
  },
  {
   "cell_type": "markdown",
   "id": "8dd9ab6c",
   "metadata": {},
   "source": [
    "#### Steam"
   ]
  },
  {
   "cell_type": "code",
   "execution_count": null,
   "id": "c9fc432d",
   "metadata": {},
   "outputs": [],
   "source": [
    "# все остальные столбцы потом будут преобразованы в сумки слов\n",
    "cat_cols = ['developer', 'publisher', 'genres']"
   ]
  },
  {
   "cell_type": "code",
   "execution_count": null,
   "id": "a3075080",
   "metadata": {},
   "outputs": [],
   "source": [
    "steam_dataset[cat_cols] = encoder.fit_transform(steam_dataset[cat_cols])"
   ]
  },
  {
   "cell_type": "code",
   "execution_count": null,
   "id": "84626fe3",
   "metadata": {},
   "outputs": [],
   "source": [
    "steam_dataset.head()"
   ]
  },
  {
   "cell_type": "markdown",
   "id": "a15a8147",
   "metadata": {},
   "source": [
    "#### Game sales"
   ]
  },
  {
   "cell_type": "code",
   "execution_count": null,
   "id": "754bed48",
   "metadata": {},
   "outputs": [],
   "source": [
    "# столбец name нам ещё пригодится, да и к тому же его лучше преобразовать в сумку слов\n",
    "# а не в безликое число\n",
    "cat_cols = [i for i in games_dataset.columns if games_dataset[i].dtype == 'object' and i != 'Name']"
   ]
  },
  {
   "cell_type": "code",
   "execution_count": null,
   "id": "31cc728b",
   "metadata": {},
   "outputs": [],
   "source": [
    "games_dataset[cat_cols] = encoder.fit_transform(games_dataset[cat_cols])"
   ]
  },
  {
   "cell_type": "code",
   "execution_count": null,
   "id": "52669ba9",
   "metadata": {},
   "outputs": [],
   "source": [
    "games_dataset.head()"
   ]
  },
  {
   "cell_type": "markdown",
   "id": "d8ad18e9",
   "metadata": {},
   "source": [
    "## Movies"
   ]
  },
  {
   "cell_type": "code",
   "execution_count": null,
   "id": "1078accc",
   "metadata": {},
   "outputs": [],
   "source": [
    "# тут тоже, что и с прошлым набором\n",
    "cat_cols = ['original_language', 'status']"
   ]
  },
  {
   "cell_type": "code",
   "execution_count": null,
   "id": "b2c476be",
   "metadata": {},
   "outputs": [],
   "source": [
    "movies_dataset[cat_cols] = encoder.fit_transform(movies_dataset[cat_cols])"
   ]
  },
  {
   "cell_type": "code",
   "execution_count": null,
   "id": "03fa0856",
   "metadata": {},
   "outputs": [],
   "source": [
    "movies_dataset.head()"
   ]
  },
  {
   "cell_type": "markdown",
   "id": "2cc21c61",
   "metadata": {},
   "source": [
    "## Anime"
   ]
  },
  {
   "cell_type": "code",
   "execution_count": null,
   "id": "dd0e7f06",
   "metadata": {},
   "outputs": [],
   "source": [
    "# и тут\n",
    "cat_cols = ['Type', 'Duration', 'Rating', 'Source', 'Premiered']"
   ]
  },
  {
   "cell_type": "code",
   "execution_count": null,
   "id": "63189dcb",
   "metadata": {},
   "outputs": [],
   "source": [
    "anime_dataset[cat_cols] = encoder.fit_transform(anime_dataset[cat_cols])"
   ]
  },
  {
   "cell_type": "code",
   "execution_count": null,
   "id": "27fd0ce4",
   "metadata": {},
   "outputs": [],
   "source": [
    "anime_dataset.head()"
   ]
  },
  {
   "cell_type": "markdown",
   "id": "b21eab0d",
   "metadata": {},
   "source": [
    "## Converting Time Data into Different Columns"
   ]
  },
  {
   "cell_type": "markdown",
   "id": "f537e372",
   "metadata": {},
   "source": [
    "Все наборы данных содержат в себе необработанные столбцы с выходом того или иного объекта. Со Steam и набором данных по фильмам проблем не возникнет, но вот с аниме нужно делать что-то другое, так как там месяц не числом, а словом."
   ]
  },
  {
   "cell_type": "markdown",
   "id": "5ae31609",
   "metadata": {},
   "source": [
    "## Games"
   ]
  },
  {
   "cell_type": "markdown",
   "id": "0dd2ab3f",
   "metadata": {},
   "source": [
    "Во втором наборе данных нет дат."
   ]
  },
  {
   "cell_type": "code",
   "execution_count": null,
   "id": "c5f0cd4f",
   "metadata": {},
   "outputs": [],
   "source": [
    "# шобы заменить пропущенные значения в наборе данных по аниме\n",
    "# да, лол, они там есть, но скрытые\n",
    "from random import randint"
   ]
  },
  {
   "cell_type": "code",
   "execution_count": null,
   "id": "6abba6aa",
   "metadata": {},
   "outputs": [],
   "source": [
    "# ради того, чтобы быть для всех,\n",
    "# эта функция усложнилась\n",
    "def date_to_cols(series, cols):\n",
    "    new_series = pd.Series(dtype='int64')\n",
    "    for i in range(len(cols)):\n",
    "        col = []\n",
    "        for data in series:\n",
    "            try:\n",
    "                # если не получается преобразовать, значит\n",
    "                # объект - пропущенное значение\n",
    "                col.append(int(data[i]))\n",
    "            except:\n",
    "                # а если объект - пропущенное значение\n",
    "                # то можно выбрать рандомное значение, просто чтобы все работало\n",
    "                if i == 0 or i == 3:\n",
    "                    col.append(randint(0, 12))\n",
    "                if i == 1 or i == 4:\n",
    "                    col.append(randint(0, 31))\n",
    "                if i == 2 or i == 5:\n",
    "                    col.append(randint(1958, 2021))\n",
    "        new_series[cols[i]] = col\n",
    "    return new_series"
   ]
  },
  {
   "cell_type": "markdown",
   "id": "71f72b67",
   "metadata": {},
   "source": [
    "### Steam"
   ]
  },
  {
   "cell_type": "code",
   "execution_count": null,
   "id": "fab6e776",
   "metadata": {},
   "outputs": [],
   "source": [
    "splitted_data = steam_dataset.release_date.str.split('-')"
   ]
  },
  {
   "cell_type": "code",
   "execution_count": null,
   "id": "38de226a",
   "metadata": {},
   "outputs": [],
   "source": [
    "cols=[ 'release_year', 'release_day','release_month']"
   ]
  },
  {
   "cell_type": "code",
   "execution_count": null,
   "id": "6ba79ab7",
   "metadata": {},
   "outputs": [],
   "source": [
    "date_cols = date_to_cols(splitted_data, cols=cols)"
   ]
  },
  {
   "cell_type": "code",
   "execution_count": null,
   "id": "2ce11cc2",
   "metadata": {},
   "outputs": [],
   "source": [
    "steam_dataset[cols] = date_cols"
   ]
  },
  {
   "cell_type": "code",
   "execution_count": null,
   "id": "5cee42f9",
   "metadata": {},
   "outputs": [],
   "source": [
    "del steam_dataset['release_date']"
   ]
  },
  {
   "cell_type": "code",
   "execution_count": null,
   "id": "fb2100bc",
   "metadata": {},
   "outputs": [],
   "source": [
    "steam_dataset.head()"
   ]
  },
  {
   "cell_type": "markdown",
   "id": "329accd6",
   "metadata": {},
   "source": [
    "## Movies"
   ]
  },
  {
   "cell_type": "markdown",
   "id": "478be07e",
   "metadata": {},
   "source": [
    "Делаем тоже самое"
   ]
  },
  {
   "cell_type": "code",
   "execution_count": null,
   "id": "589ab7e3",
   "metadata": {},
   "outputs": [],
   "source": [
    "splitted_data = movies_dataset.release_date.str.split('-')"
   ]
  },
  {
   "cell_type": "code",
   "execution_count": null,
   "id": "789b0e49",
   "metadata": {},
   "outputs": [],
   "source": [
    "date_cols = date_to_cols(splitted_data, cols=cols)"
   ]
  },
  {
   "cell_type": "code",
   "execution_count": null,
   "id": "e8877059",
   "metadata": {},
   "outputs": [],
   "source": [
    "movies_dataset[cols] = date_cols"
   ]
  },
  {
   "cell_type": "code",
   "execution_count": null,
   "id": "81a5904c",
   "metadata": {},
   "outputs": [],
   "source": [
    "del movies_dataset['release_date']"
   ]
  },
  {
   "cell_type": "code",
   "execution_count": null,
   "id": "50a787c6",
   "metadata": {},
   "outputs": [],
   "source": [
    "movies_dataset.head()"
   ]
  },
  {
   "cell_type": "markdown",
   "id": "d22f504f",
   "metadata": {},
   "source": [
    "## Anime"
   ]
  },
  {
   "cell_type": "code",
   "execution_count": null,
   "id": "8198d357",
   "metadata": {},
   "outputs": [],
   "source": [
    "# самый простой способ\n",
    "cleared_date = anime_dataset.Aired.str.replace(',', '')"
   ]
  },
  {
   "cell_type": "code",
   "execution_count": null,
   "id": "9b9d215d",
   "metadata": {},
   "outputs": [],
   "source": [
    "# regex=false, иначе питончик будет ругаться \n",
    "cleared_date = cleared_date.str.replace('?', 'Unknown', regex=False)"
   ]
  },
  {
   "cell_type": "code",
   "execution_count": null,
   "id": "bc4d6eea",
   "metadata": {},
   "outputs": [],
   "source": [
    "# ебаные to, наконец-то, удалены\n",
    "cleared_date = cleared_date.str.replace('to', '')"
   ]
  },
  {
   "cell_type": "code",
   "execution_count": null,
   "id": "777b0e98",
   "metadata": {},
   "outputs": [],
   "source": [
    "# ссаный jupyter ещё не поддерживает 10 версию, поэтому здесь костыли\n",
    "# вместо нормальных case/switch\n",
    "replaced_date = []\n",
    "for date in cleared_date:\n",
    "    das = date.split()\n",
    "    # с самого начала задумывалось, что затем строки будут\n",
    "    # переводиться в числа и так будет проверяться пропущенность значений.\n",
    "    # Все так и было. Инфа сотка.\n",
    "    for i in range(len(das)):\n",
    "        if das[i] == 'Jan':\n",
    "            date = date.replace(das[i], '01')\n",
    "        if das[i] == 'Feb':\n",
    "            date = date.replace(das[i], '02')\n",
    "        if das[i] == 'Mar':\n",
    "            date = date.replace(das[i], '03')\n",
    "        if das[i] == 'Apr':\n",
    "            date = date.replace(das[i], '04')\n",
    "        if das[i] == 'May':\n",
    "            date = date.replace(das[i], '05')\n",
    "        if das[i] == 'Jun':\n",
    "            date = date.replace(das[i], '06')\n",
    "        if das[i] == 'Jul':\n",
    "            date = date.replace(das[i], '07')\n",
    "        if das[i] == 'Aug':\n",
    "            date = date.replace(das[i], '08')\n",
    "        if das[i] == 'Sep':\n",
    "            date = date.replace(das[i], '09')\n",
    "        if das[i] == 'Oct':\n",
    "            date = date.replace(das[i], '10')\n",
    "        if das[i] == 'Nov':\n",
    "            date = date.replace(das[i], '11')\n",
    "        if das[i] == 'Dec':\n",
    "            date = date.replace(das[i], '12')\n",
    "    replaced_date.append(date)"
   ]
  },
  {
   "cell_type": "code",
   "execution_count": null,
   "id": "2a04ae77",
   "metadata": {},
   "outputs": [],
   "source": [
    "# надо же как-то все это разделить\n",
    "replaced_date = pd.Series(replaced_date).str.split()"
   ]
  },
  {
   "cell_type": "code",
   "execution_count": null,
   "id": "3b238dea",
   "metadata": {},
   "outputs": [],
   "source": [
    "cols = ['release_month', 'release_day', 'release_year', 'end_month', 'end_day', 'end_year']"
   ]
  },
  {
   "cell_type": "code",
   "execution_count": null,
   "id": "5b79a6ab",
   "metadata": {},
   "outputs": [],
   "source": [
    "date_cols = date_to_cols(replaced_date, cols=cols)"
   ]
  },
  {
   "cell_type": "code",
   "execution_count": null,
   "id": "8ad14079",
   "metadata": {},
   "outputs": [],
   "source": [
    "anime_dataset[cols] = date_cols"
   ]
  },
  {
   "cell_type": "code",
   "execution_count": null,
   "id": "e5c618b8",
   "metadata": {},
   "outputs": [],
   "source": [
    "del anime_dataset['Aired']"
   ]
  },
  {
   "cell_type": "code",
   "execution_count": null,
   "id": "bcfe676c",
   "metadata": {},
   "outputs": [],
   "source": [
    "anime_dataset.head()"
   ]
  },
  {
   "cell_type": "markdown",
   "id": "73b014f3",
   "metadata": {},
   "source": [
    "да, из-за того, что были добавлены рандомные значения, теперь в наборе шумы,\n",
    "\n",
    "да, можно было бы на основе вышедших серий просчитать когда аниме вышло,\n",
    "\n",
    "зато теперь все столбцы с датами обработаны."
   ]
  },
  {
   "cell_type": "markdown",
   "id": "034943e0",
   "metadata": {},
   "source": [
    "## Transform Text into Feature Vector"
   ]
  },
  {
   "cell_type": "markdown",
   "id": "8a2f9917",
   "metadata": {},
   "source": [
    "В планах создать трансформер, который потом будет использоваться в пайплайне.\n",
    "\n",
    "Трансформер будет использовать подход Bag of Words, внутри которого строки будут очищаться от знаков препинания, а слова подвергаться стеммингу. Черт, внутри описаний в стиме есть ссылки и html-разметка. Придется и это убирать тоже.\n",
    "\n",
    "Забавно, но класс преобразования емейла в вектор - почти тоже самое, что и у меня здесь, за исключением того, что там это работает на всех и сразу."
   ]
  },
  {
   "cell_type": "code",
   "execution_count": null,
   "id": "ee7d1bba",
   "metadata": {},
   "outputs": [],
   "source": [
    "import re\n",
    "from sklearn.base import BaseEstimator, TransformerMixin\n",
    "from urlextract import URLExtract\n",
    "from nltk.stem.porter import PorterStemmer\n",
    "from collections import Counter"
   ]
  },
  {
   "cell_type": "code",
   "execution_count": null,
   "id": "a001d0c5",
   "metadata": {},
   "outputs": [],
   "source": [
    "def remove_punctuation(str, list):\n",
    "    for sign in list:\n",
    "        str = str.replace(sign, '')\n",
    "    return str"
   ]
  },
  {
   "cell_type": "code",
   "execution_count": null,
   "id": "ecbe3e0a",
   "metadata": {},
   "outputs": [],
   "source": [
    "def remove_html_tags(str):\n",
    "    html_tag = ''\n",
    "    new_str = str\n",
    "    start = False\n",
    "    for i in range(len(str)):\n",
    "        if str[i] == '<':\n",
    "            html_tag += str[i]\n",
    "            start = True\n",
    "        if start and str[i] != '<':\n",
    "            html_tag += str[i]\n",
    "        if str[i] == '>':\n",
    "            start = False\n",
    "            new_str = new_str.replace(html_tag, '')\n",
    "            html_tag = ''\n",
    "    return new_str"
   ]
  },
  {
   "cell_type": "markdown",
   "id": "00e5e77c",
   "metadata": {},
   "source": [
    "## Design Vectors from All Texts"
   ]
  },
  {
   "cell_type": "code",
   "execution_count": null,
   "id": "9618270f",
   "metadata": {},
   "outputs": [],
   "source": [
    "class TextToVectorCounter(BaseEstimator, TransformerMixin):\n",
    "    def __init__(self, to_lower=True, remove_punctuation=True, stemming=True, replace_nums=True,\n",
    "                       replace_urls=True, remove_html_tags=True):\n",
    "        self.to_lower = to_lower\n",
    "        self.remove_punctuation = remove_punctuation\n",
    "        self.replace_nums = replace_nums\n",
    "        self.replace_urls = replace_urls\n",
    "        self.stemming = stemming\n",
    "        self.remove_html_tags = remove_html_tags\n",
    "    def fit(self, dataset, label=None):\n",
    "        return self\n",
    "    def transform(self, dataset, label=None):\n",
    "        vector = []\n",
    "        for text in dataset:\n",
    "            if self.to_lower:\n",
    "                text = text.lower()\n",
    "            if self.replace_urls:\n",
    "                list_of_urls = URLExtract().find_urls(text)\n",
    "                for url in list_of_urls:\n",
    "                    text = text.replace(url, 'URL')\n",
    "            if self.remove_punctuation:\n",
    "                text = remove_punctuation(text, ['.', ',', '?', ':', ';', '[', ']',\n",
    "                                                 '!', '(', ')', '-', \"'\", '}', '{'])\n",
    "            if self.replace_nums:\n",
    "                text = re.sub(r'\\d+(?:\\.\\d*)?(?:[eE][+-]?\\d+)?', 'NUMBER', text)\n",
    "            if self.remove_html_tags:\n",
    "                text = remove_html_tags(text)\n",
    "            # так будет быстрее, за счет меньшего количества операций\n",
    "            words_count = Counter(text.split())\n",
    "            if self.stemming:\n",
    "                stemmed_words = {}\n",
    "                for word, count in words_count.items():\n",
    "                    stemmed_word = PorterStemmer().stem(word)\n",
    "                    stemmed_words[stemmed_word] = count\n",
    "                words_count = stemmed_words\n",
    "            vector.append(words_count)\n",
    "        return vector"
   ]
  },
  {
   "cell_type": "markdown",
   "id": "0a3b4925",
   "metadata": {},
   "source": [
    "## Create Vector of Words for All Texts in One"
   ]
  },
  {
   "cell_type": "markdown",
   "id": "a41f9733",
   "metadata": {},
   "source": [
    "Код внизу вдохновлялся (нагло сворован) отсюда: https://github.com/ageron/handson-ml2/blob/master/03_classification.ipynb"
   ]
  },
  {
   "cell_type": "code",
   "execution_count": null,
   "id": "5eab3940",
   "metadata": {},
   "outputs": [],
   "source": [
    "from scipy.sparse import csr_matrix\n",
    "from sklearn.pipeline import Pipeline"
   ]
  },
  {
   "cell_type": "code",
   "execution_count": null,
   "id": "313a057e",
   "metadata": {},
   "outputs": [],
   "source": [
    "class VectorCounterToFeature(BaseEstimator, TransformerMixin):\n",
    "    def __init__(self, vocabulary_size=1000):\n",
    "        self.vocab_size = vocabulary_size\n",
    "    def fit(self, dataset, label=None):\n",
    "        # все ради сокращения кода и функции most_common\n",
    "        total_counts = Counter()\n",
    "        self.vocabulary = {}\n",
    "        for data in dataset:\n",
    "            for word, count in data.items():\n",
    "                # кажется, что бессмысленно\n",
    "                # но на самом деле мы в одном словаре собираем все словари\n",
    "                # а минимальное - для того, чтобы не было разброса данных\n",
    "                total_counts[word] += min(count, 10)\n",
    "        # так как иначе можно получить бесконечную матрицу признаков.\n",
    "        # а так у нас установленное значение\n",
    "        most_common = total_counts.most_common()[:self.vocab_size]\n",
    "        for index, word in enumerate(most_common):\n",
    "            self.vocabulary[word[0]] = index\n",
    "        return self\n",
    "    def transform(self, dataset, label=None):\n",
    "        rows = []\n",
    "        data = []\n",
    "        cols = []\n",
    "        # на вход попадает total_counts из метода fit\n",
    "        # enumerate для того, чтобы содержать количество итераций\n",
    "        # в общем, равносильно обычному счетчику, но для итерируемого объекта\n",
    "        for row, word_counts in enumerate(dataset):\n",
    "            # если что, то за счет именно функции get мы получаем матрицу с нулями\n",
    "            for word, count in word_counts.items():\n",
    "                rows.append(row)\n",
    "                # если ничего не нашлось, то 0\n",
    "                cols.append(self.vocabulary.get(word, 0))\n",
    "                # в каждом элементе строки у нас будут числа\n",
    "                # означающие количество появлений слова\n",
    "                data.append(count)\n",
    "        return csr_matrix((data, (rows, cols)), shape=(len(dataset), self.vocab_size+1))"
   ]
  },
  {
   "cell_type": "code",
   "execution_count": null,
   "id": "fc1834ab",
   "metadata": {},
   "outputs": [],
   "source": [
    "text_to_nums = Pipeline([('TextToCounter', TextToVectorCounter()),\n",
    "                         ('CounterToFeature', VectorCounterToFeature())], verbose=True)"
   ]
  },
  {
   "cell_type": "markdown",
   "id": "617c510e",
   "metadata": {},
   "source": [
    "18 минут на то, чтобы преобразовать полностью один столбец с описаниями. Жепа."
   ]
  },
  {
   "cell_type": "markdown",
   "id": "5ba28b40",
   "metadata": {},
   "source": [
    "### Implement Bag of Words on Dataset"
   ]
  },
  {
   "cell_type": "code",
   "execution_count": null,
   "id": "883001e1",
   "metadata": {},
   "outputs": [],
   "source": [
    "def implement_vectorizer(dataset):\n",
    "    list_of_matrices = []\n",
    "    text_cols = [i for i in dataset.columns if dataset[i].dtype == 'object']\n",
    "    for col in text_cols:\n",
    "        list_of_matrices.append(text_to_nums.fit_transform(dataset[col]))\n",
    "    return list_of_matrices"
   ]
  },
  {
   "cell_type": "markdown",
   "id": "40837d60",
   "metadata": {},
   "source": [
    "#### Steam"
   ]
  },
  {
   "cell_type": "markdown",
   "id": "2b181743",
   "metadata": {},
   "source": [
    "С помощью данных словарей, мы, после того, как модель выдаст рекомендации, сможем взять айди и найти по этому айди название предмета."
   ]
  },
  {
   "cell_type": "code",
   "execution_count": null,
   "id": "7e69267a",
   "metadata": {
    "scrolled": true
   },
   "outputs": [],
   "source": [
    "steam_appid = steam_dataset.appid\n",
    "steam_names = steam_dataset.name"
   ]
  },
  {
   "cell_type": "code",
   "execution_count": null,
   "id": "56ff0583",
   "metadata": {},
   "outputs": [],
   "source": [
    "appid_name_dict = dict(zip(steam_appid, steam_names))\n",
    "name_appid_dict = dict(zip(steam_names, steam_appid))"
   ]
  },
  {
   "cell_type": "markdown",
   "id": "87a6743d",
   "metadata": {},
   "source": [
    "Как оказалось, у нас есть три похожих столбца с описаниями, поэтому один мы удалим."
   ]
  },
  {
   "cell_type": "code",
   "execution_count": null,
   "id": "7df0775f",
   "metadata": {},
   "outputs": [],
   "source": [
    "del steam_dataset['about_the_game']"
   ]
  },
  {
   "cell_type": "markdown",
   "id": "1ab51b88",
   "metadata": {},
   "source": [
    "Первое значение в столбце - количество слов за пределом словаря. \n",
    "\n",
    "Все остальные значения - как много раз слово присутствовало в тексте."
   ]
  },
  {
   "cell_type": "code",
   "execution_count": null,
   "id": "18553bbb",
   "metadata": {},
   "outputs": [],
   "source": [
    "steam_matrices = implement_vectorizer(steam_dataset)"
   ]
  },
  {
   "cell_type": "code",
   "execution_count": null,
   "id": "8485a31d",
   "metadata": {},
   "outputs": [],
   "source": [
    "tags_in_num = text_to_nums.fit_transform(steam_dataset.tags)"
   ]
  },
  {
   "cell_type": "markdown",
   "id": "8da7a7f9",
   "metadata": {},
   "source": [
    "#### Games sales"
   ]
  },
  {
   "cell_type": "markdown",
   "id": "0291c508",
   "metadata": {},
   "source": [
    "Напомню, что здесь нет текстовых столбцов."
   ]
  },
  {
   "cell_type": "code",
   "execution_count": 187,
   "id": "ce537494",
   "metadata": {},
   "outputs": [],
   "source": [
    "games_dataset['Index'] = [i*10 for i in range(len(games_dataset))]"
   ]
  },
  {
   "cell_type": "code",
   "execution_count": null,
   "id": "71c954a8",
   "metadata": {},
   "outputs": [],
   "source": [
    "ids = games_dataset.Index\n",
    "names = games_dataset.Name"
   ]
  },
  {
   "cell_type": "code",
   "execution_count": null,
   "id": "e94ea7ea",
   "metadata": {},
   "outputs": [],
   "source": [
    "gam_id_name_dict = dict(zip(ids, names))\n",
    "gam_name_id_dict = dict(zip(names, ids))"
   ]
  },
  {
   "cell_type": "markdown",
   "id": "e0d5460e",
   "metadata": {},
   "source": [
    "#### Movies"
   ]
  },
  {
   "cell_type": "code",
   "execution_count": null,
   "id": "566364bc",
   "metadata": {},
   "outputs": [],
   "source": [
    "ids = movies_dataset.id\n",
    "names = movies_dataset.title"
   ]
  },
  {
   "cell_type": "code",
   "execution_count": null,
   "id": "16f5bce7",
   "metadata": {},
   "outputs": [],
   "source": [
    "mov_id_name_dict = dict(zip(ids, names))\n",
    "mov_name_id_dict = dict(zip(names, ids))"
   ]
  },
  {
   "cell_type": "code",
   "execution_count": null,
   "id": "50e82cfa",
   "metadata": {},
   "outputs": [],
   "source": [
    "movies_matrices = implement_vectorizer(movies_dataset)"
   ]
  },
  {
   "cell_type": "markdown",
   "id": "bf0295d0",
   "metadata": {},
   "source": [
    "#### Anime"
   ]
  },
  {
   "cell_type": "markdown",
   "id": "d160396c",
   "metadata": {},
   "source": [
    "Как мне кажется, от японского названия нет толку, поэтому просто удалим его."
   ]
  },
  {
   "cell_type": "code",
   "execution_count": null,
   "id": "d08dfa2d",
   "metadata": {},
   "outputs": [],
   "source": [
    "del anime_dataset['Japanese name']"
   ]
  },
  {
   "cell_type": "markdown",
   "id": "a1c91592",
   "metadata": {},
   "source": [
    "Разделение для того, чтобы, ну кто знает этих людей, вдруг кому-то придет в голову кинуть название на английском языке. А шо."
   ]
  },
  {
   "cell_type": "code",
   "execution_count": 8,
   "id": "69169a42",
   "metadata": {},
   "outputs": [],
   "source": [
    "ids = anime_dataset.MAL_ID\n",
    "jap_names = anime_dataset.Name\n",
    "en_names = anime_dataset['English name']"
   ]
  },
  {
   "cell_type": "code",
   "execution_count": 9,
   "id": "0bf25811",
   "metadata": {},
   "outputs": [],
   "source": [
    "an_id_name_dict_jap = dict(zip(ids, jap_names))\n",
    "an_id_name_dict_en = dict(zip(ids, en_names))\n",
    "an_name_id_dict_jap = dict(zip(jap_names, ids))\n",
    "an_name_id_dict_en = dict(zip(en_names, ids))"
   ]
  },
  {
   "cell_type": "markdown",
   "id": "363e8980",
   "metadata": {},
   "source": [
    "Почему это здесь - не знаю. Просто все это время я не замечал, что у меня оценки в виде объектов, из-за того, что там были пропущенные значения."
   ]
  },
  {
   "cell_type": "code",
   "execution_count": null,
   "id": "75b2ef90",
   "metadata": {},
   "outputs": [],
   "source": [
    "scores = [i for i in anime_dataset.columns if i.split('-')[0] == 'Score']"
   ]
  },
  {
   "cell_type": "code",
   "execution_count": null,
   "id": "9de41c99",
   "metadata": {},
   "outputs": [],
   "source": [
    "anime_dataset[scores] = anime_dataset[scores].replace('Unknown', '0')"
   ]
  },
  {
   "cell_type": "code",
   "execution_count": null,
   "id": "da7eb05d",
   "metadata": {},
   "outputs": [],
   "source": [
    "anime_dataset[scores] = anime_dataset[scores].astype('float64')"
   ]
  },
  {
   "cell_type": "code",
   "execution_count": null,
   "id": "24deda4d",
   "metadata": {},
   "outputs": [],
   "source": [
    "anime_matrices = implement_vectorizer(anime_dataset)"
   ]
  },
  {
   "cell_type": "markdown",
   "id": "a8bc0ea4",
   "metadata": {},
   "source": [
    "## Simple Data Visualization"
   ]
  },
  {
   "cell_type": "markdown",
   "id": "9d44000c",
   "metadata": {},
   "source": [
    "### Steam"
   ]
  },
  {
   "cell_type": "markdown",
   "id": "d10d1572",
   "metadata": {},
   "source": [
    "Столбец appid не трогаем потому, что это индексы, они не будут даже использоваться, english уже в диапазоне от 0 до 1."
   ]
  },
  {
   "cell_type": "markdown",
   "id": "23837ae4",
   "metadata": {},
   "source": [
    "Все остальные столбцы идут под нормализацию."
   ]
  },
  {
   "cell_type": "code",
   "execution_count": null,
   "id": "24423338",
   "metadata": {},
   "outputs": [],
   "source": [
    "steam_dataset.hist(figsize=(25, 25))"
   ]
  },
  {
   "cell_type": "markdown",
   "id": "d2f6f9ea",
   "metadata": {},
   "source": [
    "### Games"
   ]
  },
  {
   "cell_type": "markdown",
   "id": "943e7ea6",
   "metadata": {},
   "source": [
    "Здесь также все, кроме индекса."
   ]
  },
  {
   "cell_type": "code",
   "execution_count": null,
   "id": "586d7597",
   "metadata": {},
   "outputs": [],
   "source": [
    "games_dataset.hist(figsize=(25, 25))"
   ]
  },
  {
   "cell_type": "markdown",
   "id": "4cbc4eda",
   "metadata": {},
   "source": [
    "### Movies"
   ]
  },
  {
   "cell_type": "markdown",
   "id": "3766f54f",
   "metadata": {},
   "source": [
    "`vote_average` выглядит так, как будто уже нормально распределен. `id` -  индекс. Все остальное - под нормализацию."
   ]
  },
  {
   "cell_type": "code",
   "execution_count": null,
   "id": "f6adc81b",
   "metadata": {},
   "outputs": [],
   "source": [
    "movies_dataset.hist(figsize=(25, 25))"
   ]
  },
  {
   "cell_type": "markdown",
   "id": "f0d8e92d",
   "metadata": {},
   "source": [
    "### Anime"
   ]
  },
  {
   "cell_type": "markdown",
   "id": "e0ea8289",
   "metadata": {},
   "source": [
    "Все, кроме индекса, под нормализацию."
   ]
  },
  {
   "cell_type": "code",
   "execution_count": null,
   "id": "ab75b8f1",
   "metadata": {},
   "outputs": [],
   "source": [
    "anime_dataset.hist(figsize=(25, 25))"
   ]
  },
  {
   "cell_type": "markdown",
   "id": "d1fa6216",
   "metadata": {},
   "source": [
    "А чо вы хотели от того, кто не шарит в статистике?"
   ]
  },
  {
   "cell_type": "markdown",
   "id": "1f1a663d",
   "metadata": {},
   "source": [
    "## Data Normalization"
   ]
  },
  {
   "cell_type": "code",
   "execution_count": null,
   "id": "9d52abbf",
   "metadata": {},
   "outputs": [],
   "source": [
    "from sklearn.preprocessing import MinMaxScaler"
   ]
  },
  {
   "cell_type": "code",
   "execution_count": 182,
   "id": "138eb384",
   "metadata": {},
   "outputs": [],
   "source": [
    "scaler = MinMaxScaler()"
   ]
  },
  {
   "cell_type": "code",
   "execution_count": 181,
   "id": "1b4693f0",
   "metadata": {},
   "outputs": [],
   "source": [
    "def implement_scaler(dataset):\n",
    "    num_cols = [i for i in dataset.columns if dataset[i].dtype != 'object' and i not in ['Index', 'appid', 'MAL_ID', 'id']]\n",
    "    scaled_cols = scaler.fit_transform(dataset[num_cols])\n",
    "    return scaled_cols, num_cols"
   ]
  },
  {
   "cell_type": "markdown",
   "id": "4bee8572",
   "metadata": {},
   "source": [
    "### Steam"
   ]
  },
  {
   "cell_type": "code",
   "execution_count": null,
   "id": "345d2aa9",
   "metadata": {},
   "outputs": [],
   "source": [
    "steam_dataset['owners'] = [int(i.split('-')[1]) for i in steam_dataset.owners]"
   ]
  },
  {
   "cell_type": "code",
   "execution_count": 183,
   "id": "644026ef",
   "metadata": {},
   "outputs": [],
   "source": [
    "scaled_nums, cols = implement_scaler(steam_dataset)"
   ]
  },
  {
   "cell_type": "markdown",
   "id": "bc456774",
   "metadata": {},
   "source": [
    "Я опять не заметил, что данные немного не обработаны."
   ]
  },
  {
   "cell_type": "code",
   "execution_count": 184,
   "id": "bc5e3307",
   "metadata": {},
   "outputs": [],
   "source": [
    "steam_dataset[cols] = scaled_nums"
   ]
  },
  {
   "cell_type": "code",
   "execution_count": 185,
   "id": "52a83844",
   "metadata": {},
   "outputs": [
    {
     "data": {
      "text/html": [
       "<div>\n",
       "<style scoped>\n",
       "    .dataframe tbody tr th:only-of-type {\n",
       "        vertical-align: middle;\n",
       "    }\n",
       "\n",
       "    .dataframe tbody tr th {\n",
       "        vertical-align: top;\n",
       "    }\n",
       "\n",
       "    .dataframe thead th {\n",
       "        text-align: right;\n",
       "    }\n",
       "</style>\n",
       "<table border=\"1\" class=\"dataframe\">\n",
       "  <thead>\n",
       "    <tr style=\"text-align: right;\">\n",
       "      <th></th>\n",
       "      <th>appid</th>\n",
       "      <th>name</th>\n",
       "      <th>english</th>\n",
       "      <th>developer</th>\n",
       "      <th>publisher</th>\n",
       "      <th>categories</th>\n",
       "      <th>genres</th>\n",
       "      <th>achievements</th>\n",
       "      <th>positive_ratings</th>\n",
       "      <th>negative_ratings</th>\n",
       "      <th>...</th>\n",
       "      <th>owners</th>\n",
       "      <th>price</th>\n",
       "      <th>detailed_description</th>\n",
       "      <th>short_description</th>\n",
       "      <th>minimum</th>\n",
       "      <th>recommended</th>\n",
       "      <th>tags</th>\n",
       "      <th>release_month</th>\n",
       "      <th>release_day</th>\n",
       "      <th>release_year</th>\n",
       "    </tr>\n",
       "  </thead>\n",
       "  <tbody>\n",
       "    <tr>\n",
       "      <th>0</th>\n",
       "      <td>0.000000</td>\n",
       "      <td>Counter-Strike</td>\n",
       "      <td>1.0</td>\n",
       "      <td>0.883550</td>\n",
       "      <td>0.879696</td>\n",
       "      <td>Multi-player;Online Multi-Player;Local Multi-P...</td>\n",
       "      <td>0.00129</td>\n",
       "      <td>0.0</td>\n",
       "      <td>0.047093</td>\n",
       "      <td>0.006855</td>\n",
       "      <td>...</td>\n",
       "      <td>0.099910</td>\n",
       "      <td>0.017038</td>\n",
       "      <td>Play the world's number 1 online action game. ...</td>\n",
       "      <td>Play the world's number 1 online action game. ...</td>\n",
       "      <td>500 mhz processor, 96mb ram, 16mb video card, ...</td>\n",
       "      <td>No</td>\n",
       "      <td>{'pvp', 'military', 'shooter', 'team_based', '...</td>\n",
       "      <td>0.136364</td>\n",
       "      <td>0.909091</td>\n",
       "      <td>0.0</td>\n",
       "    </tr>\n",
       "    <tr>\n",
       "      <th>1</th>\n",
       "      <td>0.000009</td>\n",
       "      <td>Team Fortress Classic</td>\n",
       "      <td>1.0</td>\n",
       "      <td>0.883550</td>\n",
       "      <td>0.879696</td>\n",
       "      <td>Multi-player;Online Multi-Player;Local Multi-P...</td>\n",
       "      <td>0.00129</td>\n",
       "      <td>0.0</td>\n",
       "      <td>0.001255</td>\n",
       "      <td>0.001300</td>\n",
       "      <td>...</td>\n",
       "      <td>0.049905</td>\n",
       "      <td>0.009455</td>\n",
       "      <td>One of the most popular online action games of...</td>\n",
       "      <td>One of the most popular online action games of...</td>\n",
       "      <td>500 mhz processor, 96mb ram, 16mb video card, ...</td>\n",
       "      <td>No</td>\n",
       "      <td>{'first_person', 'fast_paced', 'mod', 'multipl...</td>\n",
       "      <td>0.090909</td>\n",
       "      <td>0.272727</td>\n",
       "      <td>0.0</td>\n",
       "    </tr>\n",
       "    <tr>\n",
       "      <th>2</th>\n",
       "      <td>0.000019</td>\n",
       "      <td>Day of Defeat</td>\n",
       "      <td>1.0</td>\n",
       "      <td>0.883550</td>\n",
       "      <td>0.879696</td>\n",
       "      <td>Multi-player;Valve Anti-Cheat enabled</td>\n",
       "      <td>0.00129</td>\n",
       "      <td>0.0</td>\n",
       "      <td>0.001292</td>\n",
       "      <td>0.000817</td>\n",
       "      <td>...</td>\n",
       "      <td>0.049905</td>\n",
       "      <td>0.009455</td>\n",
       "      <td>Enlist in an intense brand of Axis vs. Allied ...</td>\n",
       "      <td>Enlist in an intense brand of Axis vs. Allied ...</td>\n",
       "      <td>500 mhz processor, 96mb ram, 16mb video card, ...</td>\n",
       "      <td>No</td>\n",
       "      <td>{'tactical', 'historical', 'team_based', 'mult...</td>\n",
       "      <td>0.272727</td>\n",
       "      <td>0.363636</td>\n",
       "      <td>0.0</td>\n",
       "    </tr>\n",
       "    <tr>\n",
       "      <th>3</th>\n",
       "      <td>0.000028</td>\n",
       "      <td>Deathmatch Classic</td>\n",
       "      <td>1.0</td>\n",
       "      <td>0.883550</td>\n",
       "      <td>0.879696</td>\n",
       "      <td>Multi-player;Online Multi-Player;Local Multi-P...</td>\n",
       "      <td>0.00129</td>\n",
       "      <td>0.0</td>\n",
       "      <td>0.000481</td>\n",
       "      <td>0.000548</td>\n",
       "      <td>...</td>\n",
       "      <td>0.049905</td>\n",
       "      <td>0.009455</td>\n",
       "      <td>Enjoy fast-paced multiplayer gaming with Death...</td>\n",
       "      <td>Enjoy fast-paced multiplayer gaming with Death...</td>\n",
       "      <td>500 mhz processor, 96mb ram, 16mb video card, ...</td>\n",
       "      <td>No</td>\n",
       "      <td>{'multiplayer', 'shooter', 'action', 'sci_fi',...</td>\n",
       "      <td>0.181818</td>\n",
       "      <td>0.454545</td>\n",
       "      <td>0.0</td>\n",
       "    </tr>\n",
       "    <tr>\n",
       "      <th>4</th>\n",
       "      <td>0.000037</td>\n",
       "      <td>Half-Life: Opposing Force</td>\n",
       "      <td>1.0</td>\n",
       "      <td>0.330586</td>\n",
       "      <td>0.879696</td>\n",
       "      <td>Single-player;Multi-player;Valve Anti-Cheat en...</td>\n",
       "      <td>0.00129</td>\n",
       "      <td>0.0</td>\n",
       "      <td>0.001985</td>\n",
       "      <td>0.000591</td>\n",
       "      <td>...</td>\n",
       "      <td>0.049905</td>\n",
       "      <td>0.009455</td>\n",
       "      <td>Return to the Black Mesa Research Facility as ...</td>\n",
       "      <td>Return to the Black Mesa Research Facility as ...</td>\n",
       "      <td>500 mhz processor, 96mb ram, 16mb video card, ...</td>\n",
       "      <td>No</td>\n",
       "      <td>{'masterpiece', 'gore', 'silent_protagonist', ...</td>\n",
       "      <td>0.090909</td>\n",
       "      <td>0.909091</td>\n",
       "      <td>0.0</td>\n",
       "    </tr>\n",
       "  </tbody>\n",
       "</table>\n",
       "<p>5 rows × 22 columns</p>\n",
       "</div>"
      ],
      "text/plain": [
       "      appid                       name  english  developer  publisher  \\\n",
       "0  0.000000             Counter-Strike      1.0   0.883550   0.879696   \n",
       "1  0.000009      Team Fortress Classic      1.0   0.883550   0.879696   \n",
       "2  0.000019              Day of Defeat      1.0   0.883550   0.879696   \n",
       "3  0.000028         Deathmatch Classic      1.0   0.883550   0.879696   \n",
       "4  0.000037  Half-Life: Opposing Force      1.0   0.330586   0.879696   \n",
       "\n",
       "                                          categories   genres  achievements  \\\n",
       "0  Multi-player;Online Multi-Player;Local Multi-P...  0.00129           0.0   \n",
       "1  Multi-player;Online Multi-Player;Local Multi-P...  0.00129           0.0   \n",
       "2              Multi-player;Valve Anti-Cheat enabled  0.00129           0.0   \n",
       "3  Multi-player;Online Multi-Player;Local Multi-P...  0.00129           0.0   \n",
       "4  Single-player;Multi-player;Valve Anti-Cheat en...  0.00129           0.0   \n",
       "\n",
       "   positive_ratings  negative_ratings  ...    owners     price  \\\n",
       "0          0.047093          0.006855  ...  0.099910  0.017038   \n",
       "1          0.001255          0.001300  ...  0.049905  0.009455   \n",
       "2          0.001292          0.000817  ...  0.049905  0.009455   \n",
       "3          0.000481          0.000548  ...  0.049905  0.009455   \n",
       "4          0.001985          0.000591  ...  0.049905  0.009455   \n",
       "\n",
       "                                detailed_description  \\\n",
       "0  Play the world's number 1 online action game. ...   \n",
       "1  One of the most popular online action games of...   \n",
       "2  Enlist in an intense brand of Axis vs. Allied ...   \n",
       "3  Enjoy fast-paced multiplayer gaming with Death...   \n",
       "4  Return to the Black Mesa Research Facility as ...   \n",
       "\n",
       "                                   short_description  \\\n",
       "0  Play the world's number 1 online action game. ...   \n",
       "1  One of the most popular online action games of...   \n",
       "2  Enlist in an intense brand of Axis vs. Allied ...   \n",
       "3  Enjoy fast-paced multiplayer gaming with Death...   \n",
       "4  Return to the Black Mesa Research Facility as ...   \n",
       "\n",
       "                                             minimum recommended  \\\n",
       "0  500 mhz processor, 96mb ram, 16mb video card, ...          No   \n",
       "1  500 mhz processor, 96mb ram, 16mb video card, ...          No   \n",
       "2  500 mhz processor, 96mb ram, 16mb video card, ...          No   \n",
       "3  500 mhz processor, 96mb ram, 16mb video card, ...          No   \n",
       "4  500 mhz processor, 96mb ram, 16mb video card, ...          No   \n",
       "\n",
       "                                                tags release_month  \\\n",
       "0  {'pvp', 'military', 'shooter', 'team_based', '...      0.136364   \n",
       "1  {'first_person', 'fast_paced', 'mod', 'multipl...      0.090909   \n",
       "2  {'tactical', 'historical', 'team_based', 'mult...      0.272727   \n",
       "3  {'multiplayer', 'shooter', 'action', 'sci_fi',...      0.181818   \n",
       "4  {'masterpiece', 'gore', 'silent_protagonist', ...      0.090909   \n",
       "\n",
       "  release_day  release_year  \n",
       "0    0.909091           0.0  \n",
       "1    0.272727           0.0  \n",
       "2    0.363636           0.0  \n",
       "3    0.454545           0.0  \n",
       "4    0.909091           0.0  \n",
       "\n",
       "[5 rows x 22 columns]"
      ]
     },
     "execution_count": 185,
     "metadata": {},
     "output_type": "execute_result"
    }
   ],
   "source": [
    "steam_dataset.head()"
   ]
  },
  {
   "cell_type": "markdown",
   "id": "e2b30b13",
   "metadata": {},
   "source": [
    "### Games"
   ]
  },
  {
   "cell_type": "code",
   "execution_count": 191,
   "id": "97f27cd1",
   "metadata": {},
   "outputs": [],
   "source": [
    "scaled_nums, cols = implement_scaler(games_dataset)"
   ]
  },
  {
   "cell_type": "code",
   "execution_count": 192,
   "id": "53d3bcef",
   "metadata": {},
   "outputs": [],
   "source": [
    "games_dataset[cols] = scaled_nums"
   ]
  },
  {
   "cell_type": "code",
   "execution_count": 193,
   "id": "d109c853",
   "metadata": {
    "scrolled": true
   },
   "outputs": [
    {
     "data": {
      "text/html": [
       "<div>\n",
       "<style scoped>\n",
       "    .dataframe tbody tr th:only-of-type {\n",
       "        vertical-align: middle;\n",
       "    }\n",
       "\n",
       "    .dataframe tbody tr th {\n",
       "        vertical-align: top;\n",
       "    }\n",
       "\n",
       "    .dataframe thead th {\n",
       "        text-align: right;\n",
       "    }\n",
       "</style>\n",
       "<table border=\"1\" class=\"dataframe\">\n",
       "  <thead>\n",
       "    <tr style=\"text-align: right;\">\n",
       "      <th></th>\n",
       "      <th>Name</th>\n",
       "      <th>Platform_x</th>\n",
       "      <th>Publisher_x</th>\n",
       "      <th>Developer</th>\n",
       "      <th>Critic_Score</th>\n",
       "      <th>Total_Shipped</th>\n",
       "      <th>Year_x</th>\n",
       "      <th>Genre</th>\n",
       "      <th>NA_Sales</th>\n",
       "      <th>EU_Sales</th>\n",
       "      <th>JP_Sales</th>\n",
       "      <th>Other_Sales</th>\n",
       "      <th>Global_Sales</th>\n",
       "      <th>Index</th>\n",
       "    </tr>\n",
       "  </thead>\n",
       "  <tbody>\n",
       "    <tr>\n",
       "      <th>0</th>\n",
       "      <td>Wii Sports</td>\n",
       "      <td>0.848485</td>\n",
       "      <td>0.613357</td>\n",
       "      <td>0.602076</td>\n",
       "      <td>0.744444</td>\n",
       "      <td>1.000000</td>\n",
       "      <td>0.690476</td>\n",
       "      <td>0.909091</td>\n",
       "      <td>1.000000</td>\n",
       "      <td>1.000000</td>\n",
       "      <td>0.523611</td>\n",
       "      <td>0.800378</td>\n",
       "      <td>1.000000</td>\n",
       "      <td>10</td>\n",
       "    </tr>\n",
       "    <tr>\n",
       "      <th>1</th>\n",
       "      <td>Super Mario Bros.</td>\n",
       "      <td>0.333333</td>\n",
       "      <td>0.613357</td>\n",
       "      <td>0.602076</td>\n",
       "      <td>1.000000</td>\n",
       "      <td>0.485342</td>\n",
       "      <td>0.190476</td>\n",
       "      <td>0.363636</td>\n",
       "      <td>0.700892</td>\n",
       "      <td>0.123363</td>\n",
       "      <td>0.945833</td>\n",
       "      <td>0.072848</td>\n",
       "      <td>0.486281</td>\n",
       "      <td>11</td>\n",
       "    </tr>\n",
       "    <tr>\n",
       "      <th>2</th>\n",
       "      <td>Mario Kart Wii</td>\n",
       "      <td>0.848485</td>\n",
       "      <td>0.613357</td>\n",
       "      <td>0.602076</td>\n",
       "      <td>0.800000</td>\n",
       "      <td>0.450115</td>\n",
       "      <td>0.738095</td>\n",
       "      <td>0.545455</td>\n",
       "      <td>0.382020</td>\n",
       "      <td>0.443832</td>\n",
       "      <td>0.526389</td>\n",
       "      <td>0.313150</td>\n",
       "      <td>0.432854</td>\n",
       "      <td>12</td>\n",
       "    </tr>\n",
       "    <tr>\n",
       "      <th>3</th>\n",
       "      <td>Minecraft</td>\n",
       "      <td>0.424242</td>\n",
       "      <td>0.565905</td>\n",
       "      <td>0.564014</td>\n",
       "      <td>1.000000</td>\n",
       "      <td>0.399807</td>\n",
       "      <td>0.785714</td>\n",
       "      <td>0.272727</td>\n",
       "      <td>0.134490</td>\n",
       "      <td>0.097519</td>\n",
       "      <td>0.002778</td>\n",
       "      <td>0.072848</td>\n",
       "      <td>0.111084</td>\n",
       "      <td>13</td>\n",
       "    </tr>\n",
       "    <tr>\n",
       "      <th>4</th>\n",
       "      <td>Wii Sports Resort</td>\n",
       "      <td>0.848485</td>\n",
       "      <td>0.613357</td>\n",
       "      <td>0.602076</td>\n",
       "      <td>0.777778</td>\n",
       "      <td>0.399566</td>\n",
       "      <td>0.761905</td>\n",
       "      <td>0.909091</td>\n",
       "      <td>0.379610</td>\n",
       "      <td>0.379394</td>\n",
       "      <td>0.455556</td>\n",
       "      <td>0.280038</td>\n",
       "      <td>0.398767</td>\n",
       "      <td>14</td>\n",
       "    </tr>\n",
       "  </tbody>\n",
       "</table>\n",
       "</div>"
      ],
      "text/plain": [
       "                Name  Platform_x  Publisher_x  Developer  Critic_Score  \\\n",
       "0         Wii Sports    0.848485     0.613357   0.602076      0.744444   \n",
       "1  Super Mario Bros.    0.333333     0.613357   0.602076      1.000000   \n",
       "2     Mario Kart Wii    0.848485     0.613357   0.602076      0.800000   \n",
       "3          Minecraft    0.424242     0.565905   0.564014      1.000000   \n",
       "4  Wii Sports Resort    0.848485     0.613357   0.602076      0.777778   \n",
       "\n",
       "   Total_Shipped    Year_x     Genre  NA_Sales  EU_Sales  JP_Sales  \\\n",
       "0       1.000000  0.690476  0.909091  1.000000  1.000000  0.523611   \n",
       "1       0.485342  0.190476  0.363636  0.700892  0.123363  0.945833   \n",
       "2       0.450115  0.738095  0.545455  0.382020  0.443832  0.526389   \n",
       "3       0.399807  0.785714  0.272727  0.134490  0.097519  0.002778   \n",
       "4       0.399566  0.761905  0.909091  0.379610  0.379394  0.455556   \n",
       "\n",
       "   Other_Sales  Global_Sales  Index  \n",
       "0     0.800378      1.000000     10  \n",
       "1     0.072848      0.486281     11  \n",
       "2     0.313150      0.432854     12  \n",
       "3     0.072848      0.111084     13  \n",
       "4     0.280038      0.398767     14  "
      ]
     },
     "execution_count": 193,
     "metadata": {},
     "output_type": "execute_result"
    }
   ],
   "source": [
    "games_dataset.head()"
   ]
  },
  {
   "cell_type": "markdown",
   "id": "a239a119",
   "metadata": {},
   "source": [
    "## Movies"
   ]
  },
  {
   "cell_type": "code",
   "execution_count": 194,
   "id": "afefcb94",
   "metadata": {},
   "outputs": [],
   "source": [
    "scaled_nums, cols = implement_scaler(movies_dataset)"
   ]
  },
  {
   "cell_type": "code",
   "execution_count": 195,
   "id": "be8f99d0",
   "metadata": {},
   "outputs": [],
   "source": [
    "movies_dataset[cols] = scaled_nums"
   ]
  },
  {
   "cell_type": "code",
   "execution_count": 196,
   "id": "2eeab13d",
   "metadata": {},
   "outputs": [
    {
     "data": {
      "text/html": [
       "<div>\n",
       "<style scoped>\n",
       "    .dataframe tbody tr th:only-of-type {\n",
       "        vertical-align: middle;\n",
       "    }\n",
       "\n",
       "    .dataframe tbody tr th {\n",
       "        vertical-align: top;\n",
       "    }\n",
       "\n",
       "    .dataframe thead th {\n",
       "        text-align: right;\n",
       "    }\n",
       "</style>\n",
       "<table border=\"1\" class=\"dataframe\">\n",
       "  <thead>\n",
       "    <tr style=\"text-align: right;\">\n",
       "      <th></th>\n",
       "      <th>budget</th>\n",
       "      <th>genres</th>\n",
       "      <th>id</th>\n",
       "      <th>keywords</th>\n",
       "      <th>original_language</th>\n",
       "      <th>original_title</th>\n",
       "      <th>overview</th>\n",
       "      <th>popularity</th>\n",
       "      <th>production_companies</th>\n",
       "      <th>production_countries</th>\n",
       "      <th>...</th>\n",
       "      <th>runtime</th>\n",
       "      <th>spoken_languages</th>\n",
       "      <th>status</th>\n",
       "      <th>tagline</th>\n",
       "      <th>title</th>\n",
       "      <th>vote_average</th>\n",
       "      <th>vote_count</th>\n",
       "      <th>release_month</th>\n",
       "      <th>release_day</th>\n",
       "      <th>release_year</th>\n",
       "    </tr>\n",
       "  </thead>\n",
       "  <tbody>\n",
       "    <tr>\n",
       "      <th>0</th>\n",
       "      <td>0.623684</td>\n",
       "      <td>[28, 12, 14, 878]</td>\n",
       "      <td>19995</td>\n",
       "      <td>[1463, 2964, 3386, 3388, 3679, 3801, 9685, 984...</td>\n",
       "      <td>0.194444</td>\n",
       "      <td>Avatar</td>\n",
       "      <td>In the 22nd century, a paraplegic Marine is di...</td>\n",
       "      <td>0.171815</td>\n",
       "      <td>[289, 306, 444, 574]</td>\n",
       "      <td>['us', 'gb']</td>\n",
       "      <td>...</td>\n",
       "      <td>0.479290</td>\n",
       "      <td>['en', 'es']</td>\n",
       "      <td>0.5</td>\n",
       "      <td>Enter the World of Pandora.</td>\n",
       "      <td>Avatar</td>\n",
       "      <td>0.72</td>\n",
       "      <td>0.858057</td>\n",
       "      <td>0.920792</td>\n",
       "      <td>1.000000</td>\n",
       "      <td>0.300000</td>\n",
       "    </tr>\n",
       "    <tr>\n",
       "      <th>1</th>\n",
       "      <td>0.789474</td>\n",
       "      <td>[12, 14, 28]</td>\n",
       "      <td>285</td>\n",
       "      <td>[270, 726, 911, 1319, 2038, 2052, 2580, 2660, ...</td>\n",
       "      <td>0.194444</td>\n",
       "      <td>Pirates of the Caribbean: At World's End</td>\n",
       "      <td>Captain Barbossa, long believed to be dead, ha...</td>\n",
       "      <td>0.158846</td>\n",
       "      <td>[2, 130, 19936]</td>\n",
       "      <td>['us']</td>\n",
       "      <td>...</td>\n",
       "      <td>0.500000</td>\n",
       "      <td>['en']</td>\n",
       "      <td>0.5</td>\n",
       "      <td>At the end of the world, the adventure begins.</td>\n",
       "      <td>Pirates of the Caribbean: At World's End</td>\n",
       "      <td>0.69</td>\n",
       "      <td>0.327225</td>\n",
       "      <td>0.900990</td>\n",
       "      <td>0.363636</td>\n",
       "      <td>0.600000</td>\n",
       "    </tr>\n",
       "    <tr>\n",
       "      <th>2</th>\n",
       "      <td>0.644737</td>\n",
       "      <td>[28, 12, 80]</td>\n",
       "      <td>206647</td>\n",
       "      <td>[470, 818, 4289, 9663, 145556, 156095, 158431]</td>\n",
       "      <td>0.194444</td>\n",
       "      <td>Spectre</td>\n",
       "      <td>A cryptic message from Bond’s past sends him o...</td>\n",
       "      <td>0.122635</td>\n",
       "      <td>[5, 10761, 2469434]</td>\n",
       "      <td>['gb', 'us']</td>\n",
       "      <td>...</td>\n",
       "      <td>0.437870</td>\n",
       "      <td>['fr', 'en', 'es', 'it', 'de']</td>\n",
       "      <td>0.5</td>\n",
       "      <td>A Plan No One Escapes</td>\n",
       "      <td>Spectre</td>\n",
       "      <td>0.63</td>\n",
       "      <td>0.324753</td>\n",
       "      <td>0.980198</td>\n",
       "      <td>0.818182</td>\n",
       "      <td>0.833333</td>\n",
       "    </tr>\n",
       "    <tr>\n",
       "      <th>3</th>\n",
       "      <td>0.657895</td>\n",
       "      <td>[28, 80, 18, 53]</td>\n",
       "      <td>49026</td>\n",
       "      <td>[849, 853, 949, 1308, 1437, 3051, 3562, 6969, ...</td>\n",
       "      <td>0.194444</td>\n",
       "      <td>The Dark Knight Rises</td>\n",
       "      <td>Following the death of District Attorney Harve...</td>\n",
       "      <td>0.128272</td>\n",
       "      <td>[923, 6194, 9993, 9996]</td>\n",
       "      <td>['us']</td>\n",
       "      <td>...</td>\n",
       "      <td>0.488166</td>\n",
       "      <td>['en']</td>\n",
       "      <td>0.5</td>\n",
       "      <td>The Legend Ends</td>\n",
       "      <td>The Dark Knight Rises</td>\n",
       "      <td>0.76</td>\n",
       "      <td>0.662158</td>\n",
       "      <td>0.950495</td>\n",
       "      <td>0.545455</td>\n",
       "      <td>0.500000</td>\n",
       "    </tr>\n",
       "    <tr>\n",
       "      <th>4</th>\n",
       "      <td>0.684211</td>\n",
       "      <td>[28, 12, 878]</td>\n",
       "      <td>49529</td>\n",
       "      <td>[818, 839, 1456, 3801, 7376, 9951, 10028, 1053...</td>\n",
       "      <td>0.194444</td>\n",
       "      <td>John Carter</td>\n",
       "      <td>John Carter is a war-weary, former military ca...</td>\n",
       "      <td>0.050169</td>\n",
       "      <td>[2]</td>\n",
       "      <td>['us']</td>\n",
       "      <td>...</td>\n",
       "      <td>0.390533</td>\n",
       "      <td>['en']</td>\n",
       "      <td>0.5</td>\n",
       "      <td>Lost in our world, found in another.</td>\n",
       "      <td>John Carter</td>\n",
       "      <td>0.61</td>\n",
       "      <td>0.154450</td>\n",
       "      <td>0.950495</td>\n",
       "      <td>0.181818</td>\n",
       "      <td>0.200000</td>\n",
       "    </tr>\n",
       "  </tbody>\n",
       "</table>\n",
       "<p>5 rows × 21 columns</p>\n",
       "</div>"
      ],
      "text/plain": [
       "     budget             genres      id  \\\n",
       "0  0.623684  [28, 12, 14, 878]   19995   \n",
       "1  0.789474       [12, 14, 28]     285   \n",
       "2  0.644737       [28, 12, 80]  206647   \n",
       "3  0.657895   [28, 80, 18, 53]   49026   \n",
       "4  0.684211      [28, 12, 878]   49529   \n",
       "\n",
       "                                            keywords  original_language  \\\n",
       "0  [1463, 2964, 3386, 3388, 3679, 3801, 9685, 984...           0.194444   \n",
       "1  [270, 726, 911, 1319, 2038, 2052, 2580, 2660, ...           0.194444   \n",
       "2     [470, 818, 4289, 9663, 145556, 156095, 158431]           0.194444   \n",
       "3  [849, 853, 949, 1308, 1437, 3051, 3562, 6969, ...           0.194444   \n",
       "4  [818, 839, 1456, 3801, 7376, 9951, 10028, 1053...           0.194444   \n",
       "\n",
       "                             original_title  \\\n",
       "0                                    Avatar   \n",
       "1  Pirates of the Caribbean: At World's End   \n",
       "2                                   Spectre   \n",
       "3                     The Dark Knight Rises   \n",
       "4                               John Carter   \n",
       "\n",
       "                                            overview  popularity  \\\n",
       "0  In the 22nd century, a paraplegic Marine is di...    0.171815   \n",
       "1  Captain Barbossa, long believed to be dead, ha...    0.158846   \n",
       "2  A cryptic message from Bond’s past sends him o...    0.122635   \n",
       "3  Following the death of District Attorney Harve...    0.128272   \n",
       "4  John Carter is a war-weary, former military ca...    0.050169   \n",
       "\n",
       "      production_companies production_countries  ...   runtime  \\\n",
       "0     [289, 306, 444, 574]         ['us', 'gb']  ...  0.479290   \n",
       "1          [2, 130, 19936]               ['us']  ...  0.500000   \n",
       "2      [5, 10761, 2469434]         ['gb', 'us']  ...  0.437870   \n",
       "3  [923, 6194, 9993, 9996]               ['us']  ...  0.488166   \n",
       "4                      [2]               ['us']  ...  0.390533   \n",
       "\n",
       "                 spoken_languages status  \\\n",
       "0                    ['en', 'es']    0.5   \n",
       "1                          ['en']    0.5   \n",
       "2  ['fr', 'en', 'es', 'it', 'de']    0.5   \n",
       "3                          ['en']    0.5   \n",
       "4                          ['en']    0.5   \n",
       "\n",
       "                                          tagline  \\\n",
       "0                     Enter the World of Pandora.   \n",
       "1  At the end of the world, the adventure begins.   \n",
       "2                           A Plan No One Escapes   \n",
       "3                                 The Legend Ends   \n",
       "4            Lost in our world, found in another.   \n",
       "\n",
       "                                      title vote_average  vote_count  \\\n",
       "0                                    Avatar         0.72    0.858057   \n",
       "1  Pirates of the Caribbean: At World's End         0.69    0.327225   \n",
       "2                                   Spectre         0.63    0.324753   \n",
       "3                     The Dark Knight Rises         0.76    0.662158   \n",
       "4                               John Carter         0.61    0.154450   \n",
       "\n",
       "   release_month  release_day  release_year  \n",
       "0       0.920792     1.000000      0.300000  \n",
       "1       0.900990     0.363636      0.600000  \n",
       "2       0.980198     0.818182      0.833333  \n",
       "3       0.950495     0.545455      0.500000  \n",
       "4       0.950495     0.181818      0.200000  \n",
       "\n",
       "[5 rows x 21 columns]"
      ]
     },
     "execution_count": 196,
     "metadata": {},
     "output_type": "execute_result"
    }
   ],
   "source": [
    "movies_dataset.head()"
   ]
  },
  {
   "cell_type": "markdown",
   "id": "13186c6a",
   "metadata": {},
   "source": [
    "## Anime"
   ]
  },
  {
   "cell_type": "markdown",
   "id": "7157d74e",
   "metadata": {},
   "source": [
    "В очередной раз ссаные пропущенные значения портят все."
   ]
  },
  {
   "cell_type": "code",
   "execution_count": 206,
   "id": "81420366",
   "metadata": {},
   "outputs": [],
   "source": [
    "anime_dataset['Episodes'] = anime_dataset.Episodes.replace('Unknown', '0').astype('int64')"
   ]
  },
  {
   "cell_type": "code",
   "execution_count": 207,
   "id": "79f36a1d",
   "metadata": {},
   "outputs": [],
   "source": [
    "scaled_nums, cols = implement_scaler(anime_dataset)"
   ]
  },
  {
   "cell_type": "code",
   "execution_count": 208,
   "id": "c72057e3",
   "metadata": {},
   "outputs": [],
   "source": [
    "anime_dataset[cols] = scaled_nums"
   ]
  },
  {
   "cell_type": "code",
   "execution_count": 209,
   "id": "b63c088b",
   "metadata": {},
   "outputs": [
    {
     "data": {
      "text/html": [
       "<div>\n",
       "<style scoped>\n",
       "    .dataframe tbody tr th:only-of-type {\n",
       "        vertical-align: middle;\n",
       "    }\n",
       "\n",
       "    .dataframe tbody tr th {\n",
       "        vertical-align: top;\n",
       "    }\n",
       "\n",
       "    .dataframe thead th {\n",
       "        text-align: right;\n",
       "    }\n",
       "</style>\n",
       "<table border=\"1\" class=\"dataframe\">\n",
       "  <thead>\n",
       "    <tr style=\"text-align: right;\">\n",
       "      <th></th>\n",
       "      <th>MAL_ID</th>\n",
       "      <th>Name</th>\n",
       "      <th>Score</th>\n",
       "      <th>Genres</th>\n",
       "      <th>English name</th>\n",
       "      <th>Type</th>\n",
       "      <th>Episodes</th>\n",
       "      <th>Premiered</th>\n",
       "      <th>Producers</th>\n",
       "      <th>Licensors</th>\n",
       "      <th>...</th>\n",
       "      <th>Score-4</th>\n",
       "      <th>Score-3</th>\n",
       "      <th>Score-2</th>\n",
       "      <th>Score-1</th>\n",
       "      <th>release_month</th>\n",
       "      <th>release_day</th>\n",
       "      <th>release_year</th>\n",
       "      <th>end_month</th>\n",
       "      <th>end_day</th>\n",
       "      <th>end_year</th>\n",
       "    </tr>\n",
       "  </thead>\n",
       "  <tbody>\n",
       "    <tr>\n",
       "      <th>0</th>\n",
       "      <td>1</td>\n",
       "      <td>Cowboy Bebop</td>\n",
       "      <td>0.955386</td>\n",
       "      <td>Action, Adventure, Comedy, Drama, Sci-Fi, Space</td>\n",
       "      <td>Cowboy Bebop</td>\n",
       "      <td>0.833333</td>\n",
       "      <td>0.008505</td>\n",
       "      <td>0.404348</td>\n",
       "      <td>Bandai Visual</td>\n",
       "      <td>Funimation, Bandai Entertainment</td>\n",
       "      <td>...</td>\n",
       "      <td>0.039234</td>\n",
       "      <td>0.030699</td>\n",
       "      <td>0.029207</td>\n",
       "      <td>0.046815</td>\n",
       "      <td>0.001978</td>\n",
       "      <td>0.001484</td>\n",
       "      <td>0.988125</td>\n",
       "      <td>0.001979</td>\n",
       "      <td>0.011875</td>\n",
       "      <td>0.650794</td>\n",
       "    </tr>\n",
       "    <tr>\n",
       "      <th>1</th>\n",
       "      <td>5</td>\n",
       "      <td>Cowboy Bebop: Tengoku no Tobira</td>\n",
       "      <td>0.912949</td>\n",
       "      <td>Action, Drama, Mystery, Sci-Fi, Space</td>\n",
       "      <td>Cowboy Bebop:The Movie</td>\n",
       "      <td>0.000000</td>\n",
       "      <td>0.000327</td>\n",
       "      <td>0.743478</td>\n",
       "      <td>Sunrise, Bandai Visual</td>\n",
       "      <td>Sony Pictures Entertainment</td>\n",
       "      <td>...</td>\n",
       "      <td>0.007110</td>\n",
       "      <td>0.005000</td>\n",
       "      <td>0.004296</td>\n",
       "      <td>0.011230</td>\n",
       "      <td>0.004451</td>\n",
       "      <td>0.000495</td>\n",
       "      <td>0.989609</td>\n",
       "      <td>0.004948</td>\n",
       "      <td>0.015339</td>\n",
       "      <td>0.761905</td>\n",
       "    </tr>\n",
       "    <tr>\n",
       "      <th>2</th>\n",
       "      <td>6</td>\n",
       "      <td>Trigun</td>\n",
       "      <td>0.896627</td>\n",
       "      <td>Action, Sci-Fi, Adventure, Comedy, Drama, Shounen</td>\n",
       "      <td>Trigun</td>\n",
       "      <td>0.833333</td>\n",
       "      <td>0.008505</td>\n",
       "      <td>0.404348</td>\n",
       "      <td>Victor Entertainment</td>\n",
       "      <td>Funimation, Geneon Entertainment USA</td>\n",
       "      <td>...</td>\n",
       "      <td>0.024213</td>\n",
       "      <td>0.015021</td>\n",
       "      <td>0.012455</td>\n",
       "      <td>0.015793</td>\n",
       "      <td>0.001978</td>\n",
       "      <td>0.000495</td>\n",
       "      <td>0.988125</td>\n",
       "      <td>0.004453</td>\n",
       "      <td>0.014844</td>\n",
       "      <td>0.634921</td>\n",
       "    </tr>\n",
       "    <tr>\n",
       "      <th>3</th>\n",
       "      <td>7</td>\n",
       "      <td>Witch Hunter Robin</td>\n",
       "      <td>0.791077</td>\n",
       "      <td>Action, Mystery, Police, Supernatural, Drama, ...</td>\n",
       "      <td>Witch Hunter Robin</td>\n",
       "      <td>0.833333</td>\n",
       "      <td>0.008505</td>\n",
       "      <td>0.656522</td>\n",
       "      <td>TV Tokyo, Bandai Visual, Dentsu, Victor Entert...</td>\n",
       "      <td>Funimation, Bandai Entertainment</td>\n",
       "      <td>...</td>\n",
       "      <td>0.013345</td>\n",
       "      <td>0.007986</td>\n",
       "      <td>0.006464</td>\n",
       "      <td>0.003881</td>\n",
       "      <td>0.003462</td>\n",
       "      <td>0.000990</td>\n",
       "      <td>0.990104</td>\n",
       "      <td>0.005938</td>\n",
       "      <td>0.011875</td>\n",
       "      <td>0.698413</td>\n",
       "    </tr>\n",
       "    <tr>\n",
       "      <th>4</th>\n",
       "      <td>8</td>\n",
       "      <td>Bouken Ou Beet</td>\n",
       "      <td>0.759521</td>\n",
       "      <td>Adventure, Fantasy, Shounen, Supernatural</td>\n",
       "      <td>Beet the Vandel Buster</td>\n",
       "      <td>0.833333</td>\n",
       "      <td>0.017010</td>\n",
       "      <td>0.173913</td>\n",
       "      <td>TV Tokyo, Dentsu</td>\n",
       "      <td>Unknown</td>\n",
       "      <td>...</td>\n",
       "      <td>0.003265</td>\n",
       "      <td>0.001878</td>\n",
       "      <td>0.001971</td>\n",
       "      <td>0.000800</td>\n",
       "      <td>0.004451</td>\n",
       "      <td>0.014844</td>\n",
       "      <td>0.991094</td>\n",
       "      <td>0.004453</td>\n",
       "      <td>0.014349</td>\n",
       "      <td>0.746032</td>\n",
       "    </tr>\n",
       "  </tbody>\n",
       "</table>\n",
       "<p>5 rows × 39 columns</p>\n",
       "</div>"
      ],
      "text/plain": [
       "   MAL_ID                             Name     Score  \\\n",
       "0       1                     Cowboy Bebop  0.955386   \n",
       "1       5  Cowboy Bebop: Tengoku no Tobira  0.912949   \n",
       "2       6                           Trigun  0.896627   \n",
       "3       7               Witch Hunter Robin  0.791077   \n",
       "4       8                   Bouken Ou Beet  0.759521   \n",
       "\n",
       "                                              Genres            English name  \\\n",
       "0    Action, Adventure, Comedy, Drama, Sci-Fi, Space            Cowboy Bebop   \n",
       "1              Action, Drama, Mystery, Sci-Fi, Space  Cowboy Bebop:The Movie   \n",
       "2  Action, Sci-Fi, Adventure, Comedy, Drama, Shounen                  Trigun   \n",
       "3  Action, Mystery, Police, Supernatural, Drama, ...      Witch Hunter Robin   \n",
       "4          Adventure, Fantasy, Shounen, Supernatural  Beet the Vandel Buster   \n",
       "\n",
       "       Type  Episodes  Premiered  \\\n",
       "0  0.833333  0.008505   0.404348   \n",
       "1  0.000000  0.000327   0.743478   \n",
       "2  0.833333  0.008505   0.404348   \n",
       "3  0.833333  0.008505   0.656522   \n",
       "4  0.833333  0.017010   0.173913   \n",
       "\n",
       "                                           Producers  \\\n",
       "0                                      Bandai Visual   \n",
       "1                             Sunrise, Bandai Visual   \n",
       "2                               Victor Entertainment   \n",
       "3  TV Tokyo, Bandai Visual, Dentsu, Victor Entert...   \n",
       "4                                   TV Tokyo, Dentsu   \n",
       "\n",
       "                              Licensors  ...   Score-4   Score-3   Score-2  \\\n",
       "0      Funimation, Bandai Entertainment  ...  0.039234  0.030699  0.029207   \n",
       "1           Sony Pictures Entertainment  ...  0.007110  0.005000  0.004296   \n",
       "2  Funimation, Geneon Entertainment USA  ...  0.024213  0.015021  0.012455   \n",
       "3      Funimation, Bandai Entertainment  ...  0.013345  0.007986  0.006464   \n",
       "4                               Unknown  ...  0.003265  0.001878  0.001971   \n",
       "\n",
       "    Score-1 release_month  release_day  release_year  end_month   end_day  \\\n",
       "0  0.046815      0.001978     0.001484      0.988125   0.001979  0.011875   \n",
       "1  0.011230      0.004451     0.000495      0.989609   0.004948  0.015339   \n",
       "2  0.015793      0.001978     0.000495      0.988125   0.004453  0.014844   \n",
       "3  0.003881      0.003462     0.000990      0.990104   0.005938  0.011875   \n",
       "4  0.000800      0.004451     0.014844      0.991094   0.004453  0.014349   \n",
       "\n",
       "   end_year  \n",
       "0  0.650794  \n",
       "1  0.761905  \n",
       "2  0.634921  \n",
       "3  0.698413  \n",
       "4  0.746032  \n",
       "\n",
       "[5 rows x 39 columns]"
      ]
     },
     "execution_count": 209,
     "metadata": {},
     "output_type": "execute_result"
    }
   ],
   "source": [
    "anime_dataset.head()"
   ]
  },
  {
   "cell_type": "code",
   "execution_count": null,
   "id": "e03e65f0",
   "metadata": {},
   "outputs": [],
   "source": []
  }
 ],
 "metadata": {
  "kernelspec": {
   "display_name": "Python 3",
   "language": "python",
   "name": "python3"
  },
  "language_info": {
   "codemirror_mode": {
    "name": "ipython",
    "version": 3
   },
   "file_extension": ".py",
   "mimetype": "text/x-python",
   "name": "python",
   "nbconvert_exporter": "python",
   "pygments_lexer": "ipython3",
   "version": "3.8.8"
  }
 },
 "nbformat": 4,
 "nbformat_minor": 5
}
