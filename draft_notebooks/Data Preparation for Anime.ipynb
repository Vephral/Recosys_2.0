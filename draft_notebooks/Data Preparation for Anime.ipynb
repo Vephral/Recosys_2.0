{
 "cells": [
  {
   "cell_type": "markdown",
   "id": "47d185c5",
   "metadata": {},
   "source": [
    "# Data Preparation for Anime"
   ]
  },
  {
   "cell_type": "markdown",
   "id": "5f8d2830",
   "metadata": {},
   "source": [
    "Готовим данные для использования на моделях. В планах провести масштабирование, замену пропущенных значений, кодирование категорических значений и преобразование текстовых значений в их числовое представление через Bag of Words."
   ]
  },
  {
   "cell_type": "markdown",
   "id": "6251b1ba",
   "metadata": {},
   "source": [
    "## Import Data"
   ]
  },
  {
   "cell_type": "code",
   "execution_count": 1,
   "id": "7695bad2",
   "metadata": {},
   "outputs": [],
   "source": [
    "import pandas as pd"
   ]
  },
  {
   "cell_type": "code",
   "execution_count": 2,
   "id": "f814a26d",
   "metadata": {},
   "outputs": [],
   "source": [
    "anime_dataset = pd.read_csv('./datasets/anime_dataset/anime.csv')"
   ]
  },
  {
   "cell_type": "markdown",
   "id": "287ac887",
   "metadata": {},
   "source": [
    "## Familiarize with Data"
   ]
  },
  {
   "cell_type": "markdown",
   "id": "6b010e0f",
   "metadata": {},
   "source": [
    "Названия, жанры, выпущено, выходило, продюсеры, лицензеры, студии - столбцы с текстом.\n",
    "\n",
    "Тип, длительность, рейтинг (возрастной) и источник - столбцы с категорическими значениями.\n",
    "\n",
    "Здесь проще сказать какие значения не надо масштабировать - оценка и кол-во эпизодов."
   ]
  },
  {
   "cell_type": "code",
   "execution_count": 7,
   "id": "23fdaa35",
   "metadata": {},
   "outputs": [
    {
     "data": {
      "text/html": [
       "<div>\n",
       "<style scoped>\n",
       "    .dataframe tbody tr th:only-of-type {\n",
       "        vertical-align: middle;\n",
       "    }\n",
       "\n",
       "    .dataframe tbody tr th {\n",
       "        vertical-align: top;\n",
       "    }\n",
       "\n",
       "    .dataframe thead th {\n",
       "        text-align: right;\n",
       "    }\n",
       "</style>\n",
       "<table border=\"1\" class=\"dataframe\">\n",
       "  <thead>\n",
       "    <tr style=\"text-align: right;\">\n",
       "      <th></th>\n",
       "      <th>MAL_ID</th>\n",
       "      <th>Name</th>\n",
       "      <th>Score</th>\n",
       "      <th>Genres</th>\n",
       "      <th>English name</th>\n",
       "      <th>Japanese name</th>\n",
       "      <th>Type</th>\n",
       "      <th>Episodes</th>\n",
       "      <th>Aired</th>\n",
       "      <th>Premiered</th>\n",
       "      <th>...</th>\n",
       "      <th>Score-10</th>\n",
       "      <th>Score-9</th>\n",
       "      <th>Score-8</th>\n",
       "      <th>Score-7</th>\n",
       "      <th>Score-6</th>\n",
       "      <th>Score-5</th>\n",
       "      <th>Score-4</th>\n",
       "      <th>Score-3</th>\n",
       "      <th>Score-2</th>\n",
       "      <th>Score-1</th>\n",
       "    </tr>\n",
       "  </thead>\n",
       "  <tbody>\n",
       "    <tr>\n",
       "      <th>0</th>\n",
       "      <td>1</td>\n",
       "      <td>Cowboy Bebop</td>\n",
       "      <td>8.78</td>\n",
       "      <td>Action, Adventure, Comedy, Drama, Sci-Fi, Space</td>\n",
       "      <td>Cowboy Bebop</td>\n",
       "      <td>カウボーイビバップ</td>\n",
       "      <td>TV</td>\n",
       "      <td>26</td>\n",
       "      <td>Apr 3, 1998 to Apr 24, 1999</td>\n",
       "      <td>Spring 1998</td>\n",
       "      <td>...</td>\n",
       "      <td>229170.0</td>\n",
       "      <td>182126.0</td>\n",
       "      <td>131625.0</td>\n",
       "      <td>62330.0</td>\n",
       "      <td>20688.0</td>\n",
       "      <td>8904.0</td>\n",
       "      <td>3184.0</td>\n",
       "      <td>1357.0</td>\n",
       "      <td>741.0</td>\n",
       "      <td>1580.0</td>\n",
       "    </tr>\n",
       "    <tr>\n",
       "      <th>1</th>\n",
       "      <td>5</td>\n",
       "      <td>Cowboy Bebop: Tengoku no Tobira</td>\n",
       "      <td>8.39</td>\n",
       "      <td>Action, Drama, Mystery, Sci-Fi, Space</td>\n",
       "      <td>Cowboy Bebop:The Movie</td>\n",
       "      <td>カウボーイビバップ 天国の扉</td>\n",
       "      <td>Movie</td>\n",
       "      <td>1</td>\n",
       "      <td>Sep 1, 2001</td>\n",
       "      <td>Unknown</td>\n",
       "      <td>...</td>\n",
       "      <td>30043.0</td>\n",
       "      <td>49201.0</td>\n",
       "      <td>49505.0</td>\n",
       "      <td>22632.0</td>\n",
       "      <td>5805.0</td>\n",
       "      <td>1877.0</td>\n",
       "      <td>577.0</td>\n",
       "      <td>221.0</td>\n",
       "      <td>109.0</td>\n",
       "      <td>379.0</td>\n",
       "    </tr>\n",
       "    <tr>\n",
       "      <th>2</th>\n",
       "      <td>6</td>\n",
       "      <td>Trigun</td>\n",
       "      <td>8.24</td>\n",
       "      <td>Action, Sci-Fi, Adventure, Comedy, Drama, Shounen</td>\n",
       "      <td>Trigun</td>\n",
       "      <td>トライガン</td>\n",
       "      <td>TV</td>\n",
       "      <td>26</td>\n",
       "      <td>Apr 1, 1998 to Sep 30, 1998</td>\n",
       "      <td>Spring 1998</td>\n",
       "      <td>...</td>\n",
       "      <td>50229.0</td>\n",
       "      <td>75651.0</td>\n",
       "      <td>86142.0</td>\n",
       "      <td>49432.0</td>\n",
       "      <td>15376.0</td>\n",
       "      <td>5838.0</td>\n",
       "      <td>1965.0</td>\n",
       "      <td>664.0</td>\n",
       "      <td>316.0</td>\n",
       "      <td>533.0</td>\n",
       "    </tr>\n",
       "    <tr>\n",
       "      <th>3</th>\n",
       "      <td>7</td>\n",
       "      <td>Witch Hunter Robin</td>\n",
       "      <td>7.27</td>\n",
       "      <td>Action, Mystery, Police, Supernatural, Drama, ...</td>\n",
       "      <td>Witch Hunter Robin</td>\n",
       "      <td>Witch Hunter ROBIN (ウイッチハンターロビン)</td>\n",
       "      <td>TV</td>\n",
       "      <td>26</td>\n",
       "      <td>Jul 2, 2002 to Dec 24, 2002</td>\n",
       "      <td>Summer 2002</td>\n",
       "      <td>...</td>\n",
       "      <td>2182.0</td>\n",
       "      <td>4806.0</td>\n",
       "      <td>10128.0</td>\n",
       "      <td>11618.0</td>\n",
       "      <td>5709.0</td>\n",
       "      <td>2920.0</td>\n",
       "      <td>1083.0</td>\n",
       "      <td>353.0</td>\n",
       "      <td>164.0</td>\n",
       "      <td>131.0</td>\n",
       "    </tr>\n",
       "    <tr>\n",
       "      <th>4</th>\n",
       "      <td>8</td>\n",
       "      <td>Bouken Ou Beet</td>\n",
       "      <td>6.98</td>\n",
       "      <td>Adventure, Fantasy, Shounen, Supernatural</td>\n",
       "      <td>Beet the Vandel Buster</td>\n",
       "      <td>冒険王ビィト</td>\n",
       "      <td>TV</td>\n",
       "      <td>52</td>\n",
       "      <td>Sep 30, 2004 to Sep 29, 2005</td>\n",
       "      <td>Fall 2004</td>\n",
       "      <td>...</td>\n",
       "      <td>312.0</td>\n",
       "      <td>529.0</td>\n",
       "      <td>1242.0</td>\n",
       "      <td>1713.0</td>\n",
       "      <td>1068.0</td>\n",
       "      <td>634.0</td>\n",
       "      <td>265.0</td>\n",
       "      <td>83.0</td>\n",
       "      <td>50.0</td>\n",
       "      <td>27.0</td>\n",
       "    </tr>\n",
       "  </tbody>\n",
       "</table>\n",
       "<p>5 rows × 35 columns</p>\n",
       "</div>"
      ],
      "text/plain": [
       "   MAL_ID                             Name Score  \\\n",
       "0       1                     Cowboy Bebop  8.78   \n",
       "1       5  Cowboy Bebop: Tengoku no Tobira  8.39   \n",
       "2       6                           Trigun  8.24   \n",
       "3       7               Witch Hunter Robin  7.27   \n",
       "4       8                   Bouken Ou Beet  6.98   \n",
       "\n",
       "                                              Genres            English name  \\\n",
       "0    Action, Adventure, Comedy, Drama, Sci-Fi, Space            Cowboy Bebop   \n",
       "1              Action, Drama, Mystery, Sci-Fi, Space  Cowboy Bebop:The Movie   \n",
       "2  Action, Sci-Fi, Adventure, Comedy, Drama, Shounen                  Trigun   \n",
       "3  Action, Mystery, Police, Supernatural, Drama, ...      Witch Hunter Robin   \n",
       "4          Adventure, Fantasy, Shounen, Supernatural  Beet the Vandel Buster   \n",
       "\n",
       "                      Japanese name   Type Episodes  \\\n",
       "0                         カウボーイビバップ     TV       26   \n",
       "1                    カウボーイビバップ 天国の扉  Movie        1   \n",
       "2                             トライガン     TV       26   \n",
       "3  Witch Hunter ROBIN (ウイッチハンターロビン)     TV       26   \n",
       "4                            冒険王ビィト     TV       52   \n",
       "\n",
       "                          Aired    Premiered  ...  Score-10   Score-9  \\\n",
       "0   Apr 3, 1998 to Apr 24, 1999  Spring 1998  ...  229170.0  182126.0   \n",
       "1                   Sep 1, 2001      Unknown  ...   30043.0   49201.0   \n",
       "2   Apr 1, 1998 to Sep 30, 1998  Spring 1998  ...   50229.0   75651.0   \n",
       "3   Jul 2, 2002 to Dec 24, 2002  Summer 2002  ...    2182.0    4806.0   \n",
       "4  Sep 30, 2004 to Sep 29, 2005    Fall 2004  ...     312.0     529.0   \n",
       "\n",
       "    Score-8  Score-7  Score-6 Score-5 Score-4  Score-3  Score-2  Score-1  \n",
       "0  131625.0  62330.0  20688.0  8904.0  3184.0   1357.0    741.0   1580.0  \n",
       "1   49505.0  22632.0   5805.0  1877.0   577.0    221.0    109.0    379.0  \n",
       "2   86142.0  49432.0  15376.0  5838.0  1965.0    664.0    316.0    533.0  \n",
       "3   10128.0  11618.0   5709.0  2920.0  1083.0    353.0    164.0    131.0  \n",
       "4    1242.0   1713.0   1068.0   634.0   265.0     83.0     50.0     27.0  \n",
       "\n",
       "[5 rows x 35 columns]"
      ]
     },
     "execution_count": 7,
     "metadata": {},
     "output_type": "execute_result"
    }
   ],
   "source": [
    "anime_dataset.head()"
   ]
  },
  {
   "cell_type": "markdown",
   "id": "0ff320e0",
   "metadata": {},
   "source": [
    "Здесь ничего не надо делать, так как пропущенных значений нет. \n",
    "\n",
    "Хотелось бы сказать так, но они просто уже заменены на Unknown."
   ]
  },
  {
   "cell_type": "code",
   "execution_count": 4,
   "id": "4e913c8f",
   "metadata": {},
   "outputs": [
    {
     "name": "stdout",
     "output_type": "stream",
     "text": [
      "<class 'pandas.core.frame.DataFrame'>\n",
      "RangeIndex: 17562 entries, 0 to 17561\n",
      "Data columns (total 35 columns):\n",
      " #   Column         Non-Null Count  Dtype \n",
      "---  ------         --------------  ----- \n",
      " 0   MAL_ID         17562 non-null  int64 \n",
      " 1   Name           17562 non-null  object\n",
      " 2   Score          17562 non-null  object\n",
      " 3   Genres         17562 non-null  object\n",
      " 4   English name   17562 non-null  object\n",
      " 5   Japanese name  17562 non-null  object\n",
      " 6   Type           17562 non-null  object\n",
      " 7   Episodes       17562 non-null  object\n",
      " 8   Aired          17562 non-null  object\n",
      " 9   Premiered      17562 non-null  object\n",
      " 10  Producers      17562 non-null  object\n",
      " 11  Licensors      17562 non-null  object\n",
      " 12  Studios        17562 non-null  object\n",
      " 13  Source         17562 non-null  object\n",
      " 14  Duration       17562 non-null  object\n",
      " 15  Rating         17562 non-null  object\n",
      " 16  Ranked         17562 non-null  object\n",
      " 17  Popularity     17562 non-null  int64 \n",
      " 18  Members        17562 non-null  int64 \n",
      " 19  Favorites      17562 non-null  int64 \n",
      " 20  Watching       17562 non-null  int64 \n",
      " 21  Completed      17562 non-null  int64 \n",
      " 22  On-Hold        17562 non-null  int64 \n",
      " 23  Dropped        17562 non-null  int64 \n",
      " 24  Plan to Watch  17562 non-null  int64 \n",
      " 25  Score-10       17562 non-null  object\n",
      " 26  Score-9        17562 non-null  object\n",
      " 27  Score-8        17562 non-null  object\n",
      " 28  Score-7        17562 non-null  object\n",
      " 29  Score-6        17562 non-null  object\n",
      " 30  Score-5        17562 non-null  object\n",
      " 31  Score-4        17562 non-null  object\n",
      " 32  Score-3        17562 non-null  object\n",
      " 33  Score-2        17562 non-null  object\n",
      " 34  Score-1        17562 non-null  object\n",
      "dtypes: int64(9), object(26)\n",
      "memory usage: 4.7+ MB\n"
     ]
    }
   ],
   "source": [
    "anime_dataset.info()"
   ]
  },
  {
   "cell_type": "markdown",
   "id": "730b6124",
   "metadata": {},
   "source": [
    "## Imputing Data"
   ]
  },
  {
   "cell_type": "markdown",
   "id": "2aa89ac0",
   "metadata": {},
   "source": [
    "Перед тем, как проводить операции с данными, нужно очистить их от пропущенных значений."
   ]
  },
  {
   "cell_type": "code",
   "execution_count": 5,
   "id": "12028bed",
   "metadata": {},
   "outputs": [],
   "source": [
    "import numpy as np\n",
    "from sklearn.impute import KNNImputer, SimpleImputer"
   ]
  },
  {
   "cell_type": "code",
   "execution_count": 6,
   "id": "2caa78ed",
   "metadata": {},
   "outputs": [],
   "source": [
    "# все столбцы, которые назваются Score\n",
    "scores = [i for i in anime_dataset.columns if i.split('-')[0] == 'Score']"
   ]
  },
  {
   "cell_type": "code",
   "execution_count": 7,
   "id": "14930e5f",
   "metadata": {},
   "outputs": [],
   "source": [
    "anime_dataset[scores] = anime_dataset[scores].replace('Unknown', '0')"
   ]
  },
  {
   "cell_type": "code",
   "execution_count": 8,
   "id": "96df5fe8",
   "metadata": {},
   "outputs": [],
   "source": [
    "anime_dataset[scores] = anime_dataset[scores].astype('float64')"
   ]
  },
  {
   "cell_type": "code",
   "execution_count": 9,
   "id": "676e263c",
   "metadata": {},
   "outputs": [],
   "source": [
    "anime_dataset['Episodes'] = anime_dataset.Episodes.replace('Unknown', np.NaN)"
   ]
  },
  {
   "cell_type": "code",
   "execution_count": 10,
   "id": "7e5f15d3",
   "metadata": {},
   "outputs": [],
   "source": [
    "anime_dataset['Ranked'] = anime_dataset.Ranked.replace('Unknown', np.NaN)"
   ]
  },
  {
   "cell_type": "code",
   "execution_count": 11,
   "id": "cb931736",
   "metadata": {},
   "outputs": [],
   "source": [
    "imputer = KNNImputer()"
   ]
  },
  {
   "cell_type": "code",
   "execution_count": 12,
   "id": "c785286f",
   "metadata": {},
   "outputs": [],
   "source": [
    "anime_dataset[['Episodes', 'Ranked']] = imputer.fit_transform(anime_dataset[['Episodes', 'Ranked']])"
   ]
  },
  {
   "cell_type": "markdown",
   "id": "867335e1",
   "metadata": {},
   "source": [
    "## Replace Categorical Values\n",
    "Теперь нужно кодировать категорические значения. "
   ]
  },
  {
   "cell_type": "code",
   "execution_count": 13,
   "id": "a915e275",
   "metadata": {},
   "outputs": [],
   "source": [
    "from sklearn.preprocessing import OrdinalEncoder"
   ]
  },
  {
   "cell_type": "code",
   "execution_count": 14,
   "id": "26a9ba5a",
   "metadata": {},
   "outputs": [],
   "source": [
    "# так как нам не важно, каким значением будет число\n",
    "# лишь бы оно было разное, выбираем самый простой кодировщик\n",
    "encoder = OrdinalEncoder()"
   ]
  },
  {
   "cell_type": "code",
   "execution_count": 15,
   "id": "6af34cde",
   "metadata": {},
   "outputs": [],
   "source": [
    "# кодируем, так как в них сравнительно мало уникальных значений\n",
    "cat_cols = ['Type', 'Duration', 'Rating', 'Source', 'Studios',\n",
    "            'Premiered', 'Episodes', 'Producers', 'Licensors']"
   ]
  },
  {
   "cell_type": "code",
   "execution_count": 16,
   "id": "47417316",
   "metadata": {},
   "outputs": [],
   "source": [
    "anime_dataset[cat_cols] = encoder.fit_transform(anime_dataset[cat_cols])"
   ]
  },
  {
   "cell_type": "code",
   "execution_count": 17,
   "id": "6b636e9f",
   "metadata": {},
   "outputs": [
    {
     "name": "stdout",
     "output_type": "stream",
     "text": [
      "<class 'pandas.core.frame.DataFrame'>\n",
      "RangeIndex: 17562 entries, 0 to 17561\n",
      "Data columns (total 35 columns):\n",
      " #   Column         Non-Null Count  Dtype  \n",
      "---  ------         --------------  -----  \n",
      " 0   MAL_ID         17562 non-null  int64  \n",
      " 1   Name           17562 non-null  object \n",
      " 2   Score          17562 non-null  float64\n",
      " 3   Genres         17562 non-null  object \n",
      " 4   English name   17562 non-null  object \n",
      " 5   Japanese name  17562 non-null  object \n",
      " 6   Type           17562 non-null  float64\n",
      " 7   Episodes       17562 non-null  float64\n",
      " 8   Aired          17562 non-null  object \n",
      " 9   Premiered      17562 non-null  float64\n",
      " 10  Producers      17562 non-null  float64\n",
      " 11  Licensors      17562 non-null  float64\n",
      " 12  Studios        17562 non-null  float64\n",
      " 13  Source         17562 non-null  float64\n",
      " 14  Duration       17562 non-null  float64\n",
      " 15  Rating         17562 non-null  float64\n",
      " 16  Ranked         17562 non-null  float64\n",
      " 17  Popularity     17562 non-null  int64  \n",
      " 18  Members        17562 non-null  int64  \n",
      " 19  Favorites      17562 non-null  int64  \n",
      " 20  Watching       17562 non-null  int64  \n",
      " 21  Completed      17562 non-null  int64  \n",
      " 22  On-Hold        17562 non-null  int64  \n",
      " 23  Dropped        17562 non-null  int64  \n",
      " 24  Plan to Watch  17562 non-null  int64  \n",
      " 25  Score-10       17562 non-null  float64\n",
      " 26  Score-9        17562 non-null  float64\n",
      " 27  Score-8        17562 non-null  float64\n",
      " 28  Score-7        17562 non-null  float64\n",
      " 29  Score-6        17562 non-null  float64\n",
      " 30  Score-5        17562 non-null  float64\n",
      " 31  Score-4        17562 non-null  float64\n",
      " 32  Score-3        17562 non-null  float64\n",
      " 33  Score-2        17562 non-null  float64\n",
      " 34  Score-1        17562 non-null  float64\n",
      "dtypes: float64(21), int64(9), object(5)\n",
      "memory usage: 4.7+ MB\n"
     ]
    }
   ],
   "source": [
    "anime_dataset.info()"
   ]
  },
  {
   "cell_type": "markdown",
   "id": "7647229e",
   "metadata": {},
   "source": [
    "## Converting Time Data into Different Columns"
   ]
  },
  {
   "cell_type": "markdown",
   "id": "d185993c",
   "metadata": {},
   "source": [
    "Все наборы данных содержат в себе необработанные столбцы с датой выхода того или иного объекта."
   ]
  },
  {
   "cell_type": "code",
   "execution_count": 18,
   "id": "f8246226",
   "metadata": {},
   "outputs": [],
   "source": [
    "import DataPreparation as dp"
   ]
  },
  {
   "cell_type": "code",
   "execution_count": 19,
   "id": "db6de9f0",
   "metadata": {},
   "outputs": [],
   "source": [
    "# самый простой способ\n",
    "cleared_date = anime_dataset.Aired.str.replace(',', '')"
   ]
  },
  {
   "cell_type": "code",
   "execution_count": 20,
   "id": "9b36c70b",
   "metadata": {},
   "outputs": [],
   "source": [
    "# regex=false, иначе питончик будет ругаться \n",
    "cleared_date = cleared_date.str.replace('?', 'Unknown', regex=False)"
   ]
  },
  {
   "cell_type": "code",
   "execution_count": 21,
   "id": "dc0ae25a",
   "metadata": {},
   "outputs": [],
   "source": [
    "# ебаные to, наконец-то, удалены\n",
    "cleared_date = cleared_date.str.replace('to', '')"
   ]
  },
  {
   "cell_type": "code",
   "execution_count": 22,
   "id": "73741767",
   "metadata": {},
   "outputs": [],
   "source": [
    "# ссаный jupyter ещё не поддерживает 10 версию, поэтому здесь костыли\n",
    "# вместо нормальных case/switch\n",
    "replaced_date = []\n",
    "for date in cleared_date:\n",
    "    das = date.split()\n",
    "    # с самого начала задумывалось, что затем строки будут\n",
    "    # переводиться в числа и так будет проверяться пропущенность значений.\n",
    "    # Все так и было. Инфа сотка.\n",
    "    for i in range(len(das)):\n",
    "        if das[i] == 'Jan':\n",
    "            date = date.replace(das[i], '01')\n",
    "        if das[i] == 'Feb':\n",
    "            date = date.replace(das[i], '02')\n",
    "        if das[i] == 'Mar':\n",
    "            date = date.replace(das[i], '03')\n",
    "        if das[i] == 'Apr':\n",
    "            date = date.replace(das[i], '04')\n",
    "        if das[i] == 'May':\n",
    "            date = date.replace(das[i], '05')\n",
    "        if das[i] == 'Jun':\n",
    "            date = date.replace(das[i], '06')\n",
    "        if das[i] == 'Jul':\n",
    "            date = date.replace(das[i], '07')\n",
    "        if das[i] == 'Aug':\n",
    "            date = date.replace(das[i], '08')\n",
    "        if das[i] == 'Sep':\n",
    "            date = date.replace(das[i], '09')\n",
    "        if das[i] == 'Oct':\n",
    "            date = date.replace(das[i], '10')\n",
    "        if das[i] == 'Nov':\n",
    "            date = date.replace(das[i], '11')\n",
    "        if das[i] == 'Dec':\n",
    "            date = date.replace(das[i], '12')\n",
    "    replaced_date.append(date)"
   ]
  },
  {
   "cell_type": "code",
   "execution_count": 23,
   "id": "48420f14",
   "metadata": {},
   "outputs": [],
   "source": [
    "# надо же как-то все это разделить\n",
    "replaced_date = pd.Series(replaced_date).str.split()"
   ]
  },
  {
   "cell_type": "code",
   "execution_count": 24,
   "id": "e1a2cdc5",
   "metadata": {},
   "outputs": [],
   "source": [
    "cols = ['release_month', 'release_day', 'release_year', 'end_month', 'end_day', 'end_year']"
   ]
  },
  {
   "cell_type": "code",
   "execution_count": 25,
   "id": "e242267f",
   "metadata": {},
   "outputs": [],
   "source": [
    "date_cols = dp.date_to_cols(replaced_date, cols=cols)"
   ]
  },
  {
   "cell_type": "code",
   "execution_count": 26,
   "id": "e8fda8d1",
   "metadata": {},
   "outputs": [],
   "source": [
    "anime_dataset[cols] = date_cols"
   ]
  },
  {
   "cell_type": "markdown",
   "id": "3c0c1e1d",
   "metadata": {},
   "source": [
    "Как мне кажется, от японского названия нет толку, поэтому просто удалим его."
   ]
  },
  {
   "cell_type": "code",
   "execution_count": 27,
   "id": "d7b63629",
   "metadata": {},
   "outputs": [],
   "source": [
    "del anime_dataset['Japanese name']"
   ]
  },
  {
   "cell_type": "code",
   "execution_count": 28,
   "id": "14557145",
   "metadata": {},
   "outputs": [],
   "source": [
    "del anime_dataset['Aired']"
   ]
  },
  {
   "cell_type": "code",
   "execution_count": 29,
   "id": "3af436ca",
   "metadata": {},
   "outputs": [
    {
     "data": {
      "text/html": [
       "<div>\n",
       "<style scoped>\n",
       "    .dataframe tbody tr th:only-of-type {\n",
       "        vertical-align: middle;\n",
       "    }\n",
       "\n",
       "    .dataframe tbody tr th {\n",
       "        vertical-align: top;\n",
       "    }\n",
       "\n",
       "    .dataframe thead th {\n",
       "        text-align: right;\n",
       "    }\n",
       "</style>\n",
       "<table border=\"1\" class=\"dataframe\">\n",
       "  <thead>\n",
       "    <tr style=\"text-align: right;\">\n",
       "      <th></th>\n",
       "      <th>MAL_ID</th>\n",
       "      <th>Name</th>\n",
       "      <th>Score</th>\n",
       "      <th>Genres</th>\n",
       "      <th>English name</th>\n",
       "      <th>Type</th>\n",
       "      <th>Episodes</th>\n",
       "      <th>Premiered</th>\n",
       "      <th>Producers</th>\n",
       "      <th>Licensors</th>\n",
       "      <th>...</th>\n",
       "      <th>Score-4</th>\n",
       "      <th>Score-3</th>\n",
       "      <th>Score-2</th>\n",
       "      <th>Score-1</th>\n",
       "      <th>release_month</th>\n",
       "      <th>release_day</th>\n",
       "      <th>release_year</th>\n",
       "      <th>end_month</th>\n",
       "      <th>end_day</th>\n",
       "      <th>end_year</th>\n",
       "    </tr>\n",
       "  </thead>\n",
       "  <tbody>\n",
       "    <tr>\n",
       "      <th>0</th>\n",
       "      <td>1</td>\n",
       "      <td>Cowboy Bebop</td>\n",
       "      <td>8.78</td>\n",
       "      <td>Action, Adventure, Comedy, Drama, Sci-Fi, Space</td>\n",
       "      <td>Cowboy Bebop</td>\n",
       "      <td>5.0</td>\n",
       "      <td>86.0</td>\n",
       "      <td>93.0</td>\n",
       "      <td>498.0</td>\n",
       "      <td>100.0</td>\n",
       "      <td>...</td>\n",
       "      <td>3184.0</td>\n",
       "      <td>1357.0</td>\n",
       "      <td>741.0</td>\n",
       "      <td>1580.0</td>\n",
       "      <td>4</td>\n",
       "      <td>3</td>\n",
       "      <td>1998</td>\n",
       "      <td>4</td>\n",
       "      <td>24</td>\n",
       "      <td>1999</td>\n",
       "    </tr>\n",
       "    <tr>\n",
       "      <th>1</th>\n",
       "      <td>5</td>\n",
       "      <td>Cowboy Bebop: Tengoku no Tobira</td>\n",
       "      <td>8.39</td>\n",
       "      <td>Action, Drama, Mystery, Sci-Fi, Space</td>\n",
       "      <td>Cowboy Bebop:The Movie</td>\n",
       "      <td>0.0</td>\n",
       "      <td>0.0</td>\n",
       "      <td>171.0</td>\n",
       "      <td>2934.0</td>\n",
       "      <td>200.0</td>\n",
       "      <td>...</td>\n",
       "      <td>577.0</td>\n",
       "      <td>221.0</td>\n",
       "      <td>109.0</td>\n",
       "      <td>379.0</td>\n",
       "      <td>9</td>\n",
       "      <td>1</td>\n",
       "      <td>2001</td>\n",
       "      <td>1</td>\n",
       "      <td>26</td>\n",
       "      <td>2006</td>\n",
       "    </tr>\n",
       "    <tr>\n",
       "      <th>2</th>\n",
       "      <td>6</td>\n",
       "      <td>Trigun</td>\n",
       "      <td>8.24</td>\n",
       "      <td>Action, Sci-Fi, Adventure, Comedy, Drama, Shounen</td>\n",
       "      <td>Trigun</td>\n",
       "      <td>5.0</td>\n",
       "      <td>86.0</td>\n",
       "      <td>93.0</td>\n",
       "      <td>3605.0</td>\n",
       "      <td>109.0</td>\n",
       "      <td>...</td>\n",
       "      <td>1965.0</td>\n",
       "      <td>664.0</td>\n",
       "      <td>316.0</td>\n",
       "      <td>533.0</td>\n",
       "      <td>4</td>\n",
       "      <td>1</td>\n",
       "      <td>1998</td>\n",
       "      <td>9</td>\n",
       "      <td>30</td>\n",
       "      <td>1998</td>\n",
       "    </tr>\n",
       "    <tr>\n",
       "      <th>3</th>\n",
       "      <td>7</td>\n",
       "      <td>Witch Hunter Robin</td>\n",
       "      <td>7.27</td>\n",
       "      <td>Action, Mystery, Police, Supernatural, Drama, ...</td>\n",
       "      <td>Witch Hunter Robin</td>\n",
       "      <td>5.0</td>\n",
       "      <td>86.0</td>\n",
       "      <td>151.0</td>\n",
       "      <td>3126.0</td>\n",
       "      <td>100.0</td>\n",
       "      <td>...</td>\n",
       "      <td>1083.0</td>\n",
       "      <td>353.0</td>\n",
       "      <td>164.0</td>\n",
       "      <td>131.0</td>\n",
       "      <td>7</td>\n",
       "      <td>2</td>\n",
       "      <td>2002</td>\n",
       "      <td>12</td>\n",
       "      <td>24</td>\n",
       "      <td>2002</td>\n",
       "    </tr>\n",
       "    <tr>\n",
       "      <th>4</th>\n",
       "      <td>8</td>\n",
       "      <td>Bouken Ou Beet</td>\n",
       "      <td>6.98</td>\n",
       "      <td>Adventure, Fantasy, Shounen, Supernatural</td>\n",
       "      <td>Beet the Vandel Buster</td>\n",
       "      <td>5.0</td>\n",
       "      <td>127.0</td>\n",
       "      <td>40.0</td>\n",
       "      <td>3138.0</td>\n",
       "      <td>208.0</td>\n",
       "      <td>...</td>\n",
       "      <td>265.0</td>\n",
       "      <td>83.0</td>\n",
       "      <td>50.0</td>\n",
       "      <td>27.0</td>\n",
       "      <td>9</td>\n",
       "      <td>30</td>\n",
       "      <td>2004</td>\n",
       "      <td>9</td>\n",
       "      <td>29</td>\n",
       "      <td>2005</td>\n",
       "    </tr>\n",
       "  </tbody>\n",
       "</table>\n",
       "<p>5 rows × 39 columns</p>\n",
       "</div>"
      ],
      "text/plain": [
       "   MAL_ID                             Name  Score  \\\n",
       "0       1                     Cowboy Bebop   8.78   \n",
       "1       5  Cowboy Bebop: Tengoku no Tobira   8.39   \n",
       "2       6                           Trigun   8.24   \n",
       "3       7               Witch Hunter Robin   7.27   \n",
       "4       8                   Bouken Ou Beet   6.98   \n",
       "\n",
       "                                              Genres            English name  \\\n",
       "0    Action, Adventure, Comedy, Drama, Sci-Fi, Space            Cowboy Bebop   \n",
       "1              Action, Drama, Mystery, Sci-Fi, Space  Cowboy Bebop:The Movie   \n",
       "2  Action, Sci-Fi, Adventure, Comedy, Drama, Shounen                  Trigun   \n",
       "3  Action, Mystery, Police, Supernatural, Drama, ...      Witch Hunter Robin   \n",
       "4          Adventure, Fantasy, Shounen, Supernatural  Beet the Vandel Buster   \n",
       "\n",
       "   Type  Episodes  Premiered  Producers  Licensors  ...  Score-4  Score-3  \\\n",
       "0   5.0      86.0       93.0      498.0      100.0  ...   3184.0   1357.0   \n",
       "1   0.0       0.0      171.0     2934.0      200.0  ...    577.0    221.0   \n",
       "2   5.0      86.0       93.0     3605.0      109.0  ...   1965.0    664.0   \n",
       "3   5.0      86.0      151.0     3126.0      100.0  ...   1083.0    353.0   \n",
       "4   5.0     127.0       40.0     3138.0      208.0  ...    265.0     83.0   \n",
       "\n",
       "   Score-2  Score-1  release_month  release_day  release_year  end_month  \\\n",
       "0    741.0   1580.0              4            3          1998          4   \n",
       "1    109.0    379.0              9            1          2001          1   \n",
       "2    316.0    533.0              4            1          1998          9   \n",
       "3    164.0    131.0              7            2          2002         12   \n",
       "4     50.0     27.0              9           30          2004          9   \n",
       "\n",
       "   end_day  end_year  \n",
       "0       24      1999  \n",
       "1       26      2006  \n",
       "2       30      1998  \n",
       "3       24      2002  \n",
       "4       29      2005  \n",
       "\n",
       "[5 rows x 39 columns]"
      ]
     },
     "execution_count": 29,
     "metadata": {},
     "output_type": "execute_result"
    }
   ],
   "source": [
    "anime_dataset.head()"
   ]
  },
  {
   "cell_type": "markdown",
   "id": "ede614a4",
   "metadata": {},
   "source": [
    "да, из-за того, что были добавлены рандомные значения, теперь в наборе шумы,\n",
    "\n",
    "да, можно было бы на основе вышедших серий просчитать когда аниме вышло,\n",
    "\n",
    "зато теперь все столбцы с датами обработаны."
   ]
  },
  {
   "cell_type": "markdown",
   "id": "69980b1c",
   "metadata": {},
   "source": [
    "### Implement Bag of Words on Dataset"
   ]
  },
  {
   "cell_type": "markdown",
   "id": "a653da2c",
   "metadata": {},
   "source": [
    "Разделение для того, чтобы, ну кто знает этих людей, вдруг кому-то придет в голову кинуть название на английском языке. А шо."
   ]
  },
  {
   "cell_type": "code",
   "execution_count": 8,
   "id": "be5439b0",
   "metadata": {},
   "outputs": [],
   "source": [
    "ids = anime_dataset.index\n",
    "jap_names = anime_dataset.Name\n",
    "en_names = anime_dataset['English name']"
   ]
  },
  {
   "cell_type": "code",
   "execution_count": 9,
   "id": "37ae6032",
   "metadata": {},
   "outputs": [],
   "source": [
    "an_id_name_dict_jap = dict(zip(ids, jap_names))\n",
    "an_id_name_dict_en = dict(zip(ids, en_names))\n",
    "an_name_id_dict_jap = dict(zip(jap_names, ids))\n",
    "an_name_id_dict_en = dict(zip(en_names, ids))"
   ]
  },
  {
   "cell_type": "code",
   "execution_count": 32,
   "id": "1e3b17eb",
   "metadata": {},
   "outputs": [],
   "source": [
    "del anime_dataset['MAL_ID']\n",
    "del anime_dataset['Name']"
   ]
  },
  {
   "cell_type": "code",
   "execution_count": 33,
   "id": "a2c592f4",
   "metadata": {},
   "outputs": [],
   "source": [
    "text_cols = ['Genres', 'English name']"
   ]
  },
  {
   "cell_type": "code",
   "execution_count": 34,
   "id": "f6da1a42",
   "metadata": {},
   "outputs": [],
   "source": [
    "anime_dataset['text_features'] = dp.get_text_features(anime_dataset, text_cols)"
   ]
  },
  {
   "cell_type": "code",
   "execution_count": 35,
   "id": "b4a0c71b",
   "metadata": {},
   "outputs": [
    {
     "name": "stdout",
     "output_type": "stream",
     "text": [
      "[Pipeline] ..... (step 1 of 2) Processing TextToCounter, total= 7.5min\n",
      "[Pipeline] .. (step 2 of 2) Processing CounterToFeature, total=   0.1s\n"
     ]
    }
   ],
   "source": [
    "anime_matrix = dp.text_to_nums.fit_transform(anime_dataset['text_features'])"
   ]
  },
  {
   "cell_type": "code",
   "execution_count": 36,
   "id": "116ee7a7",
   "metadata": {},
   "outputs": [],
   "source": [
    "del anime_dataset['text_features']\n",
    "del anime_dataset['Genres']\n",
    "del anime_dataset['English name']"
   ]
  },
  {
   "cell_type": "markdown",
   "id": "2ab2e8ca",
   "metadata": {},
   "source": [
    "## Simple Data Visualization"
   ]
  },
  {
   "cell_type": "markdown",
   "id": "bf75b2ac",
   "metadata": {},
   "source": [
    "Все, кроме индекса, под нормализацию."
   ]
  },
  {
   "cell_type": "code",
   "execution_count": 37,
   "id": "c7db2743",
   "metadata": {},
   "outputs": [
    {
     "data": {
      "text/plain": [
       "array([[<AxesSubplot:title={'center':'Score'}>,\n",
       "        <AxesSubplot:title={'center':'Type'}>,\n",
       "        <AxesSubplot:title={'center':'Episodes'}>,\n",
       "        <AxesSubplot:title={'center':'Premiered'}>,\n",
       "        <AxesSubplot:title={'center':'Producers'}>,\n",
       "        <AxesSubplot:title={'center':'Licensors'}>],\n",
       "       [<AxesSubplot:title={'center':'Studios'}>,\n",
       "        <AxesSubplot:title={'center':'Source'}>,\n",
       "        <AxesSubplot:title={'center':'Duration'}>,\n",
       "        <AxesSubplot:title={'center':'Rating'}>,\n",
       "        <AxesSubplot:title={'center':'Ranked'}>,\n",
       "        <AxesSubplot:title={'center':'Popularity'}>],\n",
       "       [<AxesSubplot:title={'center':'Members'}>,\n",
       "        <AxesSubplot:title={'center':'Favorites'}>,\n",
       "        <AxesSubplot:title={'center':'Watching'}>,\n",
       "        <AxesSubplot:title={'center':'Completed'}>,\n",
       "        <AxesSubplot:title={'center':'On-Hold'}>,\n",
       "        <AxesSubplot:title={'center':'Dropped'}>],\n",
       "       [<AxesSubplot:title={'center':'Plan to Watch'}>,\n",
       "        <AxesSubplot:title={'center':'Score-10'}>,\n",
       "        <AxesSubplot:title={'center':'Score-9'}>,\n",
       "        <AxesSubplot:title={'center':'Score-8'}>,\n",
       "        <AxesSubplot:title={'center':'Score-7'}>,\n",
       "        <AxesSubplot:title={'center':'Score-6'}>],\n",
       "       [<AxesSubplot:title={'center':'Score-5'}>,\n",
       "        <AxesSubplot:title={'center':'Score-4'}>,\n",
       "        <AxesSubplot:title={'center':'Score-3'}>,\n",
       "        <AxesSubplot:title={'center':'Score-2'}>,\n",
       "        <AxesSubplot:title={'center':'Score-1'}>,\n",
       "        <AxesSubplot:title={'center':'release_month'}>],\n",
       "       [<AxesSubplot:title={'center':'release_day'}>,\n",
       "        <AxesSubplot:title={'center':'release_year'}>,\n",
       "        <AxesSubplot:title={'center':'end_month'}>,\n",
       "        <AxesSubplot:title={'center':'end_day'}>,\n",
       "        <AxesSubplot:title={'center':'end_year'}>, <AxesSubplot:>]],\n",
       "      dtype=object)"
      ]
     },
     "execution_count": 37,
     "metadata": {},
     "output_type": "execute_result"
    },
    {
     "data": {
      "image/png": "[encoded data removed]",
      "text/plain": [
       "<Figure size 1800x1800 with 36 Axes>"
      ]
     },
     "metadata": {
      "needs_background": "light"
     },
     "output_type": "display_data"
    }
   ],
   "source": [
    "anime_dataset.hist(figsize=(25, 25))"
   ]
  },
  {
   "cell_type": "markdown",
   "id": "132d0a81",
   "metadata": {},
   "source": [
    "## Data Normalization"
   ]
  },
  {
   "cell_type": "markdown",
   "id": "f9e31105",
   "metadata": {},
   "source": [
    "Функция implement_scalar просто применяет нормализацию, выделяя только численные столбцы. Так как, на данный момент, они у нас все численные, то это бессмысленно."
   ]
  },
  {
   "cell_type": "code",
   "execution_count": 38,
   "id": "4191611f",
   "metadata": {},
   "outputs": [],
   "source": [
    "scaled_nums, cols = dp.implement_scalar(anime_dataset)"
   ]
  },
  {
   "cell_type": "code",
   "execution_count": 39,
   "id": "dfa2547c",
   "metadata": {},
   "outputs": [],
   "source": [
    "anime_dataset[cols] = scaled_nums"
   ]
  },
  {
   "cell_type": "code",
   "execution_count": 40,
   "id": "e955a2b7",
   "metadata": {},
   "outputs": [
    {
     "data": {
      "text/html": [
       "<div>\n",
       "<style scoped>\n",
       "    .dataframe tbody tr th:only-of-type {\n",
       "        vertical-align: middle;\n",
       "    }\n",
       "\n",
       "    .dataframe tbody tr th {\n",
       "        vertical-align: top;\n",
       "    }\n",
       "\n",
       "    .dataframe thead th {\n",
       "        text-align: right;\n",
       "    }\n",
       "</style>\n",
       "<table border=\"1\" class=\"dataframe\">\n",
       "  <thead>\n",
       "    <tr style=\"text-align: right;\">\n",
       "      <th></th>\n",
       "      <th>Score</th>\n",
       "      <th>Type</th>\n",
       "      <th>Episodes</th>\n",
       "      <th>Premiered</th>\n",
       "      <th>Producers</th>\n",
       "      <th>Licensors</th>\n",
       "      <th>Studios</th>\n",
       "      <th>Source</th>\n",
       "      <th>Duration</th>\n",
       "      <th>Rating</th>\n",
       "      <th>...</th>\n",
       "      <th>Score-4</th>\n",
       "      <th>Score-3</th>\n",
       "      <th>Score-2</th>\n",
       "      <th>Score-1</th>\n",
       "      <th>release_month</th>\n",
       "      <th>release_day</th>\n",
       "      <th>release_year</th>\n",
       "      <th>end_month</th>\n",
       "      <th>end_day</th>\n",
       "      <th>end_year</th>\n",
       "    </tr>\n",
       "  </thead>\n",
       "  <tbody>\n",
       "    <tr>\n",
       "      <th>0</th>\n",
       "      <td>0.955386</td>\n",
       "      <td>0.833333</td>\n",
       "      <td>0.307143</td>\n",
       "      <td>0.404348</td>\n",
       "      <td>0.131676</td>\n",
       "      <td>0.434783</td>\n",
       "      <td>0.804408</td>\n",
       "      <td>0.6</td>\n",
       "      <td>0.519231</td>\n",
       "      <td>0.500000</td>\n",
       "      <td>...</td>\n",
       "      <td>0.039234</td>\n",
       "      <td>0.030699</td>\n",
       "      <td>0.029207</td>\n",
       "      <td>0.046815</td>\n",
       "      <td>0.001978</td>\n",
       "      <td>0.001484</td>\n",
       "      <td>0.988125</td>\n",
       "      <td>0.001979</td>\n",
       "      <td>0.011875</td>\n",
       "      <td>0.650794</td>\n",
       "    </tr>\n",
       "    <tr>\n",
       "      <th>1</th>\n",
       "      <td>0.912949</td>\n",
       "      <td>0.000000</td>\n",
       "      <td>0.000000</td>\n",
       "      <td>0.743478</td>\n",
       "      <td>0.775780</td>\n",
       "      <td>0.869565</td>\n",
       "      <td>0.130395</td>\n",
       "      <td>0.6</td>\n",
       "      <td>0.208333</td>\n",
       "      <td>0.500000</td>\n",
       "      <td>...</td>\n",
       "      <td>0.007110</td>\n",
       "      <td>0.005000</td>\n",
       "      <td>0.004296</td>\n",
       "      <td>0.011230</td>\n",
       "      <td>0.004451</td>\n",
       "      <td>0.000495</td>\n",
       "      <td>0.989609</td>\n",
       "      <td>0.000495</td>\n",
       "      <td>0.012865</td>\n",
       "      <td>0.761905</td>\n",
       "    </tr>\n",
       "    <tr>\n",
       "      <th>2</th>\n",
       "      <td>0.896627</td>\n",
       "      <td>0.833333</td>\n",
       "      <td>0.307143</td>\n",
       "      <td>0.404348</td>\n",
       "      <td>0.953199</td>\n",
       "      <td>0.473913</td>\n",
       "      <td>0.426079</td>\n",
       "      <td>0.4</td>\n",
       "      <td>0.519231</td>\n",
       "      <td>0.333333</td>\n",
       "      <td>...</td>\n",
       "      <td>0.024213</td>\n",
       "      <td>0.015021</td>\n",
       "      <td>0.012455</td>\n",
       "      <td>0.015793</td>\n",
       "      <td>0.001978</td>\n",
       "      <td>0.000495</td>\n",
       "      <td>0.988125</td>\n",
       "      <td>0.004453</td>\n",
       "      <td>0.014844</td>\n",
       "      <td>0.634921</td>\n",
       "    </tr>\n",
       "    <tr>\n",
       "      <th>3</th>\n",
       "      <td>0.791077</td>\n",
       "      <td>0.833333</td>\n",
       "      <td>0.307143</td>\n",
       "      <td>0.656522</td>\n",
       "      <td>0.826547</td>\n",
       "      <td>0.434783</td>\n",
       "      <td>0.804408</td>\n",
       "      <td>0.6</td>\n",
       "      <td>0.532051</td>\n",
       "      <td>0.333333</td>\n",
       "      <td>...</td>\n",
       "      <td>0.013345</td>\n",
       "      <td>0.007986</td>\n",
       "      <td>0.006464</td>\n",
       "      <td>0.003881</td>\n",
       "      <td>0.003462</td>\n",
       "      <td>0.000990</td>\n",
       "      <td>0.990104</td>\n",
       "      <td>0.005938</td>\n",
       "      <td>0.011875</td>\n",
       "      <td>0.698413</td>\n",
       "    </tr>\n",
       "    <tr>\n",
       "      <th>4</th>\n",
       "      <td>0.759521</td>\n",
       "      <td>0.833333</td>\n",
       "      <td>0.453571</td>\n",
       "      <td>0.173913</td>\n",
       "      <td>0.829720</td>\n",
       "      <td>0.904348</td>\n",
       "      <td>0.887971</td>\n",
       "      <td>0.4</td>\n",
       "      <td>0.506410</td>\n",
       "      <td>0.166667</td>\n",
       "      <td>...</td>\n",
       "      <td>0.003265</td>\n",
       "      <td>0.001878</td>\n",
       "      <td>0.001971</td>\n",
       "      <td>0.000800</td>\n",
       "      <td>0.004451</td>\n",
       "      <td>0.014844</td>\n",
       "      <td>0.991094</td>\n",
       "      <td>0.004453</td>\n",
       "      <td>0.014349</td>\n",
       "      <td>0.746032</td>\n",
       "    </tr>\n",
       "  </tbody>\n",
       "</table>\n",
       "<p>5 rows × 35 columns</p>\n",
       "</div>"
      ],
      "text/plain": [
       "      Score      Type  Episodes  Premiered  Producers  Licensors   Studios  \\\n",
       "0  0.955386  0.833333  0.307143   0.404348   0.131676   0.434783  0.804408   \n",
       "1  0.912949  0.000000  0.000000   0.743478   0.775780   0.869565  0.130395   \n",
       "2  0.896627  0.833333  0.307143   0.404348   0.953199   0.473913  0.426079   \n",
       "3  0.791077  0.833333  0.307143   0.656522   0.826547   0.434783  0.804408   \n",
       "4  0.759521  0.833333  0.453571   0.173913   0.829720   0.904348  0.887971   \n",
       "\n",
       "   Source  Duration    Rating  ...   Score-4   Score-3   Score-2   Score-1  \\\n",
       "0     0.6  0.519231  0.500000  ...  0.039234  0.030699  0.029207  0.046815   \n",
       "1     0.6  0.208333  0.500000  ...  0.007110  0.005000  0.004296  0.011230   \n",
       "2     0.4  0.519231  0.333333  ...  0.024213  0.015021  0.012455  0.015793   \n",
       "3     0.6  0.532051  0.333333  ...  0.013345  0.007986  0.006464  0.003881   \n",
       "4     0.4  0.506410  0.166667  ...  0.003265  0.001878  0.001971  0.000800   \n",
       "\n",
       "   release_month  release_day  release_year  end_month   end_day  end_year  \n",
       "0       0.001978     0.001484      0.988125   0.001979  0.011875  0.650794  \n",
       "1       0.004451     0.000495      0.989609   0.000495  0.012865  0.761905  \n",
       "2       0.001978     0.000495      0.988125   0.004453  0.014844  0.634921  \n",
       "3       0.003462     0.000990      0.990104   0.005938  0.011875  0.698413  \n",
       "4       0.004451     0.014844      0.991094   0.004453  0.014349  0.746032  \n",
       "\n",
       "[5 rows x 35 columns]"
      ]
     },
     "execution_count": 40,
     "metadata": {},
     "output_type": "execute_result"
    }
   ],
   "source": [
    "anime_dataset.head()"
   ]
  },
  {
   "cell_type": "markdown",
   "id": "b5f13168",
   "metadata": {},
   "source": [
    "# Getting Recommendations"
   ]
  },
  {
   "cell_type": "markdown",
   "id": "9b70fff8",
   "metadata": {},
   "source": [
    "После нормализации данных, рекомендации улучшились. Если раньше, когда запрашиваешь похожие на Bakemonogatari, на первом месте был Vampire Knight, то сейчас - то, что нужно - второй сезон гатарей."
   ]
  },
  {
   "cell_type": "code",
   "execution_count": 16,
   "id": "9b3a41d9",
   "metadata": {},
   "outputs": [],
   "source": [
    "import GiveRecommendations as gs"
   ]
  },
  {
   "cell_type": "code",
   "execution_count": 14,
   "id": "3ef19ed1",
   "metadata": {},
   "outputs": [],
   "source": [
    "anime_matrix = pd.read_csv('./datasets/anime_dataset/anime_text_matrix.csv')"
   ]
  },
  {
   "cell_type": "code",
   "execution_count": 17,
   "id": "1c3558b2",
   "metadata": {},
   "outputs": [],
   "source": [
    "#anime_num_matrix = anime_dataset.to_numpy()\n",
    "anime_num_matrix = pd.read_csv('./datasets/anime_dataset/anime_num_matrix.csv')"
   ]
  },
  {
   "cell_type": "code",
   "execution_count": 18,
   "id": "2bcb9a08",
   "metadata": {},
   "outputs": [],
   "source": [
    "full_cs = gs.get_cosine_sim(anime_matrix, anime_num_matrix)"
   ]
  },
  {
   "cell_type": "code",
   "execution_count": 27,
   "id": "b18f552b",
   "metadata": {},
   "outputs": [],
   "source": [
    "similaries = gs.get_similar(full_cs, 'Bakemonogatari', an_id_name_dict_jap, an_name_id_dict_jap)"
   ]
  },
  {
   "cell_type": "code",
   "execution_count": 28,
   "id": "e33e44f4",
   "metadata": {},
   "outputs": [
    {
     "data": {
      "text/plain": [
       "['Monogatari Series: Second Season',\n",
       " 'Shiki',\n",
       " 'Bakemonogatari Recap',\n",
       " 'xxxHOLiC Rou',\n",
       " 'Blood-C',\n",
       " 'Nisemonogatari',\n",
       " 'Fortune Arterial: Akai Yakusoku']"
      ]
     },
     "execution_count": 28,
     "metadata": {},
     "output_type": "execute_result"
    }
   ],
   "source": [
    "similaries"
   ]
  },
  {
   "cell_type": "code",
   "execution_count": 46,
   "id": "3eb01e95",
   "metadata": {},
   "outputs": [],
   "source": [
    "#anime_text_matrix = pd.DataFrame(anime_matrix.toarray())"
   ]
  },
  {
   "cell_type": "code",
   "execution_count": 47,
   "id": "858c01cd",
   "metadata": {},
   "outputs": [],
   "source": [
    "#anime_text_matrix.to_csv('C:/Users/ASDW/Python/Projects/Recosys 2.0/datasets/anime_dataset/anime_text_matrix.csv')"
   ]
  },
  {
   "cell_type": "code",
   "execution_count": 48,
   "id": "acc94cd4",
   "metadata": {},
   "outputs": [],
   "source": [
    "#anime_dataset.to_csv('C:/Users/ASDW/Python/Projects/Recosys 2.0/datasets/anime_dataset/anime_num_matrix.csv')"
   ]
  },
  {
   "cell_type": "code",
   "execution_count": null,
   "id": "a0d151fd",
   "metadata": {},
   "outputs": [],
   "source": []
  }
 ],
 "metadata": {
  "kernelspec": {
   "display_name": "Python 3",
   "language": "python",
   "name": "python3"
  },
  "language_info": {
   "codemirror_mode": {
    "name": "ipython",
    "version": 3
   },
   "file_extension": ".py",
   "mimetype": "text/x-python",
   "name": "python",
   "nbconvert_exporter": "python",
   "pygments_lexer": "ipython3",
   "version": "3.8.8"
  }
 },
 "nbformat": 4,
 "nbformat_minor": 5
}
