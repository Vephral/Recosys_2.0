{
 "cells": [
  {
   "cell_type": "markdown",
   "id": "04c51811",
   "metadata": {},
   "source": [
    "# Get Recommendations for Games"
   ]
  },
  {
   "cell_type": "markdown",
   "id": "541b99af",
   "metadata": {},
   "source": [
    "Ограничение: 4 запроса в секунду. Намного лучше, чем в Jikan\n",
    "\n",
    "Доп.ограничение: не более 8 одновременно открытых сессий. Иначе - ошибка."
   ]
  },
  {
   "cell_type": "markdown",
   "id": "30148679",
   "metadata": {},
   "source": [
    "Twitch-токен нужно обновлять раз в n секунд. Пока держи это в голове."
   ]
  },
  {
   "cell_type": "code",
   "execution_count": 18,
   "id": "9fcbb09d",
   "metadata": {},
   "outputs": [],
   "source": [
    "import time\n",
    "import asyncio\n",
    "import aiohttp\n",
    "import requests\n",
    "import threading\n",
    "import pandas as pd"
   ]
  },
  {
   "cell_type": "code",
   "execution_count": null,
   "id": "6d3a3171",
   "metadata": {},
   "outputs": [],
   "source": [
    "url = 'https://id.twitch.tv/oauth2/token?client_id=x0rncah74zueqqov31fhkwuzlqv27a&client_secret=nyoj0usmdecwegm7e14c40s9kbq1hw&grant_type=client_credentials'"
   ]
  },
  {
   "cell_type": "code",
   "execution_count": 46,
   "id": "28d710ef",
   "metadata": {},
   "outputs": [],
   "source": [
    "response = requests.request('POST', url=url)"
   ]
  },
  {
   "cell_type": "code",
   "execution_count": 47,
   "id": "29131681",
   "metadata": {},
   "outputs": [],
   "source": [
    "access_token = response.text"
   ]
  },
  {
   "cell_type": "code",
   "execution_count": 48,
   "id": "bff079ef",
   "metadata": {},
   "outputs": [
    {
     "data": {
      "text/plain": [
       "'{\"access_token\":\"lhty0tvjq3el3s4rufgiw5vufmjk31\",\"expires_in\":4873986,\"token_type\":\"bearer\"}\\n'"
      ]
     },
     "execution_count": 48,
     "metadata": {},
     "output_type": "execute_result"
    }
   ],
   "source": [
    "access_token"
   ]
  },
  {
   "cell_type": "markdown",
   "id": "760640de",
   "metadata": {},
   "source": [
    "Все операции выше уже были проделаны. Токен был получен, его нужно будет заменить через 63 дня."
   ]
  },
  {
   "cell_type": "code",
   "execution_count": 13,
   "id": "9eae34bd",
   "metadata": {},
   "outputs": [],
   "source": [
    "text_cols = ['storyline', 'summary']"
   ]
  },
  {
   "cell_type": "code",
   "execution_count": 14,
   "id": "e490204a",
   "metadata": {},
   "outputs": [],
   "source": [
    "cols = ['id', 'name',  'age_ratings', 'slug', 'aggregated_rating', 'aggregated_rating_count', 'category', 'collection', \n",
    "        'alternative_names', 'external_games', 'first_release_date', 'game_engines', 'game_modes', 'genres', \n",
    "        'involved_companies', 'keywords', 'platforms', 'rating', 'player_perspectives', 'dlcs', 'franchise',\n",
    "        'rating_count', 'release_dates', 'similar_games', 'tags', 'parent_game', 'status',\n",
    "        'total_rating', 'total_rating_count', 'updated_at', 'websites']"
   ]
  },
  {
   "cell_type": "code",
   "execution_count": 15,
   "id": "94bcc247",
   "metadata": {},
   "outputs": [],
   "source": [
    "client_id = 'x0rncah74zueqqov31fhkwuzlqv27a'\n",
    "access_token = 'Bearer lhty0tvjq3el3s4rufgiw5vufmjk31'"
   ]
  },
  {
   "cell_type": "code",
   "execution_count": 20,
   "id": "fdb5723a",
   "metadata": {},
   "outputs": [],
   "source": [
    "async def create_games_dataset(floor, ceiling, endpoint='games'):\n",
    "    # нужно для того, чтобы авторизироваться\n",
    "    headers = {'Client-ID': client_id, \n",
    "               'Authorization': access_token}\n",
    "    async with aiohttp.ClientSession() as session:\n",
    "        all_games = pd.DataFrame(columns=cols)\n",
    "        for i in range(floor, ceiling):\n",
    "            # endpoint и id можно изменять для того, чтобы получить разные наборы\n",
    "            body = 'fields *; where id = ' + str(i) + ';'\n",
    "            async with session.post('https://api.igdb.com/v4/' + endpoint + '/', headers=headers, data=body) as resp:\n",
    "                game = await resp.json()\n",
    "                try: # если вышла такая ошибка, значит слишком много запросов в одну секунду\n",
    "                    # на тот случай, если id нет в базе данных\n",
    "                    if len(game) > 0:\n",
    "                        all_games.loc[len(all_games.index)] = game[0]\n",
    "                except KeyError: # поэтому, ждем 1 секунду и делаем новый запрос\n",
    "                    time.sleep(3)\n",
    "                    async with session.post('https://api.igdb.com/v4/' + endpoint + '/', headers=headers, data=body) as resp:\n",
    "                        game = await resp.json()\n",
    "                        if len(game) > 0:\n",
    "                            all_games.loc[len(all_games.index)] = game[0]\n",
    "        return all_games"
   ]
  },
  {
   "cell_type": "code",
   "execution_count": 21,
   "id": "29995378",
   "metadata": {
    "scrolled": true
   },
   "outputs": [
    {
     "name": "stdout",
     "output_type": "stream",
     "text": [
      "<ClientResponse(https://api.igdb.com/v4/games/) [200 OK]>\n",
      "<CIMultiDictProxy('Date': 'Mon, 04 Oct 2021 12:30:08 GMT', 'Content-Type': 'application/json;charset=utf-8', 'Content-Length': '2715', 'Connection': 'keep-alive', 'x-amzn-RequestId': 'b8705fad-8412-441b-a370-29f979e45ed9', 'Content-Encoding': 'gzip', 'x-amzn-Remapped-Content-Length': '2715', 'x-amz-apigw-id': 'GrsIhGgRPHcFSUw=', 'x-amzn-Remapped-Server': 'Javalin', 'X-Count': '1', 'x-amzn-Remapped-Date': 'Mon, 04 Oct 2021 12:30:07 GMT', 'X-Cache': 'Miss from cloudfront', 'Via': '1.1 3bf14a720d62e0d1295d99086d103efb.cloudfront.net (CloudFront)', 'X-Amz-Cf-Pop': 'ARN54-C1', 'X-Amz-Cf-Id': 'yi3gub4XpgPytM4cxuTrGvYr1UK7hr_vBGDJnd9DhOJa34je5qUX9A==', 'CF-Cache-Status': 'DYNAMIC', 'Expect-CT': 'max-age=604800, report-uri=\"https://report-uri.cloudflare.com/cdn-cgi/beacon/expect-ct\"', 'Strict-Transport-Security': 'max-age=15552000; includeSubDomains; preload', 'X-Content-Type-Options': 'nosniff', 'Server': 'cloudflare', 'CF-RAY': '698e6b729f6416a7-DME')>\n",
      "\n",
      "<ClientResponse(https://api.igdb.com/v4/games/) [200 OK]>\n",
      "<CIMultiDictProxy('Date': 'Mon, 04 Oct 2021 12:30:09 GMT', 'Content-Type': 'application/json;charset=utf-8', 'Content-Length': '1587', 'Connection': 'keep-alive', 'x-amzn-RequestId': '1f02db61-3b3d-4ce3-b782-9ad4a21ddb11', 'Content-Encoding': 'gzip', 'x-amzn-Remapped-Content-Length': '1587', 'x-amz-apigw-id': 'GrsIqHsYPHcFpuA=', 'x-amzn-Remapped-Server': 'Javalin', 'X-Count': '1', 'x-amzn-Remapped-Date': 'Mon, 04 Oct 2021 12:30:08 GMT', 'X-Cache': 'Miss from cloudfront', 'Via': '1.1 f13ebb34b9ca74b5ffe9e85709c21a7c.cloudfront.net (CloudFront)', 'X-Amz-Cf-Pop': 'ARN54-C1', 'X-Amz-Cf-Id': 'u0o91StWkJuerFd3t6AiwL2hwupn7bYeaBdNt6VDvSZtwMZh6s90SA==', 'CF-Cache-Status': 'DYNAMIC', 'Expect-CT': 'max-age=604800, report-uri=\"https://report-uri.cloudflare.com/cdn-cgi/beacon/expect-ct\"', 'Strict-Transport-Security': 'max-age=15552000; includeSubDomains; preload', 'X-Content-Type-Options': 'nosniff', 'Server': 'cloudflare', 'CF-RAY': '698e6b76ab0016af-DME')>\n",
      "\n",
      "<ClientResponse(https://api.igdb.com/v4/games/) [200 OK]>\n",
      "<CIMultiDictProxy('Date': 'Mon, 04 Oct 2021 12:30:09 GMT', 'Content-Type': 'application/json;charset=utf-8', 'Content-Length': '1984', 'Connection': 'keep-alive', 'x-amzn-RequestId': '50aff1a4-3c55-4b76-97ec-c606c73fe0d6', 'Content-Encoding': 'gzip', 'x-amzn-Remapped-Content-Length': '1984', 'x-amz-apigw-id': 'GrsIxHONvHcFWoA=', 'x-amzn-Remapped-Server': 'Javalin', 'X-Count': '1', 'x-amzn-Remapped-Date': 'Mon, 04 Oct 2021 12:30:09 GMT', 'X-Cache': 'Miss from cloudfront', 'Via': '1.1 432d52d55ad517cddd9081b248b2f116.cloudfront.net (CloudFront)', 'X-Amz-Cf-Pop': 'ARN54-C1', 'X-Amz-Cf-Id': 'bP55Utxv_78zFKqVywtuDOCX3jxjbkxMzntXyOtdHydBv_wISUqt8w==', 'CF-Cache-Status': 'DYNAMIC', 'Expect-CT': 'max-age=604800, report-uri=\"https://report-uri.cloudflare.com/cdn-cgi/beacon/expect-ct\"', 'Strict-Transport-Security': 'max-age=15552000; includeSubDomains; preload', 'X-Content-Type-Options': 'nosniff', 'Server': 'cloudflare', 'CF-RAY': '698e6b7ccd681604-DME')>\n",
      "\n",
      "<ClientResponse(https://api.igdb.com/v4/games/) [200 OK]>\n",
      "<CIMultiDictProxy('Date': 'Mon, 04 Oct 2021 12:30:10 GMT', 'Content-Type': 'application/json;charset=utf-8', 'Content-Length': '2191', 'Connection': 'keep-alive', 'x-amzn-RequestId': 'c99eb7dd-c125-4a52-9117-070ceb002c98', 'Content-Encoding': 'gzip', 'x-amzn-Remapped-Content-Length': '2191', 'x-amz-apigw-id': 'GrsI4HzVvHcF3Qw=', 'x-amzn-Remapped-Server': 'Javalin', 'X-Count': '1', 'x-amzn-Remapped-Date': 'Mon, 04 Oct 2021 12:30:10 GMT', 'X-Cache': 'Miss from cloudfront', 'Via': '1.1 a52c33748955378f279062b7fc7ef91e.cloudfront.net (CloudFront)', 'X-Amz-Cf-Pop': 'ARN54-C1', 'X-Amz-Cf-Id': 'u8ZMo_mkJE8vk6ahueAmtVpBP6vvbpl3Ljxf6u33s9oshYGwDLKC2w==', 'CF-Cache-Status': 'DYNAMIC', 'Expect-CT': 'max-age=604800, report-uri=\"https://report-uri.cloudflare.com/cdn-cgi/beacon/expect-ct\"', 'Strict-Transport-Security': 'max-age=15552000; includeSubDomains; preload', 'X-Content-Type-Options': 'nosniff', 'Server': 'cloudflare', 'CF-RAY': '698e6b80e8450065-DME')>\n",
      "\n",
      "<ClientResponse(https://api.igdb.com/v4/games/) [200 OK]>\n",
      "<CIMultiDictProxy('Date': 'Mon, 04 Oct 2021 12:30:11 GMT', 'Content-Type': 'application/json;charset=utf-8', 'Content-Length': '2317', 'Connection': 'keep-alive', 'x-amzn-RequestId': '6aed9920-1658-49dc-b99c-acb762fbc344', 'Content-Encoding': 'gzip', 'x-amzn-Remapped-Content-Length': '2317', 'x-amz-apigw-id': 'GrsJBEnxvHcF9aQ=', 'x-amzn-Remapped-Server': 'Javalin', 'X-Count': '1', 'x-amzn-Remapped-Date': 'Mon, 04 Oct 2021 12:30:11 GMT', 'X-Cache': 'Miss from cloudfront', 'Via': '1.1 ed87681648230d81cfe4a69364ab730c.cloudfront.net (CloudFront)', 'X-Amz-Cf-Pop': 'ARN54-C1', 'X-Amz-Cf-Id': 'VYX-iGXZErLE61OLHqauWtiQywdni54JiZ0eV7Mol4SOBQqDsxtGhw==', 'CF-Cache-Status': 'DYNAMIC', 'Expect-CT': 'max-age=604800, report-uri=\"https://report-uri.cloudflare.com/cdn-cgi/beacon/expect-ct\"', 'Strict-Transport-Security': 'max-age=15552000; includeSubDomains; preload', 'X-Content-Type-Options': 'nosniff', 'Server': 'cloudflare', 'CF-RAY': '698e6b850f0b1687-DME')>\n",
      "\n",
      "<ClientResponse(https://api.igdb.com/v4/games/) [200 OK]>\n",
      "<CIMultiDictProxy('Date': 'Mon, 04 Oct 2021 12:30:12 GMT', 'Content-Type': 'application/json;charset=utf-8', 'Content-Length': '3438', 'Connection': 'keep-alive', 'x-amzn-RequestId': '1d7ecbc4-0266-462a-8d24-897385910a5c', 'Content-Encoding': 'gzip', 'x-amzn-Remapped-Content-Length': '3438', 'x-amz-apigw-id': 'GrsJLEEMvHcFW3w=', 'x-amzn-Remapped-Server': 'Javalin', 'X-Count': '1', 'x-amzn-Remapped-Date': 'Mon, 04 Oct 2021 12:30:12 GMT', 'X-Cache': 'Miss from cloudfront', 'Via': '1.1 8b239179bc9927784033910eb0635eea.cloudfront.net (CloudFront)', 'X-Amz-Cf-Pop': 'ARN54-C1', 'X-Amz-Cf-Id': 'RJQVQbwnwXNLaS_CxmvXLJ4ZwsClPYg5nLf_9GstGQLLym8D3gziGQ==', 'CF-Cache-Status': 'DYNAMIC', 'Expect-CT': 'max-age=604800, report-uri=\"https://report-uri.cloudflare.com/cdn-cgi/beacon/expect-ct\"', 'Strict-Transport-Security': 'max-age=15552000; includeSubDomains; preload', 'X-Content-Type-Options': 'nosniff', 'Server': 'cloudflare', 'CF-RAY': '698e6b8b2fff0069-DME')>\n",
      "\n",
      "<ClientResponse(https://api.igdb.com/v4/games/) [200 OK]>\n",
      "<CIMultiDictProxy('Date': 'Mon, 04 Oct 2021 12:30:13 GMT', 'Content-Type': 'application/json;charset=utf-8', 'Content-Length': '1274', 'Connection': 'keep-alive', 'x-amzn-RequestId': '6f60ad19-9fa4-41b6-91f4-351953f8530a', 'Content-Encoding': 'gzip', 'x-amzn-Remapped-Content-Length': '1274', 'x-amz-apigw-id': 'GrsJSHGEPHcF_cA=', 'x-amzn-Remapped-Server': 'Javalin', 'X-Count': '1', 'x-amzn-Remapped-Date': 'Mon, 04 Oct 2021 12:30:12 GMT', 'X-Cache': 'Miss from cloudfront', 'Via': '1.1 92f415f504f960872d71a5b454174362.cloudfront.net (CloudFront)', 'X-Amz-Cf-Pop': 'ARN54-C1', 'X-Amz-Cf-Id': 'rYvvU_lGjOxZEFwSQVCppk-dWnKSFfcNccjQd6o-14JFQay734OWYQ==', 'CF-Cache-Status': 'DYNAMIC', 'Expect-CT': 'max-age=604800, report-uri=\"https://report-uri.cloudflare.com/cdn-cgi/beacon/expect-ct\"', 'Strict-Transport-Security': 'max-age=15552000; includeSubDomains; preload', 'X-Content-Type-Options': 'nosniff', 'Server': 'cloudflare', 'CF-RAY': '698e6b9159b7906f-DME')>\n",
      "\n",
      "<ClientResponse(https://api.igdb.com/v4/games/) [200 OK]>\n",
      "<CIMultiDictProxy('Date': 'Mon, 04 Oct 2021 12:30:14 GMT', 'Content-Type': 'application/json;charset=utf-8', 'Content-Length': '1191', 'Connection': 'keep-alive', 'x-amzn-RequestId': 'c51a8e24-3484-4bd1-9d43-d7ae22ab2b6f', 'Content-Encoding': 'gzip', 'x-amzn-Remapped-Content-Length': '1191', 'x-amz-apigw-id': 'GrsJcHgavHcFl6A=', 'x-amzn-Remapped-Server': 'Javalin', 'X-Count': '1', 'x-amzn-Remapped-Date': 'Mon, 04 Oct 2021 12:30:13 GMT', 'X-Cache': 'Miss from cloudfront', 'Via': '1.1 e6df4fdec76c527da827cfa84260c772.cloudfront.net (CloudFront)', 'X-Amz-Cf-Pop': 'ARN54-C1', 'X-Amz-Cf-Id': '-Zn_fiWajsH_wWppvWOCQmowdcJ6sr6M-0t-ZEvvGozBNE3vsuNCFw==', 'CF-Cache-Status': 'DYNAMIC', 'Expect-CT': 'max-age=604800, report-uri=\"https://report-uri.cloudflare.com/cdn-cgi/beacon/expect-ct\"', 'Strict-Transport-Security': 'max-age=15552000; includeSubDomains; preload', 'X-Content-Type-Options': 'nosniff', 'Server': 'cloudflare', 'CF-RAY': '698e6b957c3a4995-DME')>\n",
      "\n",
      "<ClientResponse(https://api.igdb.com/v4/games/) [200 OK]>\n",
      "<CIMultiDictProxy('Date': 'Mon, 04 Oct 2021 12:30:15 GMT', 'Content-Type': 'application/json;charset=utf-8', 'Content-Length': '1707', 'Connection': 'keep-alive', 'x-amzn-RequestId': 'f6b4a39b-09e5-4810-b436-a4b7938eec12', 'Content-Encoding': 'gzip', 'x-amzn-Remapped-Content-Length': '1707', 'x-amz-apigw-id': 'GrsJmG_iPHcF08Q=', 'x-amzn-Remapped-Server': 'Javalin', 'X-Count': '1', 'x-amzn-Remapped-Date': 'Mon, 04 Oct 2021 12:30:14 GMT', 'X-Cache': 'Miss from cloudfront', 'Via': '1.1 5c2d36b0430d7877f1609d99fe01caa9.cloudfront.net (CloudFront)', 'X-Amz-Cf-Pop': 'ARN54-C1', 'X-Amz-Cf-Id': 'TemcEsGR6vq1nLjnf5M_tfHayE4ETyn5tnA06znC383lHmGmkqtcKQ==', 'CF-Cache-Status': 'DYNAMIC', 'Expect-CT': 'max-age=604800, report-uri=\"https://report-uri.cloudflare.com/cdn-cgi/beacon/expect-ct\"', 'Strict-Transport-Security': 'max-age=15552000; includeSubDomains; preload', 'X-Content-Type-Options': 'nosniff', 'Server': 'cloudflare', 'CF-RAY': '698e6b9bdeef76b5-DME')>\n",
      "\n"
     ]
    },
    {
     "name": "stdout",
     "output_type": "stream",
     "text": [
      "<ClientResponse(https://api.igdb.com/v4/games/) [200 OK]>\n",
      "<CIMultiDictProxy('Date': 'Mon, 04 Oct 2021 12:30:15 GMT', 'Content-Type': 'application/json;charset=utf-8', 'Content-Length': '1336', 'Connection': 'keep-alive', 'x-amzn-RequestId': 'a18fa4c9-9384-45e7-ab1d-1a5ee798010c', 'Content-Encoding': 'gzip', 'x-amzn-Remapped-Content-Length': '1336', 'x-amz-apigw-id': 'GrsJsESdPHcFkag=', 'x-amzn-Remapped-Server': 'Javalin', 'X-Count': '1', 'x-amzn-Remapped-Date': 'Mon, 04 Oct 2021 12:30:15 GMT', 'X-Cache': 'Miss from cloudfront', 'Via': '1.1 0edd9f6bc061f9d64e77285b1cac290d.cloudfront.net (CloudFront)', 'X-Amz-Cf-Pop': 'ARN54-C1', 'X-Amz-Cf-Id': 'us-Wyz0ourRYgrFDsPB02zEq1FOmdVyYsiRRT8xyTfipT0j3c3-eZA==', 'CF-Cache-Status': 'DYNAMIC', 'Expect-CT': 'max-age=604800, report-uri=\"https://report-uri.cloudflare.com/cdn-cgi/beacon/expect-ct\"', 'Strict-Transport-Security': 'max-age=15552000; includeSubDomains; preload', 'X-Content-Type-Options': 'nosniff', 'Server': 'cloudflare', 'CF-RAY': '698e6ba1e82c16bb-DME')>\n",
      "\n",
      "<ClientResponse(https://api.igdb.com/v4/games/) [200 OK]>\n",
      "<CIMultiDictProxy('Date': 'Mon, 04 Oct 2021 12:30:16 GMT', 'Content-Type': 'application/json;charset=utf-8', 'Content-Length': '2225', 'Connection': 'keep-alive', 'x-amzn-RequestId': '673bb0cd-e5f5-4c7b-a004-a5f47f988365', 'Content-Encoding': 'gzip', 'x-amzn-Remapped-Content-Length': '2225', 'x-amz-apigw-id': 'GrsJ2HL-PHcFwbw=', 'x-amzn-Remapped-Server': 'Javalin', 'X-Count': '1', 'x-amzn-Remapped-Date': 'Mon, 04 Oct 2021 12:30:16 GMT', 'X-Cache': 'Miss from cloudfront', 'Via': '1.1 f6020f10d519a41b0c116dad7dcb2798.cloudfront.net (CloudFront)', 'X-Amz-Cf-Pop': 'ARN54-C1', 'X-Amz-Cf-Id': 'AaR5nYaM5Ng1gRuEoqrT8LTe4QMP4O9AW0UB6-7rbpSZtQ6DhrnBmQ==', 'CF-Cache-Status': 'DYNAMIC', 'Expect-CT': 'max-age=604800, report-uri=\"https://report-uri.cloudflare.com/cdn-cgi/beacon/expect-ct\"', 'Strict-Transport-Security': 'max-age=15552000; includeSubDomains; preload', 'X-Content-Type-Options': 'nosniff', 'Server': 'cloudflare', 'CF-RAY': '698e6ba5f89a00bc-DME')>\n",
      "\n",
      "<ClientResponse(https://api.igdb.com/v4/games/) [200 OK]>\n",
      "<CIMultiDictProxy('Date': 'Mon, 04 Oct 2021 12:30:17 GMT', 'Content-Type': 'application/json;charset=utf-8', 'Content-Length': '2018', 'Connection': 'keep-alive', 'x-amzn-RequestId': '2bbec19e-8784-46d9-8321-cc05f3da14fa', 'Content-Encoding': 'gzip', 'x-amzn-Remapped-Content-Length': '2018', 'x-amz-apigw-id': 'GrsJ-EgavHcFWVQ=', 'x-amzn-Remapped-Server': 'Javalin', 'X-Count': '1', 'x-amzn-Remapped-Date': 'Mon, 04 Oct 2021 12:30:17 GMT', 'X-Cache': 'Miss from cloudfront', 'Via': '1.1 6528f10684ec39317f94ed2a540d88b4.cloudfront.net (CloudFront)', 'X-Amz-Cf-Pop': 'ARN54-C1', 'X-Amz-Cf-Id': '-Gr9n2_QUh6SGC42CxF_S832Taob9YbzRCZ5MEZF_UA7kCkdejmPKQ==', 'CF-Cache-Status': 'DYNAMIC', 'Expect-CT': 'max-age=604800, report-uri=\"https://report-uri.cloudflare.com/cdn-cgi/beacon/expect-ct\"', 'Strict-Transport-Security': 'max-age=15552000; includeSubDomains; preload', 'X-Content-Type-Options': 'nosniff', 'Server': 'cloudflare', 'CF-RAY': '698e6bacca7d16a3-DME')>\n",
      "\n",
      "<ClientResponse(https://api.igdb.com/v4/games/) [200 OK]>\n",
      "<CIMultiDictProxy('Date': 'Mon, 04 Oct 2021 12:30:18 GMT', 'Content-Type': 'application/json;charset=utf-8', 'Content-Length': '3490', 'Connection': 'keep-alive', 'x-amzn-RequestId': 'aaee29ae-6c08-4c74-b8f8-e804f34f9f72', 'Content-Encoding': 'gzip', 'x-amzn-Remapped-Content-Length': '3490', 'x-amz-apigw-id': 'GrsKHHmpPHcFWoA=', 'x-amzn-Remapped-Server': 'Javalin', 'X-Count': '1', 'x-amzn-Remapped-Date': 'Mon, 04 Oct 2021 12:30:18 GMT', 'X-Cache': 'Miss from cloudfront', 'Via': '1.1 978313776816dba934d16309fa2c65c9.cloudfront.net (CloudFront)', 'X-Amz-Cf-Pop': 'ARN54-C1', 'X-Amz-Cf-Id': 'tIpkCrarSOJCf-9QOFbhlMIE-nwKaS_LduinrBPUDqpfk11KE09OcQ==', 'CF-Cache-Status': 'DYNAMIC', 'Expect-CT': 'max-age=604800, report-uri=\"https://report-uri.cloudflare.com/cdn-cgi/beacon/expect-ct\"', 'Strict-Transport-Security': 'max-age=15552000; includeSubDomains; preload', 'X-Content-Type-Options': 'nosniff', 'Server': 'cloudflare', 'CF-RAY': '698e6bb0b8b83a89-DME')>\n",
      "\n",
      "<ClientResponse(https://api.igdb.com/v4/games/) [200 OK]>\n",
      "<CIMultiDictProxy('Date': 'Mon, 04 Oct 2021 12:30:18 GMT', 'Content-Type': 'application/json;charset=utf-8', 'Content-Length': '3791', 'Connection': 'keep-alive', 'x-amzn-RequestId': '51f60b1f-5318-4a23-8e1e-61c0e63b241e', 'Content-Encoding': 'gzip', 'x-amzn-Remapped-Content-Length': '3791', 'x-amz-apigw-id': 'GrsKNEhnPHcF1lQ=', 'x-amzn-Remapped-Server': 'Javalin', 'X-Count': '1', 'x-amzn-Remapped-Date': 'Mon, 04 Oct 2021 12:30:18 GMT', 'X-Cache': 'Miss from cloudfront', 'Via': '1.1 990c1aa70667fe4e8f93d88ac8400fc5.cloudfront.net (CloudFront)', 'X-Amz-Cf-Pop': 'ARN54-C1', 'X-Amz-Cf-Id': '0YI_IBHeSu9mAbSVdg_O3Vz4xEmGy4r1e_tPVtVV0oqjZXleGg74ww==', 'CF-Cache-Status': 'DYNAMIC', 'Expect-CT': 'max-age=604800, report-uri=\"https://report-uri.cloudflare.com/cdn-cgi/beacon/expect-ct\"', 'Strict-Transport-Security': 'max-age=15552000; includeSubDomains; preload', 'X-Content-Type-Options': 'nosniff', 'Server': 'cloudflare', 'CF-RAY': '698e6bb688607b8b-DME')>\n",
      "\n",
      "<ClientResponse(https://api.igdb.com/v4/games/) [200 OK]>\n",
      "<CIMultiDictProxy('Date': 'Mon, 04 Oct 2021 12:30:19 GMT', 'Content-Type': 'application/json;charset=utf-8', 'Content-Length': '8639', 'Connection': 'keep-alive', 'x-amzn-RequestId': 'a94c8f6c-ac5f-4e32-bf34-dc6e4f99117e', 'Content-Encoding': 'gzip', 'x-amzn-Remapped-Content-Length': '8639', 'x-amz-apigw-id': 'GrsKUEvZvHcFwlg=', 'x-amzn-Remapped-Server': 'Javalin', 'X-Count': '1', 'x-amzn-Remapped-Date': 'Mon, 04 Oct 2021 12:30:19 GMT', 'X-Cache': 'Miss from cloudfront', 'Via': '1.1 5a96272b81254403ef5ef083d36ce62a.cloudfront.net (CloudFront)', 'X-Amz-Cf-Pop': 'ARN54-C1', 'X-Amz-Cf-Id': '5NRArLgGVVGkaDFL4-q_y3XXbp43Vz4Tr-QSnDiA9hIWe3fmjmsJfg==', 'CF-Cache-Status': 'DYNAMIC', 'Expect-CT': 'max-age=604800, report-uri=\"https://report-uri.cloudflare.com/cdn-cgi/beacon/expect-ct\"', 'Strict-Transport-Security': 'max-age=15552000; includeSubDomains; preload', 'X-Content-Type-Options': 'nosniff', 'Server': 'cloudflare', 'CF-RAY': '698e6bba6eea16b7-DME')>\n",
      "\n",
      "<ClientResponse(https://api.igdb.com/v4/games/) [200 OK]>\n",
      "<CIMultiDictProxy('Date': 'Mon, 04 Oct 2021 12:30:20 GMT', 'Content-Type': 'application/json;charset=utf-8', 'Content-Length': '4888', 'Connection': 'keep-alive', 'x-amzn-RequestId': '815719ee-c6be-4844-bd20-b7aeb48f579c', 'Content-Encoding': 'gzip', 'x-amzn-Remapped-Content-Length': '4888', 'x-amz-apigw-id': 'GrsKfHCaPHcFpag=', 'x-amzn-Remapped-Server': 'Javalin', 'X-Count': '1', 'x-amzn-Remapped-Date': 'Mon, 04 Oct 2021 12:30:20 GMT', 'X-Cache': 'Miss from cloudfront', 'Via': '1.1 6535753e56582459e514c04b24458946.cloudfront.net (CloudFront)', 'X-Amz-Cf-Pop': 'ARN54-C1', 'X-Amz-Cf-Id': 'Aw5ZNfENmie5FcpGjaJeHK9ekuZNDxgBA-Y6uhZRJYUt9dKfDERKkQ==', 'CF-Cache-Status': 'DYNAMIC', 'Expect-CT': 'max-age=604800, report-uri=\"https://report-uri.cloudflare.com/cdn-cgi/beacon/expect-ct\"', 'Strict-Transport-Security': 'max-age=15552000; includeSubDomains; preload', 'X-Content-Type-Options': 'nosniff', 'Server': 'cloudflare', 'CF-RAY': '698e6bbfbdd81607-DME')>\n",
      "\n",
      "<ClientResponse(https://api.igdb.com/v4/games/) [200 OK]>\n",
      "<CIMultiDictProxy('Date': 'Mon, 04 Oct 2021 12:30:21 GMT', 'Content-Type': 'application/json;charset=utf-8', 'Content-Length': '3197', 'Connection': 'keep-alive', 'x-amzn-RequestId': '14d450ce-74aa-49ef-9473-0a4eff71cdf2', 'Content-Encoding': 'gzip', 'x-amzn-Remapped-Content-Length': '3197', 'x-amz-apigw-id': 'GrsKpFBAPHcFRtg=', 'x-amzn-Remapped-Server': 'Javalin', 'X-Count': '1', 'x-amzn-Remapped-Date': 'Mon, 04 Oct 2021 12:30:21 GMT', 'X-Cache': 'Miss from cloudfront', 'Via': '1.1 e6df4fdec76c527da827cfa84260c772.cloudfront.net (CloudFront)', 'X-Amz-Cf-Pop': 'ARN54-C1', 'X-Amz-Cf-Id': 'qOp8RWrpmLyxEuJBUQ9H3X9xfrOb4-_kQzWPL-OKfT0_kIRnm0v8KQ==', 'CF-Cache-Status': 'DYNAMIC', 'Expect-CT': 'max-age=604800, report-uri=\"https://report-uri.cloudflare.com/cdn-cgi/beacon/expect-ct\"', 'Strict-Transport-Security': 'max-age=15552000; includeSubDomains; preload', 'X-Content-Type-Options': 'nosniff', 'Server': 'cloudflare', 'CF-RAY': '698e6bc5fad500b4-DME')>\n",
      "\n",
      "<ClientResponse(https://api.igdb.com/v4/games/) [200 OK]>\n",
      "<CIMultiDictProxy('Date': 'Mon, 04 Oct 2021 12:30:22 GMT', 'Content-Type': 'application/json;charset=utf-8', 'Content-Length': '2905', 'Connection': 'keep-alive', 'x-amzn-RequestId': '8df5aec4-60bc-4e55-a546-20beea017dff', 'Content-Encoding': 'gzip', 'x-amzn-Remapped-Content-Length': '2905', 'x-amz-apigw-id': 'GrsKwEsSPHcFywg=', 'x-amzn-Remapped-Server': 'Javalin', 'X-Count': '1', 'x-amzn-Remapped-Date': 'Mon, 04 Oct 2021 12:30:22 GMT', 'X-Cache': 'Miss from cloudfront', 'Via': '1.1 6528f10684ec39317f94ed2a540d88b4.cloudfront.net (CloudFront)', 'X-Amz-Cf-Pop': 'ARN54-C1', 'X-Amz-Cf-Id': 'nMsCTclg38c4aqSt4URTM-hmK1qrXne5rksoSfTTUXI-lQsa6dexrQ==', 'CF-Cache-Status': 'DYNAMIC', 'Expect-CT': 'max-age=604800, report-uri=\"https://report-uri.cloudflare.com/cdn-cgi/beacon/expect-ct\"', 'Strict-Transport-Security': 'max-age=15552000; includeSubDomains; preload', 'X-Content-Type-Options': 'nosniff', 'Server': 'cloudflare', 'CF-RAY': '698e6bcbda3175b7-DME')>\n",
      "\n"
     ]
    },
    {
     "name": "stdout",
     "output_type": "stream",
     "text": [
      "<ClientResponse(https://api.igdb.com/v4/games/) [200 OK]>\n",
      "<CIMultiDictProxy('Date': 'Mon, 04 Oct 2021 12:30:22 GMT', 'Content-Type': 'application/json;charset=utf-8', 'Content-Length': '1278', 'Connection': 'keep-alive', 'x-amzn-RequestId': 'd9cea5f8-3fc9-4a8c-87f6-e6df48e69c83', 'Content-Encoding': 'gzip', 'x-amzn-Remapped-Content-Length': '1278', 'x-amz-apigw-id': 'GrsK2EvAPHcF30A=', 'x-amzn-Remapped-Server': 'Javalin', 'X-Count': '1', 'x-amzn-Remapped-Date': 'Mon, 04 Oct 2021 12:30:22 GMT', 'X-Cache': 'Miss from cloudfront', 'Via': '1.1 0dbf67e262a6295e9e8f6570f9aae7e0.cloudfront.net (CloudFront)', 'X-Amz-Cf-Pop': 'ARN54-C1', 'X-Amz-Cf-Id': 'B_VspOWoDQ3GJ0UkpBqVsDKFWf9tply3-Z-_mHkHcHh7V9MES_5ezA==', 'CF-Cache-Status': 'DYNAMIC', 'Expect-CT': 'max-age=604800, report-uri=\"https://report-uri.cloudflare.com/cdn-cgi/beacon/expect-ct\"', 'Strict-Transport-Security': 'max-age=15552000; includeSubDomains; preload', 'X-Content-Type-Options': 'nosniff', 'Server': 'cloudflare', 'CF-RAY': '698e6bcfea497c17-DME')>\n",
      "\n",
      "<ClientResponse(https://api.igdb.com/v4/games/) [200 OK]>\n",
      "<CIMultiDictProxy('Date': 'Mon, 04 Oct 2021 12:30:23 GMT', 'Content-Type': 'application/json;charset=utf-8', 'Content-Length': '4885', 'Connection': 'keep-alive', 'x-amzn-RequestId': '3ddfd630-586e-4893-81d9-cd3a251b05bd', 'Content-Encoding': 'gzip', 'x-amzn-Remapped-Content-Length': '4885', 'x-amz-apigw-id': 'GrsK8EQEvHcFkrw=', 'x-amzn-Remapped-Server': 'Javalin', 'X-Count': '1', 'x-amzn-Remapped-Date': 'Mon, 04 Oct 2021 12:30:23 GMT', 'X-Cache': 'Miss from cloudfront', 'Via': '1.1 828a61ebc3af4e0465a5577a4c08af7b.cloudfront.net (CloudFront)', 'X-Amz-Cf-Pop': 'ARN54-C1', 'X-Amz-Cf-Id': '_bbVSP0mMINlH419PWAcT5VvFSgGIzFI8pSHUnLGApymh8lKG8sSPA==', 'CF-Cache-Status': 'DYNAMIC', 'Expect-CT': 'max-age=604800, report-uri=\"https://report-uri.cloudflare.com/cdn-cgi/beacon/expect-ct\"', 'Strict-Transport-Security': 'max-age=15552000; includeSubDomains; preload', 'X-Content-Type-Options': 'nosniff', 'Server': 'cloudflare', 'CF-RAY': '698e6bd39a5c7b63-DME')>\n",
      "\n",
      "<ClientResponse(https://api.igdb.com/v4/games/) [200 OK]>\n",
      "<CIMultiDictProxy('Date': 'Mon, 04 Oct 2021 12:30:24 GMT', 'Content-Type': 'application/json;charset=utf-8', 'Content-Length': '4089', 'Connection': 'keep-alive', 'x-amzn-RequestId': 'ddf03d36-dcb8-4499-8dad-69aa055dcecc', 'Content-Encoding': 'gzip', 'x-amzn-Remapped-Content-Length': '4089', 'x-amz-apigw-id': 'GrsLGHv9PHcF-DQ=', 'x-amzn-Remapped-Server': 'Javalin', 'X-Count': '1', 'x-amzn-Remapped-Date': 'Mon, 04 Oct 2021 12:30:24 GMT', 'X-Cache': 'Miss from cloudfront', 'Via': '1.1 92f415f504f960872d71a5b454174362.cloudfront.net (CloudFront)', 'X-Amz-Cf-Pop': 'ARN54-C1', 'X-Amz-Cf-Id': '_3WwA3kPV9zF6FxK4NJhNQLfwKT27IqYzsQdXjCYhuBJMPWZ_Vqk-w==', 'CF-Cache-Status': 'DYNAMIC', 'Expect-CT': 'max-age=604800, report-uri=\"https://report-uri.cloudflare.com/cdn-cgi/beacon/expect-ct\"', 'Strict-Transport-Security': 'max-age=15552000; includeSubDomains; preload', 'X-Content-Type-Options': 'nosniff', 'Server': 'cloudflare', 'CF-RAY': '698e6bd7c91d16bb-DME')>\n",
      "\n",
      "<ClientResponse(https://api.igdb.com/v4/games/) [200 OK]>\n",
      "<CIMultiDictProxy('Date': 'Mon, 04 Oct 2021 12:30:25 GMT', 'Content-Type': 'application/json;charset=utf-8', 'Content-Length': '3180', 'Connection': 'keep-alive', 'x-amzn-RequestId': '226cb4c6-455c-4003-8c61-edbc6f346af4', 'Content-Encoding': 'gzip', 'x-amzn-Remapped-Content-Length': '3180', 'x-amz-apigw-id': 'GrsLMG_QPHcF3cw=', 'x-amzn-Remapped-Server': 'Javalin', 'X-Count': '1', 'x-amzn-Remapped-Date': 'Mon, 04 Oct 2021 12:30:25 GMT', 'X-Cache': 'Miss from cloudfront', 'Via': '1.1 f6020f10d519a41b0c116dad7dcb2798.cloudfront.net (CloudFront)', 'X-Amz-Cf-Pop': 'ARN54-C1', 'X-Amz-Cf-Id': 'crstXN9n9gWBcQHleBkDc-AYiE2JxTd5IIUhmgcxeddmpvvt4O3OQQ==', 'CF-Cache-Status': 'DYNAMIC', 'Expect-CT': 'max-age=604800, report-uri=\"https://report-uri.cloudflare.com/cdn-cgi/beacon/expect-ct\"', 'Strict-Transport-Security': 'max-age=15552000; includeSubDomains; preload', 'X-Content-Type-Options': 'nosniff', 'Server': 'cloudflare', 'CF-RAY': '698e6bddc83075a3-DME')>\n",
      "\n",
      "<ClientResponse(https://api.igdb.com/v4/games/) [200 OK]>\n",
      "<CIMultiDictProxy('Date': 'Mon, 04 Oct 2021 12:30:25 GMT', 'Content-Type': 'application/json;charset=utf-8', 'Content-Length': '1941', 'Connection': 'keep-alive', 'x-amzn-RequestId': '02ff25ff-6940-4ade-95f1-4c690f93ea83', 'Content-Encoding': 'gzip', 'x-amzn-Remapped-Content-Length': '1941', 'x-amz-apigw-id': 'GrsLSGj7vHcF7dg=', 'x-amzn-Remapped-Server': 'Javalin', 'X-Count': '1', 'x-amzn-Remapped-Date': 'Mon, 04 Oct 2021 12:30:25 GMT', 'X-Cache': 'Miss from cloudfront', 'Via': '1.1 830686c9072da9151c60c7f203fc4a35.cloudfront.net (CloudFront)', 'X-Amz-Cf-Pop': 'ARN54-C1', 'X-Amz-Cf-Id': 'eOK7fiSgMnu4s6aY0WID0vqzNG67DTKBa52R78DsklFb-FYWeVZN1Q==', 'CF-Cache-Status': 'DYNAMIC', 'Expect-CT': 'max-age=604800, report-uri=\"https://report-uri.cloudflare.com/cdn-cgi/beacon/expect-ct\"', 'Strict-Transport-Security': 'max-age=15552000; includeSubDomains; preload', 'X-Content-Type-Options': 'nosniff', 'Server': 'cloudflare', 'CF-RAY': '698e6be1bf287b47-DME')>\n",
      "\n",
      "<ClientResponse(https://api.igdb.com/v4/games/) [200 OK]>\n",
      "<CIMultiDictProxy('Date': 'Mon, 04 Oct 2021 12:30:26 GMT', 'Content-Type': 'application/json;charset=utf-8', 'Content-Length': '2286', 'Connection': 'keep-alive', 'x-amzn-RequestId': 'e3334ca8-9446-48c0-a95b-bfe1eacbef57', 'Content-Encoding': 'gzip', 'x-amzn-Remapped-Content-Length': '2286', 'x-amz-apigw-id': 'GrsLZHLlPHcF6Ug=', 'x-amzn-Remapped-Server': 'Javalin', 'X-Count': '1', 'x-amzn-Remapped-Date': 'Mon, 04 Oct 2021 12:30:26 GMT', 'X-Cache': 'Miss from cloudfront', 'Via': '1.1 7f7d86a250c539fe4431535882cf4e4f.cloudfront.net (CloudFront)', 'X-Amz-Cf-Pop': 'ARN54-C1', 'X-Amz-Cf-Id': 'jOBkqwiqISPjCRyB20JzWP3NhuugMslPm3FXgF4-JdcwuqM9op5T_w==', 'CF-Cache-Status': 'DYNAMIC', 'Expect-CT': 'max-age=604800, report-uri=\"https://report-uri.cloudflare.com/cdn-cgi/beacon/expect-ct\"', 'Strict-Transport-Security': 'max-age=15552000; includeSubDomains; preload', 'X-Content-Type-Options': 'nosniff', 'Server': 'cloudflare', 'CF-RAY': '698e6be58b2d16e8-DME')>\n",
      "\n",
      "<ClientResponse(https://api.igdb.com/v4/games/) [429 ]>\n",
      "<CIMultiDictProxy('Date': 'Mon, 04 Oct 2021 12:30:27 GMT', 'Content-Type': 'application/json', 'Content-Length': '31', 'Connection': 'keep-alive', 'x-amzn-RequestId': 'e5da13a1-7fe4-4815-a15a-8b1884b12972', 'x-amzn-ErrorType': 'TooManyRequestsException', 'x-amz-apigw-id': 'GrsLfEwovHcF1Ug=', 'X-Cache': 'Error from cloudfront', 'Via': '1.1 3bf14a720d62e0d1295d99086d103efb.cloudfront.net (CloudFront)', 'X-Amz-Cf-Pop': 'ARN54-C1', 'X-Amz-Cf-Id': 'lPfbCAL1SaYxrlNWJnJt_s_4peAl3moTacoMmLujXorn6bNLg0wi1Q==', 'CF-Cache-Status': 'DYNAMIC', 'Expect-CT': 'max-age=604800, report-uri=\"https://report-uri.cloudflare.com/cdn-cgi/beacon/expect-ct\"', 'Strict-Transport-Security': 'max-age=15552000; includeSubDomains; preload', 'X-Content-Type-Options': 'nosniff', 'Server': 'cloudflare', 'CF-RAY': '698e6be9aa302de4-DME')>\n",
      "\n",
      "<ClientResponse(https://api.igdb.com/v4/games/) [200 OK]>\n",
      "<CIMultiDictProxy('Date': 'Mon, 04 Oct 2021 12:30:27 GMT', 'Content-Type': 'application/json;charset=utf-8', 'Content-Length': '2170', 'Connection': 'keep-alive', 'x-amzn-RequestId': '3aa22863-2db4-466a-abc1-667e63f66a9c', 'Content-Encoding': 'gzip', 'x-amzn-Remapped-Content-Length': '2170', 'x-amz-apigw-id': 'GrsLmG_rvHcFvzw=', 'x-amzn-Remapped-Server': 'Javalin', 'X-Count': '1', 'x-amzn-Remapped-Date': 'Mon, 04 Oct 2021 12:30:27 GMT', 'X-Cache': 'Miss from cloudfront', 'Via': '1.1 a30105057fbcc8761b99df13f333a9ea.cloudfront.net (CloudFront)', 'X-Amz-Cf-Pop': 'ARN54-C1', 'X-Amz-Cf-Id': 'RiwkW7ZWAGqKDb6US8pfyA-grEps3Nr7gU6ePHhdSM0Kx2PJX5zQCw==', 'CF-Cache-Status': 'DYNAMIC', 'Expect-CT': 'max-age=604800, report-uri=\"https://report-uri.cloudflare.com/cdn-cgi/beacon/expect-ct\"', 'Strict-Transport-Security': 'max-age=15552000; includeSubDomains; preload', 'X-Content-Type-Options': 'nosniff', 'Server': 'cloudflare', 'CF-RAY': '698e6bec0eb22de4-DME')>\n",
      "\n",
      "<ClientResponse(https://api.igdb.com/v4/games/) [200 OK]>\n",
      "<CIMultiDictProxy('Date': 'Mon, 04 Oct 2021 12:30:28 GMT', 'Content-Type': 'application/json;charset=utf-8', 'Content-Length': '1378', 'Connection': 'keep-alive', 'x-amzn-RequestId': 'f15a5cdc-7052-460e-acac-8bad5b6e480c', 'Content-Encoding': 'gzip', 'x-amzn-Remapped-Content-Length': '1378', 'x-amz-apigw-id': 'GrsLwHOyvHcF1iw=', 'x-amzn-Remapped-Server': 'Javalin', 'X-Count': '1', 'x-amzn-Remapped-Date': 'Mon, 04 Oct 2021 12:30:28 GMT', 'X-Cache': 'Miss from cloudfront', 'Via': '1.1 52bb5852b1acec80b918512e69d8f7dc.cloudfront.net (CloudFront)', 'X-Amz-Cf-Pop': 'ARN54-C1', 'X-Amz-Cf-Id': '_EdEQnwLiLmno8IVJf_l53lxgyTHoAihPwoFKulTs7EYUBE9XkZTkg==', 'CF-Cache-Status': 'DYNAMIC', 'Expect-CT': 'max-age=604800, report-uri=\"https://report-uri.cloudflare.com/cdn-cgi/beacon/expect-ct\"', 'Strict-Transport-Security': 'max-age=15552000; includeSubDomains; preload', 'X-Content-Type-Options': 'nosniff', 'Server': 'cloudflare', 'CF-RAY': '698e6bf20c6c759f-DME')>\n",
      "\n"
     ]
    },
    {
     "name": "stdout",
     "output_type": "stream",
     "text": [
      "<ClientResponse(https://api.igdb.com/v4/games/) [200 OK]>\n",
      "<CIMultiDictProxy('Date': 'Mon, 04 Oct 2021 12:30:29 GMT', 'Content-Type': 'application/json;charset=utf-8', 'Content-Length': '2679', 'Connection': 'keep-alive', 'x-amzn-RequestId': 'fcee3a9c-1a88-4f48-8d3a-87939e2dc56b', 'Content-Encoding': 'gzip', 'x-amzn-Remapped-Content-Length': '2679', 'x-amz-apigw-id': 'GrsL5F9ZvHcFuBQ=', 'x-amzn-Remapped-Server': 'Javalin', 'X-Count': '1', 'x-amzn-Remapped-Date': 'Mon, 04 Oct 2021 12:30:29 GMT', 'X-Cache': 'Miss from cloudfront', 'Via': '1.1 432d52d55ad517cddd9081b248b2f116.cloudfront.net (CloudFront)', 'X-Amz-Cf-Pop': 'ARN54-C1', 'X-Amz-Cf-Id': 'vTO8MOPcTjiCCXNHzWjYwjm_YdTtF3FMt6igHP23v8rQuj5gJTYGZA==', 'CF-Cache-Status': 'DYNAMIC', 'Expect-CT': 'max-age=604800, report-uri=\"https://report-uri.cloudflare.com/cdn-cgi/beacon/expect-ct\"', 'Strict-Transport-Security': 'max-age=15552000; includeSubDomains; preload', 'X-Content-Type-Options': 'nosniff', 'Server': 'cloudflare', 'CF-RAY': '698e6bf80ced16d3-DME')>\n",
      "\n",
      "<ClientResponse(https://api.igdb.com/v4/games/) [200 OK]>\n",
      "<CIMultiDictProxy('Date': 'Mon, 04 Oct 2021 12:30:30 GMT', 'Content-Type': 'application/json;charset=utf-8', 'Content-Length': '2133', 'Connection': 'keep-alive', 'x-amzn-RequestId': '7d2d75cf-6986-45fc-be10-b583e7344ce0', 'Content-Encoding': 'gzip', 'x-amzn-Remapped-Content-Length': '2133', 'x-amz-apigw-id': 'GrsMEGCZvHcF-lg=', 'x-amzn-Remapped-Server': 'Javalin', 'X-Count': '1', 'x-amzn-Remapped-Date': 'Mon, 04 Oct 2021 12:30:30 GMT', 'X-Cache': 'Miss from cloudfront', 'Via': '1.1 f3f3e5094c644e85d297de594ccdba30.cloudfront.net (CloudFront)', 'X-Amz-Cf-Pop': 'ARN54-C1', 'X-Amz-Cf-Id': '4qYG-cO9rMhqEmSMnyGxNI0vm5afFd58wW3n3TyP1sGmi8oRohU6uA==', 'CF-Cache-Status': 'DYNAMIC', 'Expect-CT': 'max-age=604800, report-uri=\"https://report-uri.cloudflare.com/cdn-cgi/beacon/expect-ct\"', 'Strict-Transport-Security': 'max-age=15552000; includeSubDomains; preload', 'X-Content-Type-Options': 'nosniff', 'Server': 'cloudflare', 'CF-RAY': '698e6bfe78b20056-DME')>\n",
      "\n",
      "<ClientResponse(https://api.igdb.com/v4/games/) [200 OK]>\n",
      "<CIMultiDictProxy('Date': 'Mon, 04 Oct 2021 12:30:31 GMT', 'Content-Type': 'application/json;charset=utf-8', 'Content-Length': '2262', 'Connection': 'keep-alive', 'x-amzn-RequestId': '681c1af9-852a-494d-896a-d575af156301', 'Content-Encoding': 'gzip', 'x-amzn-Remapped-Content-Length': '2262', 'x-amz-apigw-id': 'GrsMKFcnPHcFwlg=', 'x-amzn-Remapped-Server': 'Javalin', 'X-Count': '1', 'x-amzn-Remapped-Date': 'Mon, 04 Oct 2021 12:30:31 GMT', 'X-Cache': 'Miss from cloudfront', 'Via': '1.1 cb05e10ed4a973b87ff15498c30d269c.cloudfront.net (CloudFront)', 'X-Amz-Cf-Pop': 'ARN54-C1', 'X-Amz-Cf-Id': 'firuAmqhVt12RsGRi5mExEVWRv4vzuv5drzqLw7KWeIDXmtLqgPS3A==', 'CF-Cache-Status': 'DYNAMIC', 'Expect-CT': 'max-age=604800, report-uri=\"https://report-uri.cloudflare.com/cdn-cgi/beacon/expect-ct\"', 'Strict-Transport-Security': 'max-age=15552000; includeSubDomains; preload', 'X-Content-Type-Options': 'nosniff', 'Server': 'cloudflare', 'CF-RAY': '698e6c048ca48f91-DME')>\n",
      "\n",
      "<ClientResponse(https://api.igdb.com/v4/games/) [200 OK]>\n",
      "<CIMultiDictProxy('Date': 'Mon, 04 Oct 2021 12:30:32 GMT', 'Content-Type': 'application/json;charset=utf-8', 'Content-Length': '1757', 'Connection': 'keep-alive', 'x-amzn-RequestId': '124caa03-39b5-417e-9fc3-deb13045c1b4', 'Content-Encoding': 'gzip', 'x-amzn-Remapped-Content-Length': '1757', 'x-amz-apigw-id': 'GrsMTEEMPHcFzrA=', 'x-amzn-Remapped-Server': 'Javalin', 'X-Count': '1', 'x-amzn-Remapped-Date': 'Mon, 04 Oct 2021 12:30:32 GMT', 'X-Cache': 'Miss from cloudfront', 'Via': '1.1 cb05e10ed4a973b87ff15498c30d269c.cloudfront.net (CloudFront)', 'X-Amz-Cf-Pop': 'ARN54-C1', 'X-Amz-Cf-Id': 'PZixRi_2IT6n2TD3YGU7xcAt6oI8oRYnTPqsCBnMD0MJ7I0yuV5Fqg==', 'CF-Cache-Status': 'DYNAMIC', 'Expect-CT': 'max-age=604800, report-uri=\"https://report-uri.cloudflare.com/cdn-cgi/beacon/expect-ct\"', 'Strict-Transport-Security': 'max-age=15552000; includeSubDomains; preload', 'X-Content-Type-Options': 'nosniff', 'Server': 'cloudflare', 'CF-RAY': '698e6c07dd2d8f91-DME')>\n",
      "\n",
      "<ClientResponse(https://api.igdb.com/v4/games/) [200 OK]>\n",
      "<CIMultiDictProxy('Date': 'Mon, 04 Oct 2021 12:30:32 GMT', 'Content-Type': 'application/json;charset=utf-8', 'Content-Length': '1213', 'Connection': 'keep-alive', 'x-amzn-RequestId': '1da2da39-875b-4b02-bcac-c62496cebae6', 'Content-Encoding': 'gzip', 'x-amzn-Remapped-Content-Length': '1213', 'x-amz-apigw-id': 'GrsMZGphPHcF9ig=', 'x-amzn-Remapped-Server': 'Javalin', 'X-Count': '1', 'x-amzn-Remapped-Date': 'Mon, 04 Oct 2021 12:30:32 GMT', 'X-Cache': 'Miss from cloudfront', 'Via': '1.1 92f415f504f960872d71a5b454174362.cloudfront.net (CloudFront)', 'X-Amz-Cf-Pop': 'ARN54-C1', 'X-Amz-Cf-Id': '-39GU0bGNNnN0c0_nXInyXh-8pzpOmjrTVwlGKX4KFNcEoitAM0_Dg==', 'CF-Cache-Status': 'DYNAMIC', 'Expect-CT': 'max-age=604800, report-uri=\"https://report-uri.cloudflare.com/cdn-cgi/beacon/expect-ct\"', 'Strict-Transport-Security': 'max-age=15552000; includeSubDomains; preload', 'X-Content-Type-Options': 'nosniff', 'Server': 'cloudflare', 'CF-RAY': '698e6c0dea8716bb-DME')>\n",
      "\n",
      "<ClientResponse(https://api.igdb.com/v4/games/) [200 OK]>\n",
      "<CIMultiDictProxy('Date': 'Mon, 04 Oct 2021 12:30:33 GMT', 'Content-Type': 'application/json;charset=utf-8', 'Content-Length': '1066', 'Connection': 'keep-alive', 'x-amzn-RequestId': '4538534e-ea9d-42e6-aa9b-efa9bc0d02dd', 'Content-Encoding': 'gzip', 'x-amzn-Remapped-Content-Length': '1066', 'x-amz-apigw-id': 'GrsMjFJ9PHcF5iw=', 'x-amzn-Remapped-Server': 'Javalin', 'X-Count': '1', 'x-amzn-Remapped-Date': 'Mon, 04 Oct 2021 12:30:33 GMT', 'X-Cache': 'Miss from cloudfront', 'Via': '1.1 f3f3e5094c644e85d297de594ccdba30.cloudfront.net (CloudFront)', 'X-Amz-Cf-Pop': 'ARN54-C1', 'X-Amz-Cf-Id': 'EsdumnM15Lc4FvwVeKy9bmSaBjWY8pGOsQHRFQb_16iXUDg-toVgcQ==', 'CF-Cache-Status': 'DYNAMIC', 'Expect-CT': 'max-age=604800, report-uri=\"https://report-uri.cloudflare.com/cdn-cgi/beacon/expect-ct\"', 'Strict-Transport-Security': 'max-age=15552000; includeSubDomains; preload', 'X-Content-Type-Options': 'nosniff', 'Server': 'cloudflare', 'CF-RAY': '698e6c11e9463a5f-DME')>\n",
      "\n"
     ]
    },
    {
     "ename": "CancelledError",
     "evalue": "",
     "output_type": "error",
     "traceback": [
      "\u001b[1;31m---------------------------------------------------------------------------\u001b[0m",
      "\u001b[1;31mCancelledError\u001b[0m                            Traceback (most recent call last)",
      "\u001b[1;32m<ipython-input-21-65ec16d2e62d>\u001b[0m in \u001b[0;36m<module>\u001b[1;34m\u001b[0m\n\u001b[0;32m      1\u001b[0m \u001b[0mstart_time\u001b[0m \u001b[1;33m=\u001b[0m \u001b[0mtime\u001b[0m\u001b[1;33m.\u001b[0m\u001b[0mtime\u001b[0m\u001b[1;33m(\u001b[0m\u001b[1;33m)\u001b[0m\u001b[1;33m\u001b[0m\u001b[1;33m\u001b[0m\u001b[0m\n\u001b[1;32m----> 2\u001b[1;33m \u001b[0mall_fields_one\u001b[0m \u001b[1;33m=\u001b[0m \u001b[1;32mawait\u001b[0m \u001b[0mcreate_games_dataset\u001b[0m\u001b[1;33m(\u001b[0m\u001b[1;36m1\u001b[0m\u001b[1;33m,\u001b[0m \u001b[1;36m200\u001b[0m\u001b[1;33m)\u001b[0m\u001b[1;33m\u001b[0m\u001b[1;33m\u001b[0m\u001b[0m\n\u001b[0m\u001b[0;32m      3\u001b[0m \u001b[0mprint\u001b[0m\u001b[1;33m(\u001b[0m\u001b[1;34m\"--- %s seconds ---\"\u001b[0m \u001b[1;33m%\u001b[0m \u001b[1;33m(\u001b[0m\u001b[0mtime\u001b[0m\u001b[1;33m.\u001b[0m\u001b[0mtime\u001b[0m\u001b[1;33m(\u001b[0m\u001b[1;33m)\u001b[0m \u001b[1;33m-\u001b[0m \u001b[0mstart_time\u001b[0m\u001b[1;33m)\u001b[0m\u001b[1;33m)\u001b[0m\u001b[1;33m\u001b[0m\u001b[1;33m\u001b[0m\u001b[0m\n",
      "\u001b[1;32m<ipython-input-20-f3f8c03768a3>\u001b[0m in \u001b[0;36mcreate_games_dataset\u001b[1;34m(floor, ceiling, endpoint)\u001b[0m\n\u001b[0;32m      8\u001b[0m             \u001b[1;31m# endpoint и id можно изменять для того, чтобы получить разные наборы\u001b[0m\u001b[1;33m\u001b[0m\u001b[1;33m\u001b[0m\u001b[1;33m\u001b[0m\u001b[0m\n\u001b[0;32m      9\u001b[0m             \u001b[0mbody\u001b[0m \u001b[1;33m=\u001b[0m \u001b[1;34m'fields *; where id = '\u001b[0m \u001b[1;33m+\u001b[0m \u001b[0mstr\u001b[0m\u001b[1;33m(\u001b[0m\u001b[0mi\u001b[0m\u001b[1;33m)\u001b[0m \u001b[1;33m+\u001b[0m \u001b[1;34m';'\u001b[0m\u001b[1;33m\u001b[0m\u001b[1;33m\u001b[0m\u001b[0m\n\u001b[1;32m---> 10\u001b[1;33m             \u001b[1;32masync\u001b[0m \u001b[1;32mwith\u001b[0m \u001b[0msession\u001b[0m\u001b[1;33m.\u001b[0m\u001b[0mpost\u001b[0m\u001b[1;33m(\u001b[0m\u001b[1;34m'https://api.igdb.com/v4/'\u001b[0m \u001b[1;33m+\u001b[0m \u001b[0mendpoint\u001b[0m \u001b[1;33m+\u001b[0m \u001b[1;34m'/'\u001b[0m\u001b[1;33m,\u001b[0m \u001b[0mheaders\u001b[0m\u001b[1;33m=\u001b[0m\u001b[0mheaders\u001b[0m\u001b[1;33m,\u001b[0m \u001b[0mdata\u001b[0m\u001b[1;33m=\u001b[0m\u001b[0mbody\u001b[0m\u001b[1;33m)\u001b[0m \u001b[1;32mas\u001b[0m \u001b[0mresp\u001b[0m\u001b[1;33m:\u001b[0m\u001b[1;33m\u001b[0m\u001b[1;33m\u001b[0m\u001b[0m\n\u001b[0m\u001b[0;32m     11\u001b[0m                 \u001b[0mgame\u001b[0m \u001b[1;33m=\u001b[0m \u001b[0mresp\u001b[0m\u001b[1;33m\u001b[0m\u001b[1;33m\u001b[0m\u001b[0m\n\u001b[0;32m     12\u001b[0m                 \u001b[0mprint\u001b[0m\u001b[1;33m(\u001b[0m\u001b[0mresp\u001b[0m\u001b[1;33m)\u001b[0m\u001b[1;33m\u001b[0m\u001b[1;33m\u001b[0m\u001b[0m\n",
      "\u001b[1;32m~\\anaconda3\\lib\\site-packages\\aiohttp\\client.py\u001b[0m in \u001b[0;36m__aenter__\u001b[1;34m(self)\u001b[0m\n\u001b[0;32m   1115\u001b[0m \u001b[1;33m\u001b[0m\u001b[0m\n\u001b[0;32m   1116\u001b[0m     \u001b[1;32masync\u001b[0m \u001b[1;32mdef\u001b[0m \u001b[0m__aenter__\u001b[0m\u001b[1;33m(\u001b[0m\u001b[0mself\u001b[0m\u001b[1;33m)\u001b[0m \u001b[1;33m->\u001b[0m \u001b[0m_RetType\u001b[0m\u001b[1;33m:\u001b[0m\u001b[1;33m\u001b[0m\u001b[1;33m\u001b[0m\u001b[0m\n\u001b[1;32m-> 1117\u001b[1;33m         \u001b[0mself\u001b[0m\u001b[1;33m.\u001b[0m\u001b[0m_resp\u001b[0m \u001b[1;33m=\u001b[0m \u001b[1;32mawait\u001b[0m \u001b[0mself\u001b[0m\u001b[1;33m.\u001b[0m\u001b[0m_coro\u001b[0m\u001b[1;33m\u001b[0m\u001b[1;33m\u001b[0m\u001b[0m\n\u001b[0m\u001b[0;32m   1118\u001b[0m         \u001b[1;32mreturn\u001b[0m \u001b[0mself\u001b[0m\u001b[1;33m.\u001b[0m\u001b[0m_resp\u001b[0m\u001b[1;33m\u001b[0m\u001b[1;33m\u001b[0m\u001b[0m\n\u001b[0;32m   1119\u001b[0m \u001b[1;33m\u001b[0m\u001b[0m\n",
      "\u001b[1;32m~\\anaconda3\\lib\\site-packages\\aiohttp\\client.py\u001b[0m in \u001b[0;36m_request\u001b[1;34m(self, method, str_or_url, params, data, json, cookies, headers, skip_auto_headers, auth, allow_redirects, max_redirects, compress, chunked, expect100, raise_for_status, read_until_eof, proxy, proxy_auth, timeout, verify_ssl, fingerprint, ssl_context, ssl, proxy_headers, trace_request_ctx, read_bufsize)\u001b[0m\n\u001b[0;32m    518\u001b[0m                         \u001b[1;32mwith\u001b[0m \u001b[0mCeilTimeout\u001b[0m\u001b[1;33m(\u001b[0m\u001b[0mreal_timeout\u001b[0m\u001b[1;33m.\u001b[0m\u001b[0mconnect\u001b[0m\u001b[1;33m,\u001b[0m \u001b[0mloop\u001b[0m\u001b[1;33m=\u001b[0m\u001b[0mself\u001b[0m\u001b[1;33m.\u001b[0m\u001b[0m_loop\u001b[0m\u001b[1;33m)\u001b[0m\u001b[1;33m:\u001b[0m\u001b[1;33m\u001b[0m\u001b[1;33m\u001b[0m\u001b[0m\n\u001b[0;32m    519\u001b[0m                             \u001b[1;32massert\u001b[0m \u001b[0mself\u001b[0m\u001b[1;33m.\u001b[0m\u001b[0m_connector\u001b[0m \u001b[1;32mis\u001b[0m \u001b[1;32mnot\u001b[0m \u001b[1;32mNone\u001b[0m\u001b[1;33m\u001b[0m\u001b[1;33m\u001b[0m\u001b[0m\n\u001b[1;32m--> 520\u001b[1;33m                             conn = await self._connector.connect(\n\u001b[0m\u001b[0;32m    521\u001b[0m                                 \u001b[0mreq\u001b[0m\u001b[1;33m,\u001b[0m \u001b[0mtraces\u001b[0m\u001b[1;33m=\u001b[0m\u001b[0mtraces\u001b[0m\u001b[1;33m,\u001b[0m \u001b[0mtimeout\u001b[0m\u001b[1;33m=\u001b[0m\u001b[0mreal_timeout\u001b[0m\u001b[1;33m\u001b[0m\u001b[1;33m\u001b[0m\u001b[0m\n\u001b[0;32m    522\u001b[0m                             )\n",
      "\u001b[1;32m~\\anaconda3\\lib\\site-packages\\aiohttp\\connector.py\u001b[0m in \u001b[0;36mconnect\u001b[1;34m(self, req, traces, timeout)\u001b[0m\n\u001b[0;32m    533\u001b[0m \u001b[1;33m\u001b[0m\u001b[0m\n\u001b[0;32m    534\u001b[0m             \u001b[1;32mtry\u001b[0m\u001b[1;33m:\u001b[0m\u001b[1;33m\u001b[0m\u001b[1;33m\u001b[0m\u001b[0m\n\u001b[1;32m--> 535\u001b[1;33m                 \u001b[0mproto\u001b[0m \u001b[1;33m=\u001b[0m \u001b[1;32mawait\u001b[0m \u001b[0mself\u001b[0m\u001b[1;33m.\u001b[0m\u001b[0m_create_connection\u001b[0m\u001b[1;33m(\u001b[0m\u001b[0mreq\u001b[0m\u001b[1;33m,\u001b[0m \u001b[0mtraces\u001b[0m\u001b[1;33m,\u001b[0m \u001b[0mtimeout\u001b[0m\u001b[1;33m)\u001b[0m\u001b[1;33m\u001b[0m\u001b[1;33m\u001b[0m\u001b[0m\n\u001b[0m\u001b[0;32m    536\u001b[0m                 \u001b[1;32mif\u001b[0m \u001b[0mself\u001b[0m\u001b[1;33m.\u001b[0m\u001b[0m_closed\u001b[0m\u001b[1;33m:\u001b[0m\u001b[1;33m\u001b[0m\u001b[1;33m\u001b[0m\u001b[0m\n\u001b[0;32m    537\u001b[0m                     \u001b[0mproto\u001b[0m\u001b[1;33m.\u001b[0m\u001b[0mclose\u001b[0m\u001b[1;33m(\u001b[0m\u001b[1;33m)\u001b[0m\u001b[1;33m\u001b[0m\u001b[1;33m\u001b[0m\u001b[0m\n",
      "\u001b[1;32m~\\anaconda3\\lib\\site-packages\\aiohttp\\connector.py\u001b[0m in \u001b[0;36m_create_connection\u001b[1;34m(self, req, traces, timeout)\u001b[0m\n\u001b[0;32m    890\u001b[0m             \u001b[0m_\u001b[0m\u001b[1;33m,\u001b[0m \u001b[0mproto\u001b[0m \u001b[1;33m=\u001b[0m \u001b[1;32mawait\u001b[0m \u001b[0mself\u001b[0m\u001b[1;33m.\u001b[0m\u001b[0m_create_proxy_connection\u001b[0m\u001b[1;33m(\u001b[0m\u001b[0mreq\u001b[0m\u001b[1;33m,\u001b[0m \u001b[0mtraces\u001b[0m\u001b[1;33m,\u001b[0m \u001b[0mtimeout\u001b[0m\u001b[1;33m)\u001b[0m\u001b[1;33m\u001b[0m\u001b[1;33m\u001b[0m\u001b[0m\n\u001b[0;32m    891\u001b[0m         \u001b[1;32melse\u001b[0m\u001b[1;33m:\u001b[0m\u001b[1;33m\u001b[0m\u001b[1;33m\u001b[0m\u001b[0m\n\u001b[1;32m--> 892\u001b[1;33m             \u001b[0m_\u001b[0m\u001b[1;33m,\u001b[0m \u001b[0mproto\u001b[0m \u001b[1;33m=\u001b[0m \u001b[1;32mawait\u001b[0m \u001b[0mself\u001b[0m\u001b[1;33m.\u001b[0m\u001b[0m_create_direct_connection\u001b[0m\u001b[1;33m(\u001b[0m\u001b[0mreq\u001b[0m\u001b[1;33m,\u001b[0m \u001b[0mtraces\u001b[0m\u001b[1;33m,\u001b[0m \u001b[0mtimeout\u001b[0m\u001b[1;33m)\u001b[0m\u001b[1;33m\u001b[0m\u001b[1;33m\u001b[0m\u001b[0m\n\u001b[0m\u001b[0;32m    893\u001b[0m \u001b[1;33m\u001b[0m\u001b[0m\n\u001b[0;32m    894\u001b[0m         \u001b[1;32mreturn\u001b[0m \u001b[0mproto\u001b[0m\u001b[1;33m\u001b[0m\u001b[1;33m\u001b[0m\u001b[0m\n",
      "\u001b[1;32m~\\anaconda3\\lib\\site-packages\\aiohttp\\connector.py\u001b[0m in \u001b[0;36m_create_direct_connection\u001b[1;34m(self, req, traces, timeout, client_error)\u001b[0m\n\u001b[0;32m   1018\u001b[0m \u001b[1;33m\u001b[0m\u001b[0m\n\u001b[0;32m   1019\u001b[0m             \u001b[1;32mtry\u001b[0m\u001b[1;33m:\u001b[0m\u001b[1;33m\u001b[0m\u001b[1;33m\u001b[0m\u001b[0m\n\u001b[1;32m-> 1020\u001b[1;33m                 transp, proto = await self._wrap_create_connection(\n\u001b[0m\u001b[0;32m   1021\u001b[0m                     \u001b[0mself\u001b[0m\u001b[1;33m.\u001b[0m\u001b[0m_factory\u001b[0m\u001b[1;33m,\u001b[0m\u001b[1;33m\u001b[0m\u001b[1;33m\u001b[0m\u001b[0m\n\u001b[0;32m   1022\u001b[0m                     \u001b[0mhost\u001b[0m\u001b[1;33m,\u001b[0m\u001b[1;33m\u001b[0m\u001b[1;33m\u001b[0m\u001b[0m\n",
      "\u001b[1;32m~\\anaconda3\\lib\\site-packages\\aiohttp\\connector.py\u001b[0m in \u001b[0;36m_wrap_create_connection\u001b[1;34m(self, req, timeout, client_error, *args, **kwargs)\u001b[0m\n\u001b[0;32m    967\u001b[0m         \u001b[1;32mtry\u001b[0m\u001b[1;33m:\u001b[0m\u001b[1;33m\u001b[0m\u001b[1;33m\u001b[0m\u001b[0m\n\u001b[0;32m    968\u001b[0m             \u001b[1;32mwith\u001b[0m \u001b[0mCeilTimeout\u001b[0m\u001b[1;33m(\u001b[0m\u001b[0mtimeout\u001b[0m\u001b[1;33m.\u001b[0m\u001b[0msock_connect\u001b[0m\u001b[1;33m)\u001b[0m\u001b[1;33m:\u001b[0m\u001b[1;33m\u001b[0m\u001b[1;33m\u001b[0m\u001b[0m\n\u001b[1;32m--> 969\u001b[1;33m                 \u001b[1;32mreturn\u001b[0m \u001b[1;32mawait\u001b[0m \u001b[0mself\u001b[0m\u001b[1;33m.\u001b[0m\u001b[0m_loop\u001b[0m\u001b[1;33m.\u001b[0m\u001b[0mcreate_connection\u001b[0m\u001b[1;33m(\u001b[0m\u001b[1;33m*\u001b[0m\u001b[0margs\u001b[0m\u001b[1;33m,\u001b[0m \u001b[1;33m**\u001b[0m\u001b[0mkwargs\u001b[0m\u001b[1;33m)\u001b[0m  \u001b[1;31m# type: ignore  # noqa\u001b[0m\u001b[1;33m\u001b[0m\u001b[1;33m\u001b[0m\u001b[0m\n\u001b[0m\u001b[0;32m    970\u001b[0m         \u001b[1;32mexcept\u001b[0m \u001b[0mcert_errors\u001b[0m \u001b[1;32mas\u001b[0m \u001b[0mexc\u001b[0m\u001b[1;33m:\u001b[0m\u001b[1;33m\u001b[0m\u001b[1;33m\u001b[0m\u001b[0m\n\u001b[0;32m    971\u001b[0m             \u001b[1;32mraise\u001b[0m \u001b[0mClientConnectorCertificateError\u001b[0m\u001b[1;33m(\u001b[0m\u001b[0mreq\u001b[0m\u001b[1;33m.\u001b[0m\u001b[0mconnection_key\u001b[0m\u001b[1;33m,\u001b[0m \u001b[0mexc\u001b[0m\u001b[1;33m)\u001b[0m \u001b[1;32mfrom\u001b[0m \u001b[0mexc\u001b[0m\u001b[1;33m\u001b[0m\u001b[1;33m\u001b[0m\u001b[0m\n",
      "\u001b[1;32m~\\anaconda3\\lib\\asyncio\\base_events.py\u001b[0m in \u001b[0;36mcreate_connection\u001b[1;34m(self, protocol_factory, host, port, ssl, family, proto, flags, sock, local_addr, server_hostname, ssl_handshake_timeout, happy_eyeballs_delay, interleave)\u001b[0m\n\u001b[0;32m   1008\u001b[0m                 \u001b[1;32mfor\u001b[0m \u001b[0maddrinfo\u001b[0m \u001b[1;32min\u001b[0m \u001b[0minfos\u001b[0m\u001b[1;33m:\u001b[0m\u001b[1;33m\u001b[0m\u001b[1;33m\u001b[0m\u001b[0m\n\u001b[0;32m   1009\u001b[0m                     \u001b[1;32mtry\u001b[0m\u001b[1;33m:\u001b[0m\u001b[1;33m\u001b[0m\u001b[1;33m\u001b[0m\u001b[0m\n\u001b[1;32m-> 1010\u001b[1;33m                         sock = await self._connect_sock(\n\u001b[0m\u001b[0;32m   1011\u001b[0m                             exceptions, addrinfo, laddr_infos)\n\u001b[0;32m   1012\u001b[0m                         \u001b[1;32mbreak\u001b[0m\u001b[1;33m\u001b[0m\u001b[1;33m\u001b[0m\u001b[0m\n",
      "\u001b[1;32m~\\anaconda3\\lib\\asyncio\\base_events.py\u001b[0m in \u001b[0;36m_connect_sock\u001b[1;34m(self, exceptions, addr_info, local_addr_infos)\u001b[0m\n\u001b[0;32m    922\u001b[0m                 \u001b[1;32melse\u001b[0m\u001b[1;33m:\u001b[0m  \u001b[1;31m# all bind attempts failed\u001b[0m\u001b[1;33m\u001b[0m\u001b[1;33m\u001b[0m\u001b[0m\n\u001b[0;32m    923\u001b[0m                     \u001b[1;32mraise\u001b[0m \u001b[0mmy_exceptions\u001b[0m\u001b[1;33m.\u001b[0m\u001b[0mpop\u001b[0m\u001b[1;33m(\u001b[0m\u001b[1;33m)\u001b[0m\u001b[1;33m\u001b[0m\u001b[1;33m\u001b[0m\u001b[0m\n\u001b[1;32m--> 924\u001b[1;33m             \u001b[1;32mawait\u001b[0m \u001b[0mself\u001b[0m\u001b[1;33m.\u001b[0m\u001b[0msock_connect\u001b[0m\u001b[1;33m(\u001b[0m\u001b[0msock\u001b[0m\u001b[1;33m,\u001b[0m \u001b[0maddress\u001b[0m\u001b[1;33m)\u001b[0m\u001b[1;33m\u001b[0m\u001b[1;33m\u001b[0m\u001b[0m\n\u001b[0m\u001b[0;32m    925\u001b[0m             \u001b[1;32mreturn\u001b[0m \u001b[0msock\u001b[0m\u001b[1;33m\u001b[0m\u001b[1;33m\u001b[0m\u001b[0m\n\u001b[0;32m    926\u001b[0m         \u001b[1;32mexcept\u001b[0m \u001b[0mOSError\u001b[0m \u001b[1;32mas\u001b[0m \u001b[0mexc\u001b[0m\u001b[1;33m:\u001b[0m\u001b[1;33m\u001b[0m\u001b[1;33m\u001b[0m\u001b[0m\n",
      "\u001b[1;32m~\\anaconda3\\lib\\asyncio\\selector_events.py\u001b[0m in \u001b[0;36msock_connect\u001b[1;34m(self, sock, address)\u001b[0m\n\u001b[0;32m    494\u001b[0m         \u001b[0mfut\u001b[0m \u001b[1;33m=\u001b[0m \u001b[0mself\u001b[0m\u001b[1;33m.\u001b[0m\u001b[0mcreate_future\u001b[0m\u001b[1;33m(\u001b[0m\u001b[1;33m)\u001b[0m\u001b[1;33m\u001b[0m\u001b[1;33m\u001b[0m\u001b[0m\n\u001b[0;32m    495\u001b[0m         \u001b[0mself\u001b[0m\u001b[1;33m.\u001b[0m\u001b[0m_sock_connect\u001b[0m\u001b[1;33m(\u001b[0m\u001b[0mfut\u001b[0m\u001b[1;33m,\u001b[0m \u001b[0msock\u001b[0m\u001b[1;33m,\u001b[0m \u001b[0maddress\u001b[0m\u001b[1;33m)\u001b[0m\u001b[1;33m\u001b[0m\u001b[1;33m\u001b[0m\u001b[0m\n\u001b[1;32m--> 496\u001b[1;33m         \u001b[1;32mreturn\u001b[0m \u001b[1;32mawait\u001b[0m \u001b[0mfut\u001b[0m\u001b[1;33m\u001b[0m\u001b[1;33m\u001b[0m\u001b[0m\n\u001b[0m\u001b[0;32m    497\u001b[0m \u001b[1;33m\u001b[0m\u001b[0m\n\u001b[0;32m    498\u001b[0m     \u001b[1;32mdef\u001b[0m \u001b[0m_sock_connect\u001b[0m\u001b[1;33m(\u001b[0m\u001b[0mself\u001b[0m\u001b[1;33m,\u001b[0m \u001b[0mfut\u001b[0m\u001b[1;33m,\u001b[0m \u001b[0msock\u001b[0m\u001b[1;33m,\u001b[0m \u001b[0maddress\u001b[0m\u001b[1;33m)\u001b[0m\u001b[1;33m:\u001b[0m\u001b[1;33m\u001b[0m\u001b[1;33m\u001b[0m\u001b[0m\n",
      "\u001b[1;31mCancelledError\u001b[0m: "
     ]
    }
   ],
   "source": [
    "start_time = time.time()\n",
    "all_fields_one = await create_games_dataset(1, 200)\n",
    "print(\"--- %s seconds ---\" % (time.time() - start_time))"
   ]
  },
  {
   "cell_type": "code",
   "execution_count": null,
   "id": "3fbb2f86",
   "metadata": {},
   "outputs": [],
   "source": []
  }
 ],
 "metadata": {
  "kernelspec": {
   "display_name": "Python 3",
   "language": "python",
   "name": "python3"
  },
  "language_info": {
   "codemirror_mode": {
    "name": "ipython",
    "version": 3
   },
   "file_extension": ".py",
   "mimetype": "text/x-python",
   "name": "python",
   "nbconvert_exporter": "python",
   "pygments_lexer": "ipython3",
   "version": "3.8.8"
  }
 },
 "nbformat": 4,
 "nbformat_minor": 5
}
