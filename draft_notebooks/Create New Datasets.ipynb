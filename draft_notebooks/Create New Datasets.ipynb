{
 "cells": [
  {
   "cell_type": "markdown",
   "id": "636bdcae",
   "metadata": {},
   "source": [
    "# Anime"
   ]
  },
  {
   "cell_type": "markdown",
   "id": "5e30113e",
   "metadata": {},
   "source": [
    "Начнем с самого легкого, так как дальше нужно будет собирать целый набор данных. Удачи.\n",
    "\n",
    "Вот документация: https://jikan.docs.apiary.io/#reference\n",
    "\n",
    "А вот оболочка для API: https://github.com/abhinavk99/jikanpy"
   ]
  },
  {
   "cell_type": "code",
   "execution_count": 1,
   "id": "4acca443",
   "metadata": {},
   "outputs": [],
   "source": [
    "import jikanpy as jp\n",
    "import pandas as pd\n",
    "from time import sleep"
   ]
  },
  {
   "cell_type": "code",
   "execution_count": 2,
   "id": "4a60b971",
   "metadata": {},
   "outputs": [],
   "source": [
    "anime_dataset = pd.read_csv('./datasets/anime_dataset/anime.csv')"
   ]
  },
  {
   "cell_type": "code",
   "execution_count": 3,
   "id": "03c9c4cd",
   "metadata": {},
   "outputs": [],
   "source": [
    "ids = anime_dataset.MAL_ID.tolist()"
   ]
  },
  {
   "cell_type": "code",
   "execution_count": 4,
   "id": "11511549",
   "metadata": {},
   "outputs": [],
   "source": [
    "jikan = jp.Jikan()"
   ]
  },
  {
   "cell_type": "code",
   "execution_count": 5,
   "id": "feac97f6",
   "metadata": {},
   "outputs": [],
   "source": [
    "def get_cleared_recs(uncleared_recs):\n",
    "    titles = []\n",
    "    mal_ids = []\n",
    "    i = 0\n",
    "    while i != 7:\n",
    "        try:\n",
    "            title = uncleared_recs['recommendations'][i]['title']\n",
    "            mal_id = uncleared_recs['recommendations'][i]['mal_id']\n",
    "            titles.append(title)\n",
    "            mal_ids.append(mal_id)\n",
    "            i += 1\n",
    "        except IndexError:\n",
    "            titles.append('No')\n",
    "            mal_ids.append('No')\n",
    "            i += 1\n",
    "    return titles, mal_ids"
   ]
  },
  {
   "cell_type": "code",
   "execution_count": 6,
   "id": "63d6f80a",
   "metadata": {},
   "outputs": [],
   "source": [
    "def get_recs(id):\n",
    "    uncleared_recs = jikan.anime(id, extension='recommendations')\n",
    "    recs = get_cleared_recs(uncleared_recs)\n",
    "    return recs"
   ]
  },
  {
   "cell_type": "code",
   "execution_count": 13,
   "id": "9b8b6f7c",
   "metadata": {},
   "outputs": [
    {
     "ename": "KeyboardInterrupt",
     "evalue": "",
     "output_type": "error",
     "traceback": [
      "\u001b[1;31m---------------------------------------------------------------------------\u001b[0m",
      "\u001b[1;31mKeyboardInterrupt\u001b[0m                         Traceback (most recent call last)",
      "\u001b[1;32m<ipython-input-13-54c0918a4258>\u001b[0m in \u001b[0;36m<module>\u001b[1;34m\u001b[0m\n\u001b[0;32m      8\u001b[0m     \u001b[1;32mif\u001b[0m \u001b[0mitem_id\u001b[0m \u001b[1;33m%\u001b[0m \u001b[1;36m100\u001b[0m \u001b[1;33m==\u001b[0m \u001b[1;36m0\u001b[0m\u001b[1;33m:\u001b[0m\u001b[1;33m\u001b[0m\u001b[1;33m\u001b[0m\u001b[0m\n\u001b[0;32m      9\u001b[0m         \u001b[0mprint\u001b[0m\u001b[1;33m(\u001b[0m\u001b[0mitem_id\u001b[0m\u001b[1;33m)\u001b[0m\u001b[1;33m\u001b[0m\u001b[1;33m\u001b[0m\u001b[0m\n\u001b[1;32m---> 10\u001b[1;33m     \u001b[0msleep\u001b[0m\u001b[1;33m(\u001b[0m\u001b[1;36m4\u001b[0m\u001b[1;33m)\u001b[0m\u001b[1;33m\u001b[0m\u001b[1;33m\u001b[0m\u001b[0m\n\u001b[0m",
      "\u001b[1;31mKeyboardInterrupt\u001b[0m: "
     ]
    }
   ],
   "source": [
    "i = 0\n",
    "anime_recs = pd.DataFrame(columns=['ID', 'Reco_Title', 'Reco_ID'])\n",
    "fake_ids = []\n",
    "for item_id in ids:\n",
    "    titles, mal_ids = get_recs(item_id)\n",
    "    for i in range(7):\n",
    "        anime_recs.loc[len(anime_recs.index)] = [item_id, titles[i], mal_ids[i]]\n",
    "    if item_id % 100 == 0:\n",
    "        print(item_id)\n",
    "    sleep(4)"
   ]
  },
  {
   "cell_type": "markdown",
   "id": "3cd77f44",
   "metadata": {},
   "source": [
    "ID объекта и название рекомендации, само собой, нужны, первый - для того, чтобы знать, к чему привязать, второй - для того, чтобы знать что мы привязываем. Зачем ID рекомендаций? Для того, чтобы получить их признаки."
   ]
  },
  {
   "cell_type": "code",
   "execution_count": null,
   "id": "f606c7fd",
   "metadata": {},
   "outputs": [],
   "source": [
    "anime_recs.head()"
   ]
  },
  {
   "cell_type": "code",
   "execution_count": null,
   "id": "d8bfc196",
   "metadata": {},
   "outputs": [],
   "source": [
    "anime_recs.to_csv('C:/Users/ASDW/Python/Projects/Recosys 2.0/datasets/anime_dataset/recommendations.csv')"
   ]
  },
  {
   "cell_type": "markdown",
   "id": "bfeed9fb",
   "metadata": {},
   "source": [
    "Количество уникальных значений делим на количество секунд в 1 часе."
   ]
  },
  {
   "cell_type": "code",
   "execution_count": 14,
   "id": "6f44c6bf",
   "metadata": {},
   "outputs": [
    {
     "data": {
      "text/plain": [
       "19.513333333333332"
      ]
     },
     "execution_count": 14,
     "metadata": {},
     "output_type": "execute_result"
    }
   ],
   "source": [
    "17562*4/3600"
   ]
  },
  {
   "cell_type": "markdown",
   "id": "e8018a0c",
   "metadata": {},
   "source": [
    "Ы. Почти 5 часов непрерывного исполнения кода. Класс."
   ]
  },
  {
   "cell_type": "markdown",
   "id": "af6ceda8",
   "metadata": {},
   "source": [
    "# Movies"
   ]
  },
  {
   "cell_type": "markdown",
   "id": "2e55b193",
   "metadata": {},
   "source": [
    "Самый лучший API, так как не имеет ограничений, бесплатный и быстрый. \n",
    "\n",
    "Вот документация: https://developers.themoviedb.org/3/getting-started/introduction"
   ]
  },
  {
   "cell_type": "markdown",
   "id": "4fcc790c",
   "metadata": {},
   "source": [
    "А вот для него оболочка: https://github.com/celiao/tmdbsimple/"
   ]
  },
  {
   "cell_type": "code",
   "execution_count": 145,
   "id": "82564ec0",
   "metadata": {},
   "outputs": [],
   "source": [
    "import json\n",
    "import tmdbsimple as tmdb"
   ]
  },
  {
   "cell_type": "code",
   "execution_count": 146,
   "id": "467f0115",
   "metadata": {},
   "outputs": [],
   "source": [
    "tmdb.API_KEY = 'a3f602b65c0a076ea0d86079787f019b'"
   ]
  },
  {
   "cell_type": "code",
   "execution_count": 141,
   "id": "c6089ee4",
   "metadata": {},
   "outputs": [],
   "source": [
    "movies_dataset = pd.read_csv('./datasets/movies_dataset/movies_clear.csv')"
   ]
  },
  {
   "cell_type": "code",
   "execution_count": 142,
   "id": "f5ec8f69",
   "metadata": {},
   "outputs": [],
   "source": [
    "ids = movies_dataset.id"
   ]
  },
  {
   "cell_type": "code",
   "execution_count": 161,
   "id": "1c970a7c",
   "metadata": {},
   "outputs": [],
   "source": [
    "def get_recommendations(item_id):\n",
    "    movie = tmdb.Movies(item_id)\n",
    "    recs = movie.recommendations()['results'][:7]\n",
    "    return recs"
   ]
  },
  {
   "cell_type": "code",
   "execution_count": 163,
   "id": "dbdfc9da",
   "metadata": {},
   "outputs": [],
   "source": [
    "movie_recs = pd.DataFrame(columns=['ID', 'Reco_Title', 'Reco_ID'])\n",
    "i = 0\n",
    "for item_id in ids:\n",
    "    sims = get_recommendations(item_id)\n",
    "    for sim in sims:\n",
    "        movie_recs.loc[len(movie_recs.index)] = [item_id, sim['title'], sim['id']]"
   ]
  },
  {
   "cell_type": "code",
   "execution_count": 164,
   "id": "e193788f",
   "metadata": {},
   "outputs": [
    {
     "data": {
      "text/html": [
       "<div>\n",
       "<style scoped>\n",
       "    .dataframe tbody tr th:only-of-type {\n",
       "        vertical-align: middle;\n",
       "    }\n",
       "\n",
       "    .dataframe tbody tr th {\n",
       "        vertical-align: top;\n",
       "    }\n",
       "\n",
       "    .dataframe thead th {\n",
       "        text-align: right;\n",
       "    }\n",
       "</style>\n",
       "<table border=\"1\" class=\"dataframe\">\n",
       "  <thead>\n",
       "    <tr style=\"text-align: right;\">\n",
       "      <th></th>\n",
       "      <th>ID</th>\n",
       "      <th>Reco_Title</th>\n",
       "      <th>Reco_ID</th>\n",
       "    </tr>\n",
       "  </thead>\n",
       "  <tbody>\n",
       "    <tr>\n",
       "      <th>0</th>\n",
       "      <td>19995</td>\n",
       "      <td>The Avengers</td>\n",
       "      <td>24428</td>\n",
       "    </tr>\n",
       "    <tr>\n",
       "      <th>1</th>\n",
       "      <td>19995</td>\n",
       "      <td>The Dark Knight Rises</td>\n",
       "      <td>49026</td>\n",
       "    </tr>\n",
       "    <tr>\n",
       "      <th>2</th>\n",
       "      <td>19995</td>\n",
       "      <td>The Hobbit: An Unexpected Journey</td>\n",
       "      <td>49051</td>\n",
       "    </tr>\n",
       "    <tr>\n",
       "      <th>3</th>\n",
       "      <td>19995</td>\n",
       "      <td>The Hunger Games</td>\n",
       "      <td>70160</td>\n",
       "    </tr>\n",
       "    <tr>\n",
       "      <th>4</th>\n",
       "      <td>19995</td>\n",
       "      <td>Iron Man</td>\n",
       "      <td>1726</td>\n",
       "    </tr>\n",
       "    <tr>\n",
       "      <th>5</th>\n",
       "      <td>19995</td>\n",
       "      <td>Inception</td>\n",
       "      <td>27205</td>\n",
       "    </tr>\n",
       "    <tr>\n",
       "      <th>6</th>\n",
       "      <td>19995</td>\n",
       "      <td>Skyfall</td>\n",
       "      <td>37724</td>\n",
       "    </tr>\n",
       "    <tr>\n",
       "      <th>7</th>\n",
       "      <td>285</td>\n",
       "      <td>Pirates of the Caribbean: Dead Man's Chest</td>\n",
       "      <td>58</td>\n",
       "    </tr>\n",
       "    <tr>\n",
       "      <th>8</th>\n",
       "      <td>285</td>\n",
       "      <td>Pirates of the Caribbean: On Stranger Tides</td>\n",
       "      <td>1865</td>\n",
       "    </tr>\n",
       "    <tr>\n",
       "      <th>9</th>\n",
       "      <td>285</td>\n",
       "      <td>Pirates of the Caribbean: The Curse of the Bla...</td>\n",
       "      <td>22</td>\n",
       "    </tr>\n",
       "    <tr>\n",
       "      <th>10</th>\n",
       "      <td>285</td>\n",
       "      <td>Pirates of the Caribbean: Dead Men Tell No Tales</td>\n",
       "      <td>166426</td>\n",
       "    </tr>\n",
       "    <tr>\n",
       "      <th>11</th>\n",
       "      <td>285</td>\n",
       "      <td>Harry Potter and the Order of the Phoenix</td>\n",
       "      <td>675</td>\n",
       "    </tr>\n",
       "    <tr>\n",
       "      <th>12</th>\n",
       "      <td>285</td>\n",
       "      <td>Harry Potter and the Half-Blood Prince</td>\n",
       "      <td>767</td>\n",
       "    </tr>\n",
       "    <tr>\n",
       "      <th>13</th>\n",
       "      <td>285</td>\n",
       "      <td>Harry Potter and the Deathly Hallows: Part 1</td>\n",
       "      <td>12444</td>\n",
       "    </tr>\n",
       "    <tr>\n",
       "      <th>14</th>\n",
       "      <td>206647</td>\n",
       "      <td>Skyfall</td>\n",
       "      <td>37724</td>\n",
       "    </tr>\n",
       "    <tr>\n",
       "      <th>15</th>\n",
       "      <td>206647</td>\n",
       "      <td>Quantum of Solace</td>\n",
       "      <td>10764</td>\n",
       "    </tr>\n",
       "    <tr>\n",
       "      <th>16</th>\n",
       "      <td>206647</td>\n",
       "      <td>Casino Royale</td>\n",
       "      <td>36557</td>\n",
       "    </tr>\n",
       "    <tr>\n",
       "      <th>17</th>\n",
       "      <td>206647</td>\n",
       "      <td>Star Wars: The Force Awakens</td>\n",
       "      <td>140607</td>\n",
       "    </tr>\n",
       "    <tr>\n",
       "      <th>18</th>\n",
       "      <td>206647</td>\n",
       "      <td>Mission: Impossible - Rogue Nation</td>\n",
       "      <td>177677</td>\n",
       "    </tr>\n",
       "    <tr>\n",
       "      <th>19</th>\n",
       "      <td>206647</td>\n",
       "      <td>The Martian</td>\n",
       "      <td>286217</td>\n",
       "    </tr>\n",
       "    <tr>\n",
       "      <th>20</th>\n",
       "      <td>206647</td>\n",
       "      <td>The Hunger Games: Mockingjay - Part 2</td>\n",
       "      <td>131634</td>\n",
       "    </tr>\n",
       "    <tr>\n",
       "      <th>21</th>\n",
       "      <td>49026</td>\n",
       "      <td>Batman Begins</td>\n",
       "      <td>272</td>\n",
       "    </tr>\n",
       "    <tr>\n",
       "      <th>22</th>\n",
       "      <td>49026</td>\n",
       "      <td>The Dark Knight</td>\n",
       "      <td>155</td>\n",
       "    </tr>\n",
       "    <tr>\n",
       "      <th>23</th>\n",
       "      <td>49026</td>\n",
       "      <td>The Avengers</td>\n",
       "      <td>24428</td>\n",
       "    </tr>\n",
       "    <tr>\n",
       "      <th>24</th>\n",
       "      <td>49026</td>\n",
       "      <td>Skyfall</td>\n",
       "      <td>37724</td>\n",
       "    </tr>\n",
       "    <tr>\n",
       "      <th>25</th>\n",
       "      <td>49026</td>\n",
       "      <td>The Amazing Spider-Man</td>\n",
       "      <td>1930</td>\n",
       "    </tr>\n",
       "    <tr>\n",
       "      <th>26</th>\n",
       "      <td>49026</td>\n",
       "      <td>Iron Man 3</td>\n",
       "      <td>68721</td>\n",
       "    </tr>\n",
       "    <tr>\n",
       "      <th>27</th>\n",
       "      <td>49026</td>\n",
       "      <td>Iron Man</td>\n",
       "      <td>1726</td>\n",
       "    </tr>\n",
       "    <tr>\n",
       "      <th>28</th>\n",
       "      <td>49529</td>\n",
       "      <td>Battleship</td>\n",
       "      <td>44833</td>\n",
       "    </tr>\n",
       "    <tr>\n",
       "      <th>29</th>\n",
       "      <td>49529</td>\n",
       "      <td>Cowboys &amp; Aliens</td>\n",
       "      <td>49849</td>\n",
       "    </tr>\n",
       "    <tr>\n",
       "      <th>30</th>\n",
       "      <td>49529</td>\n",
       "      <td>Wrath of the Titans</td>\n",
       "      <td>57165</td>\n",
       "    </tr>\n",
       "    <tr>\n",
       "      <th>31</th>\n",
       "      <td>49529</td>\n",
       "      <td>Total Recall</td>\n",
       "      <td>64635</td>\n",
       "    </tr>\n",
       "    <tr>\n",
       "      <th>32</th>\n",
       "      <td>49529</td>\n",
       "      <td>Clash of the Titans</td>\n",
       "      <td>18823</td>\n",
       "    </tr>\n",
       "    <tr>\n",
       "      <th>33</th>\n",
       "      <td>49529</td>\n",
       "      <td>Green Lantern</td>\n",
       "      <td>44912</td>\n",
       "    </tr>\n",
       "    <tr>\n",
       "      <th>34</th>\n",
       "      <td>49529</td>\n",
       "      <td>Real Steel</td>\n",
       "      <td>39254</td>\n",
       "    </tr>\n",
       "  </tbody>\n",
       "</table>\n",
       "</div>"
      ],
      "text/plain": [
       "        ID                                         Reco_Title Reco_ID\n",
       "0    19995                                       The Avengers   24428\n",
       "1    19995                              The Dark Knight Rises   49026\n",
       "2    19995                  The Hobbit: An Unexpected Journey   49051\n",
       "3    19995                                   The Hunger Games   70160\n",
       "4    19995                                           Iron Man    1726\n",
       "5    19995                                          Inception   27205\n",
       "6    19995                                            Skyfall   37724\n",
       "7      285         Pirates of the Caribbean: Dead Man's Chest      58\n",
       "8      285        Pirates of the Caribbean: On Stranger Tides    1865\n",
       "9      285  Pirates of the Caribbean: The Curse of the Bla...      22\n",
       "10     285   Pirates of the Caribbean: Dead Men Tell No Tales  166426\n",
       "11     285          Harry Potter and the Order of the Phoenix     675\n",
       "12     285             Harry Potter and the Half-Blood Prince     767\n",
       "13     285       Harry Potter and the Deathly Hallows: Part 1   12444\n",
       "14  206647                                            Skyfall   37724\n",
       "15  206647                                  Quantum of Solace   10764\n",
       "16  206647                                      Casino Royale   36557\n",
       "17  206647                       Star Wars: The Force Awakens  140607\n",
       "18  206647                 Mission: Impossible - Rogue Nation  177677\n",
       "19  206647                                        The Martian  286217\n",
       "20  206647              The Hunger Games: Mockingjay - Part 2  131634\n",
       "21   49026                                      Batman Begins     272\n",
       "22   49026                                    The Dark Knight     155\n",
       "23   49026                                       The Avengers   24428\n",
       "24   49026                                            Skyfall   37724\n",
       "25   49026                             The Amazing Spider-Man    1930\n",
       "26   49026                                         Iron Man 3   68721\n",
       "27   49026                                           Iron Man    1726\n",
       "28   49529                                         Battleship   44833\n",
       "29   49529                                   Cowboys & Aliens   49849\n",
       "30   49529                                Wrath of the Titans   57165\n",
       "31   49529                                       Total Recall   64635\n",
       "32   49529                                Clash of the Titans   18823\n",
       "33   49529                                      Green Lantern   44912\n",
       "34   49529                                         Real Steel   39254"
      ]
     },
     "execution_count": 164,
     "metadata": {},
     "output_type": "execute_result"
    }
   ],
   "source": [
    "movie_recs"
   ]
  },
  {
   "cell_type": "code",
   "execution_count": 242,
   "id": "17d788a5",
   "metadata": {},
   "outputs": [
    {
     "data": {
      "text/plain": [
       "10.0"
      ]
     },
     "execution_count": 242,
     "metadata": {},
     "output_type": "execute_result"
    }
   ],
   "source": [
    "(4800/8)/60"
   ]
  },
  {
   "cell_type": "markdown",
   "id": "50635d29",
   "metadata": {},
   "source": [
    "# Games"
   ]
  },
  {
   "cell_type": "markdown",
   "id": "34b25666",
   "metadata": {},
   "source": [
    "Ограничение: 8 запросов в секунду. Намного лучше, чем в Jikan"
   ]
  },
  {
   "cell_type": "markdown",
   "id": "0b2a8962",
   "metadata": {},
   "source": [
    "Twitch-токен нужно обновлять раз в n секунд. Пока держи это в голове."
   ]
  },
  {
   "cell_type": "code",
   "execution_count": 286,
   "id": "3e080cb2",
   "metadata": {},
   "outputs": [],
   "source": [
    "import requests\n",
    "import numpy as np\n",
    "from igdb.wrapper import IGDBWrapper"
   ]
  },
  {
   "cell_type": "code",
   "execution_count": 183,
   "id": "bc80bef2",
   "metadata": {},
   "outputs": [],
   "source": [
    "url = 'https://id.twitch.tv/oauth2/token?client_id=x0rncah74zueqqov31fhkwuzlqv27a&client_secret=nyoj0usmdecwegm7e14c40s9kbq1hw&grant_type=client_credentials'"
   ]
  },
  {
   "cell_type": "code",
   "execution_count": 187,
   "id": "c3102df4",
   "metadata": {},
   "outputs": [],
   "source": [
    "response = requests.request('POST', url=url)"
   ]
  },
  {
   "cell_type": "code",
   "execution_count": 201,
   "id": "c5c75d87",
   "metadata": {},
   "outputs": [],
   "source": [
    "access_token = response.text"
   ]
  },
  {
   "cell_type": "code",
   "execution_count": 202,
   "id": "310e9c5d",
   "metadata": {},
   "outputs": [
    {
     "data": {
      "text/plain": [
       "'{\"access_token\":\"wh0x0brf0afho4yix9x7k2gv735tgs\",\"expires_in\":5444906,\"token_type\":\"bearer\"}\\n'"
      ]
     },
     "execution_count": 202,
     "metadata": {},
     "output_type": "execute_result"
    }
   ],
   "source": [
    "access_token"
   ]
  },
  {
   "cell_type": "markdown",
   "id": "7b0c6e4a",
   "metadata": {},
   "source": [
    "Количество секунд делится на количество секунд в 1 часе, умноженном на количество часов в сутках."
   ]
  },
  {
   "cell_type": "code",
   "execution_count": 204,
   "id": "ec32f9a0",
   "metadata": {},
   "outputs": [
    {
     "data": {
      "text/plain": [
       "63.01974537037037"
      ]
     },
     "execution_count": 204,
     "metadata": {},
     "output_type": "execute_result"
    }
   ],
   "source": [
    "5444906/(3600*24)"
   ]
  },
  {
   "cell_type": "markdown",
   "id": "0f2faf6f",
   "metadata": {},
   "source": [
    "То есть, токен нужно будет сменить через 64 суток. К тому времени, я уже закончу."
   ]
  },
  {
   "cell_type": "code",
   "execution_count": 205,
   "id": "8e795551",
   "metadata": {},
   "outputs": [],
   "source": [
    "wrapper = IGDBWrapper('x0rncah74zueqqov31fhkwuzlqv27a', 'wh0x0brf0afho4yix9x7k2gv735tgs')"
   ]
  },
  {
   "cell_type": "code",
   "execution_count": 261,
   "id": "f1f1fb84",
   "metadata": {},
   "outputs": [],
   "source": [
    "def get_game_item(item_id):\n",
    "    byte_array = wrapper.api_request('games', 'fields *; where id = ' + str(item_id) + ';')\n",
    "    decoded_bytes_array = byte_array.decode('utf-8')\n",
    "    item = json.loads(decoded_bytes_array)\n",
    "    return item"
   ]
  },
  {
   "cell_type": "markdown",
   "id": "f43fea64",
   "metadata": {},
   "source": [
    "Количество уникальных значений делим на количество запросов в секунду и все это делим на количество секунд в 1 часе"
   ]
  },
  {
   "cell_type": "code",
   "execution_count": 238,
   "id": "fb6a45ac",
   "metadata": {},
   "outputs": [
    {
     "data": {
      "text/plain": [
       "5.341597222222222"
      ]
     },
     "execution_count": 238,
     "metadata": {},
     "output_type": "execute_result"
    }
   ],
   "source": [
    "(153838/8)/3600"
   ]
  },
  {
   "cell_type": "markdown",
   "id": "69c6b639",
   "metadata": {},
   "source": [
    "И для этого набора, чтобы сделать полноценный набор данных, придется прождать 5 часов. Классненько."
   ]
  },
  {
   "cell_type": "markdown",
   "id": "587d93bc",
   "metadata": {},
   "source": [
    "Сейчас нужно сделать все, чтобы завтра я только подключил ассинхронные вычисления и все."
   ]
  },
  {
   "cell_type": "code",
   "execution_count": 274,
   "id": "c6d8ca0d",
   "metadata": {},
   "outputs": [],
   "source": [
    "new_cols = ['storyline', 'summary']"
   ]
  },
  {
   "cell_type": "code",
   "execution_count": 284,
   "id": "2c996adb",
   "metadata": {},
   "outputs": [],
   "source": [
    "cols = ['id', 'age_ratings', 'category', 'collection', 'external_games', 'first_release_date', 'game_modes', 'genres', 'involved_companies', 'keywords', 'name', 'platforms', 'rating', 'rating_count', 'similar_games', 'slug', 'tags', 'total_rating', 'total_rating_count']"
   ]
  },
  {
   "cell_type": "code",
   "execution_count": null,
   "id": "34abfaec",
   "metadata": {},
   "outputs": [],
   "source": []
  },
  {
   "cell_type": "code",
   "execution_count": 15,
   "id": "217fe461",
   "metadata": {},
   "outputs": [
    {
     "data": {
      "text/plain": [
       "673.0"
      ]
     },
     "execution_count": 15,
     "metadata": {},
     "output_type": "execute_result"
    }
   ],
   "source": [
    "4711/7"
   ]
  },
  {
   "cell_type": "code",
   "execution_count": 289,
   "id": "c54a5978",
   "metadata": {},
   "outputs": [],
   "source": [
    "games_dataset = pd.DataFrame(columns=cols)\n",
    "for i in range(1, 153838):\n",
    "    item = get_game_item(i)[0]\n",
    "    if len(item) == 0:\n",
    "        continue\n",
    "    for col in cols:\n",
    "        try:\n",
    "            games_dataset.loc[len(movie_recs.index)] = item[col]\n",
    "        except KeyError:\n",
    "            games_dataset[col] = np.NaN\n",
    "        except ValueError:\n",
    "            games_dataset[col] = str(item[col])\n",
    "    if i > 20:\n",
    "        break"
   ]
  },
  {
   "cell_type": "code",
   "execution_count": 290,
   "id": "2a8dec8e",
   "metadata": {},
   "outputs": [
    {
     "data": {
      "text/html": [
       "<div>\n",
       "<style scoped>\n",
       "    .dataframe tbody tr th:only-of-type {\n",
       "        vertical-align: middle;\n",
       "    }\n",
       "\n",
       "    .dataframe tbody tr th {\n",
       "        vertical-align: top;\n",
       "    }\n",
       "\n",
       "    .dataframe thead th {\n",
       "        text-align: right;\n",
       "    }\n",
       "</style>\n",
       "<table border=\"1\" class=\"dataframe\">\n",
       "  <thead>\n",
       "    <tr style=\"text-align: right;\">\n",
       "      <th></th>\n",
       "      <th>id</th>\n",
       "      <th>age_ratings</th>\n",
       "      <th>category</th>\n",
       "      <th>collection</th>\n",
       "      <th>external_games</th>\n",
       "      <th>first_release_date</th>\n",
       "      <th>game_modes</th>\n",
       "      <th>genres</th>\n",
       "      <th>involved_companies</th>\n",
       "      <th>keywords</th>\n",
       "      <th>name</th>\n",
       "      <th>platforms</th>\n",
       "      <th>rating</th>\n",
       "      <th>rating_count</th>\n",
       "      <th>similar_games</th>\n",
       "      <th>slug</th>\n",
       "      <th>tags</th>\n",
       "      <th>total_rating</th>\n",
       "      <th>total_rating_count</th>\n",
       "    </tr>\n",
       "  </thead>\n",
       "  <tbody>\n",
       "    <tr>\n",
       "      <th>0</th>\n",
       "      <td>21</td>\n",
       "      <td>28028</td>\n",
       "      <td>0</td>\n",
       "      <td>1</td>\n",
       "      <td>[14839, 25458, 79006, 81698, 95265, 95266, 138...</td>\n",
       "      <td>1265673600</td>\n",
       "      <td>1</td>\n",
       "      <td>[5, 12, 31]</td>\n",
       "      <td>[24, 25, 26, 28, 29, 20004, 42120, 42121, 4212...</td>\n",
       "      <td>[22, 67, 129, 138, 221, 226, 274, 301, 403, 45...</td>\n",
       "      <td>BioShock 2</td>\n",
       "      <td>[6, 9, 12, 14]</td>\n",
       "      <td>80.921019</td>\n",
       "      <td>725</td>\n",
       "      <td>[20, 41, 533, 538, 1020, 2031, 3188, 9498, 972...</td>\n",
       "      <td>bioshock-2</td>\n",
       "      <td>[1, 18, 20, 268435461, 268435468, 268435487, 5...</td>\n",
       "      <td>83.960509</td>\n",
       "      <td>736</td>\n",
       "    </tr>\n",
       "    <tr>\n",
       "      <th>1</th>\n",
       "      <td>21</td>\n",
       "      <td>34379</td>\n",
       "      <td>0</td>\n",
       "      <td>1</td>\n",
       "      <td>[14839, 25458, 79006, 81698, 95265, 95266, 138...</td>\n",
       "      <td>1265673600</td>\n",
       "      <td>2</td>\n",
       "      <td>[5, 12, 31]</td>\n",
       "      <td>[24, 25, 26, 28, 29, 20004, 42120, 42121, 4212...</td>\n",
       "      <td>[22, 67, 129, 138, 221, 226, 274, 301, 403, 45...</td>\n",
       "      <td>BioShock 2</td>\n",
       "      <td>[6, 9, 12, 14]</td>\n",
       "      <td>80.921019</td>\n",
       "      <td>725</td>\n",
       "      <td>[20, 41, 533, 538, 1020, 2031, 3188, 9498, 972...</td>\n",
       "      <td>bioshock-2</td>\n",
       "      <td>[1, 18, 20, 268435461, 268435468, 268435487, 5...</td>\n",
       "      <td>83.960509</td>\n",
       "      <td>736</td>\n",
       "    </tr>\n",
       "  </tbody>\n",
       "</table>\n",
       "</div>"
      ],
      "text/plain": [
       "   id  age_ratings  category  collection  \\\n",
       "0  21        28028         0           1   \n",
       "1  21        34379         0           1   \n",
       "\n",
       "                                      external_games  first_release_date  \\\n",
       "0  [14839, 25458, 79006, 81698, 95265, 95266, 138...          1265673600   \n",
       "1  [14839, 25458, 79006, 81698, 95265, 95266, 138...          1265673600   \n",
       "\n",
       "   game_modes       genres                                 involved_companies  \\\n",
       "0           1  [5, 12, 31]  [24, 25, 26, 28, 29, 20004, 42120, 42121, 4212...   \n",
       "1           2  [5, 12, 31]  [24, 25, 26, 28, 29, 20004, 42120, 42121, 4212...   \n",
       "\n",
       "                                            keywords        name  \\\n",
       "0  [22, 67, 129, 138, 221, 226, 274, 301, 403, 45...  BioShock 2   \n",
       "1  [22, 67, 129, 138, 221, 226, 274, 301, 403, 45...  BioShock 2   \n",
       "\n",
       "        platforms     rating  rating_count  \\\n",
       "0  [6, 9, 12, 14]  80.921019           725   \n",
       "1  [6, 9, 12, 14]  80.921019           725   \n",
       "\n",
       "                                       similar_games        slug  \\\n",
       "0  [20, 41, 533, 538, 1020, 2031, 3188, 9498, 972...  bioshock-2   \n",
       "1  [20, 41, 533, 538, 1020, 2031, 3188, 9498, 972...  bioshock-2   \n",
       "\n",
       "                                                tags  total_rating  \\\n",
       "0  [1, 18, 20, 268435461, 268435468, 268435487, 5...     83.960509   \n",
       "1  [1, 18, 20, 268435461, 268435468, 268435487, 5...     83.960509   \n",
       "\n",
       "   total_rating_count  \n",
       "0                 736  \n",
       "1                 736  "
      ]
     },
     "execution_count": 290,
     "metadata": {},
     "output_type": "execute_result"
    }
   ],
   "source": [
    "games_dataset.head()"
   ]
  }
 ],
 "metadata": {
  "kernelspec": {
   "display_name": "Python 3",
   "language": "python",
   "name": "python3"
  },
  "language_info": {
   "codemirror_mode": {
    "name": "ipython",
    "version": 3
   },
   "file_extension": ".py",
   "mimetype": "text/x-python",
   "name": "python",
   "nbconvert_exporter": "python",
   "pygments_lexer": "ipython3",
   "version": "3.8.8"
  }
 },
 "nbformat": 4,
 "nbformat_minor": 5
}
