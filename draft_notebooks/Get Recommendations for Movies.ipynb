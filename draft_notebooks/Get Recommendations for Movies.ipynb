{
 "cells": [
  {
   "cell_type": "markdown",
   "id": "b1d4087e",
   "metadata": {},
   "source": [
    "# Get Recommendations for Movies"
   ]
  },
  {
   "cell_type": "markdown",
   "id": "e7bf725c",
   "metadata": {},
   "source": [
    "Самый лучший API, так как не имеет ограничений, бесплатный и быстрый. \n",
    "\n",
    "Вот документация: https://developers.themoviedb.org/3/getting-started/introduction"
   ]
  },
  {
   "cell_type": "code",
   "execution_count": 11,
   "id": "015214dc",
   "metadata": {},
   "outputs": [],
   "source": [
    "import json\n",
    "import aiohttp\n",
    "import asyncio\n",
    "import requests\n",
    "import numpy as np\n",
    "import pandas as pd"
   ]
  },
  {
   "cell_type": "code",
   "execution_count": null,
   "id": "5f110fe4",
   "metadata": {},
   "outputs": [],
   "source": [
    "tmdb.API_KEY = 'a3f602b65c0a076ea0d86079787f019b'"
   ]
  },
  {
   "cell_type": "code",
   "execution_count": 34,
   "id": "2fc10115",
   "metadata": {
    "scrolled": true
   },
   "outputs": [],
   "source": [
    "movies_dataset = pd.read_csv('./datasets/movies_dataset/movies_clear.csv')"
   ]
  },
  {
   "cell_type": "code",
   "execution_count": 35,
   "id": "296c9958",
   "metadata": {},
   "outputs": [],
   "source": [
    "ids = movies_dataset.id"
   ]
  },
  {
   "cell_type": "code",
   "execution_count": 40,
   "id": "4c348932",
   "metadata": {},
   "outputs": [],
   "source": [
    "def get_recommendations(item_id):\n",
    "    try: # если есть рекомендации, то выполняем код\n",
    "        movie = tmdb.Movies(item_id)\n",
    "        recs = movie.recommendations()['results'][:7]\n",
    "    except requests.HTTPError: # если их нет, то возвращаем пропущенные значения\n",
    "        recs = [{'title': np.NaN, 'id': np.NaN}, {'title': np.NaN, 'id': np.NaN}]\n",
    "    return recs"
   ]
  },
  {
   "cell_type": "code",
   "execution_count": null,
   "id": "841e7b9d",
   "metadata": {},
   "outputs": [],
   "source": [
    "movie_recs = pd.DataFrame(columns=['ID', 'Reco_Title', 'Reco_ID'])"
   ]
  },
  {
   "cell_type": "code",
   "execution_count": 41,
   "id": "454a6479",
   "metadata": {},
   "outputs": [
    {
     "name": "stdout",
     "output_type": "stream",
     "text": [
      "18000\n",
      "18000\n",
      "18500\n",
      "20600\n",
      "21400\n",
      "21500\n",
      "22200\n",
      "22600\n",
      "22700\n",
      "23000\n",
      "24100\n",
      "25200\n",
      "25300\n",
      "25600\n",
      "25700\n",
      "25700\n",
      "25800\n",
      "25900\n",
      "26500\n",
      "26800\n",
      "27200\n",
      "27200\n",
      "27200\n",
      "27200\n",
      "27300\n",
      "27700\n",
      "28000\n"
     ]
    }
   ],
   "source": [
    "for item_id in ids:\n",
    "    # в том случае, если что-то пошло не так и алгоритм закончил исполнение,\n",
    "    # те значения, что уже были пропарсены, остаются в df\n",
    "    if item_id in movie_recs.ID.unique():\n",
    "        continue\n",
    "    # те значения, что не были пропарсены, парсятся дальше\n",
    "    if item_id not in movie_recs.ID.unique():\n",
    "        sims = get_recommendations(item_id)\n",
    "        for sim in sims:\n",
    "            movie_recs.loc[len(movie_recs.index)] = [item_id, sim['title'], sim['id']]\n",
    "        if len(movie_recs) % 100 == 0:\n",
    "            print(len(movie_recs))"
   ]
  },
  {
   "cell_type": "code",
   "execution_count": 46,
   "id": "9d9f85de",
   "metadata": {},
   "outputs": [
    {
     "data": {
      "text/html": [
       "<div>\n",
       "<style scoped>\n",
       "    .dataframe tbody tr th:only-of-type {\n",
       "        vertical-align: middle;\n",
       "    }\n",
       "\n",
       "    .dataframe tbody tr th {\n",
       "        vertical-align: top;\n",
       "    }\n",
       "\n",
       "    .dataframe thead th {\n",
       "        text-align: right;\n",
       "    }\n",
       "</style>\n",
       "<table border=\"1\" class=\"dataframe\">\n",
       "  <thead>\n",
       "    <tr style=\"text-align: right;\">\n",
       "      <th></th>\n",
       "      <th>ID</th>\n",
       "      <th>Reco_Title</th>\n",
       "      <th>Reco_ID</th>\n",
       "    </tr>\n",
       "  </thead>\n",
       "  <tbody>\n",
       "    <tr>\n",
       "      <th>0</th>\n",
       "      <td>19995</td>\n",
       "      <td>The Avengers</td>\n",
       "      <td>24428</td>\n",
       "    </tr>\n",
       "    <tr>\n",
       "      <th>1</th>\n",
       "      <td>19995</td>\n",
       "      <td>The Dark Knight Rises</td>\n",
       "      <td>49026</td>\n",
       "    </tr>\n",
       "    <tr>\n",
       "      <th>2</th>\n",
       "      <td>19995</td>\n",
       "      <td>The Hobbit: An Unexpected Journey</td>\n",
       "      <td>49051</td>\n",
       "    </tr>\n",
       "    <tr>\n",
       "      <th>3</th>\n",
       "      <td>19995</td>\n",
       "      <td>The Hunger Games</td>\n",
       "      <td>70160</td>\n",
       "    </tr>\n",
       "    <tr>\n",
       "      <th>4</th>\n",
       "      <td>19995</td>\n",
       "      <td>Iron Man</td>\n",
       "      <td>1726</td>\n",
       "    </tr>\n",
       "    <tr>\n",
       "      <th>...</th>\n",
       "      <td>...</td>\n",
       "      <td>...</td>\n",
       "      <td>...</td>\n",
       "    </tr>\n",
       "    <tr>\n",
       "      <th>28813</th>\n",
       "      <td>231617</td>\n",
       "      <td>Signed, Sealed, Delivered: From the Heart</td>\n",
       "      <td>379992</td>\n",
       "    </tr>\n",
       "    <tr>\n",
       "      <th>28814</th>\n",
       "      <td>231617</td>\n",
       "      <td>Signed, Sealed, Delivered: Higher Ground</td>\n",
       "      <td>438573</td>\n",
       "    </tr>\n",
       "    <tr>\n",
       "      <th>28815</th>\n",
       "      <td>231617</td>\n",
       "      <td>Signed, Sealed, Delivered: To the Altar</td>\n",
       "      <td>526089</td>\n",
       "    </tr>\n",
       "    <tr>\n",
       "      <th>28816</th>\n",
       "      <td>25975</td>\n",
       "      <td>The Holiday</td>\n",
       "      <td>1581</td>\n",
       "    </tr>\n",
       "    <tr>\n",
       "      <th>28817</th>\n",
       "      <td>25975</td>\n",
       "      <td>Lost in Translation</td>\n",
       "      <td>153</td>\n",
       "    </tr>\n",
       "  </tbody>\n",
       "</table>\n",
       "<p>28818 rows × 3 columns</p>\n",
       "</div>"
      ],
      "text/plain": [
       "           ID                                 Reco_Title Reco_ID\n",
       "0       19995                               The Avengers   24428\n",
       "1       19995                      The Dark Knight Rises   49026\n",
       "2       19995          The Hobbit: An Unexpected Journey   49051\n",
       "3       19995                           The Hunger Games   70160\n",
       "4       19995                                   Iron Man    1726\n",
       "...       ...                                        ...     ...\n",
       "28813  231617  Signed, Sealed, Delivered: From the Heart  379992\n",
       "28814  231617   Signed, Sealed, Delivered: Higher Ground  438573\n",
       "28815  231617    Signed, Sealed, Delivered: To the Altar  526089\n",
       "28816   25975                                The Holiday    1581\n",
       "28817   25975                        Lost in Translation     153\n",
       "\n",
       "[28818 rows x 3 columns]"
      ]
     },
     "execution_count": 46,
     "metadata": {},
     "output_type": "execute_result"
    }
   ],
   "source": [
    "movie_recs"
   ]
  },
  {
   "cell_type": "code",
   "execution_count": 47,
   "id": "6c5c829c",
   "metadata": {},
   "outputs": [],
   "source": [
    "movie_recs.to_csv('C:/Users/ASDW/Python/Projects/Recosys 2.0/datasets/movies_dataset/recommendations.csv')"
   ]
  },
  {
   "cell_type": "code",
   "execution_count": null,
   "id": "e6853d1c",
   "metadata": {},
   "outputs": [],
   "source": []
  }
 ],
 "metadata": {
  "kernelspec": {
   "display_name": "Python 3",
   "language": "python",
   "name": "python3"
  },
  "language_info": {
   "codemirror_mode": {
    "name": "ipython",
    "version": 3
   },
   "file_extension": ".py",
   "mimetype": "text/x-python",
   "name": "python",
   "nbconvert_exporter": "python",
   "pygments_lexer": "ipython3",
   "version": "3.8.8"
  }
 },
 "nbformat": 4,
 "nbformat_minor": 5
}
