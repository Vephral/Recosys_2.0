{
 "cells": [
  {
   "cell_type": "code",
   "execution_count": 1,
   "id": "f701799d",
   "metadata": {},
   "outputs": [],
   "source": [
    "import time\n",
    "import asyncio\n",
    "import aiohttp\n",
    "import requests\n",
    "import threading\n",
    "import pandas as pd"
   ]
  },
  {
   "cell_type": "code",
   "execution_count": 2,
   "id": "4d036476",
   "metadata": {},
   "outputs": [],
   "source": [
    "cols = ['id', 'name',  'age_ratings', 'slug', 'aggregated_rating', 'aggregated_rating_count', 'category', 'collection', \n",
    "        'alternative_names', 'external_games', 'first_release_date', 'game_engines', 'game_modes', 'genres', \n",
    "        'involved_companies', 'keywords', 'platforms', 'rating', 'player_perspectives', 'dlcs', 'franchise',\n",
    "        'rating_count', 'release_dates', 'similar_games', 'tags', 'parent_game', 'status',\n",
    "        'total_rating', 'total_rating_count', 'updated_at', 'websites']"
   ]
  },
  {
   "cell_type": "code",
   "execution_count": 3,
   "id": "c6233e5d",
   "metadata": {},
   "outputs": [],
   "source": [
    "client_id = 'x0rncah74zueqqov31fhkwuzlqv27a'\n",
    "access_token = 'Bearer lhty0tvjq3el3s4rufgiw5vufmjk31'"
   ]
  },
  {
   "cell_type": "code",
   "execution_count": 4,
   "id": "eea9d831",
   "metadata": {},
   "outputs": [],
   "source": [
    "async def create_games_dataset(floor, ceiling, endpoint='games'):\n",
    "    # нужно для того, чтобы авторизироваться\n",
    "    headers = {'Client-ID': client_id, \n",
    "               'Authorization': access_token}\n",
    "    async with aiohttp.ClientSession() as session:\n",
    "        all_games = pd.DataFrame(columns=cols)\n",
    "        for i in range(floor, ceiling):\n",
    "            # endpoint и id можно изменять для того, чтобы получить разные наборы\n",
    "            body = 'fields *; where id = ' + str(i) + ';'\n",
    "            async with session.post('https://api.igdb.com/v4/' + endpoint + '/', headers=headers, data=body) as resp:\n",
    "                game = await resp.json()\n",
    "                try: # если вышла такая ошибка, значит слишком много запросов в одну секунду\n",
    "                    # на тот случай, если id нет в базе данных\n",
    "                    if len(game) > 0:\n",
    "                        all_games.loc[len(all_games.index)] = game[0]\n",
    "                except KeyError: # поэтому, ждем 1 секунду и делаем новый запрос\n",
    "                    time.sleep(3)\n",
    "                    async with session.post('https://api.igdb.com/v4/' + endpoint + '/', headers=headers, data=body) as resp:\n",
    "                        game = await resp.json()\n",
    "                        if len(game) > 0:\n",
    "                            all_games.loc[len(all_games.index)] = game[0]\n",
    "        return all_games"
   ]
  },
  {
   "cell_type": "code",
   "execution_count": 5,
   "id": "491bb65d",
   "metadata": {},
   "outputs": [
    {
     "name": "stdout",
     "output_type": "stream",
     "text": [
      "--- 29412.863607645035 seconds ---\n"
     ]
    }
   ],
   "source": [
    "start_time = time.time()\n",
    "all_fields_one = await create_games_dataset(1, 40000)\n",
    "print(\"--- %s seconds ---\" % (time.time() - start_time))"
   ]
  },
  {
   "cell_type": "code",
   "execution_count": 7,
   "id": "86ce7ffa",
   "metadata": {},
   "outputs": [],
   "source": [
    "all_fields_one.to_csv('C:/Users/ASDW/Python/Projects/Recosys 2.0/datasets/games_dataset/new_games_dataset.csv', mode = 'a', index=False)"
   ]
  },
  {
   "cell_type": "code",
   "execution_count": 6,
   "id": "5ecc9a00",
   "metadata": {},
   "outputs": [
    {
     "name": "stdout",
     "output_type": "stream",
     "text": [
      "<class 'pandas.core.frame.DataFrame'>\n",
      "Int64Index: 37812 entries, 0 to 37811\n",
      "Data columns (total 31 columns):\n",
      " #   Column                   Non-Null Count  Dtype  \n",
      "---  ------                   --------------  -----  \n",
      " 0   id                       37811 non-null  object \n",
      " 1   name                     37811 non-null  object \n",
      " 2   age_ratings              12746 non-null  object \n",
      " 3   slug                     37811 non-null  object \n",
      " 4   aggregated_rating        11039 non-null  float64\n",
      " 5   aggregated_rating_count  11039 non-null  object \n",
      " 6   category                 37811 non-null  object \n",
      " 7   collection               14003 non-null  object \n",
      " 8   alternative_names        10780 non-null  object \n",
      " 9   external_games           37096 non-null  object \n",
      " 10  first_release_date       34906 non-null  object \n",
      " 11  game_engines             4157 non-null   object \n",
      " 12  game_modes               31641 non-null  object \n",
      " 13  genres                   34841 non-null  object \n",
      " 14  involved_companies       27285 non-null  object \n",
      " 15  keywords                 26126 non-null  object \n",
      " 16  platforms                35402 non-null  object \n",
      " 17  rating                   17367 non-null  float64\n",
      " 18  player_perspectives      20919 non-null  object \n",
      " 19  dlcs                     1114 non-null   object \n",
      " 20  franchise                1497 non-null   float64\n",
      " 21  rating_count             17367 non-null  object \n",
      " 22  release_dates            35404 non-null  object \n",
      " 23  similar_games            35660 non-null  object \n",
      " 24  tags                     35663 non-null  object \n",
      " 25  parent_game              2052 non-null   float64\n",
      " 26  status                   2371 non-null   float64\n",
      " 27  total_rating             20800 non-null  float64\n",
      " 28  total_rating_count       20800 non-null  object \n",
      " 29  updated_at               37811 non-null  object \n",
      " 30  websites                 24974 non-null  object \n",
      "dtypes: float64(6), object(25)\n",
      "memory usage: 9.2+ MB\n"
     ]
    }
   ],
   "source": [
    "all_fields_one.info()"
   ]
  },
  {
   "cell_type": "code",
   "execution_count": null,
   "id": "1ab3244d",
   "metadata": {},
   "outputs": [],
   "source": []
  }
 ],
 "metadata": {
  "kernelspec": {
   "display_name": "Python 3",
   "language": "python",
   "name": "python3"
  },
  "language_info": {
   "codemirror_mode": {
    "name": "ipython",
    "version": 3
   },
   "file_extension": ".py",
   "mimetype": "text/x-python",
   "name": "python",
   "nbconvert_exporter": "python",
   "pygments_lexer": "ipython3",
   "version": "3.8.8"
  }
 },
 "nbformat": 4,
 "nbformat_minor": 5
}
