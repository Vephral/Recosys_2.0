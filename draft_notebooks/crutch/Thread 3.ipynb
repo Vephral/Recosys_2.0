{
 "cells": [
  {
   "cell_type": "code",
   "execution_count": 3,
   "id": "375c5110",
   "metadata": {},
   "outputs": [],
   "source": [
    "import time\n",
    "import asyncio\n",
    "import aiohttp\n",
    "import requests\n",
    "import threading\n",
    "import pandas as pd"
   ]
  },
  {
   "cell_type": "code",
   "execution_count": 4,
   "id": "9a149b9b",
   "metadata": {},
   "outputs": [],
   "source": [
    "cols = ['id', 'name',  'age_ratings', 'slug', 'aggregated_rating', 'aggregated_rating_count', 'category', 'collection', \n",
    "        'alternative_names', 'external_games', 'first_release_date', 'game_engines', 'game_modes', 'genres', \n",
    "        'involved_companies', 'keywords', 'platforms', 'rating', 'player_perspectives', 'dlcs', 'franchise',\n",
    "        'rating_count', 'release_dates', 'similar_games', 'tags', 'parent_game', 'status',\n",
    "        'total_rating', 'total_rating_count', 'updated_at', 'websites']"
   ]
  },
  {
   "cell_type": "code",
   "execution_count": 5,
   "id": "047497b9",
   "metadata": {},
   "outputs": [],
   "source": [
    "client_id = 'x0rncah74zueqqov31fhkwuzlqv27a'\n",
    "access_token = 'Bearer lhty0tvjq3el3s4rufgiw5vufmjk31'"
   ]
  },
  {
   "cell_type": "code",
   "execution_count": 6,
   "id": "1026b7df",
   "metadata": {},
   "outputs": [],
   "source": [
    "async def create_games_dataset(floor, ceiling, endpoint='games'):\n",
    "    # нужно для того, чтобы авторизироваться\n",
    "    headers = {'Client-ID': client_id, \n",
    "               'Authorization': access_token}\n",
    "    async with aiohttp.ClientSession() as session:\n",
    "        all_games = pd.DataFrame(columns=cols)\n",
    "        for i in range(floor, ceiling):\n",
    "            # endpoint и id можно изменять для того, чтобы получить разные наборы\n",
    "            body = 'fields *; where id = ' + str(i) + ';'\n",
    "            async with session.post('https://api.igdb.com/v4/' + endpoint + '/', headers=headers, data=body) as resp:\n",
    "                game = await resp.json()\n",
    "                try: # если вышла такая ошибка, значит слишком много запросов в одну секунду\n",
    "                    # на тот случай, если id нет в базе данных\n",
    "                    if len(game) > 0:\n",
    "                        all_games.loc[len(all_games.index)] = game[0]\n",
    "                except KeyError: # поэтому, ждем 1 секунду и делаем новый запрос\n",
    "                    time.sleep(3)\n",
    "                    async with session.post('https://api.igdb.com/v4/' + endpoint + '/', headers=headers, data=body) as resp:\n",
    "                        game = await resp.json()\n",
    "                        if len(game) > 0:\n",
    "                            all_games.loc[len(all_games.index)] = game[0]\n",
    "        return all_games"
   ]
  },
  {
   "cell_type": "code",
   "execution_count": 7,
   "id": "38abfa77",
   "metadata": {},
   "outputs": [
    {
     "name": "stdout",
     "output_type": "stream",
     "text": [
      "--- 13757.839083909988 seconds ---\n"
     ]
    }
   ],
   "source": [
    "start_time = time.time()\n",
    "all_fields_one = await create_games_dataset(140000, 160000)\n",
    "print(\"--- %s seconds ---\" % (time.time() - start_time))"
   ]
  },
  {
   "cell_type": "code",
   "execution_count": 10,
   "id": "8f0b76eb",
   "metadata": {},
   "outputs": [],
   "source": [
    "all_fields_one.to_csv('C:/Users/ASDW/Python/Projects/Recosys 2.0/datasets/games_dataset/new_games_dataset.csv', mode = 'a', index=False)"
   ]
  },
  {
   "cell_type": "code",
   "execution_count": 9,
   "id": "bcae311f",
   "metadata": {},
   "outputs": [
    {
     "name": "stdout",
     "output_type": "stream",
     "text": [
      "<class 'pandas.core.frame.DataFrame'>\n",
      "Int64Index: 18788 entries, 0 to 18787\n",
      "Data columns (total 31 columns):\n",
      " #   Column                   Non-Null Count  Dtype  \n",
      "---  ------                   --------------  -----  \n",
      " 0   id                       18788 non-null  object \n",
      " 1   name                     18788 non-null  object \n",
      " 2   age_ratings              2385 non-null   object \n",
      " 3   slug                     18788 non-null  object \n",
      " 4   aggregated_rating        204 non-null    float64\n",
      " 5   aggregated_rating_count  204 non-null    object \n",
      " 6   category                 18788 non-null  object \n",
      " 7   collection               1586 non-null   object \n",
      " 8   alternative_names        3420 non-null   object \n",
      " 9   external_games           16586 non-null  object \n",
      " 10  first_release_date       10227 non-null  object \n",
      " 11  game_engines             2383 non-null   object \n",
      " 12  game_modes               7276 non-null   object \n",
      " 13  genres                   16644 non-null  object \n",
      " 14  involved_companies       8207 non-null   object \n",
      " 15  keywords                 6009 non-null   object \n",
      " 16  platforms                11103 non-null  object \n",
      " 17  rating                   36 non-null     float64\n",
      " 18  player_perspectives      6481 non-null   object \n",
      " 19  dlcs                     76 non-null     object \n",
      " 20  franchise                0 non-null      float64\n",
      " 21  rating_count             36 non-null     float64\n",
      " 22  release_dates            11103 non-null  object \n",
      " 23  similar_games            16604 non-null  object \n",
      " 24  tags                     16608 non-null  object \n",
      " 25  parent_game              3073 non-null   object \n",
      " 26  status                   1407 non-null   object \n",
      " 27  total_rating             225 non-null    object \n",
      " 28  total_rating_count       225 non-null    object \n",
      " 29  updated_at               18788 non-null  object \n",
      " 30  websites                 14464 non-null  object \n",
      "dtypes: float64(4), object(27)\n",
      "memory usage: 4.6+ MB\n"
     ]
    }
   ],
   "source": [
    "all_fields_one.info()"
   ]
  },
  {
   "cell_type": "code",
   "execution_count": 8,
   "id": "eba1960e",
   "metadata": {},
   "outputs": [
    {
     "data": {
      "text/plain": [
       "3.783611111111111"
      ]
     },
     "execution_count": 8,
     "metadata": {},
     "output_type": "execute_result"
    }
   ],
   "source": [
    "27242/3600/2"
   ]
  },
  {
   "cell_type": "code",
   "execution_count": null,
   "id": "374f4889",
   "metadata": {},
   "outputs": [],
   "source": []
  },
  {
   "cell_type": "code",
   "execution_count": null,
   "id": "ddc9b7df",
   "metadata": {},
   "outputs": [],
   "source": []
  }
 ],
 "metadata": {
  "kernelspec": {
   "display_name": "Python 3",
   "language": "python",
   "name": "python3"
  },
  "language_info": {
   "codemirror_mode": {
    "name": "ipython",
    "version": 3
   },
   "file_extension": ".py",
   "mimetype": "text/x-python",
   "name": "python",
   "nbconvert_exporter": "python",
   "pygments_lexer": "ipython3",
   "version": "3.8.8"
  }
 },
 "nbformat": 4,
 "nbformat_minor": 5
}
