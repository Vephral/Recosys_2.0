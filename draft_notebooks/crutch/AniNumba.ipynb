{
 "cells": [
  {
   "cell_type": "code",
   "execution_count": 5,
   "id": "430d8bf2",
   "metadata": {},
   "outputs": [],
   "source": [
    "import pandas as pd\n",
    "import aiohttp\n",
    "from jikanpy import AioJikan\n",
    "from time import sleep, time"
   ]
  },
  {
   "cell_type": "code",
   "execution_count": 3,
   "id": "b4bd2d06",
   "metadata": {},
   "outputs": [],
   "source": [
    "anime_dataset = pd.read_csv('C:/Users/ASDW/Python/Projects/Recosys 2.0/datasets/anime_dataset/anime.csv')"
   ]
  },
  {
   "cell_type": "code",
   "execution_count": 4,
   "id": "f1bb10df",
   "metadata": {},
   "outputs": [],
   "source": [
    "ids = anime_dataset.MAL_ID.tolist()"
   ]
  },
  {
   "cell_type": "code",
   "execution_count": 5,
   "id": "08983301",
   "metadata": {},
   "outputs": [],
   "source": [
    "jikan = jp.Jikan()"
   ]
  },
  {
   "cell_type": "code",
   "execution_count": 6,
   "id": "753a4dd9",
   "metadata": {},
   "outputs": [],
   "source": [
    "def get_cleared_recs(uncleared_recs):\n",
    "    titles = []\n",
    "    mal_ids = []\n",
    "    i = 0\n",
    "    while i != 7:\n",
    "        try:\n",
    "            title = uncleared_recs['recommendations'][i]['title']\n",
    "            mal_id = uncleared_recs['recommendations'][i]['mal_id']\n",
    "            titles.append(title)\n",
    "            mal_ids.append(mal_id)\n",
    "            i += 1\n",
    "        except IndexError:\n",
    "            titles.append('No')\n",
    "            mal_ids.append('No')\n",
    "            i += 1\n",
    "    return titles, mal_ids"
   ]
  },
  {
   "cell_type": "code",
   "execution_count": 7,
   "id": "0d99344a",
   "metadata": {},
   "outputs": [],
   "source": [
    "def get_recs(id):\n",
    "    uncleared_recs = jikan.anime(id, extension='recommendations')\n",
    "    recs = get_cleared_recs(uncleared_recs)\n",
    "    return recs"
   ]
  },
  {
   "cell_type": "code",
   "execution_count": 8,
   "id": "32e50453",
   "metadata": {},
   "outputs": [],
   "source": [
    "anime_recs = pd.DataFrame(columns=['ID', 'Reco_Title', 'Reco_ID'])"
   ]
  },
  {
   "cell_type": "code",
   "execution_count": 13,
   "id": "3028d291",
   "metadata": {},
   "outputs": [
    {
     "name": "stdout",
     "output_type": "stream",
     "text": [
      "--- 1004.9282245635986 seconds ---\n"
     ]
    }
   ],
   "source": [
    "start_time = time()\n",
    "i = 0\n",
    "not_responsed_ids = []\n",
    "for item_id in ids[100:200]:\n",
    "    try:\n",
    "        if item_id not in anime_recs.ID.tolist():\n",
    "            titles, mal_ids = get_recs(item_id)\n",
    "            for i in range(7):\n",
    "                anime_recs.loc[len(anime_recs.index)] = [item_id, titles[i], mal_ids[i]]\n",
    "            if len(anime_recs) % 100 == 0:\n",
    "                print(len(anime_recs))\n",
    "            sleep(2)\n",
    "        if item_id in anime_recs.ID.tolist():\n",
    "            continue\n",
    "    except jp.APIException:\n",
    "        not_responsed_ids.append(item_id)\n",
    "        sleep(60)\n",
    "print(\"--- %s seconds ---\" % (time() - start_time))"
   ]
  },
  {
   "cell_type": "code",
   "execution_count": 33,
   "id": "7312a7fb",
   "metadata": {},
   "outputs": [],
   "source": [
    "async def get_recs(ids):\n",
    "    async with aiohttp.ClientSession() as session:\n",
    "        all_recs = pd.DataFrame(columns=['ID', 'Reco_Title', 'Reco_ID'])\n",
    "        for i in ids:\n",
    "            body = {}\n",
    "            async with session.get('https://api.jikan.moe/v3/anime/' + str(i) + '/recommendations/') as resp:\n",
    "                anime = await resp.json()\n",
    "                # на тот случай, если аниме под id равному i несуществует\n",
    "                if 'recommendations' in anime.keys():\n",
    "                    # на тот случай, если у нас меньше чем 7 рекомендаций\n",
    "                    for j in range(len(anime['recommendations'][:7])):\n",
    "                        all_recs.loc[len(all_recs.index)] = [i, anime['recommendations'][j]['title'], anime['recommendations'][j]['mal_id']]\n",
    "        return all_recs"
   ]
  },
  {
   "cell_type": "markdown",
   "id": "3e475bac",
   "metadata": {},
   "source": [
    "Если сравнивать так, то, действительно, разница есть и она большая."
   ]
  },
  {
   "cell_type": "code",
   "execution_count": 32,
   "id": "3df8f492",
   "metadata": {},
   "outputs": [
    {
     "name": "stdout",
     "output_type": "stream",
     "text": [
      "--- 773.4352695941925 seconds ---\n"
     ]
    }
   ],
   "source": [
    "start_time = time()\n",
    "anime_recs = await get_recs(100, 200)\n",
    "print('--- %s seconds ---' % (time() - start_time))"
   ]
  },
  {
   "cell_type": "code",
   "execution_count": 37,
   "id": "69241e3d",
   "metadata": {},
   "outputs": [
    {
     "data": {
      "text/html": [
       "<div>\n",
       "<style scoped>\n",
       "    .dataframe tbody tr th:only-of-type {\n",
       "        vertical-align: middle;\n",
       "    }\n",
       "\n",
       "    .dataframe tbody tr th {\n",
       "        vertical-align: top;\n",
       "    }\n",
       "\n",
       "    .dataframe thead th {\n",
       "        text-align: right;\n",
       "    }\n",
       "</style>\n",
       "<table border=\"1\" class=\"dataframe\">\n",
       "  <thead>\n",
       "    <tr style=\"text-align: right;\">\n",
       "      <th></th>\n",
       "      <th>ID</th>\n",
       "      <th>Reco_Title</th>\n",
       "      <th>Reco_ID</th>\n",
       "    </tr>\n",
       "  </thead>\n",
       "  <tbody>\n",
       "    <tr>\n",
       "      <th>0</th>\n",
       "      <td>100</td>\n",
       "      <td>Bishoujo Senshi Sailor Moon</td>\n",
       "      <td>530</td>\n",
       "    </tr>\n",
       "    <tr>\n",
       "      <th>1</th>\n",
       "      <td>100</td>\n",
       "      <td>Princess Tutu</td>\n",
       "      <td>721</td>\n",
       "    </tr>\n",
       "    <tr>\n",
       "      <th>2</th>\n",
       "      <td>100</td>\n",
       "      <td>Fushigi Yuugi</td>\n",
       "      <td>123</td>\n",
       "    </tr>\n",
       "    <tr>\n",
       "      <th>3</th>\n",
       "      <td>100</td>\n",
       "      <td>Hiiro no Kakera</td>\n",
       "      <td>12461</td>\n",
       "    </tr>\n",
       "    <tr>\n",
       "      <th>4</th>\n",
       "      <td>100</td>\n",
       "      <td>Neo Angelique Abyss</td>\n",
       "      <td>3615</td>\n",
       "    </tr>\n",
       "    <tr>\n",
       "      <th>...</th>\n",
       "      <td>...</td>\n",
       "      <td>...</td>\n",
       "      <td>...</td>\n",
       "    </tr>\n",
       "    <tr>\n",
       "      <th>531</th>\n",
       "      <td>199</td>\n",
       "      <td>Bakemono no Ko</td>\n",
       "      <td>28805</td>\n",
       "    </tr>\n",
       "    <tr>\n",
       "      <th>532</th>\n",
       "      <td>199</td>\n",
       "      <td>Hotarubi no Mori e</td>\n",
       "      <td>10408</td>\n",
       "    </tr>\n",
       "    <tr>\n",
       "      <th>533</th>\n",
       "      <td>199</td>\n",
       "      <td>Hoshi wo Ou Kodomo</td>\n",
       "      <td>9760</td>\n",
       "    </tr>\n",
       "    <tr>\n",
       "      <th>534</th>\n",
       "      <td>199</td>\n",
       "      <td>Majo no Takkyuubin</td>\n",
       "      <td>512</td>\n",
       "    </tr>\n",
       "    <tr>\n",
       "      <th>535</th>\n",
       "      <td>199</td>\n",
       "      <td>Mononoke Hime</td>\n",
       "      <td>164</td>\n",
       "    </tr>\n",
       "  </tbody>\n",
       "</table>\n",
       "<p>536 rows × 3 columns</p>\n",
       "</div>"
      ],
      "text/plain": [
       "      ID                   Reco_Title Reco_ID\n",
       "0    100  Bishoujo Senshi Sailor Moon     530\n",
       "1    100                Princess Tutu     721\n",
       "2    100                Fushigi Yuugi     123\n",
       "3    100              Hiiro no Kakera   12461\n",
       "4    100          Neo Angelique Abyss    3615\n",
       "..   ...                          ...     ...\n",
       "531  199               Bakemono no Ko   28805\n",
       "532  199           Hotarubi no Mori e   10408\n",
       "533  199           Hoshi wo Ou Kodomo    9760\n",
       "534  199           Majo no Takkyuubin     512\n",
       "535  199                Mononoke Hime     164\n",
       "\n",
       "[536 rows x 3 columns]"
      ]
     },
     "execution_count": 37,
     "metadata": {},
     "output_type": "execute_result"
    }
   ],
   "source": [
    "anime_recs"
   ]
  },
  {
   "cell_type": "code",
   "execution_count": 38,
   "id": "7c11df73",
   "metadata": {},
   "outputs": [
    {
     "data": {
      "text/plain": [
       "257.0"
      ]
     },
     "execution_count": 38,
     "metadata": {},
     "output_type": "execute_result"
    }
   ],
   "source": [
    "1799/7"
   ]
  },
  {
   "cell_type": "code",
   "execution_count": null,
   "id": "4cfc1349",
   "metadata": {},
   "outputs": [],
   "source": []
  },
  {
   "cell_type": "code",
   "execution_count": null,
   "id": "0092e36e",
   "metadata": {},
   "outputs": [],
   "source": []
  }
 ],
 "metadata": {
  "kernelspec": {
   "display_name": "Python 3",
   "language": "python",
   "name": "python3"
  },
  "language_info": {
   "codemirror_mode": {
    "name": "ipython",
    "version": 3
   },
   "file_extension": ".py",
   "mimetype": "text/x-python",
   "name": "python",
   "nbconvert_exporter": "python",
   "pygments_lexer": "ipython3",
   "version": "3.8.8"
  }
 },
 "nbformat": 4,
 "nbformat_minor": 5
}
