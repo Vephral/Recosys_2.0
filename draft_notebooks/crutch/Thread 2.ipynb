{
 "cells": [
  {
   "cell_type": "code",
   "execution_count": 1,
   "id": "d1053b9c",
   "metadata": {},
   "outputs": [],
   "source": [
    "import time\n",
    "import asyncio\n",
    "import aiohttp\n",
    "import requests\n",
    "import threading\n",
    "import pandas as pd"
   ]
  },
  {
   "cell_type": "code",
   "execution_count": 2,
   "id": "9fd2ae5c",
   "metadata": {},
   "outputs": [],
   "source": [
    "cols = ['id', 'name',  'age_ratings', 'slug', 'aggregated_rating', 'aggregated_rating_count', 'category', 'collection', \n",
    "        'alternative_names', 'external_games', 'first_release_date', 'game_engines', 'game_modes', 'genres', \n",
    "        'involved_companies', 'keywords', 'platforms', 'rating', 'player_perspectives', 'dlcs', 'franchise',\n",
    "        'rating_count', 'release_dates', 'similar_games', 'tags', 'parent_game', 'status',\n",
    "        'total_rating', 'total_rating_count', 'updated_at', 'websites']"
   ]
  },
  {
   "cell_type": "code",
   "execution_count": 3,
   "id": "2af6c2d3",
   "metadata": {},
   "outputs": [],
   "source": [
    "client_id = 'x0rncah74zueqqov31fhkwuzlqv27a'\n",
    "access_token = 'Bearer lhty0tvjq3el3s4rufgiw5vufmjk31'"
   ]
  },
  {
   "cell_type": "code",
   "execution_count": 19,
   "id": "7b1de19a",
   "metadata": {},
   "outputs": [],
   "source": [
    "async def create_games_dataset(floor, ceiling, endpoint='games'):\n",
    "    # нужно для того, чтобы авторизироваться\n",
    "    headers = {'Client-ID': client_id, \n",
    "               'Authorization': access_token}\n",
    "    async with aiohttp.ClientSession() as session:\n",
    "        all_games = pd.DataFrame(columns=cols)\n",
    "        for i in range(floor, ceiling):\n",
    "            # endpoint и id можно изменять для того, чтобы получить разные наборы\n",
    "            body = 'fields *; where id = ' + str(i) + ';'\n",
    "            async with session.post('https://api.igdb.com/v4/' + endpoint + '/', headers=headers, data=body) as resp:\n",
    "                game = await resp.json()\n",
    "                try: # если вышла такая ошибка, значит слишком много запросов в одну секунду\n",
    "                    # на тот случай, если id нет в базе данных\n",
    "                    if len(game) > 0:\n",
    "                        all_games.loc[len(all_games.index)] = game[0]\n",
    "                except KeyError: # поэтому, ждем 1 секунду и делаем новый запрос\n",
    "                    time.sleep(3)\n",
    "                    async with session.post('https://api.igdb.com/v4/' + endpoint + '/', headers=headers, data=body) as resp:\n",
    "                        game = await resp.json()\n",
    "                        if len(game) > 0:\n",
    "                            all_games.loc[len(all_games.index)] = game[0]\n",
    "        return all_games"
   ]
  },
  {
   "cell_type": "code",
   "execution_count": 22,
   "id": "6474c4d7",
   "metadata": {},
   "outputs": [
    {
     "name": "stdout",
     "output_type": "stream",
     "text": [
      "--- 27501.337268590927 seconds ---\n"
     ]
    }
   ],
   "source": [
    "start_time = time.time()\n",
    "all_fields_one = await create_games_dataset(40000, 80000)\n",
    "print(\"--- %s seconds ---\" % (time.time() - start_time))"
   ]
  },
  {
   "cell_type": "code",
   "execution_count": 24,
   "id": "29c36661",
   "metadata": {},
   "outputs": [],
   "source": [
    "all_fields_one.to_csv('C:/Users/ASDW/Python/Projects/Recosys 2.0/datasets/games_dataset/new_games_dataset.csv', mode = 'a', index=False)"
   ]
  },
  {
   "cell_type": "code",
   "execution_count": 23,
   "id": "578679db",
   "metadata": {},
   "outputs": [
    {
     "name": "stdout",
     "output_type": "stream",
     "text": [
      "<class 'pandas.core.frame.DataFrame'>\n",
      "Int64Index: 38079 entries, 0 to 38078\n",
      "Data columns (total 31 columns):\n",
      " #   Column                   Non-Null Count  Dtype  \n",
      "---  ------                   --------------  -----  \n",
      " 0   id                       38079 non-null  object \n",
      " 1   name                     38079 non-null  object \n",
      " 2   age_ratings              3937 non-null   object \n",
      " 3   slug                     38079 non-null  object \n",
      " 4   aggregated_rating        643 non-null    float64\n",
      " 5   aggregated_rating_count  643 non-null    float64\n",
      " 6   category                 38079 non-null  object \n",
      " 7   collection               9180 non-null   object \n",
      " 8   alternative_names        5345 non-null   object \n",
      " 9   external_games           37700 non-null  object \n",
      " 10  first_release_date       21245 non-null  object \n",
      " 11  game_engines             1018 non-null   object \n",
      " 12  game_modes               11521 non-null  object \n",
      " 13  genres                   27386 non-null  object \n",
      " 14  involved_companies       10463 non-null  object \n",
      " 15  keywords                 23255 non-null  object \n",
      " 16  platforms                21566 non-null  object \n",
      " 17  rating                   3153 non-null   float64\n",
      " 18  player_perspectives      6613 non-null   object \n",
      " 19  dlcs                     142 non-null    object \n",
      " 20  franchise                32 non-null     float64\n",
      " 21  rating_count             3153 non-null   object \n",
      " 22  release_dates            21566 non-null  object \n",
      " 23  similar_games            32213 non-null  object \n",
      " 24  tags                     32219 non-null  object \n",
      " 25  parent_game              1154 non-null   float64\n",
      " 26  status                   1345 non-null   float64\n",
      " 27  total_rating             3356 non-null   float64\n",
      " 28  total_rating_count       3356 non-null   object \n",
      " 29  updated_at               38079 non-null  object \n",
      " 30  websites                 10109 non-null  object \n",
      "dtypes: float64(7), object(24)\n",
      "memory usage: 9.3+ MB\n"
     ]
    }
   ],
   "source": [
    "all_fields_one.info()"
   ]
  },
  {
   "cell_type": "code",
   "execution_count": 27,
   "id": "09b4ec74",
   "metadata": {},
   "outputs": [],
   "source": [
    "asdw = pd.read_csv('C:/Users/ASDW/Python/Projects/Recosys 2.0/datasets/games_dataset/new_games_dataset.csv', low_memory=False)"
   ]
  },
  {
   "cell_type": "code",
   "execution_count": 29,
   "id": "91b57010",
   "metadata": {},
   "outputs": [
    {
     "name": "stdout",
     "output_type": "stream",
     "text": [
      "<class 'pandas.core.frame.DataFrame'>\n",
      "RangeIndex: 76156 entries, 0 to 76155\n",
      "Data columns (total 31 columns):\n",
      " #   Column                   Non-Null Count  Dtype \n",
      "---  ------                   --------------  ----- \n",
      " 0   id                       76156 non-null  object\n",
      " 1   name                     76156 non-null  object\n",
      " 2   age_ratings              8020 non-null   object\n",
      " 3   slug                     76155 non-null  object\n",
      " 4   aggregated_rating        1808 non-null   object\n",
      " 5   aggregated_rating_count  1808 non-null   object\n",
      " 6   category                 76156 non-null  object\n",
      " 7   collection               11518 non-null  object\n",
      " 8   alternative_names        8363 non-null   object\n",
      " 9   external_games           75118 non-null  object\n",
      " 10  first_release_date       35851 non-null  object\n",
      " 11  game_engines             2730 non-null   object\n",
      " 12  game_modes               30228 non-null  object\n",
      " 13  genres                   48531 non-null  object\n",
      " 14  involved_companies       21934 non-null  object\n",
      " 15  keywords                 30088 non-null  object\n",
      " 16  platforms                36718 non-null  object\n",
      " 17  rating                   9467 non-null   object\n",
      " 18  player_perspectives      12786 non-null  object\n",
      " 19  dlcs                     448 non-null    object\n",
      " 20  franchise                34 non-null     object\n",
      " 21  rating_count             9467 non-null   object\n",
      " 22  release_dates            36718 non-null  object\n",
      " 23  similar_games            54350 non-null  object\n",
      " 24  tags                     54360 non-null  object\n",
      " 25  parent_game              2393 non-null   object\n",
      " 26  status                   4541 non-null   object\n",
      " 27  total_rating             10105 non-null  object\n",
      " 28  total_rating_count       10105 non-null  object\n",
      " 29  updated_at               76156 non-null  object\n",
      " 30  websites                 29486 non-null  object\n",
      "dtypes: object(31)\n",
      "memory usage: 18.0+ MB\n"
     ]
    }
   ],
   "source": [
    "asdw.info()"
   ]
  },
  {
   "cell_type": "code",
   "execution_count": null,
   "id": "0dab0520",
   "metadata": {},
   "outputs": [],
   "source": []
  }
 ],
 "metadata": {
  "kernelspec": {
   "display_name": "Python 3",
   "language": "python",
   "name": "python3"
  },
  "language_info": {
   "codemirror_mode": {
    "name": "ipython",
    "version": 3
   },
   "file_extension": ".py",
   "mimetype": "text/x-python",
   "name": "python",
   "nbconvert_exporter": "python",
   "pygments_lexer": "ipython3",
   "version": "3.8.8"
  }
 },
 "nbformat": 4,
 "nbformat_minor": 5
}
